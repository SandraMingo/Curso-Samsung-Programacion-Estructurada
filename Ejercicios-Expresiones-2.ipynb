{
 "cells": [
  {
   "cell_type": "markdown",
   "id": "d3b363cc",
   "metadata": {},
   "source": [
    "# Ejercicios de expresiones 2\n",
    "\n",
    "1. Añade un dígito al final de un número. Por ejemplo, añadiendo el `5` al `71` obtenemos el `715`"
   ]
  },
  {
   "cell_type": "code",
   "execution_count": null,
   "id": "33aefa58",
   "metadata": {},
   "outputs": [],
   "source": []
  },
  {
   "cell_type": "markdown",
   "id": "fc8a1c83",
   "metadata": {},
   "source": [
    "2. Cambia de orden las cifras de un número de dos cifras. Por ejemplo, dado `38` obtenemos `83`."
   ]
  },
  {
   "cell_type": "code",
   "execution_count": null,
   "id": "291a5edf",
   "metadata": {},
   "outputs": [],
   "source": []
  },
  {
   "cell_type": "markdown",
   "id": "9fb935cd",
   "metadata": {},
   "source": [
    "3. Comprueba si un número de 4 cifras es capicúa. Por ejemplo, `4994` es capicúa."
   ]
  },
  {
   "cell_type": "code",
   "execution_count": null,
   "id": "47e1bf91",
   "metadata": {},
   "outputs": [],
   "source": []
  },
  {
   "cell_type": "markdown",
   "id": "fdf53e50",
   "metadata": {},
   "source": [
    "4. Comprueba si un número es múltiplo de 2, 3 y 5. Por ejemplo, 559627168873139215648650 sí es múltiplo de 2, 3 y 5, pero 559627168873139215648654 no lo es."
   ]
  },
  {
   "cell_type": "code",
   "execution_count": null,
   "id": "1ce2d9ce",
   "metadata": {},
   "outputs": [],
   "source": []
  },
  {
   "cell_type": "markdown",
   "id": "380ee11f",
   "metadata": {},
   "source": [
    "5. Comprueba que una dirección de correo `nombre@dominio` es correcta. Para ello:\n",
    "- debe contener exactamente una arroba\n",
    "- el nombre no puede estar vacío\n",
    "- el nombre no puede empezar ni acabar en guión\n",
    "- el dominio debe contener dos subdominios (separados por un punto) cuya longitud es al menos de dos caracteres\n",
    "- ni en el nombre ni en el dominio pueden aparecer dos puntos consecutivos"
   ]
  },
  {
   "cell_type": "code",
   "execution_count": null,
   "id": "4da736b9",
   "metadata": {},
   "outputs": [],
   "source": []
  }
 ],
 "metadata": {
  "kernelspec": {
   "display_name": "Python 3 (ipykernel)",
   "language": "python",
   "name": "python3"
  },
  "language_info": {
   "codemirror_mode": {
    "name": "ipython",
    "version": 3
   },
   "file_extension": ".py",
   "mimetype": "text/x-python",
   "name": "python",
   "nbconvert_exporter": "python",
   "pygments_lexer": "ipython3",
   "version": "3.10.9"
  }
 },
 "nbformat": 4,
 "nbformat_minor": 5
}
