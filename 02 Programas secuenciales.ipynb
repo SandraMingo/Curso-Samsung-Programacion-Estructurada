{
 "cells": [
  {
   "cell_type": "code",
   "execution_count": 7,
   "id": "b7aa32ba",
   "metadata": {},
   "outputs": [
    {
     "name": "stdout",
     "output_type": "stream",
     "text": [
      "254\n",
      "Hola, ¿qué tal? ¿Cómo estás?\n",
      "Resultado: 34\n"
     ]
    }
   ],
   "source": [
    "#Esto es una celda de código en Python\n",
    "#Para ejecutarla, presionar Ctrl-Intro\n",
    "\n",
    "print(254) #Escribe un número\n",
    "print(\"Hola, ¿qué tal? ¿Cómo estás?\") #Escribe una cadena o un string\n",
    "print(\"Resultado:\",34) #La coma se reemplaza por un espacio"
   ]
  },
  {
   "cell_type": "code",
   "execution_count": 9,
   "id": "93d0df2d",
   "metadata": {},
   "outputs": [
    {
     "name": "stdout",
     "output_type": "stream",
     "text": [
      "Hola, ¿qué tal?\n",
      "¿Cómo estás?\n"
     ]
    }
   ],
   "source": [
    "print(\"Hola, ¿qué tal?\\n¿Cómo estás?\") #caracter de escape \\n"
   ]
  },
  {
   "cell_type": "code",
   "execution_count": 10,
   "id": "19453670",
   "metadata": {},
   "outputs": [
    {
     "name": "stdout",
     "output_type": "stream",
     "text": [
      "39\n"
     ]
    }
   ],
   "source": [
    "# imprimir \"sumas\"\n",
    "print(23+16) # para números\n",
    "print(\"Hola\" + \"Python\") # para cadenas"
   ]
  }
 ],
 "metadata": {
  "kernelspec": {
   "display_name": "Python 3 (ipykernel)",
   "language": "python",
   "name": "python3"
  },
  "language_info": {
   "codemirror_mode": {
    "name": "ipython",
    "version": 3
   },
   "file_extension": ".py",
   "mimetype": "text/x-python",
   "name": "python",
   "nbconvert_exporter": "python",
   "pygments_lexer": "ipython3",
   "version": "3.10.9"
  }
 },
 "nbformat": 4,
 "nbformat_minor": 5
}
