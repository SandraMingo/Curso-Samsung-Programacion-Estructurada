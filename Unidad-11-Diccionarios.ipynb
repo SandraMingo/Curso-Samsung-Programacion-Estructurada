{
 "cells": [
  {
   "cell_type": "markdown",
   "id": "1fbc9529",
   "metadata": {},
   "source": [
    "# Unidad 11 - Diccionarios\n",
    "\n",
    "## Necesidad de los diccionarios\n",
    "\n",
    "Supongamos que queremos representar en Python el menú de una cafetería:\n",
    "\n",
    "| Bebida         | Precio |\n",
    "|----------------|--------|\n",
    "| Americano      | 3000   |\n",
    "| Iced Americano | 3500   |\n",
    "| Cappuccino     | 4000   |\n",
    "| Cafe Latte     | 4500   |\n",
    "| Espresso       | 3600   |\n",
    "\n",
    "\n",
    "Como vimos en la unidad anterior, debemos evitar el uso de variables disgregadas para representar cada valor (`cafe_1`, `precio_1`, ...). Es preferible utilizar una estructura de datos o colección que represente todo el menú de forma global. Una posibilidad es utilizar dos listas:"
   ]
  },
  {
   "cell_type": "code",
   "execution_count": null,
   "id": "94832296",
   "metadata": {},
   "outputs": [],
   "source": [
    "cafes =   [\"Americano\", \"Iced Americano\", \"Capuccino\", \"Cafe Latte\", \"Espresso\"]\n",
    "precios = [ 3000,        3500,             4000,        4500,         3600]"
   ]
  },
  {
   "cell_type": "markdown",
   "id": "331881cb",
   "metadata": {},
   "source": [
    "Esta solución presenta varios problemas:\n",
    "- hay que mantener ambas listas _\"sincronizadas\"_: por ejemplo, si añadimos un café en la tercera posición de `cafes`, debemos añadir su precio exactamente en la tercera posición de `precios`\n",
    "- hay que recorrer la lista `cafes` para saber el precio de un café: debemos localizar la posición del café y consultar dicha posición en la lista `precios`; esto tiene un coste lineal $O(n)$\n",
    "\n",
    "Necesitamos una estructura de datos o colección que:\n",
    "- nos libere de la necesidad de mantener la _\"sincronización\"_\n",
    "- nos permita consultar de forma cómoda y eficiente el precio de un café\n",
    "\n",
    "Tal estructura se llama **diccionario**, a veces también recibe los nombres de **aplicación**, **asociación** o **memoria asociativa**.\n",
    "\n",
    "**Nota:** En algunos lenguajes (por ejemplo, Java) esta estructura se llama **map**."
   ]
  },
  {
   "cell_type": "markdown",
   "id": "2533e3ee",
   "metadata": {},
   "source": [
    "## Definición de diccionario\n",
    "\n",
    "Un **diccionario** es un conjunto de pares. Cada par tiene dos componentes: al primero lo llamamos **clave** y al segundo **valor**. Los pares suelen representarse como $k:v$, donde $k$ es la clave y $v$ es el valor.\n",
    "\n",
    "No todo conjunto de pares $k:v$ es un diccionario válido: es necesario que **las claves no estén repetidas**. Por ejemplo, el siguiente conjunto de pares es un diccionario:\n",
    "\n",
    "$$\n",
    "\\{ 1:10,\\ 2:20,\\ 3:30 \\} \n",
    "$$\n",
    "\n",
    "pero el siguiente conjunto de pares no es un dicionario, pues repite la clave $1$:\n",
    "\n",
    "$$\n",
    "\\{ 1:10,\\ 2:20,\\ 1:40,\\ 3:30 \\} \n",
    "$$\n",
    "\n",
    "Observa que los valores sí pueden estar repetidos:\n",
    "\n",
    "$$\n",
    "\\{ 1:10,\\ 2:20,\\ 3:30,\\ 4:10,\\ 5:20,\\ 6:30 \\} \n",
    "$$\n",
    "\n",
    "Si un diccionario contiene el par $k:v$, se dice que la clave $k$ tiene **asociado** el valor $v$. Por ejemplo, en el diccionario:\n",
    "\n",
    "$$\n",
    "\\{ 1:10,\\ 2:20,\\ 3:30 \\} \n",
    "$$\n",
    "\n",
    "la clave $2$ tiene asociado el valor $20$. Como no puede haber claves repetidas, una clave puede tener asociado **como mucho un valor**. Esta característica es importante: dada una clave, podemos determinar el único valor que le corresponde.\n",
    "\n",
    "Podemos representar el menú de la cafetería por el siguiente diccionario:\n",
    "\n",
    "$$\n",
    "\\{ \\mathrm{Americano}:30000,\\ \\mathrm{Iced\\ Americano}:3500,\\ \n",
    "   \\mathrm{Cappuccino}:4000,\\ \\mathrm{Caffe\\ Latte}:4500,\\\n",
    "   \\mathrm{Espresso}:3600 \\} \n",
    "$$\n",
    "\n",
    "de manera que cada tipo de café (clave) tenga asociado su precio (valor)."
   ]
  },
  {
   "cell_type": "markdown",
   "id": "53fd6c40",
   "metadata": {},
   "source": [
    "## El tipo diccionario\n",
    "\n",
    "El tipo diccionario es una colección o estructura de datos Python que permite asociar claves y valores, y acceder a los valores a través de las claves. Para determinar el valor que corresponde a una clave, es necesario que las claves no se repitan.\n",
    "\n",
    "Un literal de diccionario tiene la siguiente sintaxis:\n",
    "\n",
    "```python\n",
    "      {k_0:v_0, k_1:v_1, k_2:v_2  ..., k_n:v_n}\n",
    "```\n",
    "\n",
    "Es decir, aparecen los pares `clave:valor` que contiene el diccionario, separados por comas y encerrados entre llaves:"
   ]
  },
  {
   "cell_type": "code",
   "execution_count": 1,
   "id": "dded78fb",
   "metadata": {},
   "outputs": [
    {
     "data": {
      "text/plain": [
       "{'juan': 12, 'sonia': 16, 'luis': 14, 'elena': 12}"
      ]
     },
     "execution_count": 1,
     "metadata": {},
     "output_type": "execute_result"
    }
   ],
   "source": [
    "edades = { \"juan\" : 12, \"sonia\" : 16, \"luis\" : 14, \"elena\" : 12 }\n",
    "edades"
   ]
  },
  {
   "cell_type": "markdown",
   "id": "9bf5a0ee",
   "metadata": {},
   "source": [
    "Podemos crear un diccionario vacío:"
   ]
  },
  {
   "cell_type": "code",
   "execution_count": 2,
   "id": "f73bf2e3",
   "metadata": {},
   "outputs": [
    {
     "data": {
      "text/plain": [
       "{}"
      ]
     },
     "execution_count": 2,
     "metadata": {},
     "output_type": "execute_result"
    }
   ],
   "source": [
    "diccionario_vacio = {}\n",
    "diccionario_vacio"
   ]
  },
  {
   "cell_type": "markdown",
   "id": "27f98edd",
   "metadata": {},
   "source": [
    "El tipo de las claves está limitado: las claves deben ser de tipos inmutables (`int` ,`float`, `str`,...). El tipo de los valores no está limitado:"
   ]
  },
  {
   "cell_type": "code",
   "execution_count": 3,
   "id": "8c3a8e03",
   "metadata": {
    "scrolled": true
   },
   "outputs": [
    {
     "data": {
      "text/plain": [
       "{3.1416: 'pi',\n",
       " 5: 'cinco',\n",
       " 'uno': 'one',\n",
       " True: 'cierto',\n",
       " 'primos': [2, 3, 5, 7]}"
      ]
     },
     "execution_count": 3,
     "metadata": {},
     "output_type": "execute_result"
    }
   ],
   "source": [
    "valido = { 3.1416 : \"pi\", 5 : \"cinco\", \"uno\" : \"one\", True : \"cierto\", \"primos\" : [2,3,5,7] }\n",
    "valido"
   ]
  },
  {
   "cell_type": "markdown",
   "id": "39e1358d",
   "metadata": {},
   "source": [
    "Observa que podemos usar listas como valores, pero no como claves (las listas son mutables):"
   ]
  },
  {
   "cell_type": "code",
   "execution_count": 4,
   "id": "47edd7c1",
   "metadata": {
    "scrolled": true
   },
   "outputs": [
    {
     "ename": "TypeError",
     "evalue": "unhashable type: 'list'",
     "output_type": "error",
     "traceback": [
      "\u001b[1;31m---------------------------------------------------------------------------\u001b[0m",
      "\u001b[1;31mTypeError\u001b[0m                                 Traceback (most recent call last)",
      "Cell \u001b[1;32mIn[4], line 1\u001b[0m\n\u001b[1;32m----> 1\u001b[0m no_valido \u001b[38;5;241m=\u001b[39m { \u001b[38;5;241m1\u001b[39m : \u001b[38;5;124m\"\u001b[39m\u001b[38;5;124mone\u001b[39m\u001b[38;5;124m\"\u001b[39m, [\u001b[38;5;241m2\u001b[39m,\u001b[38;5;241m3\u001b[39m,\u001b[38;5;241m5\u001b[39m,\u001b[38;5;241m7\u001b[39m] : \u001b[38;5;124m\"\u001b[39m\u001b[38;5;124mprimos\u001b[39m\u001b[38;5;124m\"\u001b[39m }\n",
      "\u001b[1;31mTypeError\u001b[0m: unhashable type: 'list'"
     ]
    }
   ],
   "source": [
    "no_valido = { 1 : \"one\", [2,3,5,7] : \"primos\" }"
   ]
  },
  {
   "cell_type": "markdown",
   "id": "813b1bf0",
   "metadata": {},
   "source": [
    "El tipo de los diccionarios se llama `dict`, y no refleja ni los tipos de las claves ni los tipos de los valores:"
   ]
  },
  {
   "cell_type": "code",
   "execution_count": 5,
   "id": "f070b601",
   "metadata": {},
   "outputs": [
    {
     "name": "stdout",
     "output_type": "stream",
     "text": [
      "<class 'dict'>\n",
      "<class 'dict'>\n"
     ]
    }
   ],
   "source": [
    "print(type(edades))\n",
    "print(type(valido))"
   ]
  },
  {
   "cell_type": "markdown",
   "id": "b03cb195",
   "metadata": {},
   "source": [
    "### Indexación de diccionarios\n",
    "\n",
    "Una característica esencial de los diccionarios es que, dada una clave, podemos determinar el único valor que tiene asociado. Para ello, utilizamos la indexación por clave (similar a la indexación por posición en listas y otras secuencias):\n",
    "\n",
    "```python\n",
    "   diccionario[clave]\n",
    "```"
   ]
  },
  {
   "cell_type": "code",
   "execution_count": 6,
   "id": "f268e7dd",
   "metadata": {},
   "outputs": [
    {
     "name": "stdout",
     "output_type": "stream",
     "text": [
      "{'juan': 12, 'sonia': 16, 'luis': 14, 'elena': 12}\n"
     ]
    },
    {
     "data": {
      "text/plain": [
       "12"
      ]
     },
     "execution_count": 6,
     "metadata": {},
     "output_type": "execute_result"
    }
   ],
   "source": [
    "print(edades)\n",
    "edades[\"elena\"]"
   ]
  },
  {
   "cell_type": "markdown",
   "id": "23872c06",
   "metadata": {},
   "source": [
    "Si usamos una clave que no está presente en el `diccionario`; obtendremos un error de indexación `KeyError`:"
   ]
  },
  {
   "cell_type": "code",
   "execution_count": 7,
   "id": "593109b9",
   "metadata": {},
   "outputs": [
    {
     "ename": "KeyError",
     "evalue": "'nuria'",
     "output_type": "error",
     "traceback": [
      "\u001b[1;31m---------------------------------------------------------------------------\u001b[0m",
      "\u001b[1;31mKeyError\u001b[0m                                  Traceback (most recent call last)",
      "Cell \u001b[1;32mIn[7], line 1\u001b[0m\n\u001b[1;32m----> 1\u001b[0m \u001b[43medades\u001b[49m\u001b[43m[\u001b[49m\u001b[38;5;124;43m\"\u001b[39;49m\u001b[38;5;124;43mnuria\u001b[39;49m\u001b[38;5;124;43m\"\u001b[39;49m\u001b[43m]\u001b[49m\n",
      "\u001b[1;31mKeyError\u001b[0m: 'nuria'"
     ]
    }
   ],
   "source": [
    "edades[\"nuria\"]"
   ]
  },
  {
   "cell_type": "markdown",
   "id": "65be70d9",
   "metadata": {},
   "source": [
    "## Los diccionarios son mutables\n",
    "\n",
    "Al igual que las listas, los diccionarios son mutables. Podemos añadir nuevos pares `k:v`, o bien modificar el valor asociado a una clave `k`. La sintaxis es similar a la que empleamos con las listas:\n",
    "\n",
    "```python\n",
    "   diccionario[clave] = valor\n",
    "```\n",
    "\n",
    "La anterior sentencia tiene uno de los siguientes efectos:\n",
    "- si la `clave` no está presente en el `diccionario`, se añade el par `clave:valor`\n",
    "- si la `clave` está presente en el `diccionario`, se modifica el `valor` asociado"
   ]
  },
  {
   "cell_type": "code",
   "execution_count": 8,
   "id": "4853bc51",
   "metadata": {},
   "outputs": [
    {
     "name": "stdout",
     "output_type": "stream",
     "text": [
      "{'juan': 12, 'sonia': 16, 'luis': 14, 'elena': 12}\n"
     ]
    },
    {
     "data": {
      "text/plain": [
       "{'juan': 12, 'sonia': 11, 'luis': 14, 'elena': 12}"
      ]
     },
     "execution_count": 8,
     "metadata": {},
     "output_type": "execute_result"
    }
   ],
   "source": [
    "print(edades)\n",
    "edades[\"sonia\"] = 11\n",
    "edades"
   ]
  },
  {
   "cell_type": "code",
   "execution_count": 9,
   "id": "5ed77497",
   "metadata": {},
   "outputs": [
    {
     "name": "stdout",
     "output_type": "stream",
     "text": [
      "{'juan': 12, 'sonia': 11, 'luis': 14, 'elena': 12}\n"
     ]
    },
    {
     "data": {
      "text/plain": [
       "{'juan': 13, 'sonia': 11, 'luis': 14, 'elena': 12}"
      ]
     },
     "execution_count": 9,
     "metadata": {},
     "output_type": "execute_result"
    }
   ],
   "source": [
    "print(edades)\n",
    "edades[\"juan\"] = edades[\"juan\"] + 1\n",
    "edades"
   ]
  },
  {
   "cell_type": "code",
   "execution_count": 14,
   "id": "3735f955",
   "metadata": {},
   "outputs": [
    {
     "name": "stdout",
     "output_type": "stream",
     "text": [
      "{'juan': 13, 'sonia': 11, 'luis': 14, 'elena': 12, 'patricia': 19}\n"
     ]
    },
    {
     "data": {
      "text/plain": [
       "{'juan': 13,\n",
       " 'sonia': 11,\n",
       " 'luis': 14,\n",
       " 'elena': 12,\n",
       " 'patricia': 19,\n",
       " 'manuel': 17}"
      ]
     },
     "execution_count": 14,
     "metadata": {},
     "output_type": "execute_result"
    }
   ],
   "source": [
    "print(edades)\n",
    "edades[\"manuel\"] = 17\n",
    "edades[\"patricia\"] = 19\n",
    "edades"
   ]
  },
  {
   "cell_type": "markdown",
   "id": "32b3662a",
   "metadata": {},
   "source": [
    "## Eliminación de claves en diccionarios\n",
    "\n",
    "Para eliminar un par `clave:valor` del diccionario, debemos utilizar la sentencia `del`:\n",
    "\n",
    "```python\n",
    "   del diccionario[clave]\n",
    "```\n",
    "\n",
    "Si la `clave` está en el `diccionario`, se elimina el par `clave:valor`, de lo contrario obtenemos un `KeyError`:"
   ]
  },
  {
   "cell_type": "code",
   "execution_count": 15,
   "id": "3e3d3ae4",
   "metadata": {},
   "outputs": [
    {
     "name": "stdout",
     "output_type": "stream",
     "text": [
      "{'juan': 13, 'sonia': 11, 'luis': 14, 'elena': 12, 'patricia': 19, 'manuel': 17}\n"
     ]
    },
    {
     "data": {
      "text/plain": [
       "{'juan': 13, 'sonia': 11, 'luis': 14, 'elena': 12, 'patricia': 19}"
      ]
     },
     "execution_count": 15,
     "metadata": {},
     "output_type": "execute_result"
    }
   ],
   "source": [
    "print(edades)\n",
    "del edades[\"manuel\"]\n",
    "edades"
   ]
  },
  {
   "cell_type": "code",
   "execution_count": 16,
   "id": "774ba941",
   "metadata": {
    "scrolled": false
   },
   "outputs": [
    {
     "name": "stdout",
     "output_type": "stream",
     "text": [
      "{'juan': 13, 'sonia': 11, 'luis': 14, 'elena': 12, 'patricia': 19}\n"
     ]
    },
    {
     "ename": "KeyError",
     "evalue": "'maria'",
     "output_type": "error",
     "traceback": [
      "\u001b[1;31m---------------------------------------------------------------------------\u001b[0m",
      "\u001b[1;31mKeyError\u001b[0m                                  Traceback (most recent call last)",
      "Cell \u001b[1;32mIn[16], line 2\u001b[0m\n\u001b[0;32m      1\u001b[0m \u001b[38;5;28mprint\u001b[39m(edades)\n\u001b[1;32m----> 2\u001b[0m \u001b[38;5;28;01mdel\u001b[39;00m edades[\u001b[38;5;124m\"\u001b[39m\u001b[38;5;124mmaria\u001b[39m\u001b[38;5;124m\"\u001b[39m]\n",
      "\u001b[1;31mKeyError\u001b[0m: 'maria'"
     ]
    }
   ],
   "source": [
    "print(edades)\n",
    "del edades[\"maria\"]"
   ]
  },
  {
   "cell_type": "markdown",
   "id": "58dd36d3",
   "metadata": {},
   "source": [
    "**Nota:** La sentencia `del` (de _delete_) puede utilizarse también para eliminar elementos de listas (por posición) o, incluso, para borrar variable completas."
   ]
  },
  {
   "cell_type": "code",
   "execution_count": 17,
   "id": "03846509",
   "metadata": {},
   "outputs": [
    {
     "name": "stdout",
     "output_type": "stream",
     "text": [
      "[0, 1, 2, 3, 4, 5]\n"
     ]
    },
    {
     "data": {
      "text/plain": [
       "[0, 1, 2, 4, 5]"
      ]
     },
     "execution_count": 17,
     "metadata": {},
     "output_type": "execute_result"
    }
   ],
   "source": [
    "lista = list(range(6))\n",
    "print(lista)\n",
    "del lista[3]\n",
    "lista"
   ]
  },
  {
   "cell_type": "code",
   "execution_count": 18,
   "id": "fb3b6edc",
   "metadata": {},
   "outputs": [
    {
     "data": {
      "text/plain": [
       "'nueva'"
      ]
     },
     "execution_count": 18,
     "metadata": {},
     "output_type": "execute_result"
    }
   ],
   "source": [
    "nueva_variable = \"nueva\"\n",
    "nueva_variable"
   ]
  },
  {
   "cell_type": "code",
   "execution_count": 19,
   "id": "d8ea5489",
   "metadata": {},
   "outputs": [
    {
     "ename": "NameError",
     "evalue": "name 'nueva_variable' is not defined",
     "output_type": "error",
     "traceback": [
      "\u001b[1;31m---------------------------------------------------------------------------\u001b[0m",
      "\u001b[1;31mNameError\u001b[0m                                 Traceback (most recent call last)",
      "Cell \u001b[1;32mIn[19], line 2\u001b[0m\n\u001b[0;32m      1\u001b[0m \u001b[38;5;28;01mdel\u001b[39;00m nueva_variable\n\u001b[1;32m----> 2\u001b[0m \u001b[43mnueva_variable\u001b[49m\n",
      "\u001b[1;31mNameError\u001b[0m: name 'nueva_variable' is not defined"
     ]
    }
   ],
   "source": [
    "del nueva_variable\n",
    "nueva_variable"
   ]
  },
  {
   "cell_type": "markdown",
   "id": "b742e906",
   "metadata": {},
   "source": [
    "## Operadores y funciones sobre diccionarios\n",
    "\n",
    "Los diccionarios soportan lo siguientes operadores:\n",
    "\n",
    "| Operador     | Significado   |\n",
    "|--------------|---------------|\n",
    "|    `d[k]`    | indexación    |\n",
    "|  `k in s`    | pertenencia   |\n",
    "| `k not in s` | no pertenencia|\n",
    "|  `d1 == d2`  | igualdad      |\n",
    "|  `d1 != d2`  | desigualdad   |\n",
    "\n",
    "Además, los diccionarios soportan la función `len()`."
   ]
  },
  {
   "cell_type": "code",
   "execution_count": 20,
   "id": "1f4ca8b1",
   "metadata": {},
   "outputs": [
    {
     "name": "stdout",
     "output_type": "stream",
     "text": [
      "{'juan': 13, 'sonia': 11, 'luis': 14, 'elena': 12, 'patricia': 19}\n",
      "True\n",
      "False\n",
      "True\n"
     ]
    }
   ],
   "source": [
    "print(edades)\n",
    "print(\"sonia\" in edades)\n",
    "print(\"marina\" in edades)\n",
    "print(\"cristina\" not in edades)"
   ]
  },
  {
   "cell_type": "code",
   "execution_count": 21,
   "id": "d5f933e1",
   "metadata": {},
   "outputs": [
    {
     "data": {
      "text/plain": [
       "False"
      ]
     },
     "execution_count": 21,
     "metadata": {},
     "output_type": "execute_result"
    }
   ],
   "source": [
    "edades != edades"
   ]
  },
  {
   "cell_type": "markdown",
   "id": "6925c2c2",
   "metadata": {},
   "source": [
    "Al comparar los diccionarios, el orden en que aparecen los pares no es relevante (son un _conjunto_ de pares):"
   ]
  },
  {
   "cell_type": "code",
   "execution_count": 22,
   "id": "b05352a1",
   "metadata": {},
   "outputs": [
    {
     "data": {
      "text/plain": [
       "True"
      ]
     },
     "execution_count": 22,
     "metadata": {},
     "output_type": "execute_result"
    }
   ],
   "source": [
    "{\"mes\" : \"junio\", \"dia\": 29} == {\"dia\": 29, \"mes\" : \"junio\"}"
   ]
  },
  {
   "cell_type": "code",
   "execution_count": 23,
   "id": "26830fcf",
   "metadata": {},
   "outputs": [
    {
     "data": {
      "text/plain": [
       "5"
      ]
     },
     "execution_count": 23,
     "metadata": {},
     "output_type": "execute_result"
    }
   ],
   "source": [
    "len(edades)"
   ]
  },
  {
   "cell_type": "markdown",
   "id": "bc86d665",
   "metadata": {},
   "source": [
    "## Métodos sobre diccionarios\n",
    "\n",
    "Los diccionarios soportan, entre otros, los siguientes métodos:\n",
    "\n",
    "| Método      | Significado                                               |\n",
    "|-------------|---------------------------------------|\n",
    "| `d.clear()` | borra todos los pares del diccionario |\n",
    "| `d.pop(k)`  | elimina la clave `k` `i` de `d`       |\n"
   ]
  },
  {
   "cell_type": "code",
   "execution_count": 24,
   "id": "82095b56",
   "metadata": {},
   "outputs": [
    {
     "name": "stdout",
     "output_type": "stream",
     "text": [
      "{'one': 'uno', 'two': 'dos', 'three': 'tres', 'four': 'cuatro', 'five': 'cinco'}\n",
      "tres\n",
      "{'one': 'uno', 'two': 'dos', 'four': 'cuatro', 'five': 'cinco'}\n"
     ]
    }
   ],
   "source": [
    "english_spanish = {\"one\": \"uno\", \"two\": \"dos\", \"three\": \"tres\", \n",
    "                   \"four\": \"cuatro\", \"five\": \"cinco\"}\n",
    "print(english_spanish)\n",
    "print(english_spanish.pop(\"three\"))\n",
    "print(english_spanish)"
   ]
  },
  {
   "cell_type": "code",
   "execution_count": 25,
   "id": "de6e200f",
   "metadata": {},
   "outputs": [
    {
     "name": "stdout",
     "output_type": "stream",
     "text": [
      "{'one': 'uno', 'two': 'dos', 'four': 'cuatro', 'five': 'cinco'}\n",
      "{}\n"
     ]
    }
   ],
   "source": [
    "print(english_spanish)\n",
    "english_spanish.clear()\n",
    "print(english_spanish)"
   ]
  },
  {
   "cell_type": "markdown",
   "id": "8325f0e4",
   "metadata": {},
   "source": [
    "## Iteración básica sobre diccionarios\n",
    "\n",
    "Podemos usar un diccionario como fuente de datos en un bucle `for`. En tal caso, la variable de control tomará sucesivamente los valores de las claves del diccionario:"
   ]
  },
  {
   "cell_type": "code",
   "execution_count": 27,
   "id": "d16a0101",
   "metadata": {},
   "outputs": [
    {
     "name": "stdout",
     "output_type": "stream",
     "text": [
      "{'juan': 13, 'sonia': 11, 'luis': 14, 'elena': 12, 'patricia': 19}\n",
      "\n",
      "juan     tiene 13 años\n",
      "sonia    tiene 11 años\n",
      "luis     tiene 14 años\n",
      "elena    tiene 12 años\n",
      "patricia tiene 19 años\n"
     ]
    }
   ],
   "source": [
    "print(edades)\n",
    "print()\n",
    "\n",
    "for nombre in edades:\n",
    "    print(\"{:8} tiene {:2d} años\".format(nombre, edades[nombre]))"
   ]
  },
  {
   "cell_type": "markdown",
   "id": "5fa99aba",
   "metadata": {},
   "source": [
    "## Formato JSON para intercambio de datos\n",
    "\n",
    "JSON (JavaScript Object Notation) es una notación que permite representar textualmente un valor estructurado. La representación del valor es universal, independiente del lenguaje de programación, sistema operativo o arquitectura. Esto permite transmitir información entre diferentes sistemas conectados a la Web.\n",
    "\n",
    "El siguiente es un valor estructurado representado en formato JSON:\n",
    "\n",
    "```\n",
    "{\n",
    "\"Name\" : \"David Doe\",\n",
    "\"Age\" : 25,\n",
    "\"Hobby\": [\"basketball\", \"python programming\"],\n",
    "\"Family\" : {\"father\" : \"John Doe\",\n",
    "            \"mother\" : \"Mary Doe\"\n",
    "           },\n",
    "\"Married\": true \n",
    "}\n",
    "```"
   ]
  },
  {
   "cell_type": "markdown",
   "id": "e28a4c8c",
   "metadata": {},
   "source": [
    "## JSON en Python\n",
    "\n",
    "Para poder trabajar con datos en formato JSON debemos importar el módulo `json`:"
   ]
  },
  {
   "cell_type": "code",
   "execution_count": 28,
   "id": "3e422e94",
   "metadata": {},
   "outputs": [],
   "source": [
    "import json"
   ]
  },
  {
   "cell_type": "markdown",
   "id": "c2687be0",
   "metadata": {},
   "source": [
    "El método `loads(json_str)` devuelve un diccionario Python creado a partir de una cadena `json_str` que contiene\n",
    "un dato estructurado en formato JSON:"
   ]
  },
  {
   "cell_type": "code",
   "execution_count": 29,
   "id": "8fc7bc04",
   "metadata": {},
   "outputs": [
    {
     "name": "stdout",
     "output_type": "stream",
     "text": [
      "<class 'dict'>\n",
      "{'Name': 'David Doe', 'Age': 25, 'Hobby': ['basketball', 'python programming'], 'Family': {'father': 'John Doe', 'mother': 'Mary Doe'}, 'Married': True}\n"
     ]
    }
   ],
   "source": [
    "cadena_json =  '{\"Name\": \"David Doe\", \"Age\": 25, \"Hobby\": [\"basketball\", \"python programming\"],\\\n",
    "\"Family\": {\"father\": \"John Doe\", \"mother\": \"Mary Doe\"}, \"Married\": true }'\n",
    "\n",
    "diccionario_python = json.loads(cadena_json)\n",
    "\n",
    "print(type(diccionario_python))\n",
    "print(diccionario_python)"
   ]
  },
  {
   "cell_type": "code",
   "execution_count": 41,
   "id": "188ed513",
   "metadata": {},
   "outputs": [
    {
     "name": "stdout",
     "output_type": "stream",
     "text": [
      "{'Name': 'David Doe', 'Age': 50, 'Hobby': ['basketball', 'python programming'], 'Family': {'father': 'John Doe', 'mother': 'Mary Doe'}, 'Married': False}\n",
      "python programming\n",
      "M\n"
     ]
    }
   ],
   "source": [
    "diccionario_python[\"Age\"] = 50\n",
    "diccionario_python[\"Married\"] = False\n",
    "print(diccionario_python)\n",
    "print(diccionario_python[\"Hobby\"][1])\n",
    "print(diccionario_python[\"Family\"][\"mother\"][0])"
   ]
  },
  {
   "cell_type": "markdown",
   "id": "f85417a0",
   "metadata": {},
   "source": [
    "El método `json.dump(python_dic, filename, indent='\\t')` almacena un diccionario Python en el fichero `filename`, utilizando tabuladores (`\\t`) para sangrar el documento JSON. El fichero `filename` tiene que haber sido abierto (`open`) en modo escritura (`w`) previamente (lo estudiaremos en la Unidad 13)."
   ]
  },
  {
   "cell_type": "code",
   "execution_count": 35,
   "id": "5f13b3f9",
   "metadata": {},
   "outputs": [],
   "source": [
    "with open(\"datos.json\", 'w') as file:  # abre el fichero \"datos.json\" en modo escritura ('w')\n",
    "    json.dump(diccionario_python, file, indent='\\t')"
   ]
  },
  {
   "cell_type": "markdown",
   "id": "37b161e4",
   "metadata": {},
   "source": [
    "La sentencia anterior debe haber creado el fichero `datos.json` en el directorio actual. Puedes abrir el fichero desde Jupyter para ver su contenido."
   ]
  },
  {
   "cell_type": "markdown",
   "id": "518d647a",
   "metadata": {},
   "source": [
    "## El método `format`\n",
    "\n",
    "Ya hemos visto que el método `format` permite asociar un formato a cada valor que queremos mostrar por pantalla:"
   ]
  },
  {
   "cell_type": "code",
   "execution_count": 42,
   "id": "51664afe",
   "metadata": {},
   "outputs": [
    {
     "name": "stdout",
     "output_type": "stream",
     "text": [
      "3.1416\n"
     ]
    }
   ],
   "source": [
    "pi = 3.141592653589793\n",
    "print(\"{:6.4f}\".format(pi))"
   ]
  },
  {
   "cell_type": "markdown",
   "id": "f6f65c42",
   "metadata": {},
   "source": [
    "Hasta ahora hemos emparejado cada especificación de formato `{}` con el correspondiente dato facilitado en los argumentos de `format`:"
   ]
  },
  {
   "cell_type": "code",
   "execution_count": 43,
   "id": "83e22cdc",
   "metadata": {},
   "outputs": [
    {
     "name": "stdout",
     "output_type": "stream",
     "text": [
      "I like python and java\n"
     ]
    }
   ],
   "source": [
    "print(\"I like {} and {}\".format(\"python\", \"java\"))"
   ]
  },
  {
   "cell_type": "markdown",
   "id": "baf3ce48",
   "metadata": {},
   "source": [
    "Es posible indicar en cada especificación de formato a qué argumento se refiere; basta indicar la posición del argumento (se numeran desde cero). Nótese que aquí no funciona la indexación negativa. "
   ]
  },
  {
   "cell_type": "code",
   "execution_count": 44,
   "id": "6baa452c",
   "metadata": {},
   "outputs": [
    {
     "name": "stdout",
     "output_type": "stream",
     "text": [
      "I like python and java\n",
      "I like java and python\n"
     ]
    }
   ],
   "source": [
    "print(\"I like {0} and {1}\".format(\"python\", \"java\"))\n",
    "print(\"I like {1} and {0}\".format(\"python\", \"java\"))"
   ]
  },
  {
   "cell_type": "markdown",
   "id": "9804b801",
   "metadata": {},
   "source": [
    "Este índice de argumento se puede combinar con la especificación de formato propiamente dicha:"
   ]
  },
  {
   "cell_type": "code",
   "execution_count": 45,
   "id": "19213fe8",
   "metadata": {},
   "outputs": [
    {
     "name": "stdout",
     "output_type": "stream",
     "text": [
      "pi con dos decimales es 3.14, y con 6 decimales es 3.141593\n"
     ]
    }
   ],
   "source": [
    "print(\"pi con dos decimales es {0:4.2f}, y con 6 decimales es {0:8.6f}\".format(pi))"
   ]
  },
  {
   "cell_type": "markdown",
   "id": "ceac6987",
   "metadata": {},
   "source": [
    "## Solución del primer ejercicio de paper coding (128)\n",
    "Create the capital_dic dictionary with the following string key-value items. Then, use the capital_dic to write results regarding Korea in the following dictionary items. \n",
    "\n",
    "key: Korea\n",
    "value: Seoul\n",
    "key: China\n",
    "value: Beijing\n",
    "key: USA\n",
    "value: Washington DC"
   ]
  },
  {
   "cell_type": "code",
   "execution_count": 48,
   "id": "e9befb80",
   "metadata": {},
   "outputs": [
    {
     "name": "stdout",
     "output_type": "stream",
     "text": [
      "Seoul\n"
     ]
    }
   ],
   "source": [
    "capital_dic = {\"Korea\":\"Seoul\", \"China\":\"Beijing\", \"USA\":\"Washington DC\"}\n",
    "\n",
    "print(capital_dic[\"Korea\"])"
   ]
  },
  {
   "cell_type": "markdown",
   "id": "4f20ffad",
   "metadata": {},
   "source": [
    "## Solución del segundo ejercicio de paper coding (129)\n",
    "\n",
    "Create the fruits_dic dictionary that has elements of the following key-value items. Then, use this dictionary to print the price of each fruit as shown below:\n",
    "Apple: 5000 KRW\n",
    "Banana: 4000 KRW\n",
    "Grape: 5300 KRW\n",
    "Melon: 6500 KRW"
   ]
  },
  {
   "cell_type": "code",
   "execution_count": 52,
   "id": "ea1c4dda",
   "metadata": {},
   "outputs": [
    {
     "name": "stdout",
     "output_type": "stream",
     "text": [
      "The price of a Apple is 5000 KRW\n",
      "The price of a Banana is 4000 KRW\n",
      "The price of a Grape is 5300 KRW\n",
      "The price of a Melon is 6500 KRW\n"
     ]
    }
   ],
   "source": [
    "fruits_dic = {\"Apple\":5000, \"Banana\":4000, \"Grape\":5300, \"Melon\":6500}\n",
    "\n",
    "for fruta in fruits_dic:\n",
    "    print(\"The price of a\", fruta, \"is\", fruits_dic[fruta], \"KRW\")"
   ]
  },
  {
   "cell_type": "markdown",
   "id": "ebb2d6ba",
   "metadata": {},
   "source": [
    "## Solución del ejercicio de pair programming (147)\n",
    "\n",
    "Create the fruits_dic dictionary consists of key-value pairs including apple 6000, melon 3000, banana 5000, orange 4000. Then, print all of the key in the fruits_dic as list type and examine if the apple and mango keys are found in the fruits_dic and prints as follows:\n",
    "- dicts_keys\n",
    "- apple is in fruits_dic\n",
    "- mango is not in fruits_dic"
   ]
  },
  {
   "cell_type": "code",
   "execution_count": 54,
   "id": "4d4a9acc",
   "metadata": {},
   "outputs": [
    {
     "name": "stdout",
     "output_type": "stream",
     "text": [
      "['Apple', 'Melon', 'Banana', 'Orange']\n",
      "Apple is in fruits_dic\n",
      "Mango is not in fruits_dic\n"
     ]
    }
   ],
   "source": [
    "fruits_dic = {\"Apple\":6000, \"Melon\":3000, \"Banana\":5000, \"Orange\":4000}\n",
    "\n",
    "print(list(fruits_dic))\n",
    "\n",
    "# Búsqueda de Apple\n",
    "if \"Apple\" in fruits_dic:\n",
    "    print(\"Apple is in fruits_dic\")\n",
    "else:\n",
    "    print(\"Apple is not in fruits_dic\")\n",
    "\n",
    "# Búsqueda de Mango\n",
    "if \"Mango\" in fruits_dic:\n",
    "    print(\"Mango is in fruits_dic\")\n",
    "else:\n",
    "    print(\"Mango is not in fruits_dic\")"
   ]
  },
  {
   "cell_type": "code",
   "execution_count": null,
   "id": "121b22de",
   "metadata": {},
   "outputs": [],
   "source": [
    "fruits_dic = {\"Apple\":6000, \"Melon\":3000, \"Banana\":5000, \"Orange\":4000}\n",
    "\n",
    "print(list(fruits_dic))\n",
    "\n",
    "fruta = input(\"Ponga una fruta: \")\n",
    "\n",
    "if fruta in fruits_dic:\n",
    "    print(fruta, \"is in fruits_dic\")\n",
    "else:\n",
    "    print(fruta, \"is not in fruits_dic\")"
   ]
  },
  {
   "cell_type": "markdown",
   "id": "04adc6a3",
   "metadata": {},
   "source": [
    "## Ejercicio extra\n",
    "\n",
    "Dada una cadena, construir una tabla de frecuencias absolutas, es decir, contar cuántas veces aparece cada dato (cada carácter en la cadena). La tabla de frecuencias absolutas se debe construir de tipo diccionario. "
   ]
  },
  {
   "cell_type": "code",
   "execution_count": 1,
   "id": "b42509f7",
   "metadata": {},
   "outputs": [
    {
     "name": "stdout",
     "output_type": "stream",
     "text": [
      "Ponga una cadena: esto es una prueba\n",
      "{'e': 3, 's': 2, 't': 1, 'o': 1, ' ': 3, 'u': 2, 'n': 1, 'a': 2, 'p': 1, 'r': 1, 'b': 1}\n"
     ]
    }
   ],
   "source": [
    "cadena = input(\"Ponga una cadena: \")\n",
    "\n",
    "tabla_frecuencias_abs = {}\n",
    "\n",
    "for caracter in cadena:\n",
    "    if caracter not in tabla_frecuencias_abs:\n",
    "        tabla_frecuencias_abs[caracter] = 0\n",
    "    tabla_frecuencias_abs[caracter] += 1\n",
    "    \n",
    "print(tabla_frecuencias_abs)"
   ]
  },
  {
   "cell_type": "markdown",
   "id": "6ffe524f",
   "metadata": {},
   "source": [
    "## Solución del mission problem (95)"
   ]
  },
  {
   "cell_type": "code",
   "execution_count": 47,
   "id": "339dee74",
   "metadata": {},
   "outputs": [
    {
     "name": "stdout",
     "output_type": "stream",
     "text": [
      "Welcome to David's cafeteria\n",
      "\n",
      "Cafe      \tPrice\n",
      "Americano \t3000\n",
      "Iced Americano\t3500\n",
      "Capuccino \t4000\n",
      "Cafe Latte\t4500\n",
      "Espresso  \t3600\n",
      "please, enter your choice; americano\n",
      "Sorry, we do not serve americano\n",
      "\n",
      "Cafe      \tPrice\n",
      "Americano \t3000\n",
      "Iced Americano\t3500\n",
      "Capuccino \t4000\n",
      "Cafe Latte\t4500\n",
      "Espresso  \t3600\n",
      "please, enter your choice; Americano\n",
      "You selected Americano Good choice!\n",
      "Pease insert 3000 wons and enjoy\n"
     ]
    }
   ],
   "source": [
    "menu = {\"Americano\" : 3000, \"Iced Americano\" : 3500, \"Capuccino\" : 4000, \"Cafe Latte\" : 4500, \"Espresso\" : 3600}\n",
    "\n",
    "print(\"Welcome to David's cafeteria\")\n",
    "choice = \"\"\n",
    "while choice not in menu:\n",
    "\n",
    "    print(\"\\n{:10}\\t{}\".format(\"Cafe\", \"Price\"))\n",
    "    for cafe in menu:\n",
    "        print(\"{:10}\\t{}\".format(cafe, menu[cafe]))\n",
    "    \n",
    "    choice = input(\"please, enter your choice; \")\n",
    "    \n",
    "    if choice not in menu:\n",
    "        print(\"Sorry, we do not serve\", choice)\n",
    "\n",
    "print(\"You selected\", choice, \"Good choice!\")\n",
    "print(\"Pease insert\", menu[choice], \"wons and enjoy\")"
   ]
  }
 ],
 "metadata": {
  "kernelspec": {
   "display_name": "Python 3 (ipykernel)",
   "language": "python",
   "name": "python3"
  },
  "language_info": {
   "codemirror_mode": {
    "name": "ipython",
    "version": 3
   },
   "file_extension": ".py",
   "mimetype": "text/x-python",
   "name": "python",
   "nbconvert_exporter": "python",
   "pygments_lexer": "ipython3",
   "version": "3.10.9"
  }
 },
 "nbformat": 4,
 "nbformat_minor": 5
}
