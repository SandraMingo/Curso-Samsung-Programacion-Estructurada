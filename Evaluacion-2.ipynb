{
 "cells": [
  {
   "cell_type": "markdown",
   "id": "24834199",
   "metadata": {},
   "source": [
    "# Curso de IA Samsung - Programación en Python\n",
    "## Segunda prueba de evaluación\n",
    "\n",
    "- La prueba consta de 8 ejercicios\n",
    "- La puntuación máxima es 10 puntos\n",
    "- Solo puedes utilizar las sentencias, expresiones, funciones y métodos cubiertos en el curso\n",
    "- No puedes utilizar `break`, `continue` o `return` dentro de un bucle\n",
    "- Debes entregar un _notebook_ (`.ipynb`), no un _script_ Python (`.py`)\n",
    "- Debes permanecer conectada a la sala principal durante toda la prueba de evaluación"
   ]
  },
  {
   "cell_type": "markdown",
   "id": "7ccff267",
   "metadata": {},
   "source": [
    "## Diccionarios (5 puntos)\n",
    "\n",
    "Dado el siguiente diccionario con las notas de varios estudiantes:"
   ]
  },
  {
   "cell_type": "code",
   "execution_count": 1,
   "id": "8c4343f5",
   "metadata": {},
   "outputs": [],
   "source": [
    "notas = {  \"ana\"    : { \"inglés\" : 7,\n",
    "                        \"francés\" : 6,\n",
    "                        \"lengua\" : 8.5,\n",
    "                        \"literatura\" : 5,\n",
    "                        \"matemáticas\" : 9,\n",
    "                        \"física\" : 6.5,\n",
    "                        \"química\" : 5\n",
    "                      },\n",
    "         \n",
    "           \"miguel\" : { \"inglés\" : 4,\n",
    "                        \"francés\" : 6,\n",
    "                        \"lengua\" : 6,\n",
    "                        \"literatura\" : 5,\n",
    "                        \"matemáticas\" : 3,\n",
    "                        \"física\" : 5,\n",
    "                        \"química\" : 5\n",
    "                      },\n",
    "         \n",
    "            \"maría\" : { \"inglés\" : 10,\n",
    "                        \"francés\" : 7,\n",
    "                        \"lengua\" : 4,\n",
    "                        \"literatura\" : 5,\n",
    "                        \"matemáticas\" : 4,\n",
    "                        \"física\" : 4,\n",
    "                        \"química\" : 6.5\n",
    "                      },\n",
    "         \n",
    "            \"inés\"  : { \"inglés\" : 8.5,\n",
    "                        \"francés\" : 4,\n",
    "                        \"lengua\" : 5,\n",
    "                        \"literatura\" : 7,\n",
    "                        \"matemáticas\" : 9,\n",
    "                        \"física\" : 4,\n",
    "                        \"química\" : 8\n",
    "                      },\n",
    "        \n",
    "        }"
   ]
  },
  {
   "cell_type": "markdown",
   "id": "ca766651",
   "metadata": {},
   "source": [
    "1. Añade a `notas` una estudiante llamada `rosa` con las siguientes calificaciones:\n",
    "\n",
    "| Asignatura  | Calificación |\n",
    "|-------------|--------------|\n",
    "| Inglés      |      8       |\n",
    "| Francés     |      8       |\n",
    "| Lengua      |     6.5      |\n",
    "| Literatura  |     7.5      |\n",
    "| Matemáticas |      4       |\n",
    "| Física      |      4       |\n",
    "| Química     |      6       |"
   ]
  },
  {
   "cell_type": "code",
   "execution_count": 2,
   "id": "6db0ec3a",
   "metadata": {},
   "outputs": [],
   "source": [
    "notas[\"rosa\"] = {\"inglés\":8, \n",
    "                 \"francés\":8, \n",
    "                 \"lengua\":6.5, \n",
    "                 \"literatura\":7.5, \n",
    "                 \"matemáticas\":4, \n",
    "                 \"física\":4, \n",
    "                 \"química\":6}"
   ]
  },
  {
   "cell_type": "markdown",
   "id": "a08b9991",
   "metadata": {},
   "source": [
    "2. Modifica la calificación de `rosa` para subir la nota de `Física` a un `5`:"
   ]
  },
  {
   "cell_type": "code",
   "execution_count": 3,
   "id": "d6f65cdd",
   "metadata": {},
   "outputs": [],
   "source": [
    "notas[\"rosa\"][\"física\"] = 5"
   ]
  },
  {
   "cell_type": "markdown",
   "id": "c9826677",
   "metadata": {},
   "source": [
    "3. Solicita el nombre de una asignatura por teclado y muestra las calificaciones que han obtenido los estudiantes en dicha asignatura. Puedes suponer que todos los estudiantes han cursado las mismas asignaturas. Si la asignatura introducida no es correcta, se debe mostrar un mensaje de error:"
   ]
  },
  {
   "cell_type": "code",
   "execution_count": 7,
   "id": "af662f38",
   "metadata": {},
   "outputs": [
    {
     "name": "stdout",
     "output_type": "stream",
     "text": [
      "Ponga el nombre de una asignatura para consultar sus notas: alemán\n",
      "Error: Asignatura inválida\n"
     ]
    }
   ],
   "source": [
    "asignatura = input(\"Ponga el nombre de una asignatura para consultar sus notas: \")\n",
    "\n",
    "existe = False\n",
    "\n",
    "for estudiante, asig in notas.items():\n",
    "    if asignatura in asig:\n",
    "        existe = True\n",
    "\n",
    "if existe == True:\n",
    "    for estudiante in notas:\n",
    "        print(\"Nombre:\", estudiante)\n",
    "        print(\"Nota en\", asignatura, \":\", notas[estudiante][asignatura])\n",
    "else:\n",
    "    print(\"Error: Asignatura inválida\")"
   ]
  },
  {
   "cell_type": "markdown",
   "id": "6ac3146c",
   "metadata": {},
   "source": [
    "4. Muestra aquellos estudiantes que han supendido al menos una asignatura:"
   ]
  },
  {
   "cell_type": "code",
   "execution_count": 8,
   "id": "06867ad4",
   "metadata": {},
   "outputs": [
    {
     "name": "stdout",
     "output_type": "stream",
     "text": [
      "Los siguientes estudiantes tienen al menos una asignatura suspensa: \n",
      "rosa\n",
      "maria\n",
      "miguel\n",
      "inés\n"
     ]
    }
   ],
   "source": [
    "estudiantes_suspensos = set()\n",
    "\n",
    "for estudiante, asignaturas in notas.items():\n",
    "    for asignatura, nota in asignaturas.items():\n",
    "        if nota < 5:\n",
    "            estudiantes_suspensos.add(estudiante)\n",
    "\n",
    "print(\"Los siguientes estudiantes tienen al menos una asignatura suspensa: \")\n",
    "for estudiante in estudiantes_suspensos:\n",
    "    print(estudiante)"
   ]
  },
  {
   "cell_type": "markdown",
   "id": "6d7f3bee",
   "metadata": {},
   "source": [
    "5. Saca una copia profunda del diccionario `notas` y almacena dicha copia en un fichero `notas.json`:"
   ]
  },
  {
   "cell_type": "code",
   "execution_count": 9,
   "id": "0d598ed8",
   "metadata": {},
   "outputs": [],
   "source": [
    "import json\n",
    "import copy\n",
    "\n",
    "copia_notas = copy.deepcopy(notas)\n",
    "\n",
    "with open('notas.json', 'w', encoding = \"utf-8\") as archivo:\n",
    "    json.dump(copia_notas, archivo, ensure_ascii = False)\n",
    "\n",
    "# El utf-8 y ensure_ascii no hacen falta, sólo hacen que en el json aparezca el diccionario con las tildes, pero el código funciona sin eso. "
   ]
  },
  {
   "cell_type": "markdown",
   "id": "012eea44",
   "metadata": {},
   "source": [
    "## Media, máximo y mínimo (2 puntos)\n",
    "\n",
    "6. Define una función `max_min_med(lst)` que calcule el máximo, el mínimo y la media aritmética de una lista de números `lst`. La respuesta se debe almacenar en una tupla con tres elementos. La función debe recorrer una sola vez `lst`. Si `lst` está vacía, se debe elevar un error `ValueError`. Por ejemplo, para la lista `[13, 8, 9, 45, 1, 0, 0, 6, 12]` se debe obtener la tupla `(45, 0, 10.44)`.\n"
   ]
  },
  {
   "cell_type": "code",
   "execution_count": 10,
   "id": "0fa4a0a9",
   "metadata": {},
   "outputs": [
    {
     "name": "stdout",
     "output_type": "stream",
     "text": [
      "(45, 0, 10.44)\n"
     ]
    }
   ],
   "source": [
    "def max_min_med(lst):\n",
    "    if len(lst) == 0:\n",
    "        raise ValueError(\"La lista no contiene elementos.\")\n",
    "\n",
    "    maximo = lst[0]\n",
    "    minimo = lst[0]\n",
    "    suma = 0\n",
    "\n",
    "    for num in lst:\n",
    "        if num > maximo:\n",
    "            maximo = num\n",
    "        if num < minimo:\n",
    "            minimo = num\n",
    "        suma += num\n",
    "\n",
    "    media = float(\"{:.2f}\".format(suma / len(lst)))\n",
    "    return (maximo, minimo, media)\n",
    "\n",
    "lista_numeros = [13, 8, 9, 45, 1, 0, 0, 6, 12]\n",
    "resultado = max_min_med(lista_numeros)\n",
    "print(resultado)"
   ]
  },
  {
   "cell_type": "markdown",
   "id": "6d6089cd",
   "metadata": {},
   "source": [
    "## Valores en rango (2 puntos)\n",
    "\n",
    "7. Define una función `en_rango(args, minimo, maximo)` que reciba un número indeterminado de argumentos y devuelva una lista con los argumentos tales que pertenezcan al rango `[minimo, maximo)`; es decir, que son mayores o iguales que `minimo` y menores que `maximo`. Por defecto el valor de `minimo` es `0` y el de `maximo` es `100`. Por ejemplo,\n",
    "`en_rango(5, 10, 8, 108, 200, -5, 7)` devuelve `[5, 10, 8, 7`; mientras que `en_rango(5, 10, 78, 108, 200, -5, 71, minimo = -10, maximo = 10)` devuelve `[5, -5]`."
   ]
  },
  {
   "cell_type": "code",
   "execution_count": 11,
   "id": "b907f34d",
   "metadata": {},
   "outputs": [
    {
     "name": "stdout",
     "output_type": "stream",
     "text": [
      "[5, 10, 8, 7]\n",
      "[5, -5]\n"
     ]
    }
   ],
   "source": [
    "def en_rango(*args, minimo = 0, maximo = 100):\n",
    "    result = []\n",
    "    for num in args:\n",
    "        if num in range(minimo, maximo):\n",
    "            result.append(num)\n",
    "    return result\n",
    "\n",
    "resultado1 = en_rango(5, 10, 8, 108, 200, -5, 7)\n",
    "print(resultado1)  \n",
    "\n",
    "resultado2 = en_rango(5, 10, 78, 108, 200, -5, 71, minimo = -10, maximo = 10)\n",
    "print(resultado2)"
   ]
  },
  {
   "cell_type": "markdown",
   "id": "604dc1aa",
   "metadata": {},
   "source": [
    "## Listas ordenadas (1 punto)\n",
    "\n",
    "8. Define una función `esta_ordenada(lst)` que devuelva `True` si una lista está ordenada ascendentemente y `False` en caso contrario. La función debe utilizar un bucle `while`. No puedes ordenar la lista previamente (`sort`, `sorted`, etc.). Por ejemplo, para las listas `[2,3,5,7,11,13]` y `[1,2,2,3,3,3]` la función debe devolver `True`, para las listas `[1,2,4,3,5]` y `[1,2,2,3,3,3,1]` debe devolver `False`."
   ]
  },
  {
   "cell_type": "code",
   "execution_count": 12,
   "id": "60d36ac7",
   "metadata": {},
   "outputs": [
    {
     "name": "stdout",
     "output_type": "stream",
     "text": [
      "[2, 3, 5, 7, 11, 13] True\n",
      "[1, 2, 2, 3, 3, 3] True\n",
      "[1, 2, 4, 3, 5] False\n",
      "[1, 2, 2, 3, 3, 3, 1] False\n"
     ]
    }
   ],
   "source": [
    "def esta_ordenada(lst):\n",
    "    i = 0\n",
    "    while i < len(lst) - 1:\n",
    "        if lst[i] > lst[i+1]:\n",
    "            return False\n",
    "        i += 1\n",
    "    return True\n",
    "\n",
    "lista1 = [2, 3, 5, 7, 11, 13]\n",
    "resultado1 = esta_ordenada(lista1)\n",
    "print(lista1, resultado1) \n",
    "\n",
    "lista2 = [1, 2, 2, 3, 3, 3]\n",
    "resultado2 = esta_ordenada(lista2)\n",
    "print(lista2, resultado2)\n",
    "\n",
    "lista3 = [1, 2, 4, 3, 5]\n",
    "resultado3 = esta_ordenada(lista3)\n",
    "print(lista3, resultado3) \n",
    "\n",
    "lista4 = [1, 2, 2, 3, 3, 3, 1]\n",
    "resultado4 = esta_ordenada(lista4)\n",
    "print(lista4, resultado4)"
   ]
  }
 ],
 "metadata": {
  "kernelspec": {
   "display_name": "Python 3 (ipykernel)",
   "language": "python",
   "name": "python3"
  },
  "language_info": {
   "codemirror_mode": {
    "name": "ipython",
    "version": 3
   },
   "file_extension": ".py",
   "mimetype": "text/x-python",
   "name": "python",
   "nbconvert_exporter": "python",
   "pygments_lexer": "ipython3",
   "version": "3.10.9"
  }
 },
 "nbformat": 4,
 "nbformat_minor": 5
}
