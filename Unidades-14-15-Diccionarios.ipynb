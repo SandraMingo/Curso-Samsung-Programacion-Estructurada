{
 "cells": [
  {
   "cell_type": "markdown",
   "id": "a0c49e1b",
   "metadata": {},
   "source": [
    "# Unidades 14 y 15 - Otros métodos sobre diccionarios"
   ]
  },
  {
   "cell_type": "markdown",
   "id": "1cf085c0",
   "metadata": {},
   "source": [
    "El siguiente programa cuenta cuántas veces aparece un carácter en una cadena. Para ello, utiliza un diccionario donde las claves son los caracteres que aparecen en la cadena y los valores el número de veces que aparece cada carácter."
   ]
  },
  {
   "cell_type": "code",
   "execution_count": 1,
   "id": "3540bf33",
   "metadata": {},
   "outputs": [
    {
     "data": {
      "text/plain": [
       "{'a': 6, 'b': 4, 'c': 2, 'z': 1}"
      ]
     },
     "execution_count": 1,
     "metadata": {},
     "output_type": "execute_result"
    }
   ],
   "source": [
    "cadena = \"aaabbcaaabbcz\"\n",
    "\n",
    "frecuencia = {}\n",
    "for c in cadena:\n",
    "    if c not in frecuencia:\n",
    "        frecuencia[c] = 0\n",
    "    frecuencia[c] += 1\n",
    "    \n",
    "frecuencia"
   ]
  },
  {
   "cell_type": "markdown",
   "id": "2ca27926",
   "metadata": {},
   "source": [
    "### Método `setdefault(k,v)`\n",
    "\n",
    "La sentencia condicional dentro del bucle sirve para inicializar a cero el contador de apariciones de un carácter la primera vez que aparece. Podemos evitar esa sentencia condicional usando el método `setdefault(k,v)`. Si la clave `k` no está en el diccionario, añade el par `k:v`, de lo contrario no hace nada:"
   ]
  },
  {
   "cell_type": "code",
   "execution_count": 2,
   "id": "1f6a5317",
   "metadata": {},
   "outputs": [
    {
     "data": {
      "text/plain": [
       "{'a': 6, 'b': 4, 'c': 2, 'z': 1}"
      ]
     },
     "execution_count": 2,
     "metadata": {},
     "output_type": "execute_result"
    }
   ],
   "source": [
    "frecuencia = {}\n",
    "for c in cadena:\n",
    "    frecuencia.setdefault(c, 0)  # solo lo añade si 'c' no está en 'frecuencia'\n",
    "    frecuencia[c] += 1\n",
    "    \n",
    "frecuencia"
   ]
  },
  {
   "cell_type": "markdown",
   "id": "3dad6311",
   "metadata": {},
   "source": [
    "### Método `get(k,v)`\n",
    "\n",
    "Alternativamente, podemos utilizar el método `get(k,v)` que consulta en el diccionario el valor de la clave `k`. Si la clave está presente, devuelve su valor; de lo contrario devuelve el valor `v`:"
   ]
  },
  {
   "cell_type": "code",
   "execution_count": 3,
   "id": "f9c8d7e8",
   "metadata": {},
   "outputs": [
    {
     "data": {
      "text/plain": [
       "{'a': 6, 'b': 4, 'c': 2, 'z': 1}"
      ]
     },
     "execution_count": 3,
     "metadata": {},
     "output_type": "execute_result"
    }
   ],
   "source": [
    "frecuencia = {}\n",
    "for c in cadena:\n",
    "    n = frecuencia.get(c, 0)  # si 'c' no está en 'frecuencia' devuelve 0\n",
    "    frecuencia[c] = n + 1\n",
    "    \n",
    "frecuencia"
   ]
  },
  {
   "cell_type": "code",
   "execution_count": 5,
   "id": "16a5e54d",
   "metadata": {},
   "outputs": [
    {
     "data": {
      "text/plain": [
       "0"
      ]
     },
     "execution_count": 5,
     "metadata": {},
     "output_type": "execute_result"
    }
   ],
   "source": [
    "frecuencia.get(\"c\") # = frecuencia[\"c\"]\n",
    "frecuencia.get(\"w\") # no falla si no está, pero no da nada\n",
    "frecuencia.get(\"w\", 0) # si w no está en el diccionario, da por defecto 0"
   ]
  },
  {
   "cell_type": "markdown",
   "id": "6ba78ce9",
   "metadata": {},
   "source": [
    "### Función `defaultdict`\n",
    "\n",
    "Finalmente, podemos usar la función `defaultdict` del módulo `collections`. Esta función recibe un **tipo** como parámetro y devuelve un _\"diccionario\"_ que devolverá el valor por defecto del tipo cuando se consulte una clave que no está en el diccionario:"
   ]
  },
  {
   "cell_type": "code",
   "execution_count": 6,
   "id": "6f2ae1ca",
   "metadata": {
    "scrolled": true
   },
   "outputs": [
    {
     "data": {
      "text/plain": [
       "defaultdict(int, {'a': 6, 'b': 4, 'c': 2, 'z': 1})"
      ]
     },
     "execution_count": 6,
     "metadata": {},
     "output_type": "execute_result"
    }
   ],
   "source": [
    "import collections\n",
    "\n",
    "frecuencia = collections.defaultdict(int)\n",
    "for c in cadena:\n",
    "    frecuencia[c] += 1\n",
    "    \n",
    "frecuencia"
   ]
  },
  {
   "cell_type": "markdown",
   "id": "e020e629",
   "metadata": {},
   "source": [
    "### Método `popitem()`\n",
    "\n",
    "El método `pop(k)` elimina la clave `k`de un diccionario, devolviendo además su valor. El incoveniente de este método es que exige conocer la clave `k` para eliminar (y devolver) un valor. El método `popitem()` elimina _algún_ par del diccionario y lo devuelve:"
   ]
  },
  {
   "cell_type": "code",
   "execution_count": 9,
   "id": "ff244da1",
   "metadata": {},
   "outputs": [
    {
     "name": "stdout",
     "output_type": "stream",
     "text": [
      "{'Americano': 3000, 'Iced Americano': 3500, 'Capuccino': 4000, 'Cafe Latte': 4500, 'Espresso': 3600}\n",
      "('Espresso', 3600)\n",
      "{'Americano': 3000, 'Iced Americano': 3500, 'Capuccino': 4000, 'Cafe Latte': 4500}\n"
     ]
    }
   ],
   "source": [
    "menu = {\"Americano\" : 3000, \"Iced Americano\" : 3500, \"Capuccino\" : 4000, \"Cafe Latte\" : 4500, \"Espresso\" : 3600}\n",
    "print(menu)\n",
    "print(menu.popitem())\n",
    "print(menu)"
   ]
  },
  {
   "cell_type": "markdown",
   "id": "2275c1ee",
   "metadata": {},
   "source": [
    "### Construyendo diccionarios con el método `fromkeys(ks, v)`\n",
    "\n",
    "El método (de clase) `fromkeys(ks, v)` construye un diccionario a partir de las claves facilitadas en la colección `ks`. Todas las claves esterán asociadas inicialmente al mismo valor, `v`:"
   ]
  },
  {
   "cell_type": "code",
   "execution_count": null,
   "id": "ce777051",
   "metadata": {},
   "outputs": [],
   "source": [
    "nombres = [\"juan\", \"maria\", \"ana\", \"jose\", \"eva\"]\n",
    "d = dict.fromkeys(nombres, 0)\n",
    "d"
   ]
  },
  {
   "cell_type": "code",
   "execution_count": 10,
   "id": "91d28b00",
   "metadata": {},
   "outputs": [
    {
     "name": "stdout",
     "output_type": "stream",
     "text": [
      "{'h': 1, 'o': 1, 'l': 2, 'a': 2, ' ': 2, 'q': 1, 'u': 1, 'e': 1, 't': 1}\n"
     ]
    }
   ],
   "source": [
    "frec = dict.fromkeys(\"hola que tal\", 0)\n",
    "for c in \"hola que tal\":\n",
    "    frec[c] += 1\n",
    "print(frec)"
   ]
  },
  {
   "cell_type": "markdown",
   "id": "7de3a963",
   "metadata": {},
   "source": [
    "### El método `update(kv)`\n",
    "\n",
    "El método `update(kv)` añade un nuevo par `k:v` si la clave `k` no está presente; de lo contrario actualiza el valor asociado a la clave `k`. El par `k:v` se puede denotar de diferentes formas, según el tipo de la clave:"
   ]
  },
  {
   "cell_type": "code",
   "execution_count": 11,
   "id": "eba0d739",
   "metadata": {},
   "outputs": [
    {
     "name": "stdout",
     "output_type": "stream",
     "text": [
      "{'Americano': 3000, 'Iced Americano': 3500, 'Capuccino': 4000, 'Cafe Latte': 4500, 'Espresso': 3600}\n"
     ]
    },
    {
     "data": {
      "text/plain": [
       "{'Americano': 2500,\n",
       " 'Iced Americano': 3200,\n",
       " 'Capuccino': 4000,\n",
       " 'Cafe Latte': 4500,\n",
       " 'Espresso': 3600,\n",
       " 'Moka': 3000}"
      ]
     },
     "execution_count": 11,
     "metadata": {},
     "output_type": "execute_result"
    }
   ],
   "source": [
    "menu = {\"Americano\" : 3000, \"Iced Americano\" : 3500, \"Capuccino\" : 4000, \"Cafe Latte\" : 4500, \"Espresso\" : 3600}\n",
    "print(menu)\n",
    "# ofertas\n",
    "menu.update(Americano = 2500)             # la clave es una cadena\n",
    "menu.update([[\"Iced Americano\", 3200]])   # la clave es una cadena, pero tiene espacios\n",
    "# nuevo café\n",
    "menu.update(Moka = 3000)\n",
    "menu"
   ]
  },
  {
   "cell_type": "code",
   "execution_count": 13,
   "id": "b028854a",
   "metadata": {},
   "outputs": [
    {
     "data": {
      "text/plain": [
       "{'Americano': 2500,\n",
       " 'Iced Americano': 3200,\n",
       " 'Capuccino': 4000,\n",
       " 'Cafe Latte': 4500,\n",
       " 'Espresso': 3600,\n",
       " 'Moka': 3000,\n",
       " 'Mitad': 3000,\n",
       " 'Sombra': 2800}"
      ]
     },
     "execution_count": 13,
     "metadata": {},
     "output_type": "execute_result"
    }
   ],
   "source": [
    "menu.update([[\"Mitad\", 3000], [\"Sombra\", 2800]])\n",
    "menu"
   ]
  },
  {
   "cell_type": "markdown",
   "id": "865e845e",
   "metadata": {},
   "source": [
    "El método `update(kv)` nos permite construir un diccionario a partir de una colección (no diccionario) que contenga pares de clave y valor:"
   ]
  },
  {
   "cell_type": "code",
   "execution_count": 14,
   "id": "736593e0",
   "metadata": {},
   "outputs": [
    {
     "data": {
      "text/plain": [
       "{5: 'five', 10: 'ten', 1: 'one'}"
      ]
     },
     "execution_count": 14,
     "metadata": {},
     "output_type": "execute_result"
    }
   ],
   "source": [
    "d = {}\n",
    "d.update([[5, \"five\"], [10, \"ten\"], [1,\"one\"]])\n",
    "d"
   ]
  },
  {
   "cell_type": "markdown",
   "id": "6898994e",
   "metadata": {},
   "source": [
    "## Iteración sobre diccionarios\n",
    "\n",
    "Los diccionarios son colecciones iterables; es decir, se pueden utilizar como fuente de datos en un bucle `for`. Cuando usamos un diccionario en un bucle `for`, la variable de control toma sucesivamente los valores de las **claves**:"
   ]
  },
  {
   "cell_type": "code",
   "execution_count": 15,
   "id": "e5d0122f",
   "metadata": {
    "scrolled": true
   },
   "outputs": [
    {
     "name": "stdout",
     "output_type": "stream",
     "text": [
      "Americano\n",
      "Iced Americano\n",
      "Capuccino\n",
      "Cafe Latte\n",
      "Espresso\n"
     ]
    }
   ],
   "source": [
    "menu = {\"Americano\" : 3000, \"Iced Americano\" : 3500, \"Capuccino\" : 4000, \"Cafe Latte\" : 4500, \"Espresso\" : 3600}\n",
    "\n",
    "for cafe in menu:\n",
    "    print(cafe)"
   ]
  },
  {
   "cell_type": "markdown",
   "id": "062dd1f7",
   "metadata": {},
   "source": [
    "Además, es posible iterar con un bucle `for` sobre un diccionario haciendo que la variable de control tome sucesivamente los valores de las claves, los valores o los pares usando `keys()`, `values()` e `items()` respectivamente:"
   ]
  },
  {
   "cell_type": "code",
   "execution_count": 17,
   "id": "fba4ed78",
   "metadata": {
    "scrolled": true
   },
   "outputs": [
    {
     "name": "stdout",
     "output_type": "stream",
     "text": [
      "Americano\n",
      "Iced Americano\n",
      "Capuccino\n",
      "Cafe Latte\n",
      "Espresso\n"
     ]
    },
    {
     "data": {
      "text/plain": [
       "dict_keys(['Americano', 'Iced Americano', 'Capuccino', 'Cafe Latte', 'Espresso'])"
      ]
     },
     "execution_count": 17,
     "metadata": {},
     "output_type": "execute_result"
    }
   ],
   "source": [
    "menu = {\"Americano\" : 3000, \"Iced Americano\" : 3500, \"Capuccino\" : 4000, \"Cafe Latte\" : 4500, \"Espresso\" : 3600}\n",
    "\n",
    "for cafe in menu.keys():\n",
    "    print(cafe)\n",
    "    \n",
    "menu.keys()"
   ]
  },
  {
   "cell_type": "code",
   "execution_count": 18,
   "id": "b43aaf29",
   "metadata": {},
   "outputs": [
    {
     "name": "stdout",
     "output_type": "stream",
     "text": [
      "3000\n",
      "3500\n",
      "4000\n",
      "4500\n",
      "3600\n"
     ]
    }
   ],
   "source": [
    "menu = {\"Americano\" : 3000, \"Iced Americano\" : 3500, \"Capuccino\" : 4000, \"Cafe Latte\" : 4500, \"Espresso\" : 3600}\n",
    "\n",
    "for precio in menu.values():\n",
    "    print(precio)"
   ]
  },
  {
   "cell_type": "code",
   "execution_count": 19,
   "id": "f3fb3782",
   "metadata": {
    "scrolled": true
   },
   "outputs": [
    {
     "name": "stdout",
     "output_type": "stream",
     "text": [
      "Americano 3000\n",
      "Iced Americano 3500\n",
      "Capuccino 4000\n",
      "Cafe Latte 4500\n",
      "Espresso 3600\n"
     ]
    }
   ],
   "source": [
    "menu = {\"Americano\" : 3000, \"Iced Americano\" : 3500, \"Capuccino\" : 4000, \"Cafe Latte\" : 4500, \"Espresso\" : 3600}\n",
    "\n",
    "for cafe, precio in menu.items():  # unpacking\n",
    "    print(cafe, precio)"
   ]
  },
  {
   "cell_type": "markdown",
   "id": "c832dc27",
   "metadata": {},
   "source": [
    "## Alias, copias y copias profundas\n",
    "\n",
    "Una asignación entre diccionarios no crea un nuevo diccionario, sino que crea un **alias**; es decir, un nombre alternativo para el mismo diccionario:"
   ]
  },
  {
   "cell_type": "code",
   "execution_count": null,
   "id": "2e7a1f92",
   "metadata": {},
   "outputs": [],
   "source": [
    "menu = {\"Americano\" : 3000, \"Iced Americano\" : 3500, \"Capuccino\" : 4000, \"Cafe Latte\" : 4500, \"Espresso\" : 3600}\n",
    "competencia = menu\n",
    "competencia[\"Americano\"] = 2500\n",
    "\n",
    "print(menu)\n",
    "print(competencia)"
   ]
  },
  {
   "cell_type": "markdown",
   "id": "dbeaac7f",
   "metadata": {},
   "source": [
    "Si queremos trabajar con un diccionario nuevo, deberemos sacar una **copia** mediante el método `copy()` (similar a utilizar el _slicing_ `[:]` sobre una lista):"
   ]
  },
  {
   "cell_type": "code",
   "execution_count": 20,
   "id": "0c738651",
   "metadata": {},
   "outputs": [],
   "source": [
    "lista = list(range(6))\n",
    "copia1 = lista # alias\n",
    "copia2 = lista[:] # copia"
   ]
  },
  {
   "cell_type": "code",
   "execution_count": null,
   "id": "299de7e5",
   "metadata": {},
   "outputs": [],
   "source": [
    "menu = {\"Americano\" : 3000, \"Iced Americano\" : 3500, \"Capuccino\" : 4000, \"Cafe Latte\" : 4500, \"Espresso\" : 3600}\n",
    "competencia = menu.copy()\n",
    "competencia[\"Americano\"] = 2500\n",
    "\n",
    "print(menu)\n",
    "print(competencia)"
   ]
  },
  {
   "cell_type": "markdown",
   "id": "fbe4aa65",
   "metadata": {},
   "source": [
    "Sin embargo, si los valores del diccionario son **mutables**, el método `copy()` no es suficiente:"
   ]
  },
  {
   "cell_type": "code",
   "execution_count": 21,
   "id": "f5d8c1f3",
   "metadata": {},
   "outputs": [
    {
     "name": "stdout",
     "output_type": "stream",
     "text": [
      "{1: ['azul', 'rojo', 'verde'], 2: ['verde', 'amarillo'], 3: ['blanco', 'negro']}\n",
      "{1: ['azul', 'rojo', 'verde'], 2: ['verde', 'amarillo'], 3: ['blanco', 'negro']}\n"
     ]
    }
   ],
   "source": [
    "original = { 1 : [\"azul\", \"rojo\", \"verde\"], 2 : [\"verde\", \"amarillo\"], 3: [\"blanco\"]}\n",
    "copia = original.copy()\n",
    "copia[3].append(\"negro\")\n",
    "print(original)\n",
    "print(copia)"
   ]
  },
  {
   "cell_type": "markdown",
   "id": "c570c6e5",
   "metadata": {},
   "source": [
    "Cuando los valores del diccionario sean mutables (listas o diccionarios), tendremos que sacar una **copia profunda** mediante el método `deepcopy()` del módulo `copy`:"
   ]
  },
  {
   "cell_type": "code",
   "execution_count": 22,
   "id": "8d3d8814",
   "metadata": {},
   "outputs": [
    {
     "name": "stdout",
     "output_type": "stream",
     "text": [
      "{1: ['azul', 'rojo', 'verde'], 2: ['verde', 'amarillo'], 3: ['blanco']}\n",
      "{1: ['azul', 'rojo', 'verde'], 2: ['verde', 'amarillo'], 3: ['blanco', 'negro']}\n"
     ]
    }
   ],
   "source": [
    "import copy\n",
    "\n",
    "original = { 1 : [\"azul\", \"rojo\", \"verde\"], 2 : [\"verde\", \"amarillo\"], 3: [\"blanco\"]}\n",
    "copia = copy.deepcopy(original)\n",
    "copia[3].append(\"negro\")\n",
    "print(original)\n",
    "print(copia)"
   ]
  },
  {
   "cell_type": "markdown",
   "id": "ce9cae75",
   "metadata": {},
   "source": [
    "### Unidad 14: Mission problem (290)"
   ]
  },
  {
   "cell_type": "code",
   "execution_count": 24,
   "id": "ea30c9ef",
   "metadata": {},
   "outputs": [
    {
     "name": "stdout",
     "output_type": "stream",
     "text": [
      "Cafe menu program, press\n",
      "q \t to exit\n",
      "<cafe:price \t to update menu\n",
      ">cafe \t to consult the menu \n",
      "p \t to print the full menu\n",
      "Enter comand: p\n",
      "Cafe                Price\n",
      "Iced Americano      3000\n",
      "Enter comand: >\n",
      "Sorry,  is not in the menu\n",
      "Enter comand: >Iced Americano\n",
      "Iced Americano is 3000 won\n",
      "Enter comand: < Moka:3000\n",
      "Enter comand: p\n",
      "Cafe                Price\n",
      "Iced Americano      3000\n",
      " Moka               3000\n",
      "Enter comand: q\n",
      "Bye\n"
     ]
    }
   ],
   "source": [
    "print(\"Cafe menu program, press\")\n",
    "print(\"q \\t to exit\")\n",
    "print(\"<cafe:price \\t to update menu\")\n",
    "print(\">cafe \\t to consult the menu \")\n",
    "print(\"p \\t to print the full menu\")\n",
    "\n",
    "cafe_menu = {\"Iced Americano\":3000}\n",
    "\n",
    "command = \"\"\n",
    "while command != \"q\":\n",
    "    command = input(\"Enter comand: \")\n",
    "    \n",
    "    if command.startswith(\"<\"):\n",
    "        cafe, price = command[1:].split(\":\")\n",
    "        cafe_menu[cafe] = price\n",
    "    \n",
    "    elif command.startswith(\">\"):\n",
    "        cafe = command[1:]\n",
    "        if cafe in cafe_menu:\n",
    "            print(\"{} is {} won\". format(cafe, cafe_menu[cafe]))\n",
    "        else:\n",
    "            print(\"Sorry, {} is not in the menu\".format(cafe))\n",
    "        \n",
    "    elif command == \"p\":\n",
    "        print(\"{:20}{}\".format(\"Cafe\", \"Price\"))\n",
    "        for cafe, price in cafe_menu.items():\n",
    "            print(\"{:20}{}\".format(cafe, price))\n",
    "            \n",
    "    elif command != \"q\":\n",
    "        print(\"Wrong command\")\n",
    "        \n",
    "print(\"Bye!\")"
   ]
  },
  {
   "cell_type": "markdown",
   "id": "86ad9383",
   "metadata": {},
   "source": [
    "### Unidad 14: Primer ejercicio de paper coding (319)\n",
    "Let's create a dictionary named person_dic with the following contact information on your phone. Print this information using the for loop to show the output results below.\n",
    "\n",
    "\"Last Name\": \"Doe\", \"First Name\": \"David\", \"Company\":\"Samsung\""
   ]
  },
  {
   "cell_type": "code",
   "execution_count": 25,
   "id": "746ce053",
   "metadata": {
    "scrolled": true
   },
   "outputs": [
    {
     "name": "stdout",
     "output_type": "stream",
     "text": [
      "Last Name: Doe\n",
      "First Name: David\n",
      "Company: Samsung\n"
     ]
    }
   ],
   "source": [
    "person_dic = {\"Last Name\":\"Doe\", \"First Name\":\"David\", \"Company\":\"Samsung\"}\n",
    "\n",
    "for key, value in person_dic.items(): # unpacking\n",
    "    print(key + ':', value)"
   ]
  },
  {
   "cell_type": "code",
   "execution_count": 28,
   "id": "20a1e4fb",
   "metadata": {},
   "outputs": [
    {
     "name": "stdout",
     "output_type": "stream",
     "text": [
      "Last Name: Doe\n",
      "First Name: David\n",
      "Company: Samsung\n"
     ]
    }
   ],
   "source": [
    "person_dic = {\"Last Name\":\"Doe\", \"First Name\":\"David\", \"Company\":\"Samsung\"}\n",
    "\n",
    "for key in person_dic.keys():\n",
    "    print(key + ':', person_dic[key])"
   ]
  },
  {
   "cell_type": "markdown",
   "id": "2e4162e8",
   "metadata": {},
   "source": [
    "### Unidad 14: Segundo ejercicio de paper coding (320)\n",
    "Let's write a program that performs inventory management at a convenience store. To this end, inventory of items sold at convenience stores is stored in the items dictionary as shown in the example below. Write a program that receives the name of the item from users and returns the inventory of the item. Suppose that it is a very small convenience store and the items treated are as following. "
   ]
  },
  {
   "cell_type": "code",
   "execution_count": 30,
   "id": "6dcc8635",
   "metadata": {},
   "outputs": [
    {
     "name": "stdout",
     "output_type": "stream",
     "text": [
      "Ponga el elemento que desee: Milk\n",
      "1\n"
     ]
    }
   ],
   "source": [
    "items = {\"Coffee\":7, \"Pen\":3, \"Paper cup\":2, \"Milk\":1, \"Coke\":4, \"Book\":5}\n",
    "\n",
    "elemento = input(\"Ponga el elemento que desee: \")\n",
    "\n",
    "if elemento in items:\n",
    "    print(items[elemento])\n",
    "else:\n",
    "    print(\"Lo siento, no tenemos.\")"
   ]
  },
  {
   "cell_type": "markdown",
   "id": "6b9871b5",
   "metadata": {},
   "source": [
    "### Unidad 14: Ejercicio del pair programming (342)\n",
    "Let's upgrade the program to manage the inventory of convenience stores that we solved in paper coding. In other words, add code to increase or decrease inventory. Also, make simple menus such as inventory inquiry, warehousing and shipment."
   ]
  },
  {
   "cell_type": "code",
   "execution_count": 45,
   "id": "5f53b196",
   "metadata": {},
   "outputs": [
    {
     "name": "stdout",
     "output_type": "stream",
     "text": [
      "Select: \n",
      "1) Check stock\n",
      "2) Warehousing\n",
      "3) Release\n",
      "4) Exit\n",
      "Enter command: 1\n",
      "Ponga el elemento que desee: Book\n",
      "5\n",
      "Enter command: 2\n",
      "Ponga el elemento y la cantidad a reponer separados por coma: Book,2\n",
      "Enter command: 1\n",
      "Ponga el elemento que desee: Book\n",
      "7\n",
      "Enter command: 3\n",
      "Ponga el elemento y la cantidad vendida separados por coma: Book,5\n",
      "Enter command: 1\n",
      "Ponga el elemento que desee: Book\n",
      "2\n",
      "Enter command: 4\n",
      "Program exited\n"
     ]
    }
   ],
   "source": [
    "print(\"Select: \")\n",
    "print(\"1) Check stock\")\n",
    "print(\"2) Warehousing\")\n",
    "print(\"3) Release\")\n",
    "print(\"4) Exit\")\n",
    "\n",
    "items = {\"Coffee\":7, \"Pen\":3, \"Paper cup\":2, \"Milk\":1, \"Coke\":4, \"Book\":5}\n",
    "\n",
    "command = 0\n",
    "while not command.startswith(\"4\"):\n",
    "    command = int(input(\"Enter number of command: \"))\n",
    "    \n",
    "    if command == 1:\n",
    "        elemento = input(\"Ponga el elemento que desee: \")\n",
    "        if elemento in items:\n",
    "            print(items[elemento])\n",
    "        else:\n",
    "            print(\"Lo siento, no tenemos.\")\n",
    "    \n",
    "    elif command == 2:\n",
    "        item, cantidad = input(\"Ponga el elemento y la cantidad a reponer separados por coma: \").split(\",\")\n",
    "        if item in items:\n",
    "            nueva_cantidad = int(cantidad) + items[item]\n",
    "            items[item] = nueva_cantidad\n",
    "        else:\n",
    "            print(\"Artículo no encontrado\")\n",
    "        \n",
    "    elif command == 3:\n",
    "        item, cantidad = input(\"Ponga el elemento y la cantidad vendida separados por coma: \").split(\",\")\n",
    "        if item in items:\n",
    "            if int(cantidad) <= items[item]:\n",
    "                nueva_cantidad = items[item] - int(cantidad)\n",
    "                print(\"No hay artículos suficientes\")\n",
    "            else:\n",
    "                items[item] = nueva_cantidad\n",
    "        else:\n",
    "            print(\"Artículo no encontrado\")\n",
    "    \n",
    "    elif command != 4:\n",
    "        print(\"Wrong command\")\n",
    "        \n",
    "print(\"Program exited\")"
   ]
  },
  {
   "cell_type": "code",
   "execution_count": null,
   "id": "40252eba",
   "metadata": {},
   "outputs": [],
   "source": [
    "print(\"Inventory program, press\")\n",
    "print(\"1. Check stock\")\n",
    "print(\"2. Warehousing\")\n",
    "print(\"3. Release\")\n",
    "print(\"4. Exit\")\n",
    "\n",
    "items = {\"Coffee\": 7, \"Pen\":3, \"Paper cup\": 2, \"Milk\": 1, \"Coke\": 4, \"Book\":5}\n",
    "\n",
    "command = 0\n",
    "while command != 4:\n",
    "    \n",
    "    command = int(input(\"enter command: \"))\n",
    "    \n",
    "    if command == 1:\n",
    "        item = input(\"Enter item: \")\n",
    "        if item not in items:\n",
    "            print(\"Item no encontrado\")\n",
    "        else:\n",
    "            print(\"Stock:\", items[item])\n",
    "    \n",
    "    elif command == 2:\n",
    "        item = input(\"Enter item: \")\n",
    "        if item not in items:\n",
    "            print(\"Item no encontrado\")\n",
    "        else:\n",
    "            cantidad = int(input(\"Introduzca una cantidad a reponer: \"))\n",
    "            items[item] += cantidad\n",
    "            print(\"Nuevo Stock:\", items[item])\n",
    "    \n",
    "    elif command == 3:\n",
    "        item = input(\"Enter item: \")\n",
    "        if item not in items:\n",
    "            print(\"Item no encontrado\")\n",
    "        else:\n",
    "            cantidad = int(input(\"Introduzca la cantidad deseada: \"))\n",
    "            items[item] -= cantidad\n",
    "            print(\"Nuevo Stock:\", items[item])\n",
    "    \n",
    "    elif command != 4:\n",
    "        print(\"wrong command\")\n",
    "        \n",
    "print(\"Bye\")"
   ]
  },
  {
   "cell_type": "markdown",
   "id": "5455c4aa",
   "metadata": {},
   "source": [
    "### Unidad 15: Primer ejercicio del paper coding (378)\n",
    "A tuple called study_tup, which has three pairs of elements: student ID number, name and phone number exists as shown below. Modify the student_tup below to create and print a dictionary of the pair {student ID number: [name, phone number]}"
   ]
  },
  {
   "cell_type": "code",
   "execution_count": 47,
   "id": "809647c0",
   "metadata": {},
   "outputs": [
    {
     "data": {
      "text/plain": [
       "{'211101': ['David Doe', '010-123-1111'],\n",
       " '211102': ['John Smith', '010-123-2222'],\n",
       " '211103': ['Jane Carter', '010-123-3333']}"
      ]
     },
     "execution_count": 47,
     "metadata": {},
     "output_type": "execute_result"
    }
   ],
   "source": [
    "student_tup = ((\"211101\", \"David Doe\", \"010-123-1111\"), \n",
    "               (\"211102\", \"John Smith\", \"010-123-2222\"), \n",
    "               (\"211103\", \"Jane Carter\", \"010-123-3333\"))\n",
    "\n",
    "student_dic = {}\n",
    "for student_id, student_name, student_phone in student_tup: # unpacking\n",
    "    student_dic[student_id] = [student_name, student_phone]\n",
    "\n",
    "student_dic"
   ]
  },
  {
   "cell_type": "markdown",
   "id": "9c802385",
   "metadata": {},
   "source": [
    "### Unidad 15: Segundo ejercicio del paper coding (379) - X\n",
    "Write a bachelor's information program using the student_tup above to receive the student's ID number as input and print the student's name and phone number."
   ]
  },
  {
   "cell_type": "code",
   "execution_count": 50,
   "id": "d1494a6d",
   "metadata": {},
   "outputs": [
    {
     "name": "stdout",
     "output_type": "stream",
     "text": [
      "Enter your ID number: 211103\n",
      "['Jane Carter', '010-123-3333']\n"
     ]
    }
   ],
   "source": [
    "student_tup = ((\"211101\", \"David Doe\", \"010-123-1111\"), \n",
    "               (\"211102\", \"John Smith\", \"010-123-2222\"), \n",
    "               (\"211103\", \"Jane Carter\", \"010-123-3333\"))\n",
    "\n",
    "student_dic = {}\n",
    "for student_id, student_name, student_phone in student_tup: # unpacking\n",
    "    student_dic[student_id] = [student_name, student_phone]\n",
    "\n",
    "ID_numer = input(\"Enter your ID number: \")\n",
    "\n",
    "if ID_numer in student_dic:\n",
    "    print(student_dic[student_id])\n",
    "else:\n",
    "    print(\"ID not found\")"
   ]
  },
  {
   "cell_type": "markdown",
   "id": "118619a9",
   "metadata": {},
   "source": [
    "### Unidad 15: Primer ejercicio del pair programming (403)\n",
    "The student_tuple list with tuples as elements is as shown below. Tuple, which is the element of this tuple consists of a (student ID number, name, phone number). Using this, make a dictionary for (student ID number:name) and print it out. When inquiring by student ID number, make sure that the student ID number, name and phone number are printed as shown below."
   ]
  },
  {
   "cell_type": "code",
   "execution_count": null,
   "id": "c1553b30",
   "metadata": {},
   "outputs": [],
   "source": [
    "student_tuple = [(\"211101\", \"David Doe\", \"010-123-1111\"), (\"211102\", \"John Smith\", \"010-123-2222\"), (\"211103\", \"Jane Carter\", \"010-123-3333\")]\n",
    "\n"
   ]
  }
 ],
 "metadata": {
  "kernelspec": {
   "display_name": "Python 3 (ipykernel)",
   "language": "python",
   "name": "python3"
  },
  "language_info": {
   "codemirror_mode": {
    "name": "ipython",
    "version": 3
   },
   "file_extension": ".py",
   "mimetype": "text/x-python",
   "name": "python",
   "nbconvert_exporter": "python",
   "pygments_lexer": "ipython3",
   "version": "3.10.9"
  }
 },
 "nbformat": 4,
 "nbformat_minor": 5
}
