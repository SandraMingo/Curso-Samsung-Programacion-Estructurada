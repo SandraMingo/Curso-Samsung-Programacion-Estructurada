{
 "cells": [
  {
   "cell_type": "markdown",
   "id": "959bc243",
   "metadata": {},
   "source": [
    "# Unidad 3 - Expresiones aritméticas"
   ]
  },
  {
   "cell_type": "code",
   "execution_count": 1,
   "id": "2b048d09",
   "metadata": {},
   "outputs": [
    {
     "data": {
      "text/plain": [
       "120"
      ]
     },
     "execution_count": 1,
     "metadata": {},
     "output_type": "execute_result"
    }
   ],
   "source": [
    "100 + 20"
   ]
  },
  {
   "cell_type": "code",
   "execution_count": 2,
   "id": "2f8fabac",
   "metadata": {},
   "outputs": [
    {
     "data": {
      "text/plain": [
       "50"
      ]
     },
     "execution_count": 2,
     "metadata": {},
     "output_type": "execute_result"
    }
   ],
   "source": [
    "75 - 25"
   ]
  },
  {
   "cell_type": "code",
   "execution_count": 3,
   "id": "2960646b",
   "metadata": {},
   "outputs": [
    {
     "data": {
      "text/plain": [
       "12"
      ]
     },
     "execution_count": 3,
     "metadata": {},
     "output_type": "execute_result"
    }
   ],
   "source": [
    "2 * 6"
   ]
  },
  {
   "cell_type": "code",
   "execution_count": 4,
   "id": "8ce9d891",
   "metadata": {},
   "outputs": [
    {
     "data": {
      "text/plain": [
       "5.0"
      ]
     },
     "execution_count": 4,
     "metadata": {},
     "output_type": "execute_result"
    }
   ],
   "source": [
    "10 / 2"
   ]
  },
  {
   "cell_type": "code",
   "execution_count": 5,
   "id": "30d7fac7",
   "metadata": {},
   "outputs": [
    {
     "data": {
      "text/plain": [
       "5"
      ]
     },
     "execution_count": 5,
     "metadata": {},
     "output_type": "execute_result"
    }
   ],
   "source": [
    "10//2"
   ]
  },
  {
   "cell_type": "code",
   "execution_count": 6,
   "id": "c127e76d",
   "metadata": {},
   "outputs": [
    {
     "data": {
      "text/plain": [
       "1"
      ]
     },
     "execution_count": 6,
     "metadata": {},
     "output_type": "execute_result"
    }
   ],
   "source": [
    "986543 % 2"
   ]
  },
  {
   "cell_type": "code",
   "execution_count": 7,
   "id": "68646be0",
   "metadata": {},
   "outputs": [
    {
     "data": {
      "text/plain": [
       "0"
      ]
     },
     "execution_count": 7,
     "metadata": {},
     "output_type": "execute_result"
    }
   ],
   "source": [
    "986542 % 2"
   ]
  },
  {
   "cell_type": "code",
   "execution_count": 8,
   "id": "38245ee3",
   "metadata": {},
   "outputs": [
    {
     "data": {
      "text/plain": [
       "25"
      ]
     },
     "execution_count": 8,
     "metadata": {},
     "output_type": "execute_result"
    }
   ],
   "source": [
    "5 ** 2"
   ]
  },
  {
   "cell_type": "code",
   "execution_count": 9,
   "id": "47010028",
   "metadata": {},
   "outputs": [
    {
     "data": {
      "text/plain": [
       "105"
      ]
     },
     "execution_count": 9,
     "metadata": {},
     "output_type": "execute_result"
    }
   ],
   "source": [
    "3 * 7 * 5 # primero se multiplica 3 y 7 y después, el resultado por 5\n",
    "# se sigue orden secuencial"
   ]
  },
  {
   "cell_type": "code",
   "execution_count": 10,
   "id": "8f745743",
   "metadata": {},
   "outputs": [
    {
     "data": {
      "text/plain": [
       "38"
      ]
     },
     "execution_count": 10,
     "metadata": {},
     "output_type": "execute_result"
    }
   ],
   "source": [
    "3 + 7 * 5 # la multiplicación tiene prioridad"
   ]
  },
  {
   "cell_type": "code",
   "execution_count": 11,
   "id": "d2f91c4d",
   "metadata": {},
   "outputs": [
    {
     "data": {
      "text/plain": [
       "50"
      ]
     },
     "execution_count": 11,
     "metadata": {},
     "output_type": "execute_result"
    }
   ],
   "source": [
    "(3 + 7) * 5 #Los paréntesis alteran la expresión"
   ]
  },
  {
   "cell_type": "markdown",
   "id": "9167a1c1",
   "metadata": {},
   "source": [
    "# Ejercicios pair programming y paper coding"
   ]
  },
  {
   "cell_type": "code",
   "execution_count": 12,
   "id": "818dec3f",
   "metadata": {},
   "outputs": [
    {
     "data": {
      "text/plain": [
       "100"
      ]
     },
     "execution_count": 12,
     "metadata": {},
     "output_type": "execute_result"
    }
   ],
   "source": [
    "int(\"50\")+50 #Q1"
   ]
  },
  {
   "cell_type": "code",
   "execution_count": 28,
   "id": "b84683ba",
   "metadata": {},
   "outputs": [
    {
     "data": {
      "text/plain": [
       "'5050'"
      ]
     },
     "execution_count": 28,
     "metadata": {},
     "output_type": "execute_result"
    }
   ],
   "source": [
    "\"50\" + str(50) #Q1\n",
    "str(50) + str(50)"
   ]
  },
  {
   "cell_type": "code",
   "execution_count": 30,
   "id": "f37d0d68",
   "metadata": {},
   "outputs": [
    {
     "data": {
      "text/plain": [
       "1000"
      ]
     },
     "execution_count": 30,
     "metadata": {},
     "output_type": "execute_result"
    }
   ],
   "source": [
    "int(\"1\" + \"0\" + \"0\" + \"0\") #Q2"
   ]
  },
  {
   "cell_type": "code",
   "execution_count": 26,
   "id": "df023418",
   "metadata": {},
   "outputs": [
    {
     "name": "stdout",
     "output_type": "stream",
     "text": [
      "El factorial de 5 (5!) es 120\n"
     ]
    }
   ],
   "source": [
    "print(\"El factorial de 5 (5!) es\", 5 * 4 * 3 * 2 * 1)"
   ]
  },
  {
   "cell_type": "code",
   "execution_count": 1,
   "id": "8edf8752",
   "metadata": {},
   "outputs": [
    {
     "data": {
      "text/plain": [
       "('El factorial de 10 (10!) es', 3628800)"
      ]
     },
     "execution_count": 1,
     "metadata": {},
     "output_type": "execute_result"
    }
   ],
   "source": [
    "\"El factorial de 10 (10!) es\",10 * 9 * 8 * 7 * 6 * 5 * 4 * 3 * 2 * 1"
   ]
  },
  {
   "cell_type": "markdown",
   "id": "614f6b4e",
   "metadata": {},
   "source": [
    "# Solución de la misión\n",
    "Calcular el área y la circunferencia de un círculo de radio $r = 4$ sabiendo que el área $A$ viene dada por\n",
    "$$A = \\pi r^2$$\n",
    "y que la circunferencia $C$ viene dada por\n",
    "$$C = 2 \\pi r$$"
   ]
  },
  {
   "cell_type": "code",
   "execution_count": 6,
   "id": "5faa9c54",
   "metadata": {},
   "outputs": [
    {
     "name": "stdout",
     "output_type": "stream",
     "text": [
      "El área del círculo es: 50.2656\n",
      "La circunferencia del círculo es: 25.1328\n"
     ]
    }
   ],
   "source": [
    "print(\"El área del círculo es:\", 3.1416 * 4**2)\n",
    "print(\"La circunferencia del círculo es:\", 2 * 3.1416 * 4)"
   ]
  }
 ],
 "metadata": {
  "kernelspec": {
   "display_name": "Python 3 (ipykernel)",
   "language": "python",
   "name": "python3"
  },
  "language_info": {
   "codemirror_mode": {
    "name": "ipython",
    "version": 3
   },
   "file_extension": ".py",
   "mimetype": "text/x-python",
   "name": "python",
   "nbconvert_exporter": "python",
   "pygments_lexer": "ipython3",
   "version": "3.10.9"
  }
 },
 "nbformat": 4,
 "nbformat_minor": 5
}
