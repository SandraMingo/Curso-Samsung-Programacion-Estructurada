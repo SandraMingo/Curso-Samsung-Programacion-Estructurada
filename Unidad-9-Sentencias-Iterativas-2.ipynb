{
 "cells": [
  {
   "cell_type": "markdown",
   "id": "7c325548",
   "metadata": {},
   "source": [
    "# Unidad 9 - Sentencias Iterativas - II"
   ]
  },
  {
   "cell_type": "markdown",
   "id": "7af3061e",
   "metadata": {},
   "source": [
    "## Razones para usar sentencias iterativas distintas del `for`\n",
    "\n",
    "A veces necesitamos repetir unas sentencias un cierto número de veces que **no se conoce a priori**, por ejemplo:\n",
    "\n",
    "- leer el usuario y la clave hasta que ambos sean correctos\n",
    "- determinar si un número es primo sin probar a dividir por todos los candidatos a divisor\n",
    "\n",
    "Los problemas anteriores no pueden resolverse usando un bucle `for` (el segundo puede resolverse, pero tenemos que probar a dividir por todos los candidatos a divisor)."
   ]
  },
  {
   "cell_type": "markdown",
   "id": "38d0c2b9",
   "metadata": {},
   "source": [
    "Para el primer problema, la siguiente solución no es adecuada porque:\n",
    "- limitamos a priori el número de intentos\n",
    "- aunque el usuario facilite los datos correctos, permanecemos en el bucle"
   ]
  },
  {
   "cell_type": "code",
   "execution_count": null,
   "id": "b53d6a5b",
   "metadata": {},
   "outputs": [],
   "source": [
    "MAX_INTENTOS = 3\n",
    "login_correcto = False\n",
    "\n",
    "for intento in range(MAX_INTENTOS):\n",
    "    if not login_correcto:\n",
    "        usuario = input(\"usuario: \")\n",
    "        clave = input(\"clave: \")\n",
    "        login_correcto = usuario == \"pitonista\" and clave == \"123\"\n",
    "\n",
    "            \n",
    "if login_correcto:\n",
    "    print(\"Bienvenido a tu cuenta\")\n",
    "else:\n",
    "    print(\"Lo siento, no puedes entrar en tu cuenta\")"
   ]
  },
  {
   "cell_type": "markdown",
   "id": "42d344e3",
   "metadata": {},
   "source": [
    "Para el segundo problema, la siguiente solución no es adecuada porque, aunque sepamos que un número no es primo, no abandonamos el bucle y probamos con todos los candidatos a divisor. Por ejemplo, para `n = 100` tenemos muchos divisores: `divisor = 1,2,4,5...`. Deberíamos abandonar el bucle en cuanto sepamos que el número tiene más de dos divisores (o algún divisor entre `2` y `99`)."
   ]
  },
  {
   "cell_type": "code",
   "execution_count": null,
   "id": "1e07ec7e",
   "metadata": {},
   "outputs": [],
   "source": [
    "n = int(input(\"dame un número: \"))\n",
    "\n",
    "num_divisores = 0\n",
    "\n",
    "for divisor in range(1, n + 1):\n",
    "    if n % divisor == 0:\n",
    "        num_divisores += 1\n",
    "        \n",
    "es_primo = num_divisores == 2\n",
    "\n",
    "if es_primo:\n",
    "    print(n, \"es un número primo\")\n",
    "else:\n",
    "    print(n, \"es un número compuesto\")"
   ]
  },
  {
   "cell_type": "markdown",
   "id": "d4dbc2de",
   "metadata": {},
   "source": [
    "El problema es que el bucle `for` es **exhaustivo**: tiene que visitar todos los datos de la fuente de datos (`range`, lista, cadena, ...). El tamaño de la fuente de datos determina, a priori, el número de iteraciones del bucle.\n",
    "\n",
    "Necesitamos otra estructura iterativa más flexible:\n",
    "- que no fije a priori el número de iteraciones.\n",
    "- que permita salir del bucle en cuanto se alcance cierta condición"
   ]
  },
  {
   "cell_type": "markdown",
   "id": "4d294167",
   "metadata": {},
   "source": [
    "## Repitiendo un código un número indeterminado de veces\n",
    "\n",
    "La sentencia `while` permite repetir un código un número indeterminado de veces. Su sintaxis es:\n",
    "\n",
    "```python\n",
    "while condición:\n",
    "    código_a_repetir\n",
    "```\n",
    "\n",
    "donde:\n",
    "- El `codigo_a_repetir`es un **bloque** con las sentencias a repetir, se le llama **cuerpo** del bucle\n",
    "- La `condición` es una expresión booleana que indica si hay que ejecutar el cuerpo del bucle, se le llama **guarda** del bucle\n",
    "\n",
    "Observa que la sintaxis es similar a la de la sentencia `if`:\n",
    "\n",
    "```python\n",
    "if condición:\n",
    "    código_opcional\n",
    "```\n",
    "\n",
    "La diferencia es que el bloque de la sentencia `if` es opcional, solo se ejecuta una vez si la condición es `True`. Por el contrario, el bloque la sentencia `while` se ejecuta mientras la condición sea `True` (es como si la sentencia `if` volviera a ejecutarse de nuevo)."
   ]
  },
  {
   "cell_type": "markdown",
   "id": "5245edbd",
   "metadata": {},
   "source": [
    "**Ejemplos:** Usa la sentencia `while` para:\n",
    "- escribir un número de veces (leído por teclado) `En clase no se habla`"
   ]
  },
  {
   "cell_type": "code",
   "execution_count": 4,
   "id": "4cb5361b",
   "metadata": {},
   "outputs": [
    {
     "name": "stdout",
     "output_type": "stream",
     "text": [
      "¿Cuántas copias debe hacer? 5\n",
      "En clase no se habla\n",
      "En clase no se habla\n",
      "En clase no se habla\n",
      "En clase no se habla\n",
      "En clase no se habla\n"
     ]
    }
   ],
   "source": [
    "num_castigo_fin = int(input(\"¿Cuántas copias debe hacer? \"))\n",
    "num_copias = 0\n",
    "\n",
    "while num_copias < num_castigo_fin: #num_copias != num_castigo_fin\n",
    "    print(\"En clase no se habla\")\n",
    "    num_copias += 1"
   ]
  },
  {
   "cell_type": "markdown",
   "id": "5d63e261",
   "metadata": {},
   "source": [
    "- imprimir los cuadrados del 1 al 10"
   ]
  },
  {
   "cell_type": "code",
   "execution_count": 7,
   "id": "f8e303e8",
   "metadata": {},
   "outputs": [
    {
     "name": "stdout",
     "output_type": "stream",
     "text": [
      "1 1\n",
      "2 4\n",
      "3 9\n",
      "4 16\n",
      "5 25\n",
      "6 36\n",
      "7 49\n",
      "8 64\n",
      "9 81\n",
      "10 100\n"
     ]
    }
   ],
   "source": [
    "n = 1\n",
    "\n",
    "while n <= 10:\n",
    "    print(n, n**2)\n",
    "    n += 1"
   ]
  },
  {
   "cell_type": "markdown",
   "id": "3b0721b1",
   "metadata": {},
   "source": [
    "- sumar los números entre 1 y 100"
   ]
  },
  {
   "cell_type": "code",
   "execution_count": 10,
   "id": "e66b763a",
   "metadata": {},
   "outputs": [
    {
     "name": "stdout",
     "output_type": "stream",
     "text": [
      "5050\n"
     ]
    }
   ],
   "source": [
    "n = 1\n",
    "suma = 0\n",
    "\n",
    "while n <= 100:\n",
    "    suma += n\n",
    "    n += 1\n",
    "print(suma)"
   ]
  },
  {
   "cell_type": "markdown",
   "id": "fbec83f6",
   "metadata": {},
   "source": [
    "Los ejemplos anteriores no muestran toda la potencia del bucle `while`: en todos ellos se conoce a priori el número de veces que debe repetirse el bucle. Cuando esto ocurre, es mejor utilizar el bucle `for`.\n",
    "\n",
    "La verdadera utilidad del bucle `while` es que nos permite escribir bucles que se ejecutan un número indeterminado de veces; es decir, un número de veces que no podemos predecir."
   ]
  },
  {
   "cell_type": "markdown",
   "id": "fc6b9e60",
   "metadata": {},
   "source": [
    "**Ejemplos**: Usa  la sentencia `while` para\n",
    "- leer un carácter de teclado hasta que sea `s`o `n`(sí o no)"
   ]
  },
  {
   "cell_type": "code",
   "execution_count": 15,
   "id": "9cfa6b46",
   "metadata": {},
   "outputs": [
    {
     "name": "stdout",
     "output_type": "stream",
     "text": [
      "¿Quieres borrar las fotos?[s/n] n\n",
      "Operación cancelada\n"
     ]
    }
   ],
   "source": [
    "respuesta = \"\" # input(\"¿Quieres borrar las fotos?[s/n] \")\n",
    "\n",
    "\n",
    "while respuesta != \"s\" and respuesta != \"n\":\n",
    "    respuesta = input(\"¿Quieres borrar las fotos?[s/n] \")\n",
    "    \n",
    "if respuesta == \"s\":\n",
    "    print(\"Borrando fotos...\")\n",
    "else:\n",
    "    print(\"Operación cancelada\")"
   ]
  },
  {
   "cell_type": "markdown",
   "id": "7c2eb7b5",
   "metadata": {},
   "source": [
    "- leer de teclado números enteros y sumarlos hasta que se introduzca la palabra `fin`"
   ]
  },
  {
   "cell_type": "code",
   "execution_count": 20,
   "id": "63154ef8",
   "metadata": {},
   "outputs": [
    {
     "name": "stdout",
     "output_type": "stream",
     "text": [
      "Pon un entero: 6\n",
      "6\n",
      "Pon un entero: 4\n",
      "10\n",
      "Pon un entero: 6\n",
      "16\n",
      "Pon un entero: 62\n",
      "78\n",
      "Pon un entero: 54\n",
      "132\n",
      "Pon un entero: 653\n",
      "785\n",
      "Pon un entero: 23\n",
      "808\n",
      "Pon un entero: fin\n",
      "La suma total es:  808\n"
     ]
    }
   ],
   "source": [
    "entrada = \"\"\n",
    "suma = 0\n",
    "\n",
    "while entrada != \"fin\":\n",
    "    entrada = input(\"Pon un entero: \")\n",
    "    if entrada != \"fin\":\n",
    "        suma += int(entrada)\n",
    "\n",
    "print(\"La suma total es: \", suma)"
   ]
  },
  {
   "cell_type": "markdown",
   "id": "47935d82",
   "metadata": {},
   "source": [
    "- solicitar al cliente su usuario y clave hasta que ambos sean correctos"
   ]
  },
  {
   "cell_type": "code",
   "execution_count": 22,
   "id": "d79b9cb0",
   "metadata": {},
   "outputs": [
    {
     "name": "stdout",
     "output_type": "stream",
     "text": [
      "Ponga su usuario: piton\n",
      "Ponga su clave: 123\n",
      "Ponga su usuario: pitonista\n",
      "Ponga su clave: 123\n",
      "Bienvenido a su cuenta\n"
     ]
    }
   ],
   "source": [
    "login_correcto = False\n",
    "while not login_correcto:\n",
    "    usuario = input(\"Ponga su usuario: \")\n",
    "    clave = input(\"Ponga su clave: \")\n",
    "    login_correcto = usuario == \"pitonista\" and clave == \"123\"\n",
    "\n",
    "print(\"Bienvenido a su cuenta\")"
   ]
  },
  {
   "cell_type": "markdown",
   "id": "b9f18d20",
   "metadata": {},
   "source": [
    "- determinar si un número leído por teclado es primo o compuesto"
   ]
  },
  {
   "cell_type": "code",
   "execution_count": 30,
   "id": "f7b43502",
   "metadata": {},
   "outputs": [
    {
     "name": "stdout",
     "output_type": "stream",
     "text": [
      "Dame un número: 7\n",
      "7 es un número primo\n"
     ]
    }
   ],
   "source": [
    "n = int(input(\"Dame un número: \"))\n",
    "divisor = 2\n",
    "primo = True # flag\n",
    "\n",
    "while primo and divisor < n: # divisor = 2, 3, 4, ..., n-1\n",
    "    if n % divisor == 0: # no es primo\n",
    "        primo = False\n",
    "    divisor += 1\n",
    "\n",
    "if primo:\n",
    "    print(n, \"es un número primo\")\n",
    "else:\n",
    "    print(n, \"es un número compuesto\")"
   ]
  },
  {
   "cell_type": "code",
   "execution_count": 34,
   "id": "42d6ebe4",
   "metadata": {},
   "outputs": [
    {
     "name": "stdout",
     "output_type": "stream",
     "text": [
      "Dame un número: 7\n",
      "7 es un número primo\n"
     ]
    }
   ],
   "source": [
    "n = int(input(\"Dame un número: \"))\n",
    "divisor = 2\n",
    "primo = True # flag\n",
    "\n",
    "while primo and divisor < n: # divisor = 2, 3, 4, ..., n-1\n",
    "    primo = n % divisor != 0\n",
    "    divisor += 1\n",
    "\n",
    "if primo:\n",
    "    print(n, \"es un número primo\")\n",
    "else:\n",
    "    print(n, \"es un número compuesto\")"
   ]
  },
  {
   "cell_type": "markdown",
   "id": "a1508385",
   "metadata": {},
   "source": [
    "- determinar si una cadena está formada solo por letras del alfabeto Inglés (recuerda, las cadenas son indexables)"
   ]
  },
  {
   "cell_type": "code",
   "execution_count": 8,
   "id": "589e672e",
   "metadata": {},
   "outputs": [
    {
     "name": "stdout",
     "output_type": "stream",
     "text": [
      "Dame una cadena: hola\n",
      "La cadena sólo tiene letras\n"
     ]
    }
   ],
   "source": [
    "cadena = input(\"Dame una cadena: \")\n",
    "\n",
    "i = 0\n",
    "todos_letras = True\n",
    "\n",
    "while todos_letras and i < len(cadena):\n",
    "    \n",
    "    caracter = cadena[i].upper()\n",
    "    \n",
    "    todos_letras = \"A\" <= caracter and caracter <= \"Z\"\n",
    "    \n",
    "    i += 1\n",
    "    \n",
    "if todos_letras:\n",
    "    print(\"La cadena sólo tiene letras\")\n",
    "else:\n",
    "    print(\"La cadena tiene algo que no es una letra inglesa\")"
   ]
  },
  {
   "cell_type": "markdown",
   "id": "bd9d8a77",
   "metadata": {},
   "source": [
    "## El increíble bucle `while`\n",
    "\n",
    "El bucle `while` es una herramienta extraordinariamente potente. Observa que:\n",
    "\n",
    "1. Todo bucle `for` puede reemplazarse por un `while`."
   ]
  },
  {
   "cell_type": "code",
   "execution_count": 9,
   "id": "0d055b23",
   "metadata": {
    "scrolled": true
   },
   "outputs": [
    {
     "name": "stdout",
     "output_type": "stream",
     "text": [
      "bucle for\n",
      "4\n",
      "7\n",
      "10\n",
      "13\n",
      "16\n",
      "19\n",
      "22\n",
      "25\n",
      "bucle while\n",
      "4\n",
      "7\n",
      "10\n",
      "13\n",
      "16\n",
      "19\n",
      "22\n",
      "25\n"
     ]
    }
   ],
   "source": [
    "ini = 4\n",
    "fin = 27\n",
    "dif = 3\n",
    "\n",
    "print(\"bucle for\")\n",
    "for i in range(ini, fin, dif):\n",
    "    print(i)\n",
    "    \n",
    "\n",
    "print(\"bucle while\")\n",
    "i = ini\n",
    "while i < fin:\n",
    "    print(i)\n",
    "    i += dif"
   ]
  },
  {
   "cell_type": "markdown",
   "id": "954f9f58",
   "metadata": {},
   "source": [
    "2. Justo al salir del bucle `while`, se verifica la negación de la guarda."
   ]
  },
  {
   "cell_type": "code",
   "execution_count": 10,
   "id": "d4992e40",
   "metadata": {},
   "outputs": [
    {
     "name": "stdout",
     "output_type": "stream",
     "text": [
      "dame una frase: hola\n",
      "dame una letra a buscar en la frase: l\n",
      "True\n",
      "la l aparece por primera vez en la posición 2\n"
     ]
    }
   ],
   "source": [
    "frase = input(\"dame una frase: \")\n",
    "letra = input(\"dame una letra a buscar en la frase: \")\n",
    "\n",
    "i = 0\n",
    "while i < len(frase) and frase[i] != letra:\n",
    "    i += 1\n",
    "\n",
    "# aquí la negación de la guarda es cierta:\n",
    "#\n",
    "#    i >= len(frase) or frase[i] == letra\n",
    "\n",
    "print(i >= len(frase) or frase[i] == letra) # debe imprimir siempre True\n",
    "\n",
    "# razonando sobre la negación de la guarda sabemos qué ha pasado:\n",
    "\n",
    "if i >= len(frase):\n",
    "    print(\"la\", letra, \"no aparece en la frase\")\n",
    "else:\n",
    "    print(\"la\", letra, \"aparece por primera vez en la posición\", i)"
   ]
  },
  {
   "cell_type": "markdown",
   "id": "8f60e69e",
   "metadata": {},
   "source": [
    "3. El bucle `while` puede ejecutarse **infinitas** veces. A esto se le llama **bucle infinito** y es causa de... infinitos problemas."
   ]
  },
  {
   "cell_type": "code",
   "execution_count": null,
   "id": "7429ea5b",
   "metadata": {},
   "outputs": [],
   "source": [
    "# bucle que se ejecuta infinitas veces (puedes detener el programa pulsando el botón de \"stop\")\n",
    "\n",
    "n = 0\n",
    "while n >= 0:\n",
    "    print(\"bucle infinito: nunca acaba\")\n",
    "    n += 1\n",
    "\n",
    "print(\"esto nunca se imprime\")"
   ]
  },
  {
   "cell_type": "markdown",
   "id": "774267b4",
   "metadata": {},
   "source": [
    "Obviamente, al igual que el bucle `for`, el bucle `while` puede ejecutarse 0 o 1 veces:"
   ]
  },
  {
   "cell_type": "code",
   "execution_count": null,
   "id": "bf1f87c2",
   "metadata": {},
   "outputs": [],
   "source": [
    "# bucle vacío (se ejecuta cero veces)\n",
    "\n",
    "i = 0\n",
    "while i != 0:\n",
    "    print(\"esto no se ejecuta nunca\")\n",
    "\n",
    "print(\"el anterior es un bucle vacío\")"
   ]
  },
  {
   "cell_type": "code",
   "execution_count": null,
   "id": "ee51d6e1",
   "metadata": {},
   "outputs": [],
   "source": [
    "# bucle que se ejecuta una vez si n es impar, cero veces si n es par\n",
    "\n",
    "n = int(input(\"dame un entero: \"))\n",
    "\n",
    "while n % 2 != 0:\n",
    "    print(n)\n",
    "    n += 1\n",
    "    \n",
    "print(n)"
   ]
  },
  {
   "cell_type": "markdown",
   "id": "27f5bba4",
   "metadata": {},
   "source": [
    "### Regla del bucle `while` \n",
    "\n",
    "\n",
    "Para que un bucle `while` pueda terminar, debe verificar la siguiente regla:\n",
    "\n",
    "> El cuerpo del bucle `while` debe modificar al menos una de las variables mencionadas en la condición o guarda del bucle\n",
    "\n",
    "Por ejemplo, si el código del bucle `while` tiene el siguiente aspecto:\n",
    "\n",
    "```python\n",
    "while n < 100 and i != j:\n",
    "    código_a_repetir\n",
    "```\n",
    "\n",
    "en el bloque `código_a_repetir` se debe modificar al menos una de las variables de la guarda (`n`, `i`, `j`). \n",
    "\n",
    "Observa que se trata de una condición necesaria, pero no suficiente. Es decir, si la regla no se cumple, el bucle `while` o bien es vacío o no termina. Para que el bucle `while` pueda terminar, debe cumplir la regla anterior. Sin embargo, es posible que el bucle cumpla la regla y, sin embargo, no termine (como el ejemplo anterior de bucle infinito)."
   ]
  },
  {
   "cell_type": "markdown",
   "id": "467275e4",
   "metadata": {},
   "source": [
    "## Números aleatorios\n",
    "\n",
    "Recuerda que para trabajar con números aleatorios en Python, primero debemos importar el módulo `random`:"
   ]
  },
  {
   "cell_type": "code",
   "execution_count": 11,
   "id": "fdb64ed7",
   "metadata": {},
   "outputs": [],
   "source": [
    "import random"
   ]
  },
  {
   "cell_type": "markdown",
   "id": "26224cc5",
   "metadata": {},
   "source": [
    "Recuerda, además, que el módulo `random` incluye, etre otras, las funciones `randint()` y `randrange()`:\n",
    "\n",
    "| Función          | Significado                    |\n",
    "|------------------|--------------------------------|\n",
    "| `randint(l,u)`   | devuelve un aleatorio en [l,u] |\n",
    "| `randrange(l,u)` | devuelve un aleatorio en [l,u) |\n"
   ]
  },
  {
   "cell_type": "markdown",
   "id": "7fd1b630",
   "metadata": {},
   "source": [
    "Finalmente, recuerda que para poder usar estas funciones, debemos prefijarlas con el nombre del módulo, `random`:"
   ]
  },
  {
   "cell_type": "code",
   "execution_count": 14,
   "id": "5cdcd685",
   "metadata": {},
   "outputs": [
    {
     "name": "stdout",
     "output_type": "stream",
     "text": [
      "5\n",
      "5\n"
     ]
    }
   ],
   "source": [
    "print(random.randint(1,6))\n",
    "print(random.randrange(1, 7))"
   ]
  },
  {
   "cell_type": "markdown",
   "id": "ee2ab7de",
   "metadata": {},
   "source": [
    "### Alias de módulos\n",
    "\n",
    "Algunos módulos de Python tienen nombres bastante largos (por ejemplo, `matplotlib`), por lo que escribir el nombre completo de un módulo antes de usar sus funciones se hace bastante engorroso.\n",
    "\n",
    "Para evitar este problema, se puede asociar un alias al nombre del módulo al importarlo. La sintaxis es la siguiente:\n",
    "\n",
    "> import _nombre_del_módulo_ as _alias_\n",
    "\n",
    "El nombre de alias puede ser cualquier nombre Python, aunque obviamente debería ser más breve que el nombre del módulo."
   ]
  },
  {
   "cell_type": "code",
   "execution_count": 15,
   "id": "751c5288",
   "metadata": {},
   "outputs": [],
   "source": [
    "import random as rnd"
   ]
  },
  {
   "cell_type": "markdown",
   "id": "4405f519",
   "metadata": {},
   "source": [
    "Para poder utilizar las funciones del módulo, deberemos prefijarlas con el alias:"
   ]
  },
  {
   "cell_type": "code",
   "execution_count": 63,
   "id": "848a4560",
   "metadata": {},
   "outputs": [
    {
     "name": "stdout",
     "output_type": "stream",
     "text": [
      "3\n",
      "4\n"
     ]
    }
   ],
   "source": [
    "print(rnd.randint(1,6))\n",
    "print(rnd.randrange(1, 7))"
   ]
  },
  {
   "cell_type": "markdown",
   "id": "c7409cd9",
   "metadata": {},
   "source": [
    "Además de `randint()` y `randrange()`, el módulo `random` ofrece, entre otras, las siguientes funciones:\n",
    "\n",
    "| Función          | Significado                                            |\n",
    "|------------------|--------------------------------------------------------|\n",
    "| `random()`       | devuelve un flotante aleatorio en [0,1)                |\n",
    "| `shuffle(l)`     | baraja una lista `l` de valores                        |\n",
    "| `choice(s)`      | devuelve un elemento aleatorio de una secuencia `s`    |\n",
    "| `sample(s, k)`   | devuelve `k` elementos aleatorios de una secuencia `s` |"
   ]
  },
  {
   "cell_type": "code",
   "execution_count": 18,
   "id": "63da0641",
   "metadata": {},
   "outputs": [
    {
     "name": "stdout",
     "output_type": "stream",
     "text": [
      "0.5085939993662065\n",
      "0.9209026196132045\n",
      "0.8765734906386826\n",
      "0.2851784393980814\n",
      "0.1844327467354122\n"
     ]
    }
   ],
   "source": [
    "for _ in range(5):\n",
    "    print(rnd.random())"
   ]
  },
  {
   "cell_type": "code",
   "execution_count": 19,
   "id": "8fd5abf1",
   "metadata": {},
   "outputs": [
    {
     "name": "stdout",
     "output_type": "stream",
     "text": [
      "['primavera', 'verano', 'otoño', 'invierno']\n",
      "['invierno', 'primavera', 'verano', 'otoño']\n",
      "['verano', 'otoño', 'primavera', 'invierno']\n",
      "['invierno', 'otoño', 'verano', 'primavera']\n"
     ]
    }
   ],
   "source": [
    "valores = [\"primavera\", \"verano\", \"otoño\", \"invierno\"]\n",
    "print(valores)\n",
    "\n",
    "for _ in range(3):\n",
    "    rnd.shuffle(valores)\n",
    "    print(valores)"
   ]
  },
  {
   "cell_type": "code",
   "execution_count": 20,
   "id": "b71b0280",
   "metadata": {},
   "outputs": [
    {
     "name": "stdout",
     "output_type": "stream",
     "text": [
      "invierno\n",
      "verano\n",
      "primavera\n",
      "primavera\n",
      "verano\n"
     ]
    }
   ],
   "source": [
    "print(valores)\n",
    "\n",
    "for _ in range(5):\n",
    "    print(rnd.choice(valores))  # la lista valores no se ve afectada\n",
    "\n",
    "print(valores)"
   ]
  },
  {
   "cell_type": "code",
   "execution_count": 21,
   "id": "16d0e8c8",
   "metadata": {},
   "outputs": [
    {
     "name": "stdout",
     "output_type": "stream",
     "text": [
      "['primavera', 'otoño']\n",
      "['invierno', 'verano']\n",
      "['primavera', 'invierno']\n",
      "['primavera', 'invierno']\n",
      "['otoño', 'primavera']\n"
     ]
    }
   ],
   "source": [
    "for _ in range(5):\n",
    "    print(rnd.sample(valores, 2)) # la lista valores no se ve afectada"
   ]
  },
  {
   "cell_type": "markdown",
   "id": "0ab4922e",
   "metadata": {},
   "source": [
    "## Solución del primer ejercicio de paper coding (529)\n",
    "Write a program that prints multiplication of 2 using the while statement."
   ]
  },
  {
   "cell_type": "code",
   "execution_count": 29,
   "id": "04c6dfa2",
   "metadata": {},
   "outputs": [
    {
     "name": "stdout",
     "output_type": "stream",
     "text": [
      " 2 *  1 =  2\n",
      " 2 *  2 =  4\n",
      " 2 *  3 =  6\n",
      " 2 *  4 =  8\n",
      " 2 *  5 = 10\n",
      " 2 *  6 = 12\n",
      " 2 *  7 = 14\n",
      " 2 *  8 = 16\n",
      " 2 *  9 = 18\n",
      " 2 * 10 = 20\n"
     ]
    }
   ],
   "source": [
    "tabla_multiplicar = 2\n",
    "\n",
    "n = 1\n",
    "\n",
    "while n <= 10:\n",
    "    print(\"{:2d} * {:2d} = {:2d}\".format(tabla_multiplicar, n, n*tabla_multiplicar))\n",
    "    n += 1"
   ]
  },
  {
   "cell_type": "markdown",
   "id": "94561536",
   "metadata": {},
   "source": [
    "## Solución del segundo ejercicio de paper coding (530)\n",
    "Let's modify the above program to print all the stages 1 to 9 of the multiplication table. Use only the while statement. "
   ]
  },
  {
   "cell_type": "code",
   "execution_count": 35,
   "id": "5fe35985",
   "metadata": {},
   "outputs": [
    {
     "name": "stdout",
     "output_type": "stream",
     "text": [
      "Tabla del 1:\n",
      " 1 *  1 =  1\n",
      " 1 *  2 =  2\n",
      " 1 *  3 =  3\n",
      " 1 *  4 =  4\n",
      " 1 *  5 =  5\n",
      " 1 *  6 =  6\n",
      " 1 *  7 =  7\n",
      " 1 *  8 =  8\n",
      " 1 *  9 =  9\n",
      " 1 * 10 = 10\n",
      "\n",
      "Tabla del 2:\n",
      " 2 *  1 =  2\n",
      " 2 *  2 =  4\n",
      " 2 *  3 =  6\n",
      " 2 *  4 =  8\n",
      " 2 *  5 = 10\n",
      " 2 *  6 = 12\n",
      " 2 *  7 = 14\n",
      " 2 *  8 = 16\n",
      " 2 *  9 = 18\n",
      " 2 * 10 = 20\n",
      "\n",
      "Tabla del 3:\n",
      " 3 *  1 =  3\n",
      " 3 *  2 =  6\n",
      " 3 *  3 =  9\n",
      " 3 *  4 = 12\n",
      " 3 *  5 = 15\n",
      " 3 *  6 = 18\n",
      " 3 *  7 = 21\n",
      " 3 *  8 = 24\n",
      " 3 *  9 = 27\n",
      " 3 * 10 = 30\n",
      "\n",
      "Tabla del 4:\n",
      " 4 *  1 =  4\n",
      " 4 *  2 =  8\n",
      " 4 *  3 = 12\n",
      " 4 *  4 = 16\n",
      " 4 *  5 = 20\n",
      " 4 *  6 = 24\n",
      " 4 *  7 = 28\n",
      " 4 *  8 = 32\n",
      " 4 *  9 = 36\n",
      " 4 * 10 = 40\n",
      "\n",
      "Tabla del 5:\n",
      " 5 *  1 =  5\n",
      " 5 *  2 = 10\n",
      " 5 *  3 = 15\n",
      " 5 *  4 = 20\n",
      " 5 *  5 = 25\n",
      " 5 *  6 = 30\n",
      " 5 *  7 = 35\n",
      " 5 *  8 = 40\n",
      " 5 *  9 = 45\n",
      " 5 * 10 = 50\n",
      "\n",
      "Tabla del 6:\n",
      " 6 *  1 =  6\n",
      " 6 *  2 = 12\n",
      " 6 *  3 = 18\n",
      " 6 *  4 = 24\n",
      " 6 *  5 = 30\n",
      " 6 *  6 = 36\n",
      " 6 *  7 = 42\n",
      " 6 *  8 = 48\n",
      " 6 *  9 = 54\n",
      " 6 * 10 = 60\n",
      "\n",
      "Tabla del 7:\n",
      " 7 *  1 =  7\n",
      " 7 *  2 = 14\n",
      " 7 *  3 = 21\n",
      " 7 *  4 = 28\n",
      " 7 *  5 = 35\n",
      " 7 *  6 = 42\n",
      " 7 *  7 = 49\n",
      " 7 *  8 = 56\n",
      " 7 *  9 = 63\n",
      " 7 * 10 = 70\n",
      "\n",
      "Tabla del 8:\n",
      " 8 *  1 =  8\n",
      " 8 *  2 = 16\n",
      " 8 *  3 = 24\n",
      " 8 *  4 = 32\n",
      " 8 *  5 = 40\n",
      " 8 *  6 = 48\n",
      " 8 *  7 = 56\n",
      " 8 *  8 = 64\n",
      " 8 *  9 = 72\n",
      " 8 * 10 = 80\n",
      "\n",
      "Tabla del 9:\n",
      " 9 *  1 =  9\n",
      " 9 *  2 = 18\n",
      " 9 *  3 = 27\n",
      " 9 *  4 = 36\n",
      " 9 *  5 = 45\n",
      " 9 *  6 = 54\n",
      " 9 *  7 = 63\n",
      " 9 *  8 = 72\n",
      " 9 *  9 = 81\n",
      " 9 * 10 = 90\n",
      "\n"
     ]
    }
   ],
   "source": [
    "tabla_multiplicar = 1\n",
    "\n",
    "while tabla_multiplicar <= 9:\n",
    "    print(\"Tabla del \", tabla_multiplicar, \":\", sep = \"\")\n",
    "    n = 1\n",
    "    while n <= 10:\n",
    "        print(\"{:2d} * {:2d} = {:2d}\".format(tabla_multiplicar, n, n*tabla_multiplicar))\n",
    "        n += 1\n",
    "    print()\n",
    "    tabla_multiplicar += 1"
   ]
  },
  {
   "cell_type": "markdown",
   "id": "91b8047c",
   "metadata": {},
   "source": [
    "## Solución del primer ejercicio de pair programming (542)\n",
    "A palindrome number refers to an integer whose value is the same as its original value, even if listed upside down, such as 121 or 3443. Write the following program to determine wheteher the number is a palindrome number or not by receiving the number n from the user."
   ]
  },
  {
   "cell_type": "code",
   "execution_count": 42,
   "id": "b3b49b26",
   "metadata": {},
   "outputs": [
    {
     "name": "stdout",
     "output_type": "stream",
     "text": [
      "Dame un número: 15\n",
      "No palíndromo\n"
     ]
    }
   ],
   "source": [
    "n = input(\"Dame un número: \")\n",
    "\n",
    "numero_invertido = \"\"\n",
    "\n",
    "for posicion in range(len(n)-1, 0-1, -1):\n",
    "    numero_invertido += n[posicion]\n",
    "    \n",
    "if n == numero_invertido:\n",
    "    print(\"Palíndromo\")\n",
    "else:\n",
    "    print(\"No palíndromo\")"
   ]
  },
  {
   "cell_type": "code",
   "execution_count": 48,
   "id": "9c158184",
   "metadata": {},
   "outputs": [
    {
     "name": "stdout",
     "output_type": "stream",
     "text": [
      "Dame un número: 151\n",
      "Palíndromo\n"
     ]
    }
   ],
   "source": [
    "n = input(\"Dame un número: \")\n",
    "\n",
    "longitud = len(n)\n",
    "\n",
    "numero_invertido = \"\"\n",
    "\n",
    "while longitud > 0:\n",
    "    numero_invertido += n[longitud-1]\n",
    "    longitud -= 1\n",
    "\n",
    "if n == numero_invertido:\n",
    "    print(\"Palíndromo\")\n",
    "else:\n",
    "    print(\"No palíndromo\")"
   ]
  },
  {
   "cell_type": "code",
   "execution_count": null,
   "id": "6651acc5",
   "metadata": {},
   "outputs": [],
   "source": [
    "numero = int(input(\"Introduce un número entero: \"))\n",
    "original = numero\n",
    "invertido = 0\n",
    "    \n",
    "while numero > 0:\n",
    "    resto = numero % 10 # coge el último número\n",
    "    #print(\"El resto para\", numero, \"es\", resto)\n",
    "    invertido = (invertido * 10) + resto\n",
    "    #print(\" El invertido es\", invertido)\n",
    "    numero = numero // 10 # elimina el último dígito\n",
    "    #print(\"El nuevo número es: \", numero)\n",
    "    \n",
    "if original == invertido:\n",
    "    print(\"El número\", original, \"es capicua\")\n",
    "else:\n",
    "    print(\"El número\", original, \"no es capicua\")"
   ]
  },
  {
   "cell_type": "markdown",
   "id": "a2acaa49",
   "metadata": {},
   "source": [
    "## Solución del segundo ejercicio de pair programming (543)\n",
    "The computer has a random integer between 1 and 100 as the correct answer value as following. When the user presents the correct answer, the program only informs whether the presented integer is higher or lower compared to the correct answer he or she stored. This game is repeated until the user answers correctly."
   ]
  },
  {
   "cell_type": "code",
   "execution_count": 68,
   "id": "5588b637",
   "metadata": {},
   "outputs": [
    {
     "name": "stdout",
     "output_type": "stream",
     "text": [
      "Número del que sospechas: 50\n",
      "El número es más grande.\n",
      "Número del que sospechas: 75\n",
      "El número es más grande.\n",
      "Número del que sospechas: 85\n",
      "El número es más pequeño.\n",
      "Número del que sospechas: 80\n",
      "El número es más pequeño.\n",
      "Número del que sospechas: 77\n",
      "El número es más pequeño.\n",
      "Número del que sospechas: 76\n",
      "Has adivinado el número en 7 intendos. ¡Enhorabuena!\n"
     ]
    }
   ],
   "source": [
    "import random as rnd\n",
    "\n",
    "numero_aleatorio = rnd.randrange(1,100 + 1)\n",
    "contador = 1\n",
    "adivinado = False\n",
    "\n",
    "while not adivinado:\n",
    "    numero = int(input(\"Número del que sospechas: \"))\n",
    "    if numero == numero_aleatorio:\n",
    "        adivinado = True\n",
    "    elif numero < numero_aleatorio:\n",
    "        print(\"El número es más grande.\")\n",
    "    else:\n",
    "        print(\"El número es más pequeño.\")\n",
    "    contador += 1\n",
    "              \n",
    "print(\"Has adivinado el número en\", contador, \"intendos. ¡Enhorabuena!\")"
   ]
  },
  {
   "cell_type": "markdown",
   "id": "c7bcfdea",
   "metadata": {},
   "source": [
    "## Solución del mission problem (498)"
   ]
  },
  {
   "cell_type": "code",
   "execution_count": 70,
   "id": "35ed5b20",
   "metadata": {},
   "outputs": [
    {
     "name": "stdout",
     "output_type": "stream",
     "text": [
      "El caracol logró salir después de 13 días.\n"
     ]
    }
   ],
   "source": [
    "recorrido_en_un_dia = 7\n",
    "descenso_diario = 5\n",
    "\n",
    "pozo = 30\n",
    "\n",
    "dias = 0\n",
    "\n",
    "distancia_recorrida = 0\n",
    "\n",
    "while distancia_recorrida < pozo:\n",
    "    dias += 1\n",
    "    distancia_recorrida += recorrido_en_un_dia\n",
    "    if distancia_recorrida < pozo:\n",
    "        distancia_recorrida -= descenso_diario\n",
    "\n",
    "print(\"El caracol logró salir después de\", dias, \"días.\")"
   ]
  }
 ],
 "metadata": {
  "kernelspec": {
   "display_name": "Python 3 (ipykernel)",
   "language": "python",
   "name": "python3"
  },
  "language_info": {
   "codemirror_mode": {
    "name": "ipython",
    "version": 3
   },
   "file_extension": ".py",
   "mimetype": "text/x-python",
   "name": "python",
   "nbconvert_exporter": "python",
   "pygments_lexer": "ipython3",
   "version": "3.10.9"
  }
 },
 "nbformat": 4,
 "nbformat_minor": 5
}
