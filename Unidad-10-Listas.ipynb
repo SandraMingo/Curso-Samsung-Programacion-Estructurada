{
 "cells": [
  {
   "cell_type": "markdown",
   "id": "f59b49fa",
   "metadata": {},
   "source": [
    "# Unidad 10 - Listas\n",
    "\n",
    "## Necesidad de las estructuras de datos\n",
    "\n",
    "Supongamos que queremos calcular la estatura media de varias personas. Una posibilidad es almacenar la estatura de cada persona en una variable de nombre `estatura_i`:"
   ]
  },
  {
   "cell_type": "code",
   "execution_count": 1,
   "id": "fe91958a",
   "metadata": {},
   "outputs": [],
   "source": [
    "num_personas = 6\n",
    "\n",
    "estatura_1 = 1.83\n",
    "estatura_2 = 1.76\n",
    "estatura_3 = 1.68\n",
    "estatura_4 = 1.61\n",
    "estatura_5 = 1.89\n",
    "estatura_6 = 1.57"
   ]
  },
  {
   "cell_type": "markdown",
   "id": "543a24c4",
   "metadata": {},
   "source": [
    "Para calcular la altura media necesitamos calcular la suma de todas las estaturas:"
   ]
  },
  {
   "cell_type": "code",
   "execution_count": 2,
   "id": "9c48bd1e",
   "metadata": {},
   "outputs": [
    {
     "data": {
      "text/plain": [
       "1.7233333333333334"
      ]
     },
     "execution_count": 2,
     "metadata": {},
     "output_type": "execute_result"
    }
   ],
   "source": [
    "suma_estaturas = estatura_1 + estatura_2 + estatura_3 + estatura_4 + estatura_5 + estatura_6\n",
    "media_estaturas = suma_estaturas / num_personas\n",
    "media_estaturas"
   ]
  },
  {
   "cell_type": "markdown",
   "id": "0024fd4d",
   "metadata": {},
   "source": [
    "Claramente este enfoque no es adecuado. Cada vez que añadimos una persona, tenemos que:\n",
    "- modificar el valor de `num_personas`\n",
    "- crear una variable nueva `persona_i`\n",
    "- añadir un sumando al cálculo de `suma_estaturas`\n",
    "\n",
    "Si lo que queremos es elimiar una persona, tendríamos que hacer modificaciones similares.\n",
    "\n",
    "La forma correcta de resolver este problema consiste en utilizar una **estructura de datos**. Una estructura de datos es un tipo de datos que contiene dentro otros datos; es decir, es una **colección** de datos. Por ejemplo, para este problema podriamos tener una variable `estaturas` que almacenara la colección de estaturas de las que queremos calcular la media aritmética:"
   ]
  },
  {
   "cell_type": "code",
   "execution_count": 3,
   "id": "9324c972",
   "metadata": {},
   "outputs": [],
   "source": [
    "estaturas = [ 1.83, 1.76, 1.68, 1.61, 1.89, 1.57 ]"
   ]
  },
  {
   "cell_type": "markdown",
   "id": "92865b70",
   "metadata": {},
   "source": [
    "Es decir, tenemos sola una variable `estaturas` que contiene todas las estaturas de las personas que estamos considerando.\n",
    "Con esta solución, si queremos añadir una persona, basta añadir su estatura a la colección. Si queremos eliminar una persona, basta eliminar su estatura de la colección.\n",
    "\n",
    "Observa que hay cierta analogía con los bucles:\n",
    "- los bucles permiten que el código repetido aparezca una sola vez (en el cuerpo del bucle)\n",
    "- las colecciones o estructuras de datos permiten que las variables  _\"repetidas\"_ (`estatura_i`) aparezcan una sola vez (en la variable de tipo colección)"
   ]
  },
  {
   "cell_type": "markdown",
   "id": "a062dbff",
   "metadata": {},
   "source": [
    "## El tipo lista\n",
    "\n",
    "El tipo lista es una colección o estructura de datos Python que permite almacenar varios valores y acceder a los mismos a través de su posición o índice.\n",
    "\n",
    "Un literal de lista tiene la siguiente sintaxis:\n",
    "\n",
    "```python\n",
    "      [exp_0, exp_1, exp_2, ..., exp_n]\n",
    "```\n",
    "\n",
    "Es decir, aparecen los valores que contiene la lista separados por comas y encerrados entre corchetes:"
   ]
  },
  {
   "cell_type": "code",
   "execution_count": 4,
   "id": "f753a871",
   "metadata": {},
   "outputs": [
    {
     "data": {
      "text/plain": [
       "[1.83, 1.76, 1.68, 1.61, 1.89, 1.57]"
      ]
     },
     "execution_count": 4,
     "metadata": {},
     "output_type": "execute_result"
    }
   ],
   "source": [
    "[ 1.83, 1.76, 1.68, 1.61, 1.89, 1.57 ]"
   ]
  },
  {
   "cell_type": "markdown",
   "id": "095251ca",
   "metadata": {},
   "source": [
    "Los elementos de la lista pueden ser de cualquier tipo y, obviamente, las listas se pueden almacenar en una variable:"
   ]
  },
  {
   "cell_type": "code",
   "execution_count": 6,
   "id": "db1bca8e",
   "metadata": {},
   "outputs": [
    {
     "name": "stdout",
     "output_type": "stream",
     "text": [
      "[1.83, 1.76, 1.68, 1.61, 1.89, 1.57]\n",
      "['python', 'java', 'javascript', 'c']\n",
      "[31, 18, 26, 41, 11, 54]\n"
     ]
    }
   ],
   "source": [
    "estaturas = [ 1.83, 1.76, 1.68, 1.61, 1.89, 1.57 ]\n",
    "lenguajes = [\"python\", \"java\", \"javascript\", \"c\"]\n",
    "edades = [31, 18, 26, 41, 11, 54]\n",
    "\n",
    "print(estaturas)\n",
    "print(lenguajes)\n",
    "print(edades)"
   ]
  },
  {
   "cell_type": "markdown",
   "id": "fefed1b8",
   "metadata": {},
   "source": [
    "Una lista puede tener cualquier número de elementos, incluso cero:"
   ]
  },
  {
   "cell_type": "code",
   "execution_count": 6,
   "id": "439d47d6",
   "metadata": {},
   "outputs": [],
   "source": [
    "lista_vacia = []\n",
    "lista_unitaria = [5]"
   ]
  },
  {
   "cell_type": "markdown",
   "id": "bc3584ae",
   "metadata": {},
   "source": [
    "Las listas tienen su propio tipo, `list`. Observa que ni el tipo de los elementos ni su número influyen en el tipo:"
   ]
  },
  {
   "cell_type": "code",
   "execution_count": 7,
   "id": "7d4e658b",
   "metadata": {},
   "outputs": [
    {
     "name": "stdout",
     "output_type": "stream",
     "text": [
      "<class 'list'>\n",
      "<class 'list'>\n",
      "<class 'list'>\n",
      "<class 'list'>\n"
     ]
    }
   ],
   "source": [
    "print(type(estaturas))\n",
    "print(type(lenguajes))\n",
    "print(type([1,2,3]))\n",
    "print(type([]))"
   ]
  },
  {
   "cell_type": "markdown",
   "id": "c5f24f66",
   "metadata": {},
   "source": [
    "Las listas pueden incluso mezclar valores de diferentes tipos, aunque no siempre sea lo más recomendable:"
   ]
  },
  {
   "cell_type": "code",
   "execution_count": 8,
   "id": "c26fe1ae",
   "metadata": {
    "scrolled": true
   },
   "outputs": [
    {
     "name": "stdout",
     "output_type": "stream",
     "text": [
      "<class 'list'>\n",
      "[5, 3.1416, 'python', True]\n"
     ]
    }
   ],
   "source": [
    "lista_mixta = [5, 3.1416, \"python\", 5 > 4]\n",
    "print(type(lista_mixta))\n",
    "print(lista_mixta)"
   ]
  },
  {
   "cell_type": "markdown",
   "id": "e8864865",
   "metadata": {},
   "source": [
    "## Operadores básicos de listas\n",
    "\n",
    "Las listas, al igual que las cadenas (`str`) y los rangos (`range`) son **secuencias**; es decir, son colecciones de datos compuestas por una secuencia (posiblemente vacía) de valores. Cada valor ocupa una posición dentro de la colección (primero, segundo, último, ...). Las posiciones que ocupan los valores se numeran desde cero: el primer valor está en la posición 0, el segundo en la posición 1, etc. A la posición que ocupa un valor se le llama **índice**.\n",
    "\n",
    "Todas las secuencias Python (listas, cadenas y rangos) soportan los siguientes operadores:\n",
    "\n",
    "| Operador     | Significado   |\n",
    "|--------------|---------------|\n",
    "|    `s[i]`    | indexación    |\n",
    "|  `s[i:j:k]`  | _slicing_     |\n",
    "|  `s1 + s2`   | concatenación |\n",
    "|   `n * s`    | replicación   |\n",
    "|  `x in s`    | pertenencia   |\n",
    "| `x not in s` | no pertenencia|\n",
    "\n",
    "**Nota:** Los rangos no soportan ni la contatenación (`+`) ni la replicación (`*`) para evitar valores repetidos."
   ]
  },
  {
   "cell_type": "code",
   "execution_count": 9,
   "id": "2933517f",
   "metadata": {},
   "outputs": [
    {
     "data": {
      "text/plain": [
       "['python', 'java', 'javascript', 'c']"
      ]
     },
     "execution_count": 9,
     "metadata": {},
     "output_type": "execute_result"
    }
   ],
   "source": [
    "lenguajes"
   ]
  },
  {
   "cell_type": "markdown",
   "id": "82ff318c",
   "metadata": {},
   "source": [
    "### Indexación no negativa"
   ]
  },
  {
   "cell_type": "code",
   "execution_count": 10,
   "id": "48b15f02",
   "metadata": {},
   "outputs": [
    {
     "data": {
      "text/plain": [
       "'javascript'"
      ]
     },
     "execution_count": 10,
     "metadata": {},
     "output_type": "execute_result"
    }
   ],
   "source": [
    "lenguajes[2]"
   ]
  },
  {
   "cell_type": "markdown",
   "id": "2f1a501d",
   "metadata": {},
   "source": [
    "### Indexación negativa"
   ]
  },
  {
   "cell_type": "code",
   "execution_count": 11,
   "id": "6c453d71",
   "metadata": {
    "scrolled": true
   },
   "outputs": [
    {
     "data": {
      "text/plain": [
       "'java'"
      ]
     },
     "execution_count": 11,
     "metadata": {},
     "output_type": "execute_result"
    }
   ],
   "source": [
    "lenguajes[-3]"
   ]
  },
  {
   "cell_type": "markdown",
   "id": "2cd9d38e",
   "metadata": {},
   "source": [
    "### Concatenación y replicación"
   ]
  },
  {
   "cell_type": "code",
   "execution_count": 12,
   "id": "7525e7e1",
   "metadata": {},
   "outputs": [
    {
     "data": {
      "text/plain": [
       "['python', 'java', 'javascript', 'c', 1.83, 1.76, 1.68, 1.61, 1.89, 1.57]"
      ]
     },
     "execution_count": 12,
     "metadata": {},
     "output_type": "execute_result"
    }
   ],
   "source": [
    "lenguajes + estaturas"
   ]
  },
  {
   "cell_type": "code",
   "execution_count": 13,
   "id": "f011e8ff",
   "metadata": {},
   "outputs": [
    {
     "data": {
      "text/plain": [
       "['python',\n",
       " 'java',\n",
       " 'javascript',\n",
       " 'c',\n",
       " 'python',\n",
       " 'java',\n",
       " 'javascript',\n",
       " 'c',\n",
       " 'python',\n",
       " 'java',\n",
       " 'javascript',\n",
       " 'c']"
      ]
     },
     "execution_count": 13,
     "metadata": {},
     "output_type": "execute_result"
    }
   ],
   "source": [
    "lenguajes * 3"
   ]
  },
  {
   "cell_type": "markdown",
   "id": "712560e6",
   "metadata": {},
   "source": [
    "### Pertenencia y no pertenencia"
   ]
  },
  {
   "cell_type": "code",
   "execution_count": 14,
   "id": "7af344ef",
   "metadata": {},
   "outputs": [
    {
     "data": {
      "text/plain": [
       "True"
      ]
     },
     "execution_count": 14,
     "metadata": {},
     "output_type": "execute_result"
    }
   ],
   "source": [
    "\"python\" in lenguajes"
   ]
  },
  {
   "cell_type": "code",
   "execution_count": 17,
   "id": "328a5d32",
   "metadata": {},
   "outputs": [
    {
     "data": {
      "text/plain": [
       "False"
      ]
     },
     "execution_count": 17,
     "metadata": {},
     "output_type": "execute_result"
    }
   ],
   "source": [
    "\"py\" in lenguajes"
   ]
  },
  {
   "cell_type": "code",
   "execution_count": 18,
   "id": "f4c3fe3b",
   "metadata": {},
   "outputs": [
    {
     "data": {
      "text/plain": [
       "True"
      ]
     },
     "execution_count": 18,
     "metadata": {},
     "output_type": "execute_result"
    }
   ],
   "source": [
    "\"py\" in \"python\""
   ]
  },
  {
   "cell_type": "markdown",
   "id": "8584ca60",
   "metadata": {},
   "source": [
    "### _Slicing_ básico"
   ]
  },
  {
   "cell_type": "code",
   "execution_count": 2,
   "id": "d31b53ed",
   "metadata": {},
   "outputs": [
    {
     "data": {
      "text/plain": [
       "'Py'"
      ]
     },
     "execution_count": 2,
     "metadata": {},
     "output_type": "execute_result"
    }
   ],
   "source": [
    "\"hola Python\"[5:7] #la última posición no se incluye\n",
    "#QUeremos la subcadena de los elementos en las posiciones 5 y 6"
   ]
  },
  {
   "cell_type": "code",
   "execution_count": 3,
   "id": "78bcda1d",
   "metadata": {},
   "outputs": [
    {
     "data": {
      "text/plain": [
       "'hola Py'"
      ]
     },
     "execution_count": 3,
     "metadata": {},
     "output_type": "execute_result"
    }
   ],
   "source": [
    "\"hola Python\"[:7] #Empieza en 0"
   ]
  },
  {
   "cell_type": "code",
   "execution_count": 4,
   "id": "01f8eb1f",
   "metadata": {
    "scrolled": true
   },
   "outputs": [
    {
     "data": {
      "text/plain": [
       "'Python'"
      ]
     },
     "execution_count": 4,
     "metadata": {},
     "output_type": "execute_result"
    }
   ],
   "source": [
    "\"hola Python\"[5:] # hasta el final"
   ]
  },
  {
   "cell_type": "code",
   "execution_count": 7,
   "id": "d2bbace3",
   "metadata": {},
   "outputs": [
    {
     "data": {
      "text/plain": [
       "['javascript', 'c']"
      ]
     },
     "execution_count": 7,
     "metadata": {},
     "output_type": "execute_result"
    }
   ],
   "source": [
    "lenguajes[2:]"
   ]
  },
  {
   "cell_type": "code",
   "execution_count": 9,
   "id": "91010679",
   "metadata": {},
   "outputs": [
    {
     "data": {
      "text/plain": [
       "[1, 3, 5, 7]"
      ]
     },
     "execution_count": 9,
     "metadata": {},
     "output_type": "execute_result"
    }
   ],
   "source": [
    "lista = [1,2,3,4,5,6,7,8]\n",
    "\n",
    "lista[0::2] #de dos en dos"
   ]
  },
  {
   "cell_type": "code",
   "execution_count": 10,
   "id": "d0e6a430",
   "metadata": {},
   "outputs": [
    {
     "data": {
      "text/plain": [
       "[1, 2, 3, 4, 5, 6, 7, 8]"
      ]
     },
     "execution_count": 10,
     "metadata": {},
     "output_type": "execute_result"
    }
   ],
   "source": [
    "lista[:] #toda la lista"
   ]
  },
  {
   "cell_type": "code",
   "execution_count": 11,
   "id": "22257b8a",
   "metadata": {},
   "outputs": [
    {
     "data": {
      "text/plain": [
       "[8, 7, 6, 5, 4, 3, 2, 1]"
      ]
     },
     "execution_count": 11,
     "metadata": {},
     "output_type": "execute_result"
    }
   ],
   "source": [
    "lista[::-1] # lista invertida"
   ]
  },
  {
   "cell_type": "markdown",
   "id": "b25ff841",
   "metadata": {},
   "source": [
    "### Operadores relacionales sobre listas\n",
    "\n",
    "Las listas (al igual que el resto de secuencias) se pueden comparar con los operadores relacionales (`==`, `!=`, `<`, `>`, `<=`, `>=`). Las comparaciones se realizan elemento a elemento, desde el primero al último. La comparación  se resuelve cuando se encuentra la primera discrepancia o cuando alguna de las secuencias se queda sin elementos.\n",
    "\n",
    "**Nota 1:** Los rangos solo soportan `==`y `!=`.\n",
    "\n",
    "**Nota 2:** Para que dos secuencias sean comparables, es necesario que sus valores sean comparables.\n"
   ]
  },
  {
   "cell_type": "code",
   "execution_count": 19,
   "id": "f5c07ab7",
   "metadata": {},
   "outputs": [
    {
     "data": {
      "text/plain": [
       "True"
      ]
     },
     "execution_count": 19,
     "metadata": {},
     "output_type": "execute_result"
    }
   ],
   "source": [
    "[1,2,3] < [1,2,3,4]"
   ]
  },
  {
   "cell_type": "code",
   "execution_count": 1,
   "id": "138ed879",
   "metadata": {},
   "outputs": [
    {
     "data": {
      "text/plain": [
       "False"
      ]
     },
     "execution_count": 1,
     "metadata": {},
     "output_type": "execute_result"
    }
   ],
   "source": [
    "[1,2,5] < [1,2,3,4] \n",
    "#Python no mira la longitud de las listas, sino que compara elemento a elemento"
   ]
  },
  {
   "cell_type": "markdown",
   "id": "be097688",
   "metadata": {},
   "source": [
    "## Funciones sobre listas\n",
    "\n",
    "Las listas, como el resto de secuencias, soportan las siguientes funciones:\n",
    "\n",
    "| Función  | Significado |\n",
    "|----------|-------------|\n",
    "| `len(s)` | longitud    |\n",
    "| `min(s)` | mínimo      |\n",
    "| `max(s)` | máximo      |\n",
    "\n",
    "Además, las listas soportan las siguientes funciones:\n",
    "\n",
    "| Función     | Significado                    |\n",
    "|-------------|--------------------------------|\n",
    "| `sum(s)`    | suma                           |\n",
    "| `any(s)`    | algún elemento es`True`        |\n",
    "| `all(s)`    | todos los elementos son `True` |\n",
    "| `sorted(s)` | devuelve la lista ordenada, pero no la modifica    |\n",
    "\n"
   ]
  },
  {
   "cell_type": "code",
   "execution_count": null,
   "id": "5e0fa9ea",
   "metadata": {},
   "outputs": [],
   "source": []
  },
  {
   "cell_type": "markdown",
   "id": "56b3091e",
   "metadata": {},
   "source": [
    "## Conversión a tipo lista\n",
    "\n",
    "Podemos convertir ciertos tipos a listas mediante la función de conversión `list`. Esto es especialmente útil con cadenas y rangos:"
   ]
  },
  {
   "cell_type": "code",
   "execution_count": null,
   "id": "016c8768",
   "metadata": {},
   "outputs": [],
   "source": []
  },
  {
   "cell_type": "markdown",
   "id": "4d1716c6",
   "metadata": {},
   "source": [
    "## Las listas son mutables\n",
    "\n",
    "Al contario que las cadenas o los rangos, podemos modificar a voluntad elementos individuales de las listas. Para ello nos referimos al índice o posición del elemento que queremos modificar; es decir, es como la indexación pero aparece al lado izquierdo de una sentencia de asignación:\n",
    "\n",
    "```python\n",
    "   lista[i] = nuevo_valor\n",
    "```"
   ]
  },
  {
   "cell_type": "code",
   "execution_count": 13,
   "id": "d3260e9c",
   "metadata": {},
   "outputs": [
    {
     "data": {
      "text/plain": [
       "[1, 2, 3, 4, 5, 6, 7, 8, 9, 10, 11, 12, 13, 14, 15]"
      ]
     },
     "execution_count": 13,
     "metadata": {},
     "output_type": "execute_result"
    }
   ],
   "source": [
    "otra_lista = list(range(1,16))\n",
    "otra_lista"
   ]
  },
  {
   "cell_type": "code",
   "execution_count": 14,
   "id": "5b208cc7",
   "metadata": {
    "scrolled": true
   },
   "outputs": [
    {
     "data": {
      "text/plain": [
       "[1, 2, 3, 4, 5, 6, 7, 8, 9, 10, 11, 12, 13, 14, 1001]"
      ]
     },
     "execution_count": 14,
     "metadata": {},
     "output_type": "execute_result"
    }
   ],
   "source": [
    "otra_lista[-1] = 1001\n",
    "otra_lista"
   ]
  },
  {
   "cell_type": "code",
   "execution_count": null,
   "id": "d7ab387c",
   "metadata": {},
   "outputs": [],
   "source": []
  },
  {
   "cell_type": "markdown",
   "id": "cd3a4513",
   "metadata": {},
   "source": [
    "### _Slicing_ y mutabilidad\n",
    "La operación de _slicing_ devuelve una **nueva** lista. Las modificaciones que hagamos sobre la nueva lista no afectan a la original:"
   ]
  },
  {
   "cell_type": "code",
   "execution_count": 16,
   "id": "91a326f4",
   "metadata": {},
   "outputs": [
    {
     "name": "stdout",
     "output_type": "stream",
     "text": [
      "[1, 2, 3, 4, 5]\n",
      "[1, 3, 5]\n"
     ]
    }
   ],
   "source": [
    "original = [1,2,3,4,5]\n",
    "rebanada = original[::2]\n",
    "print(original)\n",
    "print(rebanada)"
   ]
  },
  {
   "cell_type": "code",
   "execution_count": 17,
   "id": "65352a2a",
   "metadata": {},
   "outputs": [
    {
     "name": "stdout",
     "output_type": "stream",
     "text": [
      "[1, 2, 3, 4, 5]\n",
      "[1, 5005, 5]\n"
     ]
    }
   ],
   "source": [
    "rebanada[1] = 5005\n",
    "print(original)\n",
    "print(rebanada)"
   ]
  },
  {
   "cell_type": "code",
   "execution_count": 18,
   "id": "5de726dd",
   "metadata": {},
   "outputs": [
    {
     "name": "stdout",
     "output_type": "stream",
     "text": [
      "[1, 2, 3, 4, 5]\n",
      "[1, 2, 3, 4, 5]\n"
     ]
    }
   ],
   "source": [
    "toda = original # alias (son la misma lista)\n",
    "print(original)\n",
    "print(toda)"
   ]
  },
  {
   "cell_type": "code",
   "execution_count": 19,
   "id": "9aa08b70",
   "metadata": {},
   "outputs": [
    {
     "name": "stdout",
     "output_type": "stream",
     "text": [
      "[1, 2, 3333, 4, 5]\n",
      "[1, 2, 3333, 4, 5]\n"
     ]
    }
   ],
   "source": [
    "toda[2] = 3333\n",
    "print(original)\n",
    "print(toda)"
   ]
  },
  {
   "cell_type": "code",
   "execution_count": 20,
   "id": "9e7fa437",
   "metadata": {},
   "outputs": [
    {
     "name": "stdout",
     "output_type": "stream",
     "text": [
      "[1, 2, 3333, 4, 5]\n",
      "[1, 2, 3333, 4, 5]\n"
     ]
    }
   ],
   "source": [
    "copia_de_todas = original[:] # copia\n",
    "print(original)\n",
    "print(copia_de_todas)"
   ]
  },
  {
   "cell_type": "code",
   "execution_count": 21,
   "id": "8e335fdb",
   "metadata": {},
   "outputs": [
    {
     "name": "stdout",
     "output_type": "stream",
     "text": [
      "[1, 2, 3333, 4, 5]\n",
      "[1, 2, -4, 4, 5]\n"
     ]
    }
   ],
   "source": [
    "copia_de_todas[2] = -4\n",
    "print(original)\n",
    "print(copia_de_todas)"
   ]
  },
  {
   "cell_type": "markdown",
   "id": "ee41a0a0",
   "metadata": {},
   "source": [
    "## Métodos sobre listas\n",
    "\n",
    "Las listas soportan varios métodos. Recuerda que un método es similar a una función, pero la sintaxis para usarlos es diferente:\n",
    "\n",
    "|             | Sintaxis                |\n",
    "|-------------|-------------------------|\n",
    "| **Función** | nombre_de_funcion(dato) |\n",
    "| **Método**  | dato.nombre_de_metodo() |\n",
    "\n",
    "Por supuesto, es posible que tanto la función como el método tomen argumentos adicionales:\n",
    "\n",
    "|             | Sintaxis                      |\n",
    "|-------------|-------------------------------|\n",
    "| **Función** | nombre_de_funcion(dato, args) |\n",
    "| **Método**  | dato.nombre_de_metodo(args)   |\n",
    "\n",
    "Una característica muy importante de los métodos sobre listas es que la aplicación de un método puede **modificar** la lista. Esto se debe a que las listas son **mutables**.\n",
    "\n",
    "**Nota:** Técnicamente, también es posible que una función modifique la lista que le pasamos como parámetro, pero esto es menos habitual y no muy recomendable. En concreto, las funciones anteriores (`len()`, `max()`, `min()`, etc. no modifican la lista).\n",
    "\n",
    "Las listas soportan los siguientes métodos:\n",
    "\n",
    "| Método                 | Significado                                               |\n",
    "|------------------------|-----------------------------------------------------------|\n",
    "| `l.append(x)`          | añade `x`al final de `l`                                  |\n",
    "| `l1.extend(l2)`        | añade todos los elementos de `l2` al final de `l1`        |\n",
    "| `l.insert(i,x)`        | inserta `x`en la posición `i`de `l`                       |\n",
    "| `l.pop()`              | elimina el último elemento de `l`                         |\n",
    "| `l.pop(i)`             | elimina el elemento en la posición `i`de `l`              |\n",
    "| `l.remove(x)`          | elimina la primera aparición de `x` de `l`                |\n",
    "| `l.count(x)`           | devuelve cuántas veces aparece `x`en `l`                  |\n",
    "| `l.index(x)`           | devuelve la posición de la primera aparición de `x`en `l` |\n",
    "| `l.sort()`             | ordena `l`ascendentemente                                 |\n",
    "| `l.sort(reverse=True)` | ordena `l`descendentemente                                |\n",
    "\n"
   ]
  },
  {
   "cell_type": "code",
   "execution_count": 22,
   "id": "15a08131",
   "metadata": {},
   "outputs": [
    {
     "data": {
      "text/plain": [
       "[0, 2, 4, 6, 8, 10, 12, 14, 16, 900]"
      ]
     },
     "execution_count": 22,
     "metadata": {},
     "output_type": "execute_result"
    }
   ],
   "source": [
    "numeros = list(range(0,17,2))\n",
    "numeros.append(900)\n",
    "numeros"
   ]
  },
  {
   "cell_type": "code",
   "execution_count": 24,
   "id": "2cccd718",
   "metadata": {},
   "outputs": [
    {
     "data": {
      "text/plain": [
       "[0, 2, 4, 6, 8, 10, 12, 14, 16, 900, -1, -2, -3, -1, -2, -3]"
      ]
     },
     "execution_count": 24,
     "metadata": {},
     "output_type": "execute_result"
    }
   ],
   "source": [
    "numeros.extend([-1,-2,-3])\n",
    "numeros"
   ]
  },
  {
   "cell_type": "code",
   "execution_count": 25,
   "id": "257ba0f1",
   "metadata": {},
   "outputs": [
    {
     "data": {
      "text/plain": [
       "[0, 2, 4, 6, 8, 10, 12, 14, 16, [100, 200, 300]]"
      ]
     },
     "execution_count": 25,
     "metadata": {},
     "output_type": "execute_result"
    }
   ],
   "source": [
    "numeros = list(range(0,17,2))\n",
    "numeros.append([100,200,300])\n",
    "numeros"
   ]
  },
  {
   "cell_type": "code",
   "execution_count": 27,
   "id": "b6cd0fb5",
   "metadata": {},
   "outputs": [
    {
     "data": {
      "text/plain": [
       "[100, 200, 300]"
      ]
     },
     "execution_count": 27,
     "metadata": {},
     "output_type": "execute_result"
    }
   ],
   "source": [
    "numeros[-1]"
   ]
  },
  {
   "cell_type": "code",
   "execution_count": 36,
   "id": "16b5f28f",
   "metadata": {},
   "outputs": [
    {
     "data": {
      "text/plain": [
       "[2, 4, 6, 116, 8, 10, 12, 14]"
      ]
     },
     "execution_count": 36,
     "metadata": {},
     "output_type": "execute_result"
    }
   ],
   "source": [
    "numeros = list(range(0,17,2))\n",
    "numeros.insert(4,116)\n",
    "numeros.pop() # elimina el último elemento\n",
    "numeros.pop(0) # elimina el primer elemento\n",
    "numeros"
   ]
  },
  {
   "cell_type": "code",
   "execution_count": 37,
   "id": "e1a3ad91",
   "metadata": {},
   "outputs": [
    {
     "name": "stdout",
     "output_type": "stream",
     "text": [
      "[0, 2, 4, 6, 8, 10, 12, 14, 16]\n"
     ]
    },
    {
     "data": {
      "text/plain": [
       "[0, 2, 4, 6, 8, 12, 14, 16]"
      ]
     },
     "execution_count": 37,
     "metadata": {},
     "output_type": "execute_result"
    }
   ],
   "source": [
    "numeros = list(range(0,17,2))\n",
    "print(numeros)\n",
    "numeros.remove(10)\n",
    "if 5 in numeros:\n",
    "    numeros.remove(5)\n",
    "numeros"
   ]
  },
  {
   "cell_type": "code",
   "execution_count": 38,
   "id": "b21ab548",
   "metadata": {},
   "outputs": [
    {
     "data": {
      "text/plain": [
       "3"
      ]
     },
     "execution_count": 38,
     "metadata": {},
     "output_type": "execute_result"
    }
   ],
   "source": [
    "ls = [1,4,1,2,3,1,2,4,5,3]\n",
    "ls.count(1) # cuenta cuántas veces aparece el 1"
   ]
  },
  {
   "cell_type": "code",
   "execution_count": 42,
   "id": "b296d508",
   "metadata": {},
   "outputs": [
    {
     "data": {
      "text/plain": [
       "8"
      ]
     },
     "execution_count": 42,
     "metadata": {},
     "output_type": "execute_result"
    }
   ],
   "source": [
    "ls.index(5) # posición en la que está el 5"
   ]
  },
  {
   "cell_type": "code",
   "execution_count": 47,
   "id": "ab474839",
   "metadata": {},
   "outputs": [
    {
     "data": {
      "text/plain": [
       "[1, 1, 1, 2, 2, 3, 3, 4, 4, 5]"
      ]
     },
     "execution_count": 47,
     "metadata": {},
     "output_type": "execute_result"
    }
   ],
   "source": [
    "ls.sort() # modifica la lista\n",
    "ls"
   ]
  },
  {
   "cell_type": "code",
   "execution_count": 48,
   "id": "86e86af9",
   "metadata": {},
   "outputs": [
    {
     "data": {
      "text/plain": [
       "[5, 4, 4, 3, 3, 2, 2, 1, 1, 1]"
      ]
     },
     "execution_count": 48,
     "metadata": {},
     "output_type": "execute_result"
    }
   ],
   "source": [
    "ls.sort(reverse = True)\n",
    "ls"
   ]
  },
  {
   "cell_type": "markdown",
   "id": "ce7d04d5",
   "metadata": {},
   "source": [
    "## Iteración sobre listas\n",
    "\n",
    "Podemos utilizar bucles para visitar uno a uno los elementos de una lista.\n",
    "\n",
    "Si vamos a visitar exhaustivamente los elementos de la lista, es preferible utilizar un bucle `for` usando la lista como fuente de datos:\n",
    "\n",
    "```python\n",
    "   for x in lista:\n",
    "        procesa elemento x\n",
    "```\n",
    "\n"
   ]
  },
  {
   "cell_type": "code",
   "execution_count": 49,
   "id": "c1489aad",
   "metadata": {},
   "outputs": [
    {
     "data": {
      "text/plain": [
       "5"
      ]
     },
     "execution_count": 49,
     "metadata": {},
     "output_type": "execute_result"
    }
   ],
   "source": [
    "numeros = [1, 7, 0, -5, 6, 3, -8, 2]\n",
    "num_positivos = 0\n",
    "\n",
    "for n in numeros:\n",
    "    if n > 0:\n",
    "        num_positivos += 1\n",
    "        \n",
    "num_positivos"
   ]
  },
  {
   "cell_type": "markdown",
   "id": "e5203dd7",
   "metadata": {},
   "source": [
    "Si vamos a visitar solo algunos elementos de la lista porque la iteración se puede detener prematuramente, es preferible utilizar un bucle `while` y acceder por indexación:\n",
    "\n",
    "```python\n",
    "    i = 0\n",
    "    while  i < len(lista) and condición:\n",
    "        procesa elemento lista[i]\n",
    "        i += 1\n",
    "```"
   ]
  },
  {
   "cell_type": "code",
   "execution_count": 52,
   "id": "7252539d",
   "metadata": {},
   "outputs": [
    {
     "name": "stdout",
     "output_type": "stream",
     "text": [
      "1\n",
      "7\n",
      "0\n",
      "-5\n",
      "Hay algún negativo en la lista.\n"
     ]
    }
   ],
   "source": [
    "numeros = [1, 7, 0, -5, 6, 3, -8, 2]\n",
    "\n",
    "i = 0\n",
    "hay_negativo = False\n",
    "\n",
    "while i < len(numeros) and not hay_negativo:\n",
    "#     print(numeros[i]) #traza\n",
    "    hay_negativo = numeros[i] < 0\n",
    "    i += 1\n",
    "    \n",
    "if hay_negativo:\n",
    "    print(\"Hay algún negativo en la lista.\")\n",
    "else:\n",
    "    print(\"No hay ningún negativo en la lista.\")"
   ]
  },
  {
   "cell_type": "markdown",
   "id": "11098944",
   "metadata": {},
   "source": [
    "## Solución del primer ejercicio de paper coding (60)\n",
    "Create prime_list that has prime numbers between 2 and 10 as its elements. Then, use list indexing to the first element of the list and print as shown below."
   ]
  },
  {
   "cell_type": "code",
   "execution_count": 55,
   "id": "5c59e0da",
   "metadata": {},
   "outputs": [
    {
     "name": "stdout",
     "output_type": "stream",
     "text": [
      "El primer elemento de prime_list es 2\n"
     ]
    }
   ],
   "source": [
    "prime_list = [2, 3, 5, 7]\n",
    "\n",
    "print(\"El primer elemento de prime_list es\", prime_list[0])"
   ]
  },
  {
   "cell_type": "markdown",
   "id": "6b16abe2",
   "metadata": {},
   "source": [
    "## Solución del segundo ejercicio de paper coding (61)\n",
    "Create prime_list that has prime numbers between 1 and 10 as its elements. Then, use the append method to add 11. Print the result before and after addition."
   ]
  },
  {
   "cell_type": "code",
   "execution_count": 58,
   "id": "c901e965",
   "metadata": {},
   "outputs": [
    {
     "name": "stdout",
     "output_type": "stream",
     "text": [
      "Lista de primos: [2, 3, 5, 7]\n",
      "Lista de primos tras añadir otro [2, 3, 5, 7, 11]\n"
     ]
    }
   ],
   "source": [
    "prime_list = [2, 3, 5, 7]\n",
    "\n",
    "print(\"Lista de primos:\", prime_list)\n",
    "\n",
    "prime_list.append(11)\n",
    "\n",
    "print(\"Lista de primos tras añadir otro\", prime_list)"
   ]
  },
  {
   "cell_type": "markdown",
   "id": "2212025a",
   "metadata": {},
   "source": [
    "## Solución del tercer ejercicio de paper coding (62)\n",
    "For the list1 [3,5,7] and list2 [2,3,4,5,6], use the nested for loop to multiply each element of list1 and list2 and then print the result with the element multiplication result. "
   ]
  },
  {
   "cell_type": "code",
   "execution_count": 56,
   "id": "55f8615a",
   "metadata": {},
   "outputs": [
    {
     "name": "stdout",
     "output_type": "stream",
     "text": [
      "3 * 2 = 6\n",
      "3 * 3 = 9\n",
      "3 * 4 = 12\n",
      "3 * 5 = 15\n",
      "3 * 6 = 18\n",
      "5 * 2 = 10\n",
      "5 * 3 = 15\n",
      "5 * 4 = 20\n",
      "5 * 5 = 25\n",
      "5 * 6 = 30\n",
      "7 * 2 = 14\n",
      "7 * 3 = 21\n",
      "7 * 4 = 28\n",
      "7 * 5 = 35\n",
      "7 * 6 = 42\n"
     ]
    }
   ],
   "source": [
    "list1 = [3, 5, 7]\n",
    "list2 = [2, 3, 4, 5, 6]\n",
    "\n",
    "for elemento_lista1 in list1:\n",
    "    for elemento_lista2 in list2:\n",
    "        print(elemento_lista1, \"*\", elemento_lista2, \"=\", elemento_lista1*elemento_lista2)"
   ]
  },
  {
   "cell_type": "markdown",
   "id": "2e20ce5e",
   "metadata": {},
   "source": [
    "## Solución del primer ejercicio de pair programming (85)\n",
    "There is a list with the string s_list = [\"abc\", \"bcd\", \"bcdefg\", \"abba\", \"cddc\", \"opq\"]. Implement the following function to this list. \n",
    "\n",
    "Print the shortest string\n",
    "\n",
    "Do not use the min function or sort method to print the shortest string from the strings of s_list. "
   ]
  },
  {
   "cell_type": "code",
   "execution_count": 70,
   "id": "3b5b47be",
   "metadata": {},
   "outputs": [
    {
     "name": "stdout",
     "output_type": "stream",
     "text": [
      "The shortest string is abc\n"
     ]
    }
   ],
   "source": [
    "s_list = [\"abc\", \"bcd\", \"bcdefg\", \"abba\", \"cddc\", \"opq\"]\n",
    "\n",
    "if len(s_list) == 0:\n",
    "    print(\"No está definido.\")\n",
    "else:\n",
    "    shortest_string = s_list[0]\n",
    "\n",
    "    for elemento in s_list:\n",
    "        if len(elemento) < len(shortest_string):\n",
    "            shortest_string = elemento\n",
    "\n",
    "    print(\"The shortest string is\", shortest_string)"
   ]
  },
  {
   "cell_type": "markdown",
   "id": "b5d8cc94",
   "metadata": {},
   "source": [
    "## Solución del segundo ejercicio de pair programming (86)\n",
    "There is a list with the string s_list = [\"abc\", \"bcd\", \"bcdefg\", \"abba\", \"cddc\", \"opq\"]. Implement the following function to this list. \n",
    "\n",
    "Print the longest string\n",
    "\n",
    "Do not use the max function or sort method to print the shortest string from the strings of s_list. "
   ]
  },
  {
   "cell_type": "code",
   "execution_count": 61,
   "id": "90f37703",
   "metadata": {},
   "outputs": [
    {
     "name": "stdout",
     "output_type": "stream",
     "text": [
      "The largest string is bcdefg\n"
     ]
    }
   ],
   "source": [
    "s_list = [\"abc\", \"bcd\", \"bcdefg\", \"abba\", \"cddc\", \"opq\"]\n",
    "\n",
    "if len(s_list) == 0:\n",
    "    print(\"No está definido.\")\n",
    "else:\n",
    "    largest_string = s_list[0]\n",
    "\n",
    "    for elemento in s_list:\n",
    "        if len(elemento) > len(largest_string):\n",
    "            largest_string = elemento\n",
    "\n",
    "    print(\"The largest string is\", largest_string)"
   ]
  },
  {
   "cell_type": "markdown",
   "id": "00e4f3bf",
   "metadata": {},
   "source": [
    "## Solución del tercer ejercicio de pair programming (87)\n",
    "There is a list with the string s_list = [\"abc\", \"bcd\", \"bcdefg\", \"abba\", \"cddc\", \"opq\"]. Implement the following function to this list. \n",
    "\n",
    "Print the shortest strings\n",
    "\n",
    "From the pair programming earlier, the length of \"abc\", \"bcd\" and \"opq\" are the same as 3. Likewise, if the string lengths are the same, write a program that prints all of the three shortest strings as follows. Use the sort(key=len) function to sort the strings by length and then write a code.\n",
    "\n",
    "NO USAR EL MÉTODO SORT y que la solución también sea una lista"
   ]
  },
  {
   "cell_type": "code",
   "execution_count": 63,
   "id": "dca3319e",
   "metadata": {},
   "outputs": [
    {
     "name": "stdout",
     "output_type": "stream",
     "text": [
      "The shortest strings are ['abc', 'bcd', 'opq']\n"
     ]
    }
   ],
   "source": [
    "s_list = [\"abc\", \"bcd\", \"bcdefg\", \"abba\", \"cddc\", \"opq\"]\n",
    "\n",
    "shortest_string = s_list[0]\n",
    "\n",
    "# Buscar la longitud más pequeña:\n",
    "for elemento in s_list:\n",
    "    if len(elemento) < len(shortest_string):\n",
    "        shortest_string = elemento\n",
    "\n",
    "# Buscar todos los elementos con la longitud más pequeña:\n",
    "lista_string = []\n",
    "for elemento in s_list:\n",
    "    if len(elemento) == len(shortest_string):\n",
    "        lista_string.append(elemento)\n",
    "        \n",
    "print(\"The shortest strings are\", lista_string)"
   ]
  },
  {
   "cell_type": "code",
   "execution_count": 80,
   "id": "5655c32b",
   "metadata": {},
   "outputs": [
    {
     "name": "stdout",
     "output_type": "stream",
     "text": [
      "La lista de cadenas más cortas es: ['x']\n"
     ]
    }
   ],
   "source": [
    "s_list = [\"abc\", \"bcd\", \"bcdefg\", \"abba\", \"x\", \"cddc\", \"opq\"]\n",
    "\n",
    "if len(s_list) == 0:\n",
    "    print(\"No está definido\") # []\n",
    "else:\n",
    "    cadena_corta = s_list[0]\n",
    "    lista_cadenas_cortas =[]\n",
    "\n",
    "    for cadena in s_list:\n",
    "        if len(cadena) == len(cadena_corta):\n",
    "            lista_cadenas_cortas.append(cadena)\n",
    "        elif len(cadena) < len(cadena_corta):\n",
    "            lista_cadenas_cortas = [cadena]\n",
    "            cadena_corta = cadena\n",
    "\n",
    "    print(\"La lista de cadenas más cortas es:\", lista_cadenas_cortas) "
   ]
  },
  {
   "cell_type": "markdown",
   "id": "bab85076",
   "metadata": {},
   "source": [
    "## Solución del mission problem (12)\n",
    "Calcular para la base de datos de personas la edad media."
   ]
  },
  {
   "cell_type": "code",
   "execution_count": 67,
   "id": "9f76b075",
   "metadata": {},
   "outputs": [
    {
     "name": "stdout",
     "output_type": "stream",
     "text": [
      "La edad media es de 26.75 años.\n"
     ]
    }
   ],
   "source": [
    "#         [nombre, edad, género, altura, peso]\n",
    "person1 = [\"David Doe\", 20, 1, 180.0, 100.0]\n",
    "person2 = [\"John Smith\", 25, 1, 170.0, 70.0]\n",
    "person3 = [\"Jane Carter\", 22, 0, 169.0, 60.0]\n",
    "person4 = [\"Peter Kelly\", 40, 1, 150.0, 50.0]\n",
    "\n",
    "database = [person1, person2, person3, person4]\n",
    "\n",
    "edades = []\n",
    "suma_edades = 0\n",
    "\n",
    "for persona in database:\n",
    "    edades.append(persona[1])\n",
    "    suma_edades += persona[1]\n",
    "\n",
    "edad_media = suma_edades / len(edades)\n",
    "print(\"La edad media es de\", edad_media, \"años.\")"
   ]
  },
  {
   "cell_type": "code",
   "execution_count": 69,
   "id": "22fb024d",
   "metadata": {},
   "outputs": [
    {
     "name": "stdout",
     "output_type": "stream",
     "text": [
      "La edad media es de 26.75 años.\n"
     ]
    }
   ],
   "source": [
    "# SUPONEMOS QUE POR CADA PERSONA TENEMOS UNA EDAD (NO HAY DATOS INCOMPLETOS)\n",
    "#         [nombre, edad, género, altura, peso]\n",
    "person1 = [\"David Doe\", 20, 1, 180.0, 100.0]\n",
    "person2 = [\"John Smith\", 25, 1, 170.0, 70.0]\n",
    "person3 = [\"Jane Carter\", 22, 0, 169.0, 60.0]\n",
    "person4 = [\"Peter Kelly\", 40, 1, 150.0, 50.0]\n",
    "\n",
    "database = [person1, person2, person3, person4] # lista anidada\n",
    "\n",
    "suma_edades = 0\n",
    "\n",
    "for persona in database:      # for i in range(len(database))\n",
    "    suma_edades += persona[1] # = database[i][1]\n",
    "\n",
    "print(\"La edad media es de\", suma_edades / len(database), \"años.\")"
   ]
  },
  {
   "cell_type": "markdown",
   "id": "0699f7b2",
   "metadata": {},
   "source": [
    "### Apéndice: Tuplas\n",
    "Las tuplas son semejantes a las listas, pero son **inmutables**. Una vez creada una tupla, no podemos modificar su contenido: no podemos ni modificar, ni añadir ni eliminar elementos. \n",
    "\n",
    "La sintaxis de un literal de tupla es:\n",
    "\n",
    "```python\n",
    "(exp_0, exp_1, exp_2, ..., exp_n)\n",
    "```\n",
    "\n",
    "Es decir, aparecen los valores que contiene la lista separados por comas y encerrados entre paréntesis:"
   ]
  },
  {
   "cell_type": "code",
   "execution_count": 1,
   "id": "a429cb51",
   "metadata": {},
   "outputs": [
    {
     "name": "stdout",
     "output_type": "stream",
     "text": [
      "('rojo', 'azul', 'amarillo', 'verde')\n",
      "(23.671, 78.539)\n"
     ]
    }
   ],
   "source": [
    "colores_parchis = (\"rojo\", \"azul\", \"amarillo\", \"verde\")\n",
    "ubicacion_tesoro = (23.671, 78.539)\n",
    "\n",
    "print(colores_parchis)\n",
    "print(ubicacion_tesoro)"
   ]
  },
  {
   "cell_type": "markdown",
   "id": "93ccf1a0",
   "metadata": {},
   "source": [
    "Las tuplas tienen su propio tipo, `tuple`, que no se ve afectado por el número o tipo de sus elementos:"
   ]
  },
  {
   "cell_type": "code",
   "execution_count": 2,
   "id": "7bf769da",
   "metadata": {},
   "outputs": [
    {
     "name": "stdout",
     "output_type": "stream",
     "text": [
      "<class 'tuple'>\n",
      "<class 'tuple'>\n"
     ]
    }
   ],
   "source": [
    "print(type(colores_parchis))\n",
    "print(type(ubicacion_tesoro))"
   ]
  },
  {
   "cell_type": "markdown",
   "id": "92e8f333",
   "metadata": {},
   "source": [
    "Las tuplas son **secuencias**, podemos aplicar cualquiera de los operadores o funciones sobre secuencias:\n",
    "\n",
    "| Operador     | Significado   |\n",
    "|--------------|---------------|\n",
    "|    `s[i]`    | indexación    |\n",
    "|  `s[i:j:k]`  | _slicing_     |\n",
    "|  `s1 + s2`   | concatenación |\n",
    "|   `n * s`    | replicación   |\n",
    "|  `x in s`    | pertenencia   |\n",
    "| `x not in s` | no pertenencia|\n",
    "\n",
    "\n",
    "| Función  | Significado |\n",
    "|----------|-------------|\n",
    "| `len(s)` | longitud    |\n",
    "| `min(s)` | mínimo      |\n",
    "| `max(s)` | máximo      |"
   ]
  },
  {
   "cell_type": "code",
   "execution_count": 3,
   "id": "6953ece0",
   "metadata": {},
   "outputs": [
    {
     "name": "stdout",
     "output_type": "stream",
     "text": [
      "('rojo', 'azul', 'amarillo', 'verde')\n",
      "rojo\n",
      "('azul', 'amarillo')\n",
      "('rojo', 'azul', 'amarillo', 'verde', 23.671, 78.539)\n",
      "('rojo', 'azul', 'amarillo', 'verde', 'rojo', 'azul', 'amarillo', 'verde')\n",
      "True\n",
      "4\n",
      "verde\n"
     ]
    }
   ],
   "source": [
    "print(colores_parchis)\n",
    "print(colores_parchis[0])\n",
    "print(colores_parchis[1:3])\n",
    "print(colores_parchis + ubicacion_tesoro)\n",
    "print(2*colores_parchis)\n",
    "print(\"azul\" in colores_parchis)\n",
    "print(len(colores_parchis))\n",
    "print(max(colores_parchis))"
   ]
  },
  {
   "cell_type": "markdown",
   "id": "ac95e995",
   "metadata": {},
   "source": [
    "Las tuplas se comparan elemento a elemento, del primero al último:"
   ]
  },
  {
   "cell_type": "code",
   "execution_count": 4,
   "id": "e6432316",
   "metadata": {},
   "outputs": [
    {
     "data": {
      "text/plain": [
       "True"
      ]
     },
     "execution_count": 4,
     "metadata": {},
     "output_type": "execute_result"
    }
   ],
   "source": [
    "(1, 2, 3) < (1, 2, 3, 4, 5)"
   ]
  },
  {
   "cell_type": "markdown",
   "id": "ad47116c",
   "metadata": {},
   "source": [
    "La función de conversión `tuple()` permite convertir una secuencia a una tupla:"
   ]
  },
  {
   "cell_type": "code",
   "execution_count": 5,
   "id": "5e9c9ceb",
   "metadata": {},
   "outputs": [
    {
     "name": "stdout",
     "output_type": "stream",
     "text": [
      "('python', 'java', 'c#')\n",
      "(0, 5, 10, 15, 20, 25, 30, 35, 40, 45)\n"
     ]
    }
   ],
   "source": [
    "print(tuple([\"python\", \"java\", \"c#\"]))\n",
    "print(tuple(range(0,50,5)))"
   ]
  },
  {
   "cell_type": "markdown",
   "id": "06b4f1d9",
   "metadata": {},
   "source": [
    "Para conocer los métodos sobre tuplas, usa autocompletado y la función `help()`."
   ]
  },
  {
   "cell_type": "code",
   "execution_count": 7,
   "id": "f4d225f3",
   "metadata": {},
   "outputs": [
    {
     "name": "stdout",
     "output_type": "stream",
     "text": [
      "Help on tuple object:\n",
      "\n",
      "class tuple(object)\n",
      " |  tuple(iterable=(), /)\n",
      " |  \n",
      " |  Built-in immutable sequence.\n",
      " |  \n",
      " |  If no argument is given, the constructor returns an empty tuple.\n",
      " |  If iterable is specified the tuple is initialized from iterable's items.\n",
      " |  \n",
      " |  If the argument is a tuple, the return value is the same object.\n",
      " |  \n",
      " |  Built-in subclasses:\n",
      " |      asyncgen_hooks\n",
      " |      UnraisableHookArgs\n",
      " |  \n",
      " |  Methods defined here:\n",
      " |  \n",
      " |  __add__(self, value, /)\n",
      " |      Return self+value.\n",
      " |  \n",
      " |  __contains__(self, key, /)\n",
      " |      Return key in self.\n",
      " |  \n",
      " |  __eq__(self, value, /)\n",
      " |      Return self==value.\n",
      " |  \n",
      " |  __ge__(self, value, /)\n",
      " |      Return self>=value.\n",
      " |  \n",
      " |  __getattribute__(self, name, /)\n",
      " |      Return getattr(self, name).\n",
      " |  \n",
      " |  __getitem__(self, key, /)\n",
      " |      Return self[key].\n",
      " |  \n",
      " |  __getnewargs__(self, /)\n",
      " |  \n",
      " |  __gt__(self, value, /)\n",
      " |      Return self>value.\n",
      " |  \n",
      " |  __hash__(self, /)\n",
      " |      Return hash(self).\n",
      " |  \n",
      " |  __iter__(self, /)\n",
      " |      Implement iter(self).\n",
      " |  \n",
      " |  __le__(self, value, /)\n",
      " |      Return self<=value.\n",
      " |  \n",
      " |  __len__(self, /)\n",
      " |      Return len(self).\n",
      " |  \n",
      " |  __lt__(self, value, /)\n",
      " |      Return self<value.\n",
      " |  \n",
      " |  __mul__(self, value, /)\n",
      " |      Return self*value.\n",
      " |  \n",
      " |  __ne__(self, value, /)\n",
      " |      Return self!=value.\n",
      " |  \n",
      " |  __repr__(self, /)\n",
      " |      Return repr(self).\n",
      " |  \n",
      " |  __rmul__(self, value, /)\n",
      " |      Return value*self.\n",
      " |  \n",
      " |  count(self, value, /)\n",
      " |      Return number of occurrences of value.\n",
      " |  \n",
      " |  index(self, value, start=0, stop=9223372036854775807, /)\n",
      " |      Return first index of value.\n",
      " |      \n",
      " |      Raises ValueError if the value is not present.\n",
      " |  \n",
      " |  ----------------------------------------------------------------------\n",
      " |  Class methods defined here:\n",
      " |  \n",
      " |  __class_getitem__(...) from builtins.type\n",
      " |      See PEP 585\n",
      " |  \n",
      " |  ----------------------------------------------------------------------\n",
      " |  Static methods defined here:\n",
      " |  \n",
      " |  __new__(*args, **kwargs) from builtins.type\n",
      " |      Create and return a new object.  See help(type) for accurate signature.\n",
      "\n"
     ]
    }
   ],
   "source": [
    "tupla= (1, 2, 3)\n",
    "\n",
    "tupla.count\n",
    "tupla.index\n",
    "help(tupla)"
   ]
  },
  {
   "cell_type": "markdown",
   "id": "afb4987c",
   "metadata": {},
   "source": [
    "Podemos iterar sobre una tupla usando un bucle `for` o `while`:"
   ]
  },
  {
   "cell_type": "code",
   "execution_count": 8,
   "id": "e787c59c",
   "metadata": {},
   "outputs": [
    {
     "name": "stdout",
     "output_type": "stream",
     "text": [
      "rojo\n",
      "azul\n",
      "amarillo\n",
      "verde\n"
     ]
    }
   ],
   "source": [
    "for color in colores_parchis:\n",
    "    print(color)"
   ]
  },
  {
   "cell_type": "code",
   "execution_count": 9,
   "id": "ea69ce5b",
   "metadata": {},
   "outputs": [
    {
     "name": "stdout",
     "output_type": "stream",
     "text": [
      "rojo\n",
      "azul\n",
      "amarillo\n",
      "verde\n"
     ]
    }
   ],
   "source": [
    "i = 0\n",
    "while i < len(colores_parchis):\n",
    "    print(colores_parchis[i])\n",
    "    i += 1"
   ]
  },
  {
   "cell_type": "markdown",
   "id": "69dab6e4",
   "metadata": {},
   "source": [
    "Las tuplas se usan cuando una función debe devolver varios resultados:"
   ]
  },
  {
   "cell_type": "code",
   "execution_count": 10,
   "id": "6bdfe990",
   "metadata": {},
   "outputs": [
    {
     "name": "stdout",
     "output_type": "stream",
     "text": [
      "14 3\n"
     ]
    }
   ],
   "source": [
    "cociente = 73 // 5\n",
    "resto = 73 % 5\n",
    "print(cociente, resto)"
   ]
  },
  {
   "cell_type": "code",
   "execution_count": 11,
   "id": "48dffef7",
   "metadata": {},
   "outputs": [
    {
     "name": "stdout",
     "output_type": "stream",
     "text": [
      "<class 'tuple'>\n",
      "(14, 3)\n"
     ]
    }
   ],
   "source": [
    "cociente_resto = divmod(73, 5) #nombramos la tupla\n",
    "print(type(cociente_resto))\n",
    "print(cociente_resto)"
   ]
  },
  {
   "cell_type": "code",
   "execution_count": 12,
   "id": "9c044575",
   "metadata": {},
   "outputs": [
    {
     "name": "stdout",
     "output_type": "stream",
     "text": [
      "<class 'int'>\n",
      "<class 'int'>\n",
      "14 3\n"
     ]
    }
   ],
   "source": [
    "cociente, resto = divmod(73, 5) # unpacking: nombramos cada elemento de la tupla\n",
    "print(type(cociente))\n",
    "print(type(resto))\n",
    "print(cociente, resto)"
   ]
  },
  {
   "cell_type": "markdown",
   "id": "37c1df46",
   "metadata": {},
   "source": [
    "El _unpacking_ permite desempaquetar una tupla en sus componentes individuales:"
   ]
  },
  {
   "cell_type": "code",
   "execution_count": 13,
   "id": "ce7ba2a6",
   "metadata": {},
   "outputs": [
    {
     "name": "stdout",
     "output_type": "stream",
     "text": [
      "29 junio 16:30 clase de Samsung\n",
      "29 junio 16:30 clase de Samsung\n"
     ]
    }
   ],
   "source": [
    "evento = (29, \"junio\", \"16:30\", \"clase de Samsung\")\n",
    "print(evento[0], evento[1], evento[2], evento[3])\n",
    "\n",
    "dia, mes, hora, que = evento # unpacking\n",
    "print(dia, mes, hora, que)"
   ]
  }
 ],
 "metadata": {
  "kernelspec": {
   "display_name": "Python 3 (ipykernel)",
   "language": "python",
   "name": "python3"
  },
  "language_info": {
   "codemirror_mode": {
    "name": "ipython",
    "version": 3
   },
   "file_extension": ".py",
   "mimetype": "text/x-python",
   "name": "python",
   "nbconvert_exporter": "python",
   "pygments_lexer": "ipython3",
   "version": "3.10.9"
  }
 },
 "nbformat": 4,
 "nbformat_minor": 5
}
