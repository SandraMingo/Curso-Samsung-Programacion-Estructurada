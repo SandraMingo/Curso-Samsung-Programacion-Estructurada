{
 "cells": [
  {
   "cell_type": "markdown",
   "id": "32ec9ef6",
   "metadata": {},
   "source": [
    "# Unidad 17 - Funciones\n",
    "\n",
    "Hasta ahora hemos **usado** funciones predefinidas por Python. Por ejemplo, hemos usado la función `print()` para mostrar información:"
   ]
  },
  {
   "cell_type": "code",
   "execution_count": null,
   "id": "c9a8b3ba",
   "metadata": {},
   "outputs": [],
   "source": [
    "print(\"I love Python\")"
   ]
  },
  {
   "cell_type": "markdown",
   "id": "6226ca72",
   "metadata": {},
   "source": [
    "Hemos visto que la función `print()` puede recibir varios valores para imprimir:"
   ]
  },
  {
   "cell_type": "code",
   "execution_count": null,
   "id": "8c631be0",
   "metadata": {},
   "outputs": [],
   "source": [
    "print(\"El precio final es\", 25, \"euros\")"
   ]
  },
  {
   "cell_type": "markdown",
   "id": "483a99f5",
   "metadata": {},
   "source": [
    "Y que a veces le facilitamos a `print()` ciertos nombres (`sep`, `end`) para modificar su funcionamiento:"
   ]
  },
  {
   "cell_type": "code",
   "execution_count": null,
   "id": "2d98400b",
   "metadata": {
    "scrolled": true
   },
   "outputs": [],
   "source": [
    "print(\"3045\", \"MNP\", sep=\"-\")"
   ]
  },
  {
   "cell_type": "markdown",
   "id": "40a6928d",
   "metadata": {},
   "source": [
    "También hemos visto que hay funciones como `input()` que pueden devolver un resultado que podemos almacenar en una variable:"
   ]
  },
  {
   "cell_type": "code",
   "execution_count": null,
   "id": "eb1ca48b",
   "metadata": {},
   "outputs": [],
   "source": [
    "nombre = input(\"¿cómo te llamas?\")\n",
    "print(\"Hola\", nombre, \"encantado de conocerte\")"
   ]
  },
  {
   "cell_type": "markdown",
   "id": "88efc8ff",
   "metadata": {},
   "source": [
    "También podemos usar el resultado devuelto por una función en una expresión, por ejemplo:"
   ]
  },
  {
   "cell_type": "code",
   "execution_count": null,
   "id": "bdb250bb",
   "metadata": {},
   "outputs": [],
   "source": [
    "cadena = \"hola python\"\n",
    "indice_ultimo = len(cadena) - 1\n",
    "print(\"El último caracter de la cadena es\", cadena[indice_ultimo], \"y está en la posición\", indice_ultimo)"
   ]
  },
  {
   "cell_type": "markdown",
   "id": "6ccba06f",
   "metadata": {},
   "source": [
    "## Necesidad de las funciones\n",
    "\n",
    "Imagina que en un programa tenemos que calcular las medias aritméticas de pesos y estaturas de un número de personas:"
   ]
  },
  {
   "cell_type": "code",
   "execution_count": null,
   "id": "4b4ca678",
   "metadata": {},
   "outputs": [],
   "source": [
    "pesos = [82, 81, 54, 48, 102, 77]\n",
    "estaturas = [1.78, 1.85, 1.61, 1.58, 1.9, 1.83]\n",
    "\n",
    "suma_peso = 0\n",
    "for peso in pesos:\n",
    "    suma_peso += peso\n",
    "peso_medio = suma_peso / len(pesos)\n",
    "\n",
    "print(\"el peso medio es\", peso_medio)\n",
    "\n",
    "suma_estatura = 0\n",
    "for estatura in estaturas:\n",
    "    suma_estatura += estatura\n",
    "estatura_media = suma_estatura / len(estaturas)\n",
    "\n",
    "print(\"la estatura media es\", estatura_media)"
   ]
  },
  {
   "cell_type": "markdown",
   "id": "fa79bb4c",
   "metadata": {},
   "source": [
    "Observa que el código para calcular la media aritmética aparece dos veces. Las apariciones son virtualmente idénticas, solo cambia el nombre de las variables, pero el código es esencialmente el mismo y hace el mismo cálculo.\n",
    "\n",
    "De la misma forma que los bucles permiten escribir una sola vez el código que se repite de forma consecutiva, las funciones permiten escribir una sola vez el código que se repite, pero no de forma consecutiva.\n",
    "\n",
    "Para evitar repetir el código que hace virtualmento lo mismo con diferentes datos, necesitamos una herramienta que nos permita:\n",
    "- escribir el código que realiza un cálculo una sola vez\n",
    "- usar ese código cuando sea necesario\n",
    "- facilitar en cada uso los datos que debe utilizar el cálculo (`pesos`, `estaturas`)\n",
    "- permitir al código que nos informe del resultado del cálculo (`peso_medio`, `estatura_media`)\n",
    "\n",
    "Esa herramienta son las **funciones**. Observa como la función `input()`:\n",
    "- contiene el código necesario para leer de teclado\n",
    "- la podemos usar cuando sea necesario\n",
    "- al usarla, podemos facilitar el mensaje que se debe mostrar por pantalla (`input(\"mensaje\")`)\n",
    "- nos devuelve un resultado con la cadena que se ha tecleado\n",
    "\n",
    "Hasta ahora hemos usado funciones predefinidas por Python. En esta unidad aprenderemos a definir nuevas funciones."
   ]
  },
  {
   "cell_type": "markdown",
   "id": "1ff6fef8",
   "metadata": {},
   "source": [
    "## Definición básica de funciones\n",
    "\n",
    "Al definir una función, lo que hacemos es dar un nombre al código que queremos usar en varias ocasiones. La sintaxis de la definición es:\n",
    "```python\n",
    "def nombre_funcion():\n",
    "    codigo_de_la_función  # cuerpo de la función\n",
    "```\n",
    "\n",
    "Observa que como las sentencias de control, una función introduce un bloque de código. A ese bloque se le llama **cuerpo** de la función.\n",
    "\n",
    "Por ejemplo, vamos a definir una función que imprima una línea con 80 asteriscos:"
   ]
  },
  {
   "cell_type": "code",
   "execution_count": 1,
   "id": "93e66c02",
   "metadata": {},
   "outputs": [],
   "source": [
    "def asteriscos():\n",
    "    print(80 * \"*\")"
   ]
  },
  {
   "cell_type": "markdown",
   "id": "1455681b",
   "metadata": {},
   "source": [
    "Para usar una función basta usar su nombre seguido de un par de paréntesis. A esto se le denomina **llamar** o **invocar** a una función:"
   ]
  },
  {
   "cell_type": "code",
   "execution_count": 2,
   "id": "54c926c0",
   "metadata": {},
   "outputs": [
    {
     "name": "stdout",
     "output_type": "stream",
     "text": [
      "********************************************************************************\n",
      "hola\n",
      "********************************************************************************\n"
     ]
    }
   ],
   "source": [
    "asteriscos()\n",
    "print(\"hola\")\n",
    "asteriscos()"
   ]
  },
  {
   "cell_type": "markdown",
   "id": "15513d67",
   "metadata": {},
   "source": [
    "La función `asteriscos()` siempre realiza el mismo cálculo, imprime 80 asteriscos. Imagina que queremos que cada vez que la usemos podamos decidir cuántos asteriscos queremos imprimir. Para ello, debemos añadir en la definición de la función un **parámetro**:\n",
    "\n",
    "```python\n",
    "def nombre_funcion(parametro):\n",
    "    codigo_de_la_función\n",
    "```\n",
    "\n",
    "En la definición anterior, `parametro`es una variable que podremos utilizar dentro de la función; es la forma que tenemos que comunicarle a la función los datos que queremos emplear en el cálculo. Obviamente. el `codigo_de_la_función`puede utlizar la variable `parametro`. Por ejemplo, vamos a modificar la función anterior para que imprima la cantidad de asteriscos que necesitemos:"
   ]
  },
  {
   "cell_type": "code",
   "execution_count": null,
   "id": "f4b9271f",
   "metadata": {},
   "outputs": [],
   "source": [
    "def asteriscos(num_asteriscos):  # num_asteriscos es un parametro\n",
    "    print(num_asteriscos * \"*\")"
   ]
  },
  {
   "cell_type": "markdown",
   "id": "87e4f76a",
   "metadata": {},
   "source": [
    "Al invocar la función `asteriscos` debemos facilitar entre paréntesis el número de asteriscos que queremos imprimir. A esto se le llama **pasar un parámetro** a la función; es la forma que tenemos de comunicar a una función los datos con los que queremos que haga el cálculo.\n",
    "\n",
    "El valor que pasamos a la función recibe el nombre de **argumento** y se utliza para **inicializar** el parámetro de la función:"
   ]
  },
  {
   "cell_type": "code",
   "execution_count": null,
   "id": "4ea763ea",
   "metadata": {},
   "outputs": [],
   "source": [
    "asteriscos(80)     # 80 es el argumento\n",
    "print(\"hola\")\n",
    "asteriscos(20)     # 20 es el argumento"
   ]
  },
  {
   "cell_type": "code",
   "execution_count": null,
   "id": "bc1c3bfb",
   "metadata": {
    "scrolled": false
   },
   "outputs": [],
   "source": [
    "for i in range(1,10):\n",
    "    asteriscos(i)     # i es el argumento"
   ]
  },
  {
   "cell_type": "markdown",
   "id": "725bf52f",
   "metadata": {},
   "source": [
    "Una función puede recibir más de un parámetro. Basta indicar los parámetros separados por comas en la definición de la función:\n",
    "\n",
    "```python\n",
    "def nombre_funcion(parametro_1, parametro_2, ..., parametro_n):\n",
    "    codigo_de_la_función\n",
    "```\n",
    "\n",
    "Al invocar a la función habrá que facilitar un argumento (valor inicial) para cada parámetro.\n",
    "\n",
    "Por ejemplo, vamos a definir una función que imprima `n_veces` un `caracter`:"
   ]
  },
  {
   "cell_type": "code",
   "execution_count": null,
   "id": "2d1a4a14",
   "metadata": {},
   "outputs": [],
   "source": [
    "def imprime_linea(n_veces, caracter):\n",
    "    print(n_veces * caracter)"
   ]
  },
  {
   "cell_type": "code",
   "execution_count": null,
   "id": "623d94ff",
   "metadata": {},
   "outputs": [],
   "source": [
    "imprime_linea(80, \"*\")\n",
    "imprime_linea(20, \"#\")"
   ]
  },
  {
   "cell_type": "markdown",
   "id": "62eb746e",
   "metadata": {},
   "source": [
    "Obviamente, el cuerpo de la función puede estar compuesto por más de una línea de código y puede contener invocaciones a otra función:"
   ]
  },
  {
   "cell_type": "code",
   "execution_count": null,
   "id": "53a8ffb6",
   "metadata": {},
   "outputs": [],
   "source": [
    "def cabecera(anchura, titulo):\n",
    "    imprime_linea(anchura, \"*\")\n",
    "    print(titulo)\n",
    "    imprime_linea(anchura, \"*\")"
   ]
  },
  {
   "cell_type": "code",
   "execution_count": null,
   "id": "6b959727",
   "metadata": {},
   "outputs": [],
   "source": [
    "cabecera(80, \"Python\")"
   ]
  },
  {
   "cell_type": "markdown",
   "id": "5a59360a",
   "metadata": {},
   "source": [
    "## Devolviendo el resultado de la función\n",
    "\n",
    "Como `print()`, las funciones anteriores se limitan a imprimir en consola. No necesitan devolver el resultado que ha calculado la función. Otras funciones como `input()` o `len()` sí necesitan devolver un resultado. Para ello, es necesario que incluyan la sentencia `return` en su cuerpo:\n",
    "\n",
    "```python\n",
    "def nombre_funcion(parametro_1, parametro_2, ..., parametro_n):\n",
    "    codigo_de_la_función\n",
    "    return resultado                   # devolver resultado\n",
    "```\n",
    "\n",
    "El resultado devuelto por una función puede almacenarse en una variable o utilizarse en una expresión.\n",
    "\n",
    "Vamos a definir una función que dadas las longitudes de los catetos de un triángulo rectánglo devuelva la longitud de su hipotenusa:"
   ]
  },
  {
   "cell_type": "code",
   "execution_count": 3,
   "id": "40bc006c",
   "metadata": {},
   "outputs": [],
   "source": [
    "def hipotenusa(cateto_contiguo, cateto_opuesto):\n",
    "    return (cateto_contiguo ** 2 + cateto_opuesto ** 2 ) ** 0.5"
   ]
  },
  {
   "cell_type": "code",
   "execution_count": 4,
   "id": "af310a41",
   "metadata": {},
   "outputs": [
    {
     "data": {
      "text/plain": [
       "1.4142135623730951"
      ]
     },
     "execution_count": 4,
     "metadata": {},
     "output_type": "execute_result"
    }
   ],
   "source": [
    "hipotenusa(1.0, 1.0)"
   ]
  },
  {
   "cell_type": "code",
   "execution_count": 5,
   "id": "6b8918b0",
   "metadata": {},
   "outputs": [
    {
     "data": {
      "text/plain": [
       "2.8284271247461903"
      ]
     },
     "execution_count": 5,
     "metadata": {},
     "output_type": "execute_result"
    }
   ],
   "source": [
    "m = 2 * hipotenusa(1.0, 1.0)\n",
    "m"
   ]
  },
  {
   "cell_type": "markdown",
   "id": "7e9df555",
   "metadata": {},
   "source": [
    "Una vez que se ejecuta `return`, se abandona el cuerpo de la función y se retorna al punto en que se invocó.\n",
    "\n",
    "Una función puede contener varios `return`. En cuanto se ejecuta uno de ellos, se abandona la función y se retorna al punto de invocación (de la misma forma que al ejecutar un `elif` se ignoran el resto de casos).\n",
    "\n",
    "En general, se considera buen estilo que una función tenga un solo `return` al final, aunque hay ocasiones en que puede ser apropiado tener más de un `return`."
   ]
  },
  {
   "cell_type": "markdown",
   "id": "75ec5574",
   "metadata": {},
   "source": [
    "## Número variable de parámetros\n",
    "\n",
    "Algunas funciones predefinidas Python pueden recibir un número variable de parámetros:"
   ]
  },
  {
   "cell_type": "code",
   "execution_count": 6,
   "id": "95554b50",
   "metadata": {},
   "outputs": [
    {
     "name": "stdout",
     "output_type": "stream",
     "text": [
      "1\n",
      "1 2 3\n"
     ]
    },
    {
     "data": {
      "text/plain": [
       "7"
      ]
     },
     "execution_count": 6,
     "metadata": {},
     "output_type": "execute_result"
    }
   ],
   "source": [
    "print(1)\n",
    "print(1,2,3)\n",
    "max(4,5,6,7)"
   ]
  },
  {
   "cell_type": "markdown",
   "id": "cf17e737",
   "metadata": {},
   "source": [
    "Las funciones que hemos definido anteriormente deben recibir exactamente los parámetros que aparecen en su definición. Si queremos que una función pueda recibir un número variable de parámetros, debemos preceder el nombre del parámetro por un asterisco:\n",
    "\n",
    "```python\n",
    "def nombre_funcion(*parametros):  # número variable de parámetros\n",
    "    codigo_de_la_función\n",
    "    return resultado\n",
    "```\n",
    "La variable `parametros` es una tupla: podemos acceder a cada parámetro mediante indexación y podemos iterar con un bucle `for`. Además, podemos saber el número de parámetros mediante la función `len()`."
   ]
  },
  {
   "cell_type": "code",
   "execution_count": 15,
   "id": "1e081a85",
   "metadata": {},
   "outputs": [],
   "source": [
    "def varios_parametros(*args):\n",
    "    print(type(args))\n",
    "    print(len(args))\n",
    "    print()\n",
    "    for x in args:\n",
    "        print(x)\n",
    "        \n",
    "    print()\n",
    "        \n",
    "    i = 0\n",
    "    while i < len(args):\n",
    "        print(args[i])\n",
    "        i += 1\n",
    "    print()"
   ]
  },
  {
   "cell_type": "code",
   "execution_count": 13,
   "id": "ba2e8789",
   "metadata": {},
   "outputs": [
    {
     "name": "stdout",
     "output_type": "stream",
     "text": [
      "<class 'tuple'>\n",
      "4\n",
      "\n",
      "1\n",
      "True\n",
      "hola\n",
      "[67.9]\n",
      "\n",
      "1\n",
      "True\n",
      "hola\n",
      "[67.9]\n",
      "\n",
      "<class 'tuple'>\n",
      "0\n",
      "\n",
      "\n",
      "\n",
      "<class 'tuple'>\n",
      "3\n",
      "\n",
      "adios\n",
      "6\n",
      "[67, 90, 11]\n",
      "\n",
      "adios\n",
      "6\n",
      "[67, 90, 11]\n",
      "\n",
      "<class 'tuple'>\n",
      "1\n",
      "\n",
      "ya mismo acabamos\n",
      "\n",
      "ya mismo acabamos\n",
      "\n"
     ]
    }
   ],
   "source": [
    "varios_parametros(1,True, \"hola\", [67.90])\n",
    "varios_parametros()\n",
    "varios_parametros(\"adios\", 6, [67, 90, 11])\n",
    "varios_parametros(\"ya mismo acabamos\")"
   ]
  },
  {
   "cell_type": "markdown",
   "id": "2a354ca7",
   "metadata": {},
   "source": [
    "## Parámetros por defecto\n",
    "\n",
    "Es frecuente que el parámetro de una función tenga un valor por defecto. Por ejemplo. en la función `print()` el separador por defecto es el espacio y el terminador por defecto el salto de línea. Cuando esto ocurre, podemos indicar el valor por defecto de un parámetro en la definición de la función:\n",
    "\n",
    "```python\n",
    "def nombre_funcion(parametro = valor_por_defecto):  # parámetro con valor por defecto\n",
    "    codigo_de_la_función\n",
    "    return resultado\n",
    "```\n",
    "\n",
    "Si un parámetro tiene valor por defecto, no es necesario facilitar su valor inicial en la invocación; es decir, no es necesario poner un argumento en la invocación."
   ]
  },
  {
   "cell_type": "code",
   "execution_count": null,
   "id": "e84c507c",
   "metadata": {},
   "outputs": [],
   "source": [
    "def asteriscos(num_asteriscos = 80):  # num_asteriscos es un parametro con valor por defecto\n",
    "    print(num_asteriscos * \"*\")"
   ]
  },
  {
   "cell_type": "code",
   "execution_count": null,
   "id": "e0e4fd54",
   "metadata": {},
   "outputs": [],
   "source": [
    "asteriscos()      # no hay argumento: el parámetro se inicializa al valor por defecto\n",
    "asteriscos(10)"
   ]
  },
  {
   "cell_type": "markdown",
   "id": "a6f89f43",
   "metadata": {},
   "source": [
    "Una función puede tener más de un parámetro por defecto:"
   ]
  },
  {
   "cell_type": "code",
   "execution_count": null,
   "id": "897349dc",
   "metadata": {},
   "outputs": [],
   "source": [
    "def imprime_linea(n_veces = 80, caracter = '*'):\n",
    "    print(n_veces * caracter)"
   ]
  },
  {
   "cell_type": "code",
   "execution_count": null,
   "id": "89a4306c",
   "metadata": {},
   "outputs": [],
   "source": [
    "imprime_linea()            # se usan ambos valores por defecto\n",
    "imprime_linea(5)           # se usa solo el segundo valor por defecto\n",
    "imprime_linea(10, '#')     # no se usa ningún valor por defecto"
   ]
  },
  {
   "cell_type": "markdown",
   "id": "f53869ae",
   "metadata": {},
   "source": [
    "Observa que no es posible facilitar solo el segundo argumento. Si facilitas un argumento, se asume que se trata del primero. Similarmente, los parámetros por defecto deben ser los últimos en la definición de una función:"
   ]
  },
  {
   "cell_type": "code",
   "execution_count": null,
   "id": "82a5bb72",
   "metadata": {},
   "outputs": [],
   "source": [
    "def bien(a, b, c = 10, d = 20):\n",
    "    pass"
   ]
  },
  {
   "cell_type": "code",
   "execution_count": null,
   "id": "92e94789",
   "metadata": {},
   "outputs": [],
   "source": [
    "def mal(a = 10, b = 20, c, d):\n",
    "    pass"
   ]
  },
  {
   "cell_type": "markdown",
   "id": "c61e7b69",
   "metadata": {},
   "source": [
    "## Paso de argumentos por `keyword`\n",
    "\n",
    "Hasta el momento hemos utilizado paso de parámetros **posicional**. El primer argumento de la invocación inicializa al primer argumento de la definición, y así sucesivamente. En Python, es posible pasar los argumentos usando el nombre de los parámetros. Esto es algo que ya hemos hecho con la función `print()`, usando `sep` y `end`:"
   ]
  },
  {
   "cell_type": "code",
   "execution_count": null,
   "id": "046b8435",
   "metadata": {},
   "outputs": [],
   "source": [
    "print(\"hola\", \"mundo\", sep = ', ', end=\". \")\n",
    "print(\"¿cómo va\", \"todo\", end=\"?\", sep=' ')"
   ]
  },
  {
   "cell_type": "markdown",
   "id": "254ab74f",
   "metadata": {},
   "source": [
    "Observa que estamos facilitando a la función `print()` los valores iniciales de sus parámetros `end` y `sep`. Para ello, inicializamos los parámetros de forma explícita en la invocación. Esto permite que la posición de un arguemnto no sea la de su correspondiente parámetro. El argumento se asocia a su parámetro por nombre.\n",
    "\n",
    "Dada una función Python:"
   ]
  },
  {
   "cell_type": "code",
   "execution_count": null,
   "id": "d43a5c5e",
   "metadata": {},
   "outputs": [],
   "source": [
    "def imprime_linea(n_veces = 80, caracter = '*'):\n",
    "    print(n_veces * caracter)"
   ]
  },
  {
   "cell_type": "markdown",
   "id": "c92e883b",
   "metadata": {},
   "source": [
    "Podemos usar invocación **posicional**, en cuyo caso el orden de los argumentos es el de los parámetros:"
   ]
  },
  {
   "cell_type": "code",
   "execution_count": null,
   "id": "df4ca312",
   "metadata": {},
   "outputs": [],
   "source": [
    "imprime_linea(10, \"-\")"
   ]
  },
  {
   "cell_type": "markdown",
   "id": "e3005af7",
   "metadata": {},
   "source": [
    "Podemos usar invocación por `keyword`, en cuyo caso el orden de los argumentos es irrelevante:"
   ]
  },
  {
   "cell_type": "code",
   "execution_count": null,
   "id": "1397b63a",
   "metadata": {
    "scrolled": true
   },
   "outputs": [],
   "source": [
    "imprime_linea(n_veces = 5, caracter = '#')\n",
    "imprime_linea(caracter = '#', n_veces = 5)"
   ]
  },
  {
   "cell_type": "markdown",
   "id": "b1216a89",
   "metadata": {},
   "source": [
    "Observa que este truco puede usarse para facilitar solo el segundo parámetro y aprovechar el valor por defecto del primero:"
   ]
  },
  {
   "cell_type": "code",
   "execution_count": null,
   "id": "00c0b524",
   "metadata": {},
   "outputs": [],
   "source": [
    "imprime_linea(caracter = '*')"
   ]
  },
  {
   "cell_type": "markdown",
   "id": "d1f49a85",
   "metadata": {},
   "source": [
    "Finalmente, podemos mezclar una invocación posicional y por `keyword`, pero los primeros argumentos deben ser posicionales y se corresponden con los primeros parámetros:"
   ]
  },
  {
   "cell_type": "code",
   "execution_count": null,
   "id": "4bc85b3b",
   "metadata": {},
   "outputs": [],
   "source": [
    "imprime_linea(5, caracter = '*')"
   ]
  },
  {
   "cell_type": "markdown",
   "id": "bd985571",
   "metadata": {},
   "source": [
    "## Solución del primer ejercicio de paper coding (52)"
   ]
  },
  {
   "cell_type": "code",
   "execution_count": null,
   "id": "a4515cdf",
   "metadata": {},
   "outputs": [],
   "source": []
  },
  {
   "cell_type": "markdown",
   "id": "772b0ab2",
   "metadata": {},
   "source": [
    "## Solución del segundo ejercicio de paper coding (53)"
   ]
  },
  {
   "cell_type": "code",
   "execution_count": null,
   "id": "9d7c5f1f",
   "metadata": {},
   "outputs": [],
   "source": []
  },
  {
   "cell_type": "markdown",
   "id": "a45ebf5a",
   "metadata": {},
   "source": [
    "## Solución del tercer ejercicio de paper coding (54)"
   ]
  },
  {
   "cell_type": "code",
   "execution_count": null,
   "id": "acf3ef67",
   "metadata": {},
   "outputs": [],
   "source": []
  },
  {
   "cell_type": "markdown",
   "id": "f6c61fde",
   "metadata": {},
   "source": [
    "## Solución del cuarto ejercicio de paper coding (55)"
   ]
  },
  {
   "cell_type": "code",
   "execution_count": null,
   "id": "b787be5d",
   "metadata": {},
   "outputs": [],
   "source": []
  }
 ],
 "metadata": {
  "kernelspec": {
   "display_name": "Python 3 (ipykernel)",
   "language": "python",
   "name": "python3"
  },
  "language_info": {
   "codemirror_mode": {
    "name": "ipython",
    "version": 3
   },
   "file_extension": ".py",
   "mimetype": "text/x-python",
   "name": "python",
   "nbconvert_exporter": "python",
   "pygments_lexer": "ipython3",
   "version": "3.10.9"
  }
 },
 "nbformat": 4,
 "nbformat_minor": 5
}
