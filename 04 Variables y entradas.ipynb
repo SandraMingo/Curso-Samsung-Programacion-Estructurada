{
 "cells": [
  {
   "cell_type": "markdown",
   "id": "010cba44",
   "metadata": {},
   "source": [
    "# Unidad 4 - Variables y entrada"
   ]
  },
  {
   "cell_type": "code",
   "execution_count": 1,
   "id": "5808f251",
   "metadata": {},
   "outputs": [
    {
     "data": {
      "text/plain": [
       "112"
      ]
     },
     "execution_count": 1,
     "metadata": {},
     "output_type": "execute_result"
    }
   ],
   "source": [
    "34 + 78 #expresión que se evalúa -> produce un valor"
   ]
  },
  {
   "cell_type": "code",
   "execution_count": 3,
   "id": "8530e7ff",
   "metadata": {},
   "outputs": [],
   "source": [
    "# Crear una variable\n",
    "\n",
    "peso = 72      #sentencia que se ejecuta -> tiene un efecto\n",
    "altura = 1.78"
   ]
  },
  {
   "cell_type": "code",
   "execution_count": 4,
   "id": "7705f740",
   "metadata": {},
   "outputs": [
    {
     "data": {
      "text/plain": [
       "72"
      ]
     },
     "execution_count": 4,
     "metadata": {},
     "output_type": "execute_result"
    }
   ],
   "source": [
    "#consultar una variable\n",
    "\n",
    "peso"
   ]
  },
  {
   "cell_type": "code",
   "execution_count": 5,
   "id": "ea93957d",
   "metadata": {},
   "outputs": [
    {
     "name": "stdout",
     "output_type": "stream",
     "text": [
      "36\n"
     ]
    }
   ],
   "source": [
    "base = 12\n",
    "altura = 3\n",
    "area = base * altura\n",
    "print(area)"
   ]
  },
  {
   "cell_type": "code",
   "execution_count": 8,
   "id": "a7a73336",
   "metadata": {},
   "outputs": [
    {
     "data": {
      "text/plain": [
       "62"
      ]
     },
     "execution_count": 8,
     "metadata": {},
     "output_type": "execute_result"
    }
   ],
   "source": [
    "peso = 60          # crear la variable\n",
    "#La persona engorda dos kilos\n",
    "peso = peso + 2    # modificar su valor\n",
    "peso"
   ]
  },
  {
   "cell_type": "code",
   "execution_count": 9,
   "id": "bc8b7f86",
   "metadata": {},
   "outputs": [],
   "source": [
    "# función input(); dual de print()"
   ]
  },
  {
   "cell_type": "markdown",
   "id": "e672b4f5",
   "metadata": {},
   "source": [
    "# Paper Coding"
   ]
  },
  {
   "attachments": {},
   "cell_type": "markdown",
   "id": "b53db676",
   "metadata": {},
   "source": [
    "## Q1\n",
    "Assign the values 30, 60 to the variables width and height, respectively. Write a program that uses these two variables to find the area of the rectangle as shown below."
   ]
  },
  {
   "cell_type": "code",
   "execution_count": 12,
   "id": "2348df32",
   "metadata": {},
   "outputs": [
    {
     "name": "stdout",
     "output_type": "stream",
     "text": [
      "1800\n"
     ]
    }
   ],
   "source": [
    "width = 30 #int(input())\n",
    "height = 60 #int(input())\n",
    "\n",
    "area = width * height\n",
    "\n",
    "print(\"El área del triángulo con los parámetros dados es\", area)"
   ]
  },
  {
   "cell_type": "markdown",
   "id": "eaecd16f",
   "metadata": {},
   "source": [
    "## Q2\n",
    "Write a code that calculates the length of the hypotenuse by receiving the base and height as integers"
   ]
  },
  {
   "cell_type": "code",
   "execution_count": 37,
   "id": "9719e052",
   "metadata": {},
   "outputs": [
    {
     "name": "stdout",
     "output_type": "stream",
     "text": [
      "La base del triángulo es: 3\n",
      "La altura del triángulo es: 4\n",
      "La longitud de la hipotenusa es:  5.0\n"
     ]
    }
   ],
   "source": [
    "base = int(input(\"La base del triángulo es: \"))\n",
    "height = int(input(\"La altura del triángulo es: \"))\n",
    "\n",
    "c = (base**2 + height **2)**0.5\n",
    "\n",
    "print(\"La longitud de la hipotenusa es: \", c)"
   ]
  },
  {
   "cell_type": "markdown",
   "id": "25fb8f90",
   "metadata": {},
   "source": [
    "# Pair Programming"
   ]
  },
  {
   "cell_type": "markdown",
   "id": "4d013320",
   "metadata": {},
   "source": [
    "## Q1\n",
    "Receive a radius value from the user and print the circumference and area of a circle with this radius that follows. Use the variable pi = 3.141592 to obtain this value"
   ]
  },
  {
   "cell_type": "code",
   "execution_count": 39,
   "id": "0a02fc41",
   "metadata": {},
   "outputs": [
    {
     "name": "stdout",
     "output_type": "stream",
     "text": [
      "Ponga el valor del radio: 11\n",
      "La circunferencia de un círculo con el radio introducido es 69.115024\n",
      "El área de un círculo con el radio introducido es 380.132632\n"
     ]
    }
   ],
   "source": [
    "PI = 3.141592\n",
    "radio = int(input(\"Ponga el valor del radio: \"))\n",
    "\n",
    "circunferencia = 2 * radio * PI\n",
    "area = PI * radio**2\n",
    "\n",
    "print(\"La circunferencia de un círculo con el radio introducido es\", circunferencia)\n",
    "print(\"El área de un círculo con el radio introducido es\", area)"
   ]
  },
  {
   "cell_type": "markdown",
   "id": "34729f18",
   "metadata": {},
   "source": [
    "## Q2\n",
    "Write a program that displays the squared values from 2 to 6 in a table as the following. As shown below, a can be increased from 2 to 6, and n has a value of 2. Input the actual value for the part corresponding to a^n, so that the output result of the equation is 2^2."
   ]
  },
  {
   "cell_type": "code",
   "execution_count": 40,
   "id": "76f48b63",
   "metadata": {},
   "outputs": [
    {
     "name": "stdout",
     "output_type": "stream",
     "text": [
      "a \t n \t resultado\n",
      "2 \t 2 \t 4\n",
      "3 \t 2 \t 9\n",
      "4 \t 2 \t 16\n",
      "5 \t 2 \t 25\n",
      "6 \t 2 \t 36\n"
     ]
    }
   ],
   "source": [
    "print(\"a\", \"\\t\", \"n\", \"\\t\", \"resultado\")\n",
    "a = 2\n",
    "n = 2\n",
    "resultado = a**n\n",
    "print(a, \"\\t\", n, \"\\t\", resultado)\n",
    "a = a + 1\n",
    "resultado = a**n\n",
    "print(a, \"\\t\", n, \"\\t\", resultado)\n",
    "a = a + 1\n",
    "resultado = a**n\n",
    "print(a, \"\\t\", n, \"\\t\", resultado)\n",
    "a = a + 1\n",
    "resultado = a**n\n",
    "print(a, \"\\t\", n, \"\\t\", resultado)\n",
    "a = a + 1\n",
    "resultado = a**n\n",
    "print(a, \"\\t\", n, \"\\t\", resultado)"
   ]
  }
 ],
 "metadata": {
  "kernelspec": {
   "display_name": "Python 3 (ipykernel)",
   "language": "python",
   "name": "python3"
  },
  "language_info": {
   "codemirror_mode": {
    "name": "ipython",
    "version": 3
   },
   "file_extension": ".py",
   "mimetype": "text/x-python",
   "name": "python",
   "nbconvert_exporter": "python",
   "pygments_lexer": "ipython3",
   "version": "3.10.9"
  }
 },
 "nbformat": 4,
 "nbformat_minor": 5
}
