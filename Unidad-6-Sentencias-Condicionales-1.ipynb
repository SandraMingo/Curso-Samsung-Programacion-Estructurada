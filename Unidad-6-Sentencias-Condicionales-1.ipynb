{
 "cells": [
  {
   "cell_type": "markdown",
   "id": "64172cb4",
   "metadata": {},
   "source": [
    "# Unidad 6 - Sentencias Condicionales - I"
   ]
  },
  {
   "cell_type": "markdown",
   "id": "9c987846",
   "metadata": {},
   "source": [
    "## Razones para usar sentencias condicionales\n",
    "\n",
    "Algunas sentencias solo se ejecutan si se satisfacen ciertas condiciones, por ejemplo:\n",
    "- solo se se aplica descuento de carnet joven si tiene menos de 20 años\n",
    "- has conseguido el objetivo si has andado al menos 10000 pasos\n",
    "\n",
    "Para especificar estas situaciones en Python usamos la sentencia `if`:"
   ]
  },
  {
   "cell_type": "code",
   "execution_count": 8,
   "id": "1601a837",
   "metadata": {},
   "outputs": [
    {
     "name": "stdout",
     "output_type": "stream",
     "text": [
      "Tienes derecho al descuento por carnet joven\n",
      "Fin del programa\n"
     ]
    }
   ],
   "source": [
    "age = 17\n",
    "\n",
    "is_young =  age < 20\n",
    "\n",
    "if is_young:\n",
    "    print(\"Tienes derecho al descuento por carnet joven\")\n",
    "\n",
    "print(\"Fin del programa\")"
   ]
  },
  {
   "cell_type": "markdown",
   "id": "798b7f25",
   "metadata": {},
   "source": [
    "El código condicional (opcional) forma un **bloque** que debe estar convenientemente **sangrado**:"
   ]
  },
  {
   "cell_type": "code",
   "execution_count": null,
   "id": "e2d409bd",
   "metadata": {},
   "outputs": [],
   "source": [
    "number_of_steps = int(input(\"Inserte el número de pasos: \"))\n",
    "\n",
    "if number_of_steps > 1000:\n",
    "    print(\"Enhorabuena\")\n",
    "    print(\"Objetivo conseguido\")"
   ]
  },
  {
   "cell_type": "markdown",
   "id": "0967211a",
   "metadata": {},
   "source": [
    "Un bloque puede estar formado por varias líneas y contener líneas en blanco. Por ejemplo, podemos imprimir un saludo de bienvenida que incluya la edad al anunciar que se aplicará el descuento de carnet joven:"
   ]
  },
  {
   "cell_type": "code",
   "execution_count": 11,
   "id": "5301183f",
   "metadata": {},
   "outputs": [
    {
     "name": "stdout",
     "output_type": "stream",
     "text": [
      "Ponga su edad: 19\n",
      "Bienvenido\n",
      "Se te aplicará el descuento joven\n",
      "Te quedan 3 años para disfrutar del descuento, aprovéchalo\n",
      "Fin del programa\n"
     ]
    }
   ],
   "source": [
    "edad = int(input(\"Ponga su edad: \"))\n",
    "\n",
    "if edad < 20:\n",
    "    print(\"Bienvenido\")\n",
    "    print(\"Se te aplicará el descuento joven\")\n",
    "    \n",
    "    quedan = 20 - age\n",
    "    print(\"Te quedan\", quedan, \"años para disfrutar del descuento, aprovéchalo\")\n",
    "\n",
    "print(\"Fin del programa\")"
   ]
  },
  {
   "cell_type": "markdown",
   "id": "32905552",
   "metadata": {},
   "source": [
    "## Ejemplos\n",
    "\n",
    "- imprimir un mensaje si un entero leido por teclado es múltiplo de 3\n",
    "- imprimir un mensaje si un entero leido por teclado es múltiplo de 3 y de 5\n",
    "- imprimir un mensaje de bienvenida a un usuario si el identificador de _login_ es correcto\n",
    "- imprimir un mensaje si un número entero por teclado es par\n"
   ]
  },
  {
   "cell_type": "code",
   "execution_count": 12,
   "id": "c7a4c032",
   "metadata": {},
   "outputs": [
    {
     "name": "stdout",
     "output_type": "stream",
     "text": [
      "Dame un entero: 6\n",
      "6 es múltiplo de 3\n"
     ]
    }
   ],
   "source": [
    "n = int(input(\"Dame un entero: \"))\n",
    "\n",
    "if n % 3 == 0:\n",
    "    print(n, \"es múltiplo de 3\")"
   ]
  },
  {
   "cell_type": "code",
   "execution_count": 14,
   "id": "9ed42541",
   "metadata": {},
   "outputs": [
    {
     "name": "stdout",
     "output_type": "stream",
     "text": [
      "Dame un entero: 15\n",
      "15 es múltiplo de 3 y de 5\n"
     ]
    }
   ],
   "source": [
    "n = int(input(\"Dame un entero: \"))\n",
    "\n",
    "if n % 3 == 0 and n % 5 == 0:\n",
    "    print(n, \"es múltiplo de 3 y de 5\")"
   ]
  },
  {
   "cell_type": "code",
   "execution_count": 18,
   "id": "04c23bde",
   "metadata": {},
   "outputs": [
    {
     "name": "stdout",
     "output_type": "stream",
     "text": [
      "login: paula\n",
      "Welcome, paula\n"
     ]
    }
   ],
   "source": [
    "entered_login = input(\"login: \")\n",
    "\n",
    "correct_login = \"paula\"\n",
    "\n",
    "if entered_login == correct_login:\n",
    "    print(\"Welcome,\", correct_login)"
   ]
  },
  {
   "cell_type": "code",
   "execution_count": 21,
   "id": "5c165006",
   "metadata": {},
   "outputs": [
    {
     "name": "stdout",
     "output_type": "stream",
     "text": [
      "Ponga un número: 6\n",
      "6 es un número par\n"
     ]
    }
   ],
   "source": [
    "n = int(input(\"Ponga un número: \"))\n",
    "\n",
    "if n % 2 == 0:\n",
    "    print(n, \"es un número par\")"
   ]
  },
  {
   "cell_type": "markdown",
   "id": "27810e42",
   "metadata": {},
   "source": [
    "## Casos especiales\n",
    "- A veces aparecen dos pasos consecutivos excluyentes\n",
    "- A veces no queremos hacer **nada** si la condición se cumple (el bloque está vacío)"
   ]
  },
  {
   "cell_type": "code",
   "execution_count": 23,
   "id": "1bc4a929",
   "metadata": {},
   "outputs": [
    {
     "name": "stdout",
     "output_type": "stream",
     "text": [
      "Ponga un número: 7\n",
      "7 es un número impar\n"
     ]
    }
   ],
   "source": [
    "n = int(input(\"Ponga un número: \"))\n",
    "\n",
    "if n % 2 == 0:\n",
    "    print(n, \"es un número par\")\n",
    "if n % 2 != 0:\n",
    "    print(n, \"es un número impar\")"
   ]
  },
  {
   "cell_type": "code",
   "execution_count": null,
   "id": "7ddc6bec",
   "metadata": {},
   "outputs": [],
   "source": [
    "n = int(input(\"Dame un entero: \"))\n",
    "\n",
    "if n == 0:\n",
    "    pass # bloque vacío\n",
    "    \n",
    "print(\"Fin del programa\")"
   ]
  },
  {
   "cell_type": "markdown",
   "id": "81ca8f04",
   "metadata": {},
   "source": [
    "## El método `split()`\n",
    "\n",
    "- Hasta ahora solo hemos utilizado funciones como `print()`o `input()`:"
   ]
  },
  {
   "cell_type": "code",
   "execution_count": 25,
   "id": "d7af0c3e",
   "metadata": {},
   "outputs": [
    {
     "name": "stdout",
     "output_type": "stream",
     "text": [
      "Hola, soy Python.\n",
      "¿cómo te llamas? Lara\n",
      "Encantado, Lara\n"
     ]
    }
   ],
   "source": [
    "print(\"Hola, soy Python.\")\n",
    "nombre = input(\"¿cómo te llamas? \")\n",
    "print(\"Encantado,\", nombre)"
   ]
  },
  {
   "cell_type": "markdown",
   "id": "a0256820",
   "metadata": {},
   "source": [
    "- En Python también se pueden usar **métodos**. Son _similares_ a las funciones, pero se usan de forma distinta.\n",
    "- Por ejemplo `nombre.upper()` se aplica a la cadena `nombre` y devuelve la cadena convertida a mayúsculas.\n",
    "- Observa que la sintaxis es `nombre.upper()`; no `upper(nombre)`\n",
    "- Un método es similar a la función, pero el valor al que se aplica no aparece entre paréntesis; aparece antes del nombre del método, separado de este por un punto:\n",
    "\n",
    "|           | Sintaxis          | Ejemplo        |\n",
    "|-----------|-------------------|----------------|\n",
    "**Función** | nombre(expresion) | `print(2 * 3)` |\n",
    "**Método**  | variable.nombre() | `\"hi\".upper()` |\n",
    "\n",
    "**Nota:** Lo que llamamos método es un realmente un _mensaje_. Los veremos al estudiar clases y objetos."
   ]
  },
  {
   "cell_type": "code",
   "execution_count": 26,
   "id": "3b10f37f",
   "metadata": {},
   "outputs": [
    {
     "data": {
      "text/plain": [
       "'LARA'"
      ]
     },
     "execution_count": 26,
     "metadata": {},
     "output_type": "execute_result"
    }
   ],
   "source": [
    "nombre.upper()"
   ]
  },
  {
   "cell_type": "code",
   "execution_count": null,
   "id": "bb56976c",
   "metadata": {},
   "outputs": [],
   "source": [
    "nombre"
   ]
  },
  {
   "cell_type": "markdown",
   "id": "26ff6fcc",
   "metadata": {},
   "source": [
    "El método `split()` separa una cadena en varias cadenas, usando blancos como separadores:"
   ]
  },
  {
   "cell_type": "code",
   "execution_count": 27,
   "id": "97944dd3",
   "metadata": {},
   "outputs": [
    {
     "data": {
      "text/plain": [
       "['hola', 'que', 'tal', 'soy', 'python']"
      ]
     },
     "execution_count": 27,
     "metadata": {},
     "output_type": "execute_result"
    }
   ],
   "source": [
    "cadena = \"hola que tal soy python\"\n",
    "cadena.split()"
   ]
  },
  {
   "cell_type": "markdown",
   "id": "b8563b3a",
   "metadata": {},
   "source": [
    "También se puede indicar entre paréntesis qué carácter queremos usar como separador:"
   ]
  },
  {
   "cell_type": "code",
   "execution_count": 28,
   "id": "e5b3b792",
   "metadata": {},
   "outputs": [
    {
     "data": {
      "text/plain": [
       "['12.34', '-18', '43']"
      ]
     },
     "execution_count": 28,
     "metadata": {},
     "output_type": "execute_result"
    }
   ],
   "source": [
    "otra_cadena = \"12.34,-18,43\"\n",
    "otra_cadena.split(\",\")"
   ]
  },
  {
   "cell_type": "markdown",
   "id": "4197a8bb",
   "metadata": {},
   "source": [
    "El método `split()` se suele usar con la función `input()` para leer varios datos por teclado con un solo `imput()`:"
   ]
  },
  {
   "cell_type": "code",
   "execution_count": null,
   "id": "20d8f453",
   "metadata": {},
   "outputs": [],
   "source": [
    "a, b, c = input(\"dame tres números: \").split()\n",
    "print(a, b, c)"
   ]
  },
  {
   "cell_type": "markdown",
   "id": "e0c07317",
   "metadata": {},
   "source": [
    "## Solución del primer ejercicio de paper coding (344)\n",
    "\n",
    "If a game user's game_score is over 1000 points, print \"You are a master\""
   ]
  },
  {
   "cell_type": "code",
   "execution_count": null,
   "id": "1fec9f35",
   "metadata": {},
   "outputs": [],
   "source": [
    "game_score = int(input(\"Ponga su puntuación: \"))\n",
    "if game_score > 1000:\n",
    "    print(\"You're a master.)"
   ]
  },
  {
   "cell_type": "markdown",
   "id": "ec46cdb4",
   "metadata": {},
   "source": [
    "## Solución del segundo ejercicio de paper coding (345)\n",
    "\n",
    "Write a program that receives any integer x between -100 and 100 and\n",
    "1. Prints x on the screen\n",
    "1. Prints \"the number is a natural number\" if x is an integer greater than zero. Otherwise, let it simply print x as in x = -10."
   ]
  },
  {
   "cell_type": "code",
   "execution_count": 32,
   "id": "0dd2ebd2",
   "metadata": {},
   "outputs": [
    {
     "name": "stdout",
     "output_type": "stream",
     "text": [
      "Ponga un número entre -100 y 100: -10\n",
      "x = -10\n"
     ]
    }
   ],
   "source": [
    "numero = int(input(\"Ponga un número entre -100 y 100: \"))\n",
    "\n",
    "if numero >= -100 and numero <= 100:\n",
    "    print(\"x =\", numero)\n",
    "    if numero >= 0:\n",
    "        print(\"El número\", numero, \"es un número natural\")"
   ]
  },
  {
   "cell_type": "markdown",
   "id": "8dd4d997",
   "metadata": {},
   "source": [
    "## Solución del primer ejercicio de pair programming (358)\n",
    "\n",
    "Write a program that receives age as input and prints \"Adult\" if age is 20 or over, \"Youth\" if under 20 and equal to or over 10 and \"Kid\" if under 10. "
   ]
  },
  {
   "cell_type": "code",
   "execution_count": 35,
   "id": "2af120aa",
   "metadata": {},
   "outputs": [
    {
     "name": "stdout",
     "output_type": "stream",
     "text": [
      "Inserte su edad: 22\n",
      "Adulto\n"
     ]
    }
   ],
   "source": [
    "age = int(input(\"Inserte su edad: \"))\n",
    "\n",
    "if age >= 20:\n",
    "    print(\"Adulto\")\n",
    "if age < 20 and age >=10:\n",
    "    print(\"Joven\")\n",
    "if age < 10:\n",
    "    print(\"Niño\")"
   ]
  },
  {
   "cell_type": "markdown",
   "id": "e5ec1648",
   "metadata": {},
   "source": [
    "## Solución del segundo ejercicio de pair programming (359)\n",
    "\n",
    "Estamos en un parque de atracciones donde tienes que tener mínimo 14 años para montarte o medir más de 150 cm."
   ]
  },
  {
   "cell_type": "code",
   "execution_count": 36,
   "id": "f912d2e4",
   "metadata": {},
   "outputs": [
    {
     "name": "stdout",
     "output_type": "stream",
     "text": [
      "Ponga su edad: 12\n",
      "Ponga su altura en cm: 160\n",
      "Puedes montarte.\n"
     ]
    }
   ],
   "source": [
    "edad = int(input(\"Ponga su edad: \"))\n",
    "\n",
    "altura_cm = int(input(\"Ponga su altura en cm: \"))\n",
    "\n",
    "if edad >= 14 or altura_cm > 150:   # and\n",
    "    print(\"Puedes montarte en la atracción.\")"
   ]
  },
  {
   "cell_type": "markdown",
   "id": "9bdd3a27",
   "metadata": {},
   "source": [
    "## Solución del mission problem (307)\n",
    "\n",
    "Lotería"
   ]
  },
  {
   "cell_type": "code",
   "execution_count": 48,
   "id": "84dce0c4",
   "metadata": {},
   "outputs": [
    {
     "name": "stdout",
     "output_type": "stream",
     "text": [
      "Ponga 3 números de un dígito separados por una coma: 2,9,3\n",
      "Has ganado la lotería\n"
     ]
    }
   ],
   "source": [
    "a, b, c = 2, 3, 9 # números ganadores\n",
    "\n",
    "x, y, z = input(\"Ponga 3 números de un dígito separados por una coma: \").split(\",\")\n",
    "\n",
    "x, y, z = int(x), int(y), int(z)\n",
    "\n",
    "if a == x and b == y and c == z:\n",
    "    print(\"Has ganado la lotería\")\n",
    "if a == x and c == y and b == z:\n",
    "    print(\"Has ganado la lotería\")\n",
    "if b == x and a == y and c == z:\n",
    "    print(\"Has ganado la lotería\")\n",
    "if b == x and c == y and a == z:\n",
    "    print(\"Has ganado la lotería\")\n",
    "if c == x and b == y and a == z:\n",
    "    print(\"Has ganado la lotería\")\n",
    "if c == x and a == y and b == z:\n",
    "    print(\"Has ganado la lotería\")"
   ]
  },
  {
   "cell_type": "code",
   "execution_count": 49,
   "id": "e5e0f2b6",
   "metadata": {},
   "outputs": [
    {
     "name": "stdout",
     "output_type": "stream",
     "text": [
      "pon tres números separados con coma: 3,9,2\n",
      "Has ganado la lotería\n"
     ]
    }
   ],
   "source": [
    "a,b,c = input(\"pon tres números separados con coma: \").split(\",\")\n",
    "\n",
    "a,b,c = int(a), int(b), int(c)\n",
    "\n",
    "n_1 = 2\n",
    "n_2 = 3\n",
    "n_3 = 9\n",
    "\n",
    "num_aciertos = 0\n",
    "\n",
    "\n",
    "if a == n_1 or a == n_2 or a == n_3:\n",
    "    num_aciertos += 1\n",
    "        \n",
    "if b == n_1 or b == n_2 or b == n_3:\n",
    "    num_aciertos += 1\n",
    "\n",
    "if c == n_1 or c == n_2 or c == n_3:\n",
    "    num_aciertos += 1\n",
    "    \n",
    "if num_aciertos == 3:\n",
    "    print(\"Has ganado la lotería\")"
   ]
  }
 ],
 "metadata": {
  "kernelspec": {
   "display_name": "Python 3 (ipykernel)",
   "language": "python",
   "name": "python3"
  },
  "language_info": {
   "codemirror_mode": {
    "name": "ipython",
    "version": 3
   },
   "file_extension": ".py",
   "mimetype": "text/x-python",
   "name": "python",
   "nbconvert_exporter": "python",
   "pygments_lexer": "ipython3",
   "version": "3.10.9"
  }
 },
 "nbformat": 4,
 "nbformat_minor": 5
}
