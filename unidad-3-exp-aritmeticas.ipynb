{
 "cells": [
  {
   "cell_type": "markdown",
   "id": "d59f5c0f",
   "metadata": {},
   "source": [
    "# Unidad 3 - Expresiones aritméticas"
   ]
  },
  {
   "cell_type": "code",
   "execution_count": null,
   "id": "2be56bfc",
   "metadata": {
    "scrolled": true
   },
   "outputs": [],
   "source": [
    "100 + 20"
   ]
  },
  {
   "cell_type": "code",
   "execution_count": null,
   "id": "f6ae5f58",
   "metadata": {},
   "outputs": [],
   "source": [
    "75 - 25"
   ]
  },
  {
   "cell_type": "code",
   "execution_count": null,
   "id": "71048bb9",
   "metadata": {},
   "outputs": [],
   "source": [
    "2 * 6"
   ]
  },
  {
   "cell_type": "code",
   "execution_count": null,
   "id": "b0d16b65",
   "metadata": {},
   "outputs": [],
   "source": [
    "10 / 2"
   ]
  },
  {
   "cell_type": "code",
   "execution_count": null,
   "id": "0b7476b8",
   "metadata": {},
   "outputs": [],
   "source": [
    "11 / 2"
   ]
  },
  {
   "cell_type": "code",
   "execution_count": null,
   "id": "e799aaf3",
   "metadata": {},
   "outputs": [],
   "source": [
    "5.7 + 7.4"
   ]
  },
  {
   "cell_type": "code",
   "execution_count": null,
   "id": "24c1d072",
   "metadata": {
    "scrolled": true
   },
   "outputs": [],
   "source": [
    "10 // 2"
   ]
  },
  {
   "cell_type": "code",
   "execution_count": null,
   "id": "2c0cee67",
   "metadata": {},
   "outputs": [],
   "source": [
    "10 / 2"
   ]
  },
  {
   "cell_type": "code",
   "execution_count": null,
   "id": "305207b8",
   "metadata": {},
   "outputs": [],
   "source": [
    "10.0 / 2.0"
   ]
  },
  {
   "cell_type": "code",
   "execution_count": null,
   "id": "55d90310",
   "metadata": {
    "scrolled": false
   },
   "outputs": [],
   "source": [
    "10.0 // 2.0"
   ]
  },
  {
   "cell_type": "code",
   "execution_count": null,
   "id": "65201abd",
   "metadata": {},
   "outputs": [],
   "source": [
    "11.0 // 2.0"
   ]
  },
  {
   "cell_type": "code",
   "execution_count": null,
   "id": "681a3c76",
   "metadata": {},
   "outputs": [],
   "source": [
    "11.0 / 2.0"
   ]
  },
  {
   "cell_type": "code",
   "execution_count": null,
   "id": "18c8c832",
   "metadata": {},
   "outputs": [],
   "source": [
    "10 // 5"
   ]
  },
  {
   "cell_type": "code",
   "execution_count": null,
   "id": "2ed11edb",
   "metadata": {},
   "outputs": [],
   "source": [
    "10.0 // 5"
   ]
  },
  {
   "cell_type": "code",
   "execution_count": null,
   "id": "a0100b7c",
   "metadata": {},
   "outputs": [],
   "source": [
    "20 // 9"
   ]
  },
  {
   "cell_type": "code",
   "execution_count": null,
   "id": "17d65c09",
   "metadata": {},
   "outputs": [],
   "source": [
    "20 % 9"
   ]
  },
  {
   "cell_type": "code",
   "execution_count": null,
   "id": "39bce1c2",
   "metadata": {},
   "outputs": [],
   "source": [
    "15 % 3"
   ]
  },
  {
   "cell_type": "code",
   "execution_count": null,
   "id": "7ba5b63c",
   "metadata": {},
   "outputs": [],
   "source": [
    "897249826498234 % 2"
   ]
  },
  {
   "cell_type": "code",
   "execution_count": null,
   "id": "09470d3c",
   "metadata": {},
   "outputs": [],
   "source": [
    "897249826498235 % 2"
   ]
  },
  {
   "cell_type": "code",
   "execution_count": null,
   "id": "d6442982",
   "metadata": {},
   "outputs": [],
   "source": [
    "57 // 0"
   ]
  },
  {
   "cell_type": "code",
   "execution_count": null,
   "id": "8ad4dc28",
   "metadata": {},
   "outputs": [],
   "source": [
    "57 / 0"
   ]
  },
  {
   "cell_type": "code",
   "execution_count": null,
   "id": "f394f9ba",
   "metadata": {},
   "outputs": [],
   "source": [
    "5 ** 2 # * = producto, ** = potencia"
   ]
  },
  {
   "cell_type": "code",
   "execution_count": null,
   "id": "0c059481",
   "metadata": {},
   "outputs": [],
   "source": [
    "23 ** 3"
   ]
  },
  {
   "cell_type": "code",
   "execution_count": null,
   "id": "2fdf24b3",
   "metadata": {},
   "outputs": [],
   "source": [
    "3 ** 4 ** 5"
   ]
  },
  {
   "cell_type": "code",
   "execution_count": null,
   "id": "710fe665",
   "metadata": {},
   "outputs": [],
   "source": [
    "2 ** 63"
   ]
  },
  {
   "cell_type": "code",
   "execution_count": null,
   "id": "38b62f66",
   "metadata": {},
   "outputs": [],
   "source": [
    "- 17"
   ]
  },
  {
   "cell_type": "code",
   "execution_count": null,
   "id": "3864f859",
   "metadata": {},
   "outputs": [],
   "source": [
    "+ 67"
   ]
  },
  {
   "cell_type": "code",
   "execution_count": null,
   "id": "2ef4cd4c",
   "metadata": {
    "scrolled": true
   },
   "outputs": [],
   "source": [
    "3 * 7"
   ]
  },
  {
   "cell_type": "code",
   "execution_count": null,
   "id": "abdf4f3c",
   "metadata": {},
   "outputs": [],
   "source": [
    "3 * 7 * 5"
   ]
  },
  {
   "cell_type": "code",
   "execution_count": null,
   "id": "512a4abb",
   "metadata": {},
   "outputs": [],
   "source": [
    "3 + 7 * 5"
   ]
  },
  {
   "cell_type": "code",
   "execution_count": null,
   "id": "46c94977",
   "metadata": {},
   "outputs": [],
   "source": [
    "(3 + 7) * 5"
   ]
  },
  {
   "cell_type": "code",
   "execution_count": null,
   "id": "ab9675e1",
   "metadata": {
    "scrolled": true
   },
   "outputs": [],
   "source": [
    "3 + \"hola\""
   ]
  },
  {
   "cell_type": "code",
   "execution_count": null,
   "id": "e5e8879b",
   "metadata": {},
   "outputs": [],
   "source": [
    "\"hola\" + 3"
   ]
  },
  {
   "cell_type": "code",
   "execution_count": null,
   "id": "c5e8a855",
   "metadata": {},
   "outputs": [],
   "source": [
    "\"hola \" + \"python\""
   ]
  },
  {
   "cell_type": "code",
   "execution_count": null,
   "id": "7db2d394",
   "metadata": {},
   "outputs": [],
   "source": [
    "type(\"hola\" + \"python\")"
   ]
  },
  {
   "cell_type": "code",
   "execution_count": null,
   "id": "655ce6c7",
   "metadata": {
    "scrolled": true
   },
   "outputs": [],
   "source": [
    "3 + \"hola\""
   ]
  },
  {
   "cell_type": "code",
   "execution_count": null,
   "id": "361344cd",
   "metadata": {},
   "outputs": [],
   "source": [
    "type(3 * \"hola\")"
   ]
  },
  {
   "cell_type": "code",
   "execution_count": null,
   "id": "4b2bf00d",
   "metadata": {
    "scrolled": true
   },
   "outputs": [],
   "source": [
    "type(3 * 8) "
   ]
  },
  {
   "cell_type": "code",
   "execution_count": null,
   "id": "c02e6895",
   "metadata": {},
   "outputs": [],
   "source": [
    "type(3.1 * 6)"
   ]
  },
  {
   "cell_type": "code",
   "execution_count": null,
   "id": "db0dfaae",
   "metadata": {},
   "outputs": [],
   "source": [
    "3 + 4"
   ]
  },
  {
   "cell_type": "code",
   "execution_count": null,
   "id": "27b96a83",
   "metadata": {},
   "outputs": [],
   "source": [
    "\"hola \" + \"python\""
   ]
  },
  {
   "cell_type": "code",
   "execution_count": null,
   "id": "0632c9bf",
   "metadata": {},
   "outputs": [],
   "source": [
    "\"hola\" * 5"
   ]
  },
  {
   "cell_type": "code",
   "execution_count": null,
   "id": "1897f374",
   "metadata": {
    "scrolled": false
   },
   "outputs": [],
   "source": [
    "\"hola \" + 5 # \"hola 5\""
   ]
  },
  {
   "cell_type": "code",
   "execution_count": null,
   "id": "4bc7c98c",
   "metadata": {},
   "outputs": [],
   "source": [
    "# conversión de tipo\n",
    "\"hola \"  + str(5)"
   ]
  },
  {
   "cell_type": "code",
   "execution_count": null,
   "id": "18db25ce",
   "metadata": {},
   "outputs": [],
   "source": [
    "str(5.7)"
   ]
  },
  {
   "cell_type": "code",
   "execution_count": null,
   "id": "f1ae33da",
   "metadata": {},
   "outputs": [],
   "source": [
    "int(5.7)"
   ]
  },
  {
   "cell_type": "code",
   "execution_count": null,
   "id": "d833c402",
   "metadata": {},
   "outputs": [],
   "source": [
    "int(\"   8761   \")"
   ]
  },
  {
   "cell_type": "code",
   "execution_count": null,
   "id": "cf0e7d58",
   "metadata": {},
   "outputs": [],
   "source": [
    "float(15)"
   ]
  },
  {
   "cell_type": "code",
   "execution_count": null,
   "id": "642622eb",
   "metadata": {},
   "outputs": [],
   "source": [
    "float(\"  -56243.787685 t \")"
   ]
  },
  {
   "cell_type": "code",
   "execution_count": null,
   "id": "2bb7de8b",
   "metadata": {},
   "outputs": [],
   "source": [
    "\"hola\" + \" python\""
   ]
  },
  {
   "cell_type": "code",
   "execution_count": null,
   "id": "30192980",
   "metadata": {},
   "outputs": [],
   "source": [
    "5 * \"python\""
   ]
  },
  {
   "cell_type": "code",
   "execution_count": null,
   "id": "d683da38",
   "metadata": {
    "scrolled": true
   },
   "outputs": [],
   "source": [
    "\"This is a string!\"[-17]"
   ]
  },
  {
   "cell_type": "code",
   "execution_count": null,
   "id": "b456b0f5",
   "metadata": {},
   "outputs": [],
   "source": [
    "'hola'"
   ]
  },
  {
   "cell_type": "code",
   "execution_count": null,
   "id": "460dfa5e",
   "metadata": {},
   "outputs": [],
   "source": [
    "\"dijo \\\"adios\\\" y se fue\"  # \\n \\\""
   ]
  },
  {
   "cell_type": "code",
   "execution_count": null,
   "id": "61caba07",
   "metadata": {
    "scrolled": true
   },
   "outputs": [],
   "source": [
    "'dijo \"adios\" y se fue'"
   ]
  },
  {
   "cell_type": "code",
   "execution_count": null,
   "id": "9403edf5",
   "metadata": {
    "scrolled": true
   },
   "outputs": [],
   "source": [
    "\"teclea 'Intro' para salir\""
   ]
  },
  {
   "cell_type": "code",
   "execution_count": null,
   "id": "575630bb",
   "metadata": {},
   "outputs": [],
   "source": [
    "'La ruta debe ser c:\\users\\pepe\\anaconda3'  #   \\x  \\n  \\\"  \\' \\t  \\\\"
   ]
  },
  {
   "cell_type": "code",
   "execution_count": null,
   "id": "ffc3502d",
   "metadata": {},
   "outputs": [],
   "source": [
    "print(\"La ruta debe ser c:\\\\users\\\\pepe\\\\anaconda3\")"
   ]
  },
  {
   "cell_type": "code",
   "execution_count": null,
   "id": "83bccea1",
   "metadata": {},
   "outputs": [],
   "source": [
    "\"hola\""
   ]
  },
  {
   "cell_type": "code",
   "execution_count": null,
   "id": "e655bd7e",
   "metadata": {
    "scrolled": true
   },
   "outputs": [],
   "source": [
    "print(\"\\thola\\tmundo\\t\")"
   ]
  },
  {
   "cell_type": "code",
   "execution_count": null,
   "id": "9ec9dcb5",
   "metadata": {},
   "outputs": [],
   "source": [
    "\"\\thola\\tmundo\\t\""
   ]
  },
  {
   "cell_type": "code",
   "execution_count": null,
   "id": "c5db0f58",
   "metadata": {
    "scrolled": true
   },
   "outputs": [],
   "source": [
    "print(\"python\\t1991\")\n",
    "print(\"java\\t1994\")"
   ]
  },
  {
   "cell_type": "markdown",
   "id": "ec996174",
   "metadata": {},
   "source": [
    "# Solución del primer ejercicio de paper coding"
   ]
  },
  {
   "cell_type": "code",
   "execution_count": null,
   "id": "76625e87",
   "metadata": {
    "scrolled": true
   },
   "outputs": [],
   "source": [
    "50 + int(\"50\")"
   ]
  },
  {
   "cell_type": "code",
   "execution_count": null,
   "id": "010f7667",
   "metadata": {
    "scrolled": true
   },
   "outputs": [],
   "source": [
    "\"50\" + str(50)"
   ]
  },
  {
   "cell_type": "markdown",
   "id": "a3b5a601",
   "metadata": {},
   "source": [
    "# Solución del segundo ejercicio de paper coding"
   ]
  },
  {
   "cell_type": "code",
   "execution_count": null,
   "id": "9605174a",
   "metadata": {},
   "outputs": [],
   "source": [
    "int (\"1\" + \"0\" + \"0\" + \"0\")"
   ]
  },
  {
   "cell_type": "markdown",
   "id": "40146773",
   "metadata": {},
   "source": [
    "# Solución del ejercicio de pair programming"
   ]
  },
  {
   "cell_type": "code",
   "execution_count": null,
   "id": "385bdd90",
   "metadata": {},
   "outputs": [],
   "source": [
    "print(\"Calculate the factorial\")\n",
    "print(\"5!=\", 1 * 2 * 3 * 4 * 5)"
   ]
  }
 ],
 "metadata": {
  "kernelspec": {
   "display_name": "Python 3 (ipykernel)",
   "language": "python",
   "name": "python3"
  },
  "language_info": {
   "codemirror_mode": {
    "name": "ipython",
    "version": 3
   },
   "file_extension": ".py",
   "mimetype": "text/x-python",
   "name": "python",
   "nbconvert_exporter": "python",
   "pygments_lexer": "ipython3",
   "version": "3.10.9"
  }
 },
 "nbformat": 4,
 "nbformat_minor": 5
}
