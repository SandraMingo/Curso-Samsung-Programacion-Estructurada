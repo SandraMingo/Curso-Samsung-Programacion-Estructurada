{
 "cells": [
  {
   "cell_type": "markdown",
   "id": "8af0e43f",
   "metadata": {},
   "source": [
    "# Ejercicios básicos de Python - Colecciones"
   ]
  },
  {
   "cell_type": "markdown",
   "id": "50d031d8",
   "metadata": {},
   "source": [
    "## Media, máximo y mínimo\n",
    "\n",
    "Usando iteración sobre colecciones, escribe un programa que calcule el máximo, el mínimo y la media aritmética de una lista de números. La respuesta se debe almacenar en una tupla con tres elementos. Por ejemplo, para la lista `[13, 8, 9, 45, 1, 0, 0, 6, 12]` se debe obtener la tupla `(45, 0, 10.44)`."
   ]
  },
  {
   "cell_type": "code",
   "execution_count": 3,
   "id": "592cc101",
   "metadata": {},
   "outputs": [
    {
     "name": "stdout",
     "output_type": "stream",
     "text": [
      "(45, 0, 10.444444444444445)\n"
     ]
    }
   ],
   "source": [
    "lista = [13, 8, 9, 45, 1, 0, 0, 6, 12]\n",
    "\n",
    "maximo = lista[0]\n",
    "minimo = lista [0]\n",
    "\n",
    "suma = 0\n",
    "\n",
    "for numero in lista:\n",
    "    if numero > maximo:\n",
    "        maximo = numero\n",
    "    if numero < minimo:\n",
    "        minimo = numero\n",
    "    suma += numero\n",
    "    \n",
    "tupla_resultados = (maximo, minimo, suma/len(lista))\n",
    "\n",
    "print(tupla_resultados)"
   ]
  },
  {
   "cell_type": "markdown",
   "id": "217b6f01",
   "metadata": {},
   "source": [
    "## Eliminación de repetidos de una lista\n",
    "\n",
    "Escribe un programa que elimine los elementos repetidos de una lista. De cada elemento repetido solo debe quedar su primera apacición. Por ejemplo, para la lista `[3, 1, 7, 3, 1, 1, 5, 7, 4, 2, 7]` debes obtener `[3, 1, 7, 5, 4, 2]`."
   ]
  },
  {
   "cell_type": "code",
   "execution_count": 4,
   "id": "1450c0e5",
   "metadata": {},
   "outputs": [
    {
     "name": "stdout",
     "output_type": "stream",
     "text": [
      "[3, 1, 7, 5, 4, 2]\n"
     ]
    }
   ],
   "source": [
    "lista = [3, 1, 7, 3, 1, 1, 5, 7, 4, 2, 7]\n",
    "nueva_lista = []\n",
    "\n",
    "for numero in lista:\n",
    "    if numero not in nueva_lista:\n",
    "        nueva_lista.append(numero)\n",
    "        \n",
    "print(nueva_lista)"
   ]
  },
  {
   "cell_type": "markdown",
   "id": "c1832946",
   "metadata": {},
   "source": [
    "## Elementos repetidos de una lista\n",
    "\n",
    "Escribe un programa que dada una lista $x$ devuelva otra lista en la que figuren los elementos que aparecen repetidos en $x$. Por ejemplo, para la lista `[3, 1, 7, 3, 1, 1, 5, 7, 4, 2, 7]` debes obtener `[3, 1, 7]`."
   ]
  },
  {
   "cell_type": "code",
   "execution_count": 10,
   "id": "a391b688",
   "metadata": {},
   "outputs": [
    {
     "name": "stdout",
     "output_type": "stream",
     "text": [
      "[3, 1, 7]\n"
     ]
    }
   ],
   "source": [
    "lista = [3, 1, 7, 3, 1, 1, 5, 7, 4, 2, 7]\n",
    "lista_repetidos = []\n",
    "\n",
    "for numero in lista:\n",
    "    if lista.count(numero) > 1 and numero not in lista_repetidos:\n",
    "        lista_repetidos.append(numero)\n",
    "\n",
    "print(lista_repetidos)"
   ]
  },
  {
   "cell_type": "markdown",
   "id": "6c2b52a9",
   "metadata": {},
   "source": [
    "## Elementos no repetidos en una lista\n",
    "\n",
    "Escribe un programa que dada una lista cuente el número de elementos únicos (i.e. no repetidos) que aparecen en la misma. Por ejemplo, para la lista `[1,2,5,2,1,3]` debe mostrar `4`."
   ]
  },
  {
   "cell_type": "code",
   "execution_count": 12,
   "id": "6010f989",
   "metadata": {},
   "outputs": [
    {
     "name": "stdout",
     "output_type": "stream",
     "text": [
      "4\n"
     ]
    }
   ],
   "source": [
    "lista = [1, 2, 5, 2, 1, 3]\n",
    "nueva_lista = []\n",
    "cuenta = 0\n",
    "\n",
    "for numero in lista:\n",
    "    if numero not in nueva_lista:\n",
    "        nueva_lista.append(numero)\n",
    "        cuenta += 1\n",
    "        \n",
    "print(cuenta)"
   ]
  },
  {
   "cell_type": "markdown",
   "id": "ece303c9",
   "metadata": {},
   "source": [
    "## Elementos comunes de dos listas\n",
    "\n",
    "Escribe un programa que dadas dos listas cuente el número de elementos que tienen en común, sin tener en cuenta los números repetidos. Por ejemplo, para las listas `[3,7,3,-1,2,3,7,2,15]` y `[15,2,-1,7,15,36,15]` debe mostrar `4`, pues el `-1`, `2`, `7` y `15` aparecen en ambas listas."
   ]
  },
  {
   "cell_type": "code",
   "execution_count": 13,
   "id": "32a8b0bf",
   "metadata": {},
   "outputs": [
    {
     "name": "stdout",
     "output_type": "stream",
     "text": [
      "4 [7, -1, 2, 15]\n"
     ]
    }
   ],
   "source": [
    "lista1 = [3, 7, 3, -1, 2, 3, 7, 2, 15]\n",
    "lista2 = [15, 2, -1, 7, 15, 36, 15]\n",
    "\n",
    "lista_repetidos = []\n",
    "cuenta = 0\n",
    "\n",
    "for numero in lista1:\n",
    "    if numero not in lista_repetidos and numero in lista2:\n",
    "        lista_repetidos.append(numero)\n",
    "        cuenta += 1\n",
    "\n",
    "print(cuenta, lista_repetidos)"
   ]
  },
  {
   "cell_type": "markdown",
   "id": "acfb8132",
   "metadata": {},
   "source": [
    "\n",
    "## Distribución de frecuencias absolutas\n",
    "\n",
    "Escribe un programa que tome como entrada una cadena y construya una tabla de frecuencias absolutas, indicando cuántas veces aparece cada letra presente en la cadena. Por ejemplo, para la cadena `\"anaconda y python\"` la tabla de frecuencias absolutas es:\n",
    "\n",
    "| Letra | Frecuencia absoluta |\n",
    "|-------|---------------------|\n",
    "|   a   |          3          |\n",
    "|   c   |          1          |\n",
    "|   d   |          1          |\n",
    "|   h   |          1          |\n",
    "|   n   |          3          |\n",
    "|   o   |          2          |\n",
    "|   p   |          1          |\n",
    "|   t   |          1          |\n",
    "|   y   |          2          |\n",
    "| `' '` |          2          |\n",
    "\n",
    "El programa debe mostrar además la letra (o letras) más común, la letra (o letras) menos común y el número de letras distintas que aparecen en la cadena."
   ]
  },
  {
   "cell_type": "code",
   "execution_count": 17,
   "id": "37706cc3",
   "metadata": {},
   "outputs": [
    {
     "name": "stdout",
     "output_type": "stream",
     "text": [
      "Ponga una cadena: anaconda y python\n",
      "{'a': 3, 'n': 3, 'c': 1, 'o': 2, 'd': 1, ' ': 2, 'y': 2, 'p': 1, 't': 1, 'h': 1}\n",
      "En total hay 10 numeros de letras distintas.\n"
     ]
    },
    {
     "ename": "TypeError",
     "evalue": "'>' not supported between instances of 'int' and 'list'",
     "output_type": "error",
     "traceback": [
      "\u001b[1;31m---------------------------------------------------------------------------\u001b[0m",
      "\u001b[1;31mTypeError\u001b[0m                                 Traceback (most recent call last)",
      "Cell \u001b[1;32mIn[17], line 18\u001b[0m\n\u001b[0;32m     14\u001b[0m letras_menos_comunes \u001b[38;5;241m=\u001b[39m []\n\u001b[0;32m     16\u001b[0m \u001b[38;5;28;01mfor\u001b[39;00m clave, valor \u001b[38;5;129;01min\u001b[39;00m tabla_frecuencias_abs\u001b[38;5;241m.\u001b[39mitems():\n\u001b[0;32m     17\u001b[0m     \u001b[38;5;66;03m# Letras más comunes\u001b[39;00m\n\u001b[1;32m---> 18\u001b[0m     \u001b[38;5;28;01mif\u001b[39;00m \u001b[43mvalor\u001b[49m\u001b[43m \u001b[49m\u001b[38;5;241;43m>\u001b[39;49m\u001b[43m \u001b[49m\u001b[43mletras_mas_comunes\u001b[49m:\n\u001b[0;32m     19\u001b[0m         letras_mas_comunes \u001b[38;5;241m=\u001b[39m [clave]\n\u001b[0;32m     20\u001b[0m     \u001b[38;5;28;01melif\u001b[39;00m valor \u001b[38;5;241m==\u001b[39m letras_mas_comunes:\n",
      "\u001b[1;31mTypeError\u001b[0m: '>' not supported between instances of 'int' and 'list'"
     ]
    }
   ],
   "source": [
    "cadena = input(\"Ponga una cadena: \")\n",
    "\n",
    "tabla_frecuencias_abs = {}\n",
    "\n",
    "for caracter in cadena:\n",
    "    if caracter not in tabla_frecuencias_abs:\n",
    "        tabla_frecuencias_abs[caracter] = 0\n",
    "    tabla_frecuencias_abs[caracter] += 1\n",
    "    \n",
    "print(tabla_frecuencias_abs)\n",
    "print(\"En total hay\", len(tabla_frecuencias_abs), \"numeros de letras distintas.\")\n",
    "\n",
    "letras_mas_comunes = []\n",
    "letras_menos_comunes = []\n",
    "\n",
    "for clave, valor in tabla_frecuencias_abs.items():\n",
    "    # Letras más comunes\n",
    "    if valor > letras_mas_comunes:\n",
    "        letras_mas_comunes = [clave]\n",
    "    elif valor == letras_mas_comunes:\n",
    "        letras_mas_comunes.append(clave)\n",
    "    \n",
    "    # Letras menos comunes\n",
    "    if valor < letras_menos_comunes:\n",
    "        letras_menos_comunes = [clave]\n",
    "    if valor == letras_menos_comunes:\n",
    "        letras_menos_comunes.append(clave)\n",
    "        \n",
    "print(\"La letra más común es\", letras_mas_comunes, \"y la menos común es\", letras_menos_comunes)"
   ]
  },
  {
   "cell_type": "markdown",
   "id": "faf50f6a",
   "metadata": {},
   "source": [
    "## Diccionarios inyectivos\n",
    "\n",
    "Escribe un programa que indique si un diccionario es _inyectivo_, es decir, si cada clave está asociada con un valor distinto al que están asociadas las demás claves. Por ejemplo, el siguiente diccionario es inyectivo:\n",
    "\n",
    "| Clave | Valor |\n",
    "|-------|-------|\n",
    "|   1   |  10   |\n",
    "|   2   |  20   |\n",
    "|   3   |  30   |"
   ]
  },
  {
   "cell_type": "code",
   "execution_count": null,
   "id": "3f4f88e9",
   "metadata": {},
   "outputs": [],
   "source": []
  },
  {
   "cell_type": "markdown",
   "id": "9584e150",
   "metadata": {},
   "source": [
    "## Diccionario inverso\n",
    "\n",
    "Escribe un programa que dado un diccionario construye su diccionario _inverso_. Por ejemplo, dado el diccionario:\n",
    "\n",
    "| Clave | Valor |\n",
    "|-------|-------|\n",
    "|   1   |  10   |\n",
    "|   2   |  20   |\n",
    "|   3   |  30   |\n",
    "|   6   |  10   |\n",
    "|   8   |  30   |\n",
    "|   9   |  10   |\n",
    "\n",
    "su inverso es el diccionario:\n",
    "\n",
    "| Clave | Valor   |\n",
    "|-------|---------|\n",
    "|  10   | {1,6,9} |\n",
    "|  20   |   {2}   |\n",
    "|  30   |  {3,8}  |\n",
    "\n",
    "Observa que en diccionario inverso claves y valores intercambian sus papeles. Como una clave solo puede tener asociado un valor, en el diccionario inverso los valores son conjuntos (de claves del diccionario general).\n",
    "\n",
    "Para comprobar tu resultado, invierte y expande el diccionario inverso, de manera que vuelvas a obtener el diccionario original."
   ]
  },
  {
   "cell_type": "code",
   "execution_count": null,
   "id": "e595c354",
   "metadata": {},
   "outputs": [],
   "source": []
  }
 ],
 "metadata": {
  "kernelspec": {
   "display_name": "Python 3 (ipykernel)",
   "language": "python",
   "name": "python3"
  },
  "language_info": {
   "codemirror_mode": {
    "name": "ipython",
    "version": 3
   },
   "file_extension": ".py",
   "mimetype": "text/x-python",
   "name": "python",
   "nbconvert_exporter": "python",
   "pygments_lexer": "ipython3",
   "version": "3.10.9"
  }
 },
 "nbformat": 4,
 "nbformat_minor": 5
}
