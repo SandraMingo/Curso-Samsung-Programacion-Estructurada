{
 "cells": [
  {
   "cell_type": "markdown",
   "id": "c4c428c2",
   "metadata": {},
   "source": [
    "# Pintar de blanco cuadrículas\n",
    "## Figura 1 (primera solución)\n",
    "\n",
    "1. Move down\n",
    "1. Fill in\n",
    "1. Move right\n",
    "1. Move up\n",
    "1. Fill in\n",
    "1. Move right\n",
    "1. Fill in\n",
    "1. Move right\n",
    "1. Move down\n",
    "1. Fill in\n",
    "\n",
    "## Figura 1 (segunda solución)\n",
    "1. Move right\n",
    "1. Fill in\n",
    "1. Move right\n",
    "1. Fill in\n",
    "1. Move right\n",
    "1. Move down\n",
    "1. Fill in\n",
    "1. Move left\n",
    "1. Move left\n",
    "1. Move left\n",
    "1. Fill in\n",
    "\n",
    "## Figura 6\n",
    "1. Move right\n",
    "1. Fill in\n",
    "1. Move right\n",
    "1. Fill in\n",
    "1. Move down\n",
    "1. Fill in\n",
    "1. Move left\n",
    "1. Fill in\n",
    "1. Move down\n",
    "1. Fill in\n",
    "1. Move right\n",
    "1. Fill in\n",
    "1. Move down\n",
    "1. Fill in\n",
    "1. Move left \n",
    "1. Fill in"
   ]
  }
 ],
 "metadata": {
  "kernelspec": {
   "display_name": "Python 3 (ipykernel)",
   "language": "python",
   "name": "python3"
  },
  "language_info": {
   "codemirror_mode": {
    "name": "ipython",
    "version": 3
   },
   "file_extension": ".py",
   "mimetype": "text/x-python",
   "name": "python",
   "nbconvert_exporter": "python",
   "pygments_lexer": "ipython3",
   "version": "3.10.9"
  }
 },
 "nbformat": 4,
 "nbformat_minor": 5
}
