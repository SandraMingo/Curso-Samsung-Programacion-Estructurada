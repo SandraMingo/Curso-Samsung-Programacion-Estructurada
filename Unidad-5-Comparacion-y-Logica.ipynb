{
 "cells": [
  {
   "cell_type": "markdown",
   "id": "78b34f33",
   "metadata": {},
   "source": [
    "# Unidad 5 - Operadores relacionales y lógicos"
   ]
  },
  {
   "cell_type": "markdown",
   "id": "db8b5621",
   "metadata": {},
   "source": [
    "# Operadores relacionales o de comparación\n",
    "\n",
    "Los operadores relacionales permiten comparar dos valores, como si se tratara de una balanza:\n",
    "\n",
    "| Operador | Significado       |\n",
    "|----------|-------------------|\n",
    "|  `==`    | igual que         |\n",
    "|  `!=`    | distinto que      |\n",
    "|  `<`     | menor que         |\n",
    "|  `>`     | mayor que         |\n",
    "|  `<=`    | menor o igual que |\n",
    "|  `>=`    | mayor o igual que |\n"
   ]
  },
  {
   "cell_type": "code",
   "execution_count": null,
   "id": "235fbe76",
   "metadata": {},
   "outputs": [],
   "source": [
    "4 == 5"
   ]
  },
  {
   "cell_type": "code",
   "execution_count": null,
   "id": "43898b3d",
   "metadata": {},
   "outputs": [],
   "source": [
    "p = 4\n",
    "5 == (p + 1)  # expresion : evaluar -> valor"
   ]
  },
  {
   "cell_type": "code",
   "execution_count": null,
   "id": "e2526817",
   "metadata": {},
   "outputs": [],
   "source": [
    "5 == p"
   ]
  },
  {
   "cell_type": "code",
   "execution_count": null,
   "id": "a4b10084",
   "metadata": {},
   "outputs": [],
   "source": [
    "# recuerda la diferencia entre expresión y sentencia\n",
    "\n",
    "x = 6.5       # sentencia: crear una variable ---> efecto\n",
    "y = 6.0\n",
    "x - 0.5 == y  # expresión: comparar ---> resultado (valor)"
   ]
  },
  {
   "cell_type": "code",
   "execution_count": null,
   "id": "cdc43d3c",
   "metadata": {},
   "outputs": [],
   "source": [
    "x != y"
   ]
  },
  {
   "cell_type": "code",
   "execution_count": null,
   "id": "96e3f83d",
   "metadata": {},
   "outputs": [],
   "source": [
    "x != y + 0.5"
   ]
  },
  {
   "cell_type": "code",
   "execution_count": null,
   "id": "999838a3",
   "metadata": {},
   "outputs": [],
   "source": [
    "5 < 7"
   ]
  },
  {
   "cell_type": "code",
   "execution_count": null,
   "id": "1e44e144",
   "metadata": {},
   "outputs": [],
   "source": [
    "7 < 5"
   ]
  },
  {
   "cell_type": "code",
   "execution_count": null,
   "id": "cb177f0e",
   "metadata": {},
   "outputs": [],
   "source": [
    "7 > 5"
   ]
  },
  {
   "cell_type": "code",
   "execution_count": null,
   "id": "959207fa",
   "metadata": {
    "scrolled": true
   },
   "outputs": [],
   "source": [
    "5 <= 5"
   ]
  },
  {
   "cell_type": "code",
   "execution_count": null,
   "id": "1f3afd0f",
   "metadata": {
    "scrolled": true
   },
   "outputs": [],
   "source": [
    "4 >= 5"
   ]
  },
  {
   "cell_type": "code",
   "execution_count": null,
   "id": "86ff7bf1",
   "metadata": {
    "scrolled": true
   },
   "outputs": [],
   "source": [
    "5 == 5.00001"
   ]
  },
  {
   "cell_type": "markdown",
   "id": "b3dc0b70",
   "metadata": {},
   "source": [
    "## Comparación de cadenas\n",
    "\n",
    "- Las cadenas se comparan carácter a carácter, del primero al último\n",
    "- Los caracteres no están ordenados como en el diccionario; por ejemplo:\n",
    "   - los dígitos son menores que las letras\n",
    "   - las letras mayúsculas son menores que las minúsculas\n",
    "   - las letras con acentos, etc. son mayores que el resto de letras"
   ]
  },
  {
   "cell_type": "code",
   "execution_count": null,
   "id": "8382eb14",
   "metadata": {},
   "outputs": [],
   "source": [
    "\"python\" == \"pythonic\""
   ]
  },
  {
   "cell_type": "code",
   "execution_count": null,
   "id": "abbf6b97",
   "metadata": {},
   "outputs": [],
   "source": [
    "\"python\" == \"Python\"    # se distinguen minúsculas y mayúsculas"
   ]
  },
  {
   "cell_type": "code",
   "execution_count": null,
   "id": "3d2c5968",
   "metadata": {},
   "outputs": [],
   "source": [
    "\"python\" == \"py\" + \"thon\""
   ]
  },
  {
   "cell_type": "code",
   "execution_count": null,
   "id": "5d03bfdc",
   "metadata": {
    "scrolled": true
   },
   "outputs": [],
   "source": [
    "\"python \" == \"python\"  # los espacios son significativos"
   ]
  },
  {
   "cell_type": "code",
   "execution_count": null,
   "id": "813f4b30",
   "metadata": {
    "scrolled": true
   },
   "outputs": [],
   "source": [
    "\"python\" == \"pythonic\""
   ]
  },
  {
   "cell_type": "code",
   "execution_count": null,
   "id": "3070a320",
   "metadata": {
    "scrolled": true
   },
   "outputs": [],
   "source": [
    "\"python\" < \"pythonic\""
   ]
  },
  {
   "cell_type": "code",
   "execution_count": null,
   "id": "32a6def1",
   "metadata": {},
   "outputs": [],
   "source": [
    "'5' < 'A'  # dígitos < letras"
   ]
  },
  {
   "cell_type": "code",
   "execution_count": null,
   "id": "44635bfa",
   "metadata": {
    "scrolled": true
   },
   "outputs": [],
   "source": [
    "'A' < 'a' #  mayúsculas < minúsculas"
   ]
  },
  {
   "cell_type": "code",
   "execution_count": null,
   "id": "c7c900e3",
   "metadata": {},
   "outputs": [],
   "source": [
    "\"aBcdefg\" < \"abcdefg\"  # mayúsculas < minúsculas"
   ]
  },
  {
   "cell_type": "code",
   "execution_count": null,
   "id": "32f1d0d5",
   "metadata": {},
   "outputs": [],
   "source": [
    "'a' < 'á'  # las letras con tildes, etc son mayores que el resto"
   ]
  },
  {
   "cell_type": "code",
   "execution_count": null,
   "id": "5c59099f",
   "metadata": {},
   "outputs": [],
   "source": [
    "'A' > 'á'"
   ]
  },
  {
   "cell_type": "code",
   "execution_count": null,
   "id": "15520ffa",
   "metadata": {},
   "outputs": [],
   "source": [
    "\"Ángeles\" < \"Maribel\"  # observa que Python no ordena en orden alfabético"
   ]
  },
  {
   "cell_type": "code",
   "execution_count": null,
   "id": "e1af299a",
   "metadata": {
    "scrolled": true
   },
   "outputs": [],
   "source": [
    "\"abc d zzzzzz\" > \"abc e aaaaaaa\"  # la comparación se decide al llegar a 'd' y 'e'"
   ]
  },
  {
   "cell_type": "code",
   "execution_count": null,
   "id": "9cec7ade",
   "metadata": {},
   "outputs": [],
   "source": [
    "\"12\" > \"115\"    # ojo: aunque sean dígitos se comparan las cadenas carácter a carácter "
   ]
  },
  {
   "cell_type": "code",
   "execution_count": null,
   "id": "573efd89",
   "metadata": {},
   "outputs": [],
   "source": [
    "\"1234\" == 1234  # si no tienen el mismo tipo son distintos"
   ]
  },
  {
   "cell_type": "code",
   "execution_count": null,
   "id": "32fa6d52",
   "metadata": {},
   "outputs": [],
   "source": [
    "\"1234\" != 1234"
   ]
  },
  {
   "cell_type": "markdown",
   "id": "d556d2b6",
   "metadata": {},
   "source": [
    "## Operadores relacionales de cadenas: `in` y `not in`\n",
    "\n",
    "Para las cadenas tenemos dos operadores relacionales adicionales que nos permiten saber si una cadena es o no subcadena de otra:"
   ]
  },
  {
   "cell_type": "code",
   "execution_count": null,
   "id": "554be510",
   "metadata": {},
   "outputs": [],
   "source": [
    "\"hola\" in \"hola python\"   # ¿es \"hola\" una subcadena de \"hola python\"?"
   ]
  },
  {
   "cell_type": "code",
   "execution_count": null,
   "id": "cb4aec22",
   "metadata": {},
   "outputs": [],
   "source": [
    "\"python\" in \"hola python\""
   ]
  },
  {
   "cell_type": "code",
   "execution_count": null,
   "id": "22d71b5f",
   "metadata": {},
   "outputs": [],
   "source": [
    "\"y\" in \"hola python\""
   ]
  },
  {
   "cell_type": "code",
   "execution_count": null,
   "id": "4aa9a0ec",
   "metadata": {},
   "outputs": [],
   "source": [
    "\"adios\" in \"hola python\""
   ]
  },
  {
   "cell_type": "code",
   "execution_count": null,
   "id": "8004e935",
   "metadata": {
    "scrolled": true
   },
   "outputs": [],
   "source": [
    "\"adios\" not in \"hola python\""
   ]
  },
  {
   "cell_type": "markdown",
   "id": "003c0212",
   "metadata": {},
   "source": [
    "## Tipo booleano (`bool`)"
   ]
  },
  {
   "cell_type": "markdown",
   "id": "d58eec39",
   "metadata": {},
   "source": [
    "Ya conocemos los tipos `int`, `float` y `str`, pero las expresiones anteriores devuelven dos nuevos valores: `True` y `False`. ¿De qué tipo son?"
   ]
  },
  {
   "cell_type": "code",
   "execution_count": null,
   "id": "27ec1347",
   "metadata": {},
   "outputs": [],
   "source": [
    "type(False)"
   ]
  },
  {
   "cell_type": "code",
   "execution_count": null,
   "id": "ef7eaa7b",
   "metadata": {},
   "outputs": [],
   "source": [
    "print(312)     # literal entero (int)\n",
    "print(3.14)    # literal flotante (float)\n",
    "print(\"hola\")  # literal cadena (str)\n",
    "\n",
    "# literales para bool? Solo hay dos valores, luego solo hay dos literales:\n",
    "\n",
    "print(True)\n",
    "print(False)"
   ]
  },
  {
   "cell_type": "markdown",
   "id": "8d7d5c90",
   "metadata": {},
   "source": [
    "Podemos crear variables de tipo booleano:"
   ]
  },
  {
   "cell_type": "code",
   "execution_count": null,
   "id": "cf8b1794",
   "metadata": {},
   "outputs": [],
   "source": [
    "x = 5 + 7\n",
    "print(type(x))\n",
    "\n",
    "jubilado = False\n",
    "print(type(jubilado))\n",
    "\n",
    "edad = 78\n",
    "jubilado = edad > 65\n",
    "print(jubilado)\n",
    "print(type(jubilado))"
   ]
  },
  {
   "cell_type": "code",
   "execution_count": null,
   "id": "bfbab082",
   "metadata": {},
   "outputs": [],
   "source": [
    "# funciones de conversión: int(), float(), str(), bool()\n",
    "\n",
    "edad = 45\n",
    "cadena_edad = str(edad)\n",
    "print(type(cadena_edad))\n",
    "cadena_edad"
   ]
  },
  {
   "cell_type": "code",
   "execution_count": null,
   "id": "364d00df",
   "metadata": {},
   "outputs": [],
   "source": [
    "b = bool(0)  # de int a bool\n",
    "print(type(b))\n",
    "b"
   ]
  },
  {
   "cell_type": "code",
   "execution_count": null,
   "id": "84467f71",
   "metadata": {},
   "outputs": [],
   "source": [
    "b = bool(1)  # de int a bool\n",
    "print(type(b))\n",
    "b"
   ]
  },
  {
   "cell_type": "code",
   "execution_count": null,
   "id": "67744761",
   "metadata": {},
   "outputs": [],
   "source": [
    "b = bool(0.0)  # de float a bool\n",
    "print(type(b))\n",
    "b"
   ]
  },
  {
   "cell_type": "code",
   "execution_count": null,
   "id": "d751c350",
   "metadata": {},
   "outputs": [],
   "source": [
    "b = bool(0.0000000001)  # de float a bool\n",
    "print(type(b))\n",
    "b"
   ]
  },
  {
   "cell_type": "code",
   "execution_count": null,
   "id": "43631afd",
   "metadata": {},
   "outputs": [],
   "source": [
    "b = bool(\"\")  # de str a bool (\"\" es la cadena vacía; no tiene nada dentro)\n",
    "print(type(b))\n",
    "b"
   ]
  },
  {
   "cell_type": "code",
   "execution_count": null,
   "id": "98049042",
   "metadata": {},
   "outputs": [],
   "source": [
    "b = bool(\"hola\")  # de str a bool\n",
    "print(type(b))\n",
    "b"
   ]
  },
  {
   "cell_type": "markdown",
   "id": "05afc805",
   "metadata": {},
   "source": [
    "## Operadores lógicos o booleanos\n",
    "\n",
    "Para los tipos `int`, `float` y `str` disponemos de varios operadores que nos permiten escribir expresiones:"
   ]
  },
  {
   "cell_type": "code",
   "execution_count": null,
   "id": "c653de69",
   "metadata": {},
   "outputs": [],
   "source": [
    "3 + 6"
   ]
  },
  {
   "cell_type": "code",
   "execution_count": null,
   "id": "23cf97b0",
   "metadata": {},
   "outputs": [],
   "source": [
    "4.67 * 5.2"
   ]
  },
  {
   "cell_type": "code",
   "execution_count": null,
   "id": "f9530bff",
   "metadata": {},
   "outputs": [],
   "source": [
    "\"hola\" + \"python\""
   ]
  },
  {
   "cell_type": "markdown",
   "id": "ba210a6b",
   "metadata": {},
   "source": [
    "Los operadores relacionales devuelven un resultado de tipo `bool`:"
   ]
  },
  {
   "cell_type": "code",
   "execution_count": null,
   "id": "ec56693d",
   "metadata": {},
   "outputs": [],
   "source": [
    "2 < 3"
   ]
  },
  {
   "cell_type": "markdown",
   "id": "af218e9c",
   "metadata": {},
   "source": [
    "Los operadores booleanos o lógicos `and`, `or` y `not` toman operandos de tipo `bool` y devuelven `bool`como resultado:"
   ]
  },
  {
   "cell_type": "code",
   "execution_count": null,
   "id": "338a6bdc",
   "metadata": {},
   "outputs": [],
   "source": [
    "renta = 17000\n",
    "ayuda = renta < 15000\n",
    "ayuda"
   ]
  },
  {
   "cell_type": "code",
   "execution_count": null,
   "id": "d1d965a7",
   "metadata": {},
   "outputs": [],
   "source": [
    "ayuda = renta > 15000 and renta < 30000 # ayuda si renta mayor que 15000 y menor que 30000\n",
    "ayuda"
   ]
  },
  {
   "cell_type": "code",
   "execution_count": null,
   "id": "ea915217",
   "metadata": {},
   "outputs": [],
   "source": [
    "estado = \"en activo\"  # \"jubilado\". \"estudiante\", ...\n",
    "beca = estado == \"jubilado\" or estado == \"estudiante\"   # beca si es jubilado o estudiante\n",
    "beca"
   ]
  },
  {
   "cell_type": "code",
   "execution_count": null,
   "id": "a4cf8932",
   "metadata": {},
   "outputs": [],
   "source": [
    "hora =  13\n",
    "cita =  hora < 10 or hora > 17 # cita si antes de las 10 de la mañana o después de las 5 de la tarde\n",
    "cita"
   ]
  },
  {
   "cell_type": "code",
   "execution_count": null,
   "id": "b4078de7",
   "metadata": {},
   "outputs": [],
   "source": [
    "hora = 13\n",
    "cita = hora >= 10 and hora <= 16 # cita si es entre las 10 de la mañana y las 4 de la tarde\n",
    "cita"
   ]
  },
  {
   "cell_type": "code",
   "execution_count": null,
   "id": "6c698a33",
   "metadata": {},
   "outputs": [],
   "source": [
    "## nombre y apellido: inicial del nombre es una vocal y inicial del apellido es una consonante\n",
    "nombre = \"Ana\"\n",
    "apellido = \"García\"\n",
    "vocales = \"aeiouAEIOU\"  # ignoramos vocales acentuadas\n",
    "valido = nombre[0] in vocales and apellido[0] not in vocales\n",
    "valido"
   ]
  },
  {
   "cell_type": "markdown",
   "id": "f817f0d2",
   "metadata": {},
   "source": [
    "La precedencia de operadores está definida de manera que haya que poner pocos paréntesis:\n",
    "- primero los numéricos\n",
    "- después los relacionales\n",
    "- finalmente los lógicos"
   ]
  },
  {
   "cell_type": "code",
   "execution_count": null,
   "id": "65bb3508",
   "metadata": {},
   "outputs": [],
   "source": [
    " x + 6 > 15 and 3 * x == 6 * y"
   ]
  },
  {
   "cell_type": "markdown",
   "id": "b1bf1603",
   "metadata": {},
   "source": [
    "## Solución del primer  problema de paper coding (283)"
   ]
  },
  {
   "cell_type": "code",
   "execution_count": null,
   "id": "ef189837",
   "metadata": {},
   "outputs": [],
   "source": [
    "n = int(input(\"Introduce un número: \"))\n",
    "resultado = n % 2 != 0\n",
    "print(\"¿Es impar?\", resultado)"
   ]
  },
  {
   "cell_type": "code",
   "execution_count": null,
   "id": "478adbd1",
   "metadata": {},
   "outputs": [],
   "source": [
    "# otra solución\n",
    "número = input(\"indica una cifra: \")\n",
    "impar = \"13579\"\n",
    "valido = número[-1] in impar \n",
    "valido"
   ]
  },
  {
   "cell_type": "markdown",
   "id": "1cb10ad3",
   "metadata": {},
   "source": [
    "## Solución del segundo  problema de paper coding (284)"
   ]
  },
  {
   "cell_type": "code",
   "execution_count": null,
   "id": "0f224266",
   "metadata": {},
   "outputs": [],
   "source": [
    "numero = int(input(\"Introduce un número: \"))\n",
    "resultado = numero >= 0 and numero <= 100 and numero % 2 == 0\n",
    "print (\"Es un numero par entre 0 y 100?:\", resultado)"
   ]
  },
  {
   "cell_type": "markdown",
   "id": "2a0e4284",
   "metadata": {},
   "source": [
    "## Solución del primer  problema de pair programming (298)"
   ]
  },
  {
   "cell_type": "code",
   "execution_count": null,
   "id": "2e23e9e3",
   "metadata": {},
   "outputs": [],
   "source": [
    "numero = int(input(\"pon un numero\"))\n",
    "valido = numero // 100 == 3\n",
    "valido"
   ]
  },
  {
   "cell_type": "code",
   "execution_count": null,
   "id": "4d094f32",
   "metadata": {},
   "outputs": [],
   "source": [
    "# otra solución\n",
    "x = int(input(\"numero: \"))\n",
    "rango = x >= 300 and x <= 399\n",
    "print(\"resultado:\", rango)"
   ]
  },
  {
   "cell_type": "markdown",
   "id": "46b57572",
   "metadata": {},
   "source": [
    "## Solución del segiundo  problema de pair programming (299)"
   ]
  },
  {
   "cell_type": "code",
   "execution_count": null,
   "id": "c0063672",
   "metadata": {},
   "outputs": [],
   "source": [
    "numero = int(input(\"pon un numero entero\"))\n",
    "valido = numero % 5 == 0\n",
    "valido"
   ]
  },
  {
   "cell_type": "markdown",
   "id": "731356af",
   "metadata": {},
   "source": [
    "## Solución del mission problem (259)"
   ]
  },
  {
   "cell_type": "code",
   "execution_count": null,
   "id": "ab8bb314",
   "metadata": {},
   "outputs": [],
   "source": [
    "year = int(input(\"introduce año: \"))\n",
    "is_leap_year = year % 4 == 0 and (year % 100 != 0 or year % 400 == 0)\n",
    "print(year, \"is a leap year\", is_leap_year)"
   ]
  },
  {
   "cell_type": "markdown",
   "id": "081e6518",
   "metadata": {},
   "source": [
    "## Operadores lógicos y evaluación por cortocircuito"
   ]
  },
  {
   "cell_type": "markdown",
   "id": "e5b80347",
   "metadata": {},
   "source": [
    "Los operadores lógicos `and` y `or` solo evalúan el segundo operando cuando es necesario:"
   ]
  },
  {
   "cell_type": "code",
   "execution_count": null,
   "id": "a0cce733",
   "metadata": {},
   "outputs": [],
   "source": [
    "(7 > 5) and ((8 // 0) == 1) # esto falla porque hay que evaluar el segundo operando"
   ]
  },
  {
   "cell_type": "code",
   "execution_count": null,
   "id": "baf627c4",
   "metadata": {},
   "outputs": [],
   "source": [
    "(7 < 5) and ((8 // 0) == 1) # esto no falla porque no hay que evaluar el segundo operando"
   ]
  },
  {
   "cell_type": "code",
   "execution_count": null,
   "id": "8d5da4db",
   "metadata": {},
   "outputs": [],
   "source": [
    "(5 == 4 + 1)  or ((8 // 0) == 1) # esto no falla porque no hay que evaluar el segundo operando"
   ]
  }
 ],
 "metadata": {
  "kernelspec": {
   "display_name": "Python 3 (ipykernel)",
   "language": "python",
   "name": "python3"
  },
  "language_info": {
   "codemirror_mode": {
    "name": "ipython",
    "version": 3
   },
   "file_extension": ".py",
   "mimetype": "text/x-python",
   "name": "python",
   "nbconvert_exporter": "python",
   "pygments_lexer": "ipython3",
   "version": "3.10.9"
  }
 },
 "nbformat": 4,
 "nbformat_minor": 5
}
