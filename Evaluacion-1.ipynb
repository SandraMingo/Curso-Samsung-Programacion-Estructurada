{
 "cells": [
  {
   "cell_type": "markdown",
   "id": "24834199",
   "metadata": {},
   "source": [
    "# Curso de IA Samsung - Programación en Python\n",
    "## Primera prueba de evaluación\n",
    "\n",
    "- La prueba consta de 7 ejercicios\n",
    "- La puntuación máxima es 10 puntos\n",
    "- Solo puedes utilizar las funciones `print()`, `input()`, `range()`, y las conversiones de tipos (`int()`, etc.)\n",
    "- Solo puedes utilizar los métodos `split()` y `format()`\n",
    "- No puedes utilizar `break` o `continue` dentro de un bucle\n",
    "- Debes permanecer conectada a la sala principal durante toda la prueba de evaluación"
   ]
  },
  {
   "cell_type": "markdown",
   "id": "fe578f57",
   "metadata": {},
   "source": [
    "### Comprobando ternas pitagóricas (1 punto)\n",
    "\n",
    "Tres enteros positivos $x, y, z$ forman una terna pitagórica si $x^2 + y^2 = z^2$; es decir, si son lados de un triángulo rectángulo. Por ejemplo, los enteros $3,4$ y $5$ forman una terna pitagórica, puesto que $3^2 + 4^2 = 5^2$; mientras que $3,4$ y $6$ no la forman, puesto que $3^2 + 4^2 \\neq 6^2$.\n",
    "\n",
    "Escribe un programa que lea tres números enteros positivos separados por comas e indique si forman una terna pitagórica. Puedes suponer que los enteros son positivos y se facilitan en el orden adecuado.\n",
    "\n",
    "```\n",
    "dame tres enteros separados por comas: 3,4,5\n",
    "3, 4, 5 forman una terna pitagórica\n",
    "\n",
    "dame tres enteros separados por comas: 3,4,6\n",
    "3, 4, 6 no forman una terna pitagórica\n",
    "```"
   ]
  },
  {
   "cell_type": "code",
   "execution_count": 4,
   "id": "f01c5347",
   "metadata": {},
   "outputs": [
    {
     "name": "stdout",
     "output_type": "stream",
     "text": [
      "Ponga tres enteros separados por comas: 3,4,5\n",
      "3 , 4 , 5 forman una terna pitagórica.\n"
     ]
    }
   ],
   "source": [
    "x, y, z = input(\"Ponga tres enteros separados por comas: \").split(\",\")\n",
    "x, y, z = int(x), int(y), int(z)\n",
    "\n",
    "if (x ** 2 + y ** 2) ** 0.5 == z:\n",
    "    print(x, \",\", y, \",\", z, \"forman una terna pitagórica.\")\n",
    "else: \n",
    "    print(x, \",\", y, \",\", z, \"no forman una terna pitagórica.\")    "
   ]
  },
  {
   "cell_type": "markdown",
   "id": "0148bc4f",
   "metadata": {},
   "source": [
    "### Clasificación de huracanes (1 punto)\n",
    "\n",
    "La siguiente tabla muestra la escala de _Saffir-Simpson_ para clasificar los huracanes en categorías según la velocidad $v$ del viento en km/h:\n",
    "\n",
    "|Categoría | Velocidad (km/h)|\n",
    "|----------|-----------------|\n",
    "|    0     | < 119           |\n",
    "|    1     | 119 <= v <= 153 |\n",
    "|    2     | 154 <= v <= 177 |\n",
    "|    3     | 178 <= v <= 209 |\n",
    "|    4     | 210 <= v <= 249 |\n",
    "|    5     | 250 < v\n",
    "\n",
    "Escribe un programa que dada una velocidad del viento (asume que es un entero no negativo) escriba la categoría a la que pertenece el huracán.\n",
    "\n",
    "```\n",
    "dame la velocidad del viento: 165\n",
    "un viento de 165 km/h es un huracán de categoría 2\n",
    "```"
   ]
  },
  {
   "cell_type": "code",
   "execution_count": 14,
   "id": "c37e1915",
   "metadata": {},
   "outputs": [
    {
     "name": "stdout",
     "output_type": "stream",
     "text": [
      "Dame la velocidad del viento: 165\n",
      "Un viento de 165 km/h es un huracán de categoría 2\n"
     ]
    }
   ],
   "source": [
    "velocidad = int(input(\"Dame la velocidad del viento: \"))\n",
    "\n",
    "if velocidad < 119:\n",
    "    category = \"categoría 0\"\n",
    "elif velocidad < 154:\n",
    "    category = \"categoría 1\"\n",
    "elif velocidad < 178:\n",
    "    category = \"categoría 2\"\n",
    "elif velocidad < 210:\n",
    "    category = \"categoría 3\"\n",
    "elif velocidad < 250:\n",
    "    category = \"categoría 4\"\n",
    "else:\n",
    "    category = \"categoría 5\"\n",
    "        \n",
    "print(\"Un viento de\", velocidad, \"km/h es un huracán de\", category)"
   ]
  },
  {
   "cell_type": "markdown",
   "id": "ae1c0973",
   "metadata": {},
   "source": [
    "### Tu edad en segundos (1 punto)\n",
    "\n",
    "Escribe un programa que reciba una edad en años y devuelva la edad en segundos. Por ejemplo, para 20 años la edad en segundos es 630720000.\n",
    "\n",
    "```\n",
    "¿cuántos años tienes? 20\n",
    "Tienes 630720000 segundos\n",
    "```"
   ]
  },
  {
   "cell_type": "code",
   "execution_count": 17,
   "id": "bec7e09f",
   "metadata": {},
   "outputs": [
    {
     "name": "stdout",
     "output_type": "stream",
     "text": [
      "¿Cuántos años tienes? 20\n",
      "Tienes 630720000 segundos de vida.\n"
     ]
    }
   ],
   "source": [
    "age_years = int(input(\"¿Cuántos años tienes? \"))\n",
    "\n",
    "segundos_en_un_minuto = 60\n",
    "minutos_en_una_hora = 60\n",
    "horas_en_un_dia = 24\n",
    "dias_en_un_ano = 365 \n",
    "# se podría poner 365.25 para tener en cuenta los años bisiestos y sumar un día por cada año que lo fuese,\n",
    "# pero en el ejemplo no se tienen en cuenta, así que yo tampoco lo he tenido en cuenta.\n",
    "\n",
    "age_seconds = age_years * dias_en_un_ano * horas_en_un_dia * minutos_en_una_hora * segundos_en_un_minuto\n",
    "\n",
    "print(\"Tienes\", age_seconds, \"segundos de vida.\")"
   ]
  },
  {
   "cell_type": "markdown",
   "id": "05e79c26",
   "metadata": {},
   "source": [
    "### Clasificación de triángulos (1 punto)\n",
    "\n",
    "Un triángulo está formado por tres lados. Las longitudes de los lados de un triángulo no pueden ser arbitrarias: la suma de los dos lados más cortos debe ser mayor que la longitud del lado más largo.\n",
    "\n",
    "Además, los triángulos se clasifican según la longitud de sus lados en equiláteros, isósceles y escalenos:\n",
    "- equilátero: los tres lados tienen la misma longitud\n",
    "- isósceles: solo dos lados tienen la misma longitud\n",
    "- escaleno: los tres lados de longitudes diferentes.\n",
    "\n",
    "Por ejemplo, un triángulo con lados 3, 6 y 3 es isósceles.\n",
    "\n",
    "Escribe un programa que lea tres longitudes e indique si pueden formar un triángulo y, si es así, indique el tipo de triángulo que forman. Puedes suponer que las longitudes son enteros no negativos, pero no puedes suponer nada acerca del orden en que se facilitan las longitudes.\n",
    "\n",
    "Recuerda: no puedes utilizar la función `max()`.\n",
    "\n",
    "```\n",
    "dame las longitudes, separadas por comas: 6,6,6\n",
    "el tirángulo es equilátero\n",
    "\n",
    "dame las longitudes, separadas por comas: 2,1,2\n",
    "el triángulo es isósceles\n",
    "\n",
    "dame las longitudes, separadas por comas: 2,2,1\n",
    "el triángulo es isósceles\n",
    "\n",
    "dame las longitudes, separadas por comas: 1,2,2\n",
    "el triángulo es isósceles\n",
    "\n",
    "dame las longitudes, separadas por comas: 5,7,3\n",
    "el triángulo es escaleno\n",
    "\n",
    "dame las longitudes, separadas por comas: 5,7,2\n",
    "con esas longitudes no se puede formar un triángulo\n",
    "\n",
    "dame las longitudes, separadas por comas: 2,5,7\n",
    "con esas longitudes no se puede formar un triángulo\n",
    "\n",
    "dame las longitudes, separadas por comas: 7,2,5\n",
    "con esas longitudes no se puede formar un triángulo\n",
    "```"
   ]
  },
  {
   "cell_type": "code",
   "execution_count": 23,
   "id": "48725b90",
   "metadata": {},
   "outputs": [
    {
     "name": "stdout",
     "output_type": "stream",
     "text": [
      "Dame las longitudes separadas por comas: 7,2,5\n",
      "Con esas longitudes no se puede formar un triángulo.\n"
     ]
    }
   ],
   "source": [
    "a, b, c = input(\"Dame las longitudes separadas por comas: \").split(\",\")\n",
    "a, b, c = int(a), int(b), int(c)\n",
    "\n",
    "# Valores por defecto\n",
    "lado_largo = a\n",
    "lado_corto1 = b\n",
    "lado_corto2 = c\n",
    "\n",
    "# Asignar valores correctos\n",
    "if a < b:\n",
    "    if b < c:\n",
    "        lado_largo = c\n",
    "        lado_corto2 = a\n",
    "    else:\n",
    "        lado_largo = b\n",
    "        lado_corto1 = a\n",
    "else:\n",
    "    if a < c:\n",
    "        lado_largo = c\n",
    "        lado_corto2 = a\n",
    "\n",
    "# Determinar triángulo\n",
    "if lado_largo >= (lado_corto1 + lado_corto2):\n",
    "    print(\"Con esas longitudes no se puede formar un triángulo.\")\n",
    "else:\n",
    "    if a == b == c:\n",
    "        print(\"El triángulo es equilátero.\")\n",
    "    elif a != b and b != c and a != c:\n",
    "        print(\"El triángulo es escaleno.\")\n",
    "    else:\n",
    "        print(\"El triángulo es isósceles.\")"
   ]
  },
  {
   "cell_type": "markdown",
   "id": "36d83b3f",
   "metadata": {},
   "source": [
    "### Dibujando rombos (2 puntos)\n",
    "\n",
    "Escribe un programa lea por teclado la altura de un rombo y lo _\"dibuje\"_ usando asteriscos. Observa que cada fila de la figura está formada por un número impar de asteriscos. Puedes asumir que la altura del rombo es siempre un número impar.\n",
    "\n",
    "```\n",
    "altura del rombo (debe ser impar):5\n",
    "\n",
    "  *\n",
    " ***\n",
    "*****\n",
    " ***\n",
    "  *\n",
    "  \n",
    "altura del rombo (debe ser impar):7\n",
    "\n",
    "   *\n",
    "  ***\n",
    " *****\n",
    "*******\n",
    " *****\n",
    "  ***\n",
    "   *\n",
    "```"
   ]
  },
  {
   "cell_type": "code",
   "execution_count": 24,
   "id": "26720c05",
   "metadata": {},
   "outputs": [
    {
     "name": "stdout",
     "output_type": "stream",
     "text": [
      "Ponga la altura del rombo: 5\n",
      "  *\n",
      " ***\n",
      "*****\n",
      " ***\n",
      "  *\n"
     ]
    }
   ],
   "source": [
    "altura_rombo = int(input(\"Ponga la altura del rombo: \"))\n",
    "\n",
    "# Mitad superior\n",
    "for i in range(1, altura_rombo + 1, 2):\n",
    "    espacios = (altura_rombo - i) // 2\n",
    "    print(\" \" * espacios + \"*\" * i)\n",
    "\n",
    "# Mitad inferior\n",
    "for i in range(altura_rombo - 2, 0, -2):\n",
    "    espacios = (altura_rombo - i) // 2\n",
    "    print(\" \" * espacios + \"*\" * i)"
   ]
  },
  {
   "cell_type": "markdown",
   "id": "344af19b",
   "metadata": {},
   "source": [
    "### Números de Armstrong (2 puntos)\n",
    "\n",
    "Un número de Armstrong es un entero de tres cifras $n$ tal que la suma de los cubos de sus cifras es igual a $n$. Por ejemplo, $153$ es un número de Armstrong, porque $1^3 + 5^3 + 3^3 = 153$.\n",
    "\n",
    "Usando un solo bucle `for`, escribe un programa que imprima todos los números de Armstrong."
   ]
  },
  {
   "cell_type": "code",
   "execution_count": 30,
   "id": "b87c4950",
   "metadata": {},
   "outputs": [
    {
     "name": "stdout",
     "output_type": "stream",
     "text": [
      "153\n",
      "370\n",
      "371\n",
      "407\n"
     ]
    }
   ],
   "source": [
    "for numero in range(100, 1000):\n",
    "    num1 = int(str(numero)[0])\n",
    "    num2 = int(str(numero)[1])\n",
    "    num3 = int(str(numero)[2])\n",
    "    \n",
    "    if (num1 ** 3 + num2 ** 3 + num3 ** 3) == numero:\n",
    "                print(numero)"
   ]
  },
  {
   "cell_type": "markdown",
   "id": "6525b808",
   "metadata": {},
   "source": [
    "### Números de Armstrong con bucles anidados (2 puntos)\n",
    "\n",
    "Vuelve a resolver el problema anterior, pero esta vez debes usar tres bucles anidados."
   ]
  },
  {
   "cell_type": "code",
   "execution_count": 29,
   "id": "0d77311c",
   "metadata": {},
   "outputs": [
    {
     "name": "stdout",
     "output_type": "stream",
     "text": [
      "153\n",
      "370\n",
      "371\n",
      "407\n"
     ]
    }
   ],
   "source": [
    "for num1 in range(10):\n",
    "    for num2 in range(10):\n",
    "        for num3 in range(10):\n",
    "            numero_completo = int(str(num1) + str(num2) + str(num3))\n",
    "            if (num1 ** 3 + num2 ** 3 + num3 ** 3) == numero_completo and numero_completo > 100:\n",
    "                print(numero_completo)"
   ]
  }
 ],
 "metadata": {
  "kernelspec": {
   "display_name": "Python 3 (ipykernel)",
   "language": "python",
   "name": "python3"
  },
  "language_info": {
   "codemirror_mode": {
    "name": "ipython",
    "version": 3
   },
   "file_extension": ".py",
   "mimetype": "text/x-python",
   "name": "python",
   "nbconvert_exporter": "python",
   "pygments_lexer": "ipython3",
   "version": "3.10.9"
  }
 },
 "nbformat": 4,
 "nbformat_minor": 5
}
