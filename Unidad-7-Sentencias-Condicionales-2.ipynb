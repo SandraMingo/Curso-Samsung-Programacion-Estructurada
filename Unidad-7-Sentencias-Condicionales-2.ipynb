{
 "cells": [
  {
   "cell_type": "markdown",
   "id": "ccd1ba98",
   "metadata": {},
   "source": [
    "# Unidad 7 - Sentencias Condicionales - II"
   ]
  },
  {
   "cell_type": "markdown",
   "id": "e58d90ec",
   "metadata": {},
   "source": [
    "## El problema de la sentencia `if`\n",
    "\n",
    "La sentencia `if` no es suficiente para resolver de forma adecuada algunos problemas; por ejemplo, saludar de una u otra forma según la hora del día:"
   ]
  },
  {
   "cell_type": "code",
   "execution_count": null,
   "id": "ea13c04c",
   "metadata": {},
   "outputs": [],
   "source": [
    "hour = 10\n",
    "\n",
    "if hour < 12:\n",
    "    print(\"good morning\")\n",
    "    \n",
    "if hour >= 12:\n",
    "    print(\"good evening\")"
   ]
  },
  {
   "cell_type": "markdown",
   "id": "4f9ee0c7",
   "metadata": {},
   "source": [
    "Estamos comprobando **explícitamente** una condición (`hour < 12`) y su contraria o negación (`hour >=12`)."
   ]
  },
  {
   "cell_type": "markdown",
   "id": "f6d16b4e",
   "metadata": {},
   "source": [
    "## La sentencia `if else`\n",
    "\n",
    "La sentencia `if else` permite prescindir de la comprobación explícita de la condición negada; es decir, permite elegir entre dos opciones. A esto se le llama **selección alternativa**."
   ]
  },
  {
   "cell_type": "code",
   "execution_count": null,
   "id": "00f83ed7",
   "metadata": {},
   "outputs": [],
   "source": [
    "hour = 10\n",
    "\n",
    "if hour < 12:\n",
    "    print(\"good morning\")\n",
    "    \n",
    "else:\n",
    "    print(\"good evening\")"
   ]
  },
  {
   "cell_type": "markdown",
   "id": "6dcb6a49",
   "metadata": {},
   "source": [
    "**Ejemplo:** indicar en un mensaje si un entero es par o impar."
   ]
  },
  {
   "cell_type": "code",
   "execution_count": null,
   "id": "820ac972",
   "metadata": {},
   "outputs": [],
   "source": [
    "n = int(input(\"Ponga un número: \"))\n",
    "\n",
    "if n % 2 == 0:\n",
    "    print(\"El número es par\")\n",
    "else:\n",
    "    print(\"El número es impar\")"
   ]
  },
  {
   "cell_type": "markdown",
   "id": "7080adcd",
   "metadata": {},
   "source": [
    "## Sentencias anidadas\n",
    "\n",
    "Hemos visto que dentro de una sentencia de control pueden aparecer otras sentencias que forman un bloque; es decir, una secuencia de sentencias que se ejecutan secuencialmente:"
   ]
  },
  {
   "cell_type": "code",
   "execution_count": null,
   "id": "a66ca161",
   "metadata": {},
   "outputs": [],
   "source": [
    "age = 21\n",
    "num_adults = 0\n",
    "\n",
    "if age >= 18:\n",
    "    print(\"you're an adult\")      # bloque: control secuencial (Unidad 1)\n",
    "    num_adults = num_adults + 1\n",
    "    is_adult = True\n",
    "    \n",
    "print(num_adults)"
   ]
  },
  {
   "cell_type": "markdown",
   "id": "d2df659a",
   "metadata": {},
   "source": [
    "Es posible que dentro de una sentencia de control aparezca a su vez otra sentencia de control. A esto se le llama **control anidado**.\n",
    "\n",
    "**Ejemplo:** indicar en un mensaje si un entero es:\n",
    "- negativo,\n",
    "- cero,\n",
    "- positivo."
   ]
  },
  {
   "cell_type": "code",
   "execution_count": null,
   "id": "a884e3cc",
   "metadata": {},
   "outputs": [],
   "source": [
    "n = int(input(\"Dame un número: \"))\n",
    "\n",
    "if n < 0:\n",
    "    print(n, \"es negativo\")\n",
    "else:\n",
    "    if n == 0:\n",
    "        print(n, \"es cero\")\n",
    "    else:\n",
    "        print(n, \"es positivo\")"
   ]
  },
  {
   "cell_type": "markdown",
   "id": "6b8716fb",
   "metadata": {},
   "source": [
    "## La sentencia `if elif else`\n",
    "\n",
    "El control anidado es más complicado, aunque a veces es inevitable.\n",
    "\n",
    "Hay situaciones como la anterior que son muy comunes: lo que queremos es elegir una opción entre tres posibles (negativo, cero o positivo). A esto se le llama **selección múltiple**.\n",
    "\n",
    "Para tales ocasiones podemos evitar el control anidado y utilizar la sentencia de selección múltiple `if elif else`:"
   ]
  },
  {
   "cell_type": "code",
   "execution_count": null,
   "id": "6be8dab4",
   "metadata": {},
   "outputs": [],
   "source": [
    "n = int(input(\"Dame un número: \"))\n",
    "\n",
    "if n < 0:\n",
    "    print(n, \"es negativo\")\n",
    "elif n == 0:\n",
    "    print(n, \"es cero\")\n",
    "else:\n",
    "    print(n, \"es positivo\")"
   ]
  },
  {
   "cell_type": "markdown",
   "id": "93e44d8a",
   "metadata": {},
   "source": [
    "**Ejemplo:** Traducir de nota numérica a calificación alfabética."
   ]
  },
  {
   "cell_type": "code",
   "execution_count": 9,
   "id": "0660ac01",
   "metadata": {},
   "outputs": [
    {
     "name": "stdout",
     "output_type": "stream",
     "text": [
      "Ponga su nota: 5\n",
      "Aprobado\n"
     ]
    }
   ],
   "source": [
    "# suspenso: menos de 5\n",
    "# aprobado: entre 5 y menos de 7\n",
    "# notable: entre 7 y menos de 9\n",
    "# sobresaliente: entre 9 y 10\n",
    "\n",
    "nota = float(input(\"Ponga su nota: \"))\n",
    "calificacion = \"\"\n",
    "\n",
    "if nota < 0 or nota > 10:\n",
    "    calificacion = \"Nota incorrecta\"   # control de errores\n",
    "else:\n",
    "    # nota >= 0 and nota <= 10\n",
    "    if nota < 5:\n",
    "        calificacion = \"Suspenso\"\n",
    "    # nota >= 5, no hace falta especificarlo, sino hubiese entrado antes\n",
    "    elif nota < 7:\n",
    "        calificacion = \"Aprobado\"\n",
    "    # nota >= 7\n",
    "    elif nota < 9:\n",
    "        calificacion = \"Notable\"\n",
    "    # nota >= 9\n",
    "    else:\n",
    "        calificacion = \"Sobresaliente\"\n",
    "        \n",
    "print(calificacion)"
   ]
  },
  {
   "cell_type": "code",
   "execution_count": null,
   "id": "7d6c0692",
   "metadata": {},
   "outputs": [],
   "source": [
    "# suspenso: menos de 5\n",
    "# aprobado: entre 5 y menos de 7\n",
    "# notable: entre 7 y menos de 9\n",
    "# sobresaliente: entre 9 y 10\n",
    "\n",
    "nota = float(input(\"Ponga su nota: \"))\n",
    "calificacion = \"Nota incorrecta\"\n",
    "\n",
    "if nota < 0 or nota > 10:\n",
    "    pass   # control de errores\n",
    "else:\n",
    "    # nota >= 0 and nota <= 10\n",
    "    if nota < 5:\n",
    "        calificacion = \"Suspenso\"\n",
    "    # nota >= 5, no hace falta especificarlo, sino hubiese entrado antes\n",
    "    elif nota < 7:\n",
    "        calificacion = \"Aprobado\"\n",
    "    # nota >= 7\n",
    "    elif nota < 9:\n",
    "        calificacion = \"Notable\"\n",
    "    # nota >= 9\n",
    "    else:\n",
    "        calificacion = \"Sobresaliente\"\n",
    "        \n",
    "print(calificacion)"
   ]
  },
  {
   "cell_type": "code",
   "execution_count": null,
   "id": "a16fa7b3",
   "metadata": {},
   "outputs": [],
   "source": [
    "nota = float(input(\"Ponga su nota: \"))\n",
    "calificacion = \"Nota incorrecta\"\n",
    "\n",
    "if nota >= 0 and nota <= 10:\n",
    "    if nota < 5:\n",
    "        calificacion = \"Suspenso\"\n",
    "    # nota >= 5, no hace falta especificarlo, sino hubiese entrado antes\n",
    "    elif nota < 7:\n",
    "        calificacion = \"Aprobado\"\n",
    "    # nota >= 7\n",
    "    elif nota < 9:\n",
    "        calificacion = \"Notable\"\n",
    "    # nota >= 9\n",
    "    else:\n",
    "        calificacion = \"Sobresaliente\"\n",
    "        \n",
    "print(calificacion)"
   ]
  },
  {
   "cell_type": "markdown",
   "id": "0d75eff1",
   "metadata": {},
   "source": [
    "**Ejemplo:** La frutería de David.\n",
    "1. Manzanas: 5000 won\n",
    "1. Uvas: 6000 won\n",
    "1. Melón: 8000 won\n",
    "1. Naranjas: 2000 won\n",
    "\n",
    "Introduzca primero el número del ítem que quiera comprar y después la cantidad del mismo (entre 1 y 10). Después, debe aparecer la fruta seleccionada, el precio por unidad, la cantidad, el precio total, las monedas insertadas y el cambio."
   ]
  },
  {
   "cell_type": "code",
   "execution_count": 11,
   "id": "b096ddb5",
   "metadata": {},
   "outputs": [
    {
     "name": "stdout",
     "output_type": "stream",
     "text": [
      "##################################################\n",
      "This is David's fruit shop\n",
      "1. Apple\tprice: 5000 won\n",
      "2. Grape\tprice: 6000 won\n",
      "3. Melon\tprice: 8000 won\n",
      "4. Orange\tprice: 2000 won\n",
      "Enter item number (between 1 and 4) >> 2\n",
      "Enter number of items (between 1 and 10) >> 2\n",
      "Fruit selected: Grape\n",
      "Price: 6000\n",
      "Quantity: 2\n",
      "Total price is 12000 won\n",
      "Insert money please (ex: 15000) >> 20000\n",
      "20000 won received. Your change is 8000 won\n"
     ]
    }
   ],
   "source": [
    "print('#'*50)\n",
    "print(\"This is David's fruit shop\")\n",
    "print(\"1. Apple\\tprice: 5000 won\")\n",
    "print(\"2. Grape\\tprice: 6000 won\")\n",
    "print(\"3. Melon\\tprice: 8000 won\")\n",
    "print(\"4. Orange\\tprice: 2000 won\")\n",
    "\n",
    "order = int(input(\"Enter item number (between 1 and 4) >> \"))\n",
    "count = int(input(\"Enter number of items (between 1 and 10) >> \"))\n",
    "\n",
    "if order == 1:\n",
    "    fruit = \"Apple\"\n",
    "    price = 5000\n",
    "elif order == 2:\n",
    "    fruit = \"Grape\"\n",
    "    price = 6000\n",
    "elif order == 3: \n",
    "    fruit = \"Melon\"\n",
    "    price = 8000\n",
    "else:\n",
    "    fruit = \"Orange\"\n",
    "    price = 2000\n",
    "\n",
    "total_price = price * count\n",
    "    \n",
    "print(\"Fruit selected:\", fruit)\n",
    "print(\"Price:\", price)\n",
    "print(\"Quantity:\", count)\n",
    "print(\"Total price is\", total_price, \"won\")\n",
    "\n",
    "money = int(input(\"Insert money please (ex: 15000) >> \"))\n",
    "if money < total_price:\n",
    "    print(\"Not enough money\")\n",
    "else: \n",
    "    change = money - total_price\n",
    "    print(money, \"won received. Your change is\", change, \"won\")"
   ]
  },
  {
   "cell_type": "markdown",
   "id": "36bf5729",
   "metadata": {},
   "source": [
    "**Ejemplo:** Login con usuario y contraseña."
   ]
  },
  {
   "cell_type": "code",
   "execution_count": null,
   "id": "731a694e",
   "metadata": {},
   "outputs": [],
   "source": [
    "user_name = input(\"nombre de usuario: \")\n",
    "password = input(\"contraseña: \")\n",
    "\n",
    "# 3 caminos: éxito, user_name incorreto, password incorrecto\n",
    "\n",
    "if user_name == \"Giorgina\" and password == \"123\":\n",
    "    print(\"Welcome,\", user_name)\n",
    "elif user_name != \"Giorgina\":\n",
    "    print(\"Usuario incorrecto\")\n",
    "else:\n",
    "    print(\"Contraseña incorrecta\") #el user_name es correcto"
   ]
  },
  {
   "cell_type": "markdown",
   "id": "1f3bfcd9",
   "metadata": {},
   "source": [
    "## Números aleatorios en Python\n",
    "\n",
    "Python no sabe nada acerca de números aleatorios, como tampoco sabe de Aprendizaje Automático (_Machine Learning_).\n",
    "Sin embargo, Python puede _aprender_ cosas nuevas: basta **importar** un módulo o biblioteca para que Python adquiera nuevas habilidades. Para importar un módulo usamos la sentencia `import`:\n",
    "\n",
    "> `import` _nombre_del_modulo_"
   ]
  },
  {
   "cell_type": "code",
   "execution_count": 12,
   "id": "ae8674b7",
   "metadata": {},
   "outputs": [],
   "source": [
    "import random"
   ]
  },
  {
   "cell_type": "markdown",
   "id": "5db443d9",
   "metadata": {},
   "source": [
    "El módulo `random` le _enseña_ a Python cómo generar números aleatorios.\n",
    "\n",
    "No es necesario saber cómo está hecho un módulo por dentro ni cómo funciona; basta saber usarlo, es decir, saber qué funciones le _enseña_ a Python. Para el módulo `random` nos interesan dos funciones:\n",
    "\n",
    "| Función          | Significado                    |\n",
    "|------------------|--------------------------------|\n",
    "| `randint(l,u)`   | devuelve un aleatorio en [l,u] |\n",
    "| `randrange(l,u)` | devuelve un aleatorio en [l,u) |\n",
    "\n",
    "\n",
    "En general, para saber qué nos ofrece un módulo podemos consultar su documentación o usar la función `help()`."
   ]
  },
  {
   "cell_type": "code",
   "execution_count": 16,
   "id": "e0056403",
   "metadata": {},
   "outputs": [
    {
     "name": "stdout",
     "output_type": "stream",
     "text": [
      "Help on method randint in module random:\n",
      "\n",
      "randint(a, b) method of random.Random instance\n",
      "    Return random integer in range [a, b], including both end points.\n",
      "\n"
     ]
    }
   ],
   "source": [
    "help(random.randint)"
   ]
  },
  {
   "cell_type": "code",
   "execution_count": 21,
   "id": "d33e1d0c",
   "metadata": {},
   "outputs": [
    {
     "data": {
      "text/plain": [
       "5"
      ]
     },
     "execution_count": 21,
     "metadata": {},
     "output_type": "execute_result"
    }
   ],
   "source": [
    "random.randint(1,6) # de 1 a 6"
   ]
  },
  {
   "cell_type": "code",
   "execution_count": 22,
   "id": "c68c0f65",
   "metadata": {},
   "outputs": [
    {
     "name": "stdout",
     "output_type": "stream",
     "text": [
      "Help on method randrange in module random:\n",
      "\n",
      "randrange(start, stop=None, step=1) method of random.Random instance\n",
      "    Choose a random item from range(start, stop[, step]).\n",
      "    \n",
      "    This fixes the problem with randint() which includes the\n",
      "    endpoint; in Python this is usually not what you want.\n",
      "\n"
     ]
    }
   ],
   "source": [
    "help(random.randrange)"
   ]
  },
  {
   "cell_type": "code",
   "execution_count": 48,
   "id": "ed1896b2",
   "metadata": {},
   "outputs": [
    {
     "data": {
      "text/plain": [
       "2"
      ]
     },
     "execution_count": 48,
     "metadata": {},
     "output_type": "execute_result"
    }
   ],
   "source": [
    "random.randrange(1,6) # de 1 a 5"
   ]
  },
  {
   "cell_type": "markdown",
   "id": "58dc9a6c",
   "metadata": {},
   "source": [
    "**Ejemplo**: lanzar una moneda y anunciar el resultado."
   ]
  },
  {
   "cell_type": "code",
   "execution_count": 58,
   "id": "3f30fe23",
   "metadata": {},
   "outputs": [
    {
     "name": "stdout",
     "output_type": "stream",
     "text": [
      "Cara\n"
     ]
    }
   ],
   "source": [
    "moneda = random.randint(1,2)\n",
    "\n",
    "if moneda == 1:\n",
    "    print(\"Cara\")\n",
    "else: \n",
    "    print(\"Cruz\")"
   ]
  },
  {
   "cell_type": "markdown",
   "id": "8aa2a617",
   "metadata": {},
   "source": [
    "## Solución del primer ejercicio de paper coding (404)\n",
    "Receive an alphabetical letter from the user and print \"It is a vowel\" for a, e, i, o, u and \"it is a consonant\" for any other letters."
   ]
  },
  {
   "cell_type": "code",
   "execution_count": 62,
   "id": "5a52455d",
   "metadata": {},
   "outputs": [
    {
     "name": "stdout",
     "output_type": "stream",
     "text": [
      "Introduzca una letra: O\n",
      "La letra es una vocal.\n"
     ]
    }
   ],
   "source": [
    "letra = input(\"Introduzca una letra: \")\n",
    "vocal = \"aeiouAEIOUáéíóúÁÉÍÓÚ\"\n",
    "\n",
    "if letra in vocal:\n",
    "    print(\"La letra es una vocal.\")\n",
    "else:\n",
    "    print(\"La letra es una consonante.\")"
   ]
  },
  {
   "cell_type": "markdown",
   "id": "cd2d8a6e",
   "metadata": {},
   "source": [
    "## Solución del segundo ejercicio de paper coding (405)\n",
    "Write the following program which receives two integers a, b as input, determines wheter a is a multiple of b and prints the result."
   ]
  },
  {
   "cell_type": "code",
   "execution_count": 65,
   "id": "7f78896c",
   "metadata": {},
   "outputs": [
    {
     "name": "stdout",
     "output_type": "stream",
     "text": [
      "Inserte un número: 3\n",
      "Inserte otro número: 30\n",
      "3 no es un múltiplo de 30\n"
     ]
    }
   ],
   "source": [
    "a = int(input(\"Inserte un número: \"))\n",
    "b = int(input(\"Inserte otro número: \"))\n",
    "\n",
    "if a % b == 0:\n",
    "    print(a, \"es un múltiplo de\", b)\n",
    "else:\n",
    "    print(a, \"no es un múltiplo de\", b)"
   ]
  },
  {
   "cell_type": "code",
   "execution_count": null,
   "id": "420cc565",
   "metadata": {},
   "outputs": [],
   "source": [
    "a, b = input(\"Dime dos número separados por un espacio: \").split()\n",
    "a, b = int(a), int(b)\n",
    "if a % b == 0:\n",
    "    print(a, \"es múltiplo de\", b)\n",
    "else:\n",
    "    print(a, \"no es multiplo de\", b)"
   ]
  },
  {
   "cell_type": "markdown",
   "id": "62a40f67",
   "metadata": {},
   "source": [
    "## Solución del primer ejercicio de pair programming (421)\n",
    "Write a program that executes addition, substraction, multiplication adn division. It prints the operation result of two positive integers, based on the desired operation number given as input. If a number else than 1, 2, 3 and 4 given as input, \"Entered an incorrect number\" is printed. To enter two numbers, write one, press enter and write another one."
   ]
  },
  {
   "cell_type": "code",
   "execution_count": 69,
   "id": "13d855a4",
   "metadata": {},
   "outputs": [
    {
     "name": "stdout",
     "output_type": "stream",
     "text": [
      "1) Suma \t2) Resta \t3) Multiplicación \t4) División \n",
      "Elija una de las opciones anteriores: 4\n",
      "Introduzca un número: 2\n",
      "Introduzca otro número: 0\n",
      "La operación no se puede realizar.\n"
     ]
    }
   ],
   "source": [
    "print(\"1) Suma \\t2) Resta \\t3) Multiplicación \\t4) División \")\n",
    "\n",
    "opcion = int(input(\"Elija una de las opciones anteriores: \"))\n",
    "\n",
    "if opcion < 1 or opcion > 4:\n",
    "    print(\"Opción incorrecta.\")\n",
    "else:\n",
    "    num_1 = int(input(\"Introduzca un número: \"))\n",
    "    num_2 = int(input(\"Introduzca otro número: \"))\n",
    "    \n",
    "    if opcion == 1:\n",
    "        resultado = num_1 + num_2\n",
    "        print(num_1, \"+\", num_2, \"=\", resultado)\n",
    "\n",
    "    elif opcion == 2:\n",
    "        resultado = num_1 - num_2\n",
    "        print(num_1, \"-\", num_2, \"=\", resultado)\n",
    "\n",
    "    elif opcion == 3:\n",
    "        resultado = num_1 * num_2\n",
    "        print(num_1, \"*\", num_2, \"=\", resultado)\n",
    "\n",
    "    else:\n",
    "        if num_2 == 0:\n",
    "            print(\"No se puede dividir entre 0.\")\n",
    "        else:\n",
    "            resultado = num_1 / num_2\n",
    "            print(num_1, \"/\", num_2, \"=\", resultado)"
   ]
  },
  {
   "cell_type": "markdown",
   "id": "ee789da2",
   "metadata": {},
   "source": [
    "## Solución del segundo ejercicio de pair programming (422)\n",
    "Write a program that receives a point with x and y coordinates as input and determines in which quadrant among 1, 2, 3, 4 the point belongs. The position of the quadrant is shown in the following figure."
   ]
  },
  {
   "cell_type": "code",
   "execution_count": 76,
   "id": "c5d03731",
   "metadata": {},
   "outputs": [
    {
     "name": "stdout",
     "output_type": "stream",
     "text": [
      "Introduzca la coordenada x: 0\n",
      "Introduzca la coordenada y: 6\n",
      "El punto no está en ningún cuadrante al estar sobre los ejes.\n"
     ]
    }
   ],
   "source": [
    "x = float(input(\"Introduzca la coordenada x: \"))\n",
    "y = float(input(\"Introduzca la coordenada y: \"))\n",
    "\n",
    "if x == 0 and y == 0:\n",
    "    print(\" El punto está justo en el centro en la intersección de los dos ejes.\")\n",
    "elif x == 0 or y == 0:\n",
    "    print(\"El punto no está en ningún cuadrante al estar sobre los ejes.\")\n",
    "else:\n",
    "    if x > 0 and y > 0:\n",
    "        print(\"El punto está en el cuadrante 1.\")\n",
    "    elif x < 0 and y > 0:\n",
    "        print(\"El punto está en el cuadrante 2.\")\n",
    "    elif x < 0 and y < 0:\n",
    "        print(\"El punto está en el cuadrante 3.\")\n",
    "    else:\n",
    "        print(\"El punto está en el cuadrante 4.\")"
   ]
  },
  {
   "cell_type": "code",
   "execution_count": null,
   "id": "e877ca6c",
   "metadata": {},
   "outputs": [],
   "source": [
    "x = float(input(\"Introduzca la coordenada x: \"))\n",
    "y = float(input(\"Introduzca la coordenada y: \"))\n",
    "\n",
    "if x == 0 and y == 0:\n",
    "    print(\" El punto está justo en el centro en la intersección de los dos ejes.\")\n",
    "elif x == 0 or y == 0:\n",
    "    print(\"El punto no está en ningún cuadrante al estar sobre los ejes.\")\n",
    "else:\n",
    "    if x > 0:\n",
    "        if y > 0:\n",
    "            print(\"Cuadrante 1\")\n",
    "        else:\n",
    "            print(\"Cuadrante 4\")\n",
    "    else:\n",
    "        if y > 0:\n",
    "            print(\"Cuadrante 2\")\n",
    "        else: \n",
    "            print(\"Cuadrante 3\")"
   ]
  },
  {
   "cell_type": "markdown",
   "id": "d9609144",
   "metadata": {},
   "source": [
    "## Solución del tercer ejercicio de pair programming (423)\n",
    "Develop a menu ordering program for Yummy Restaurant. Show the following menu to the user and let the user select one. If the given input alphabet is not in the menu, print \"enter the menu again\" and receive another input."
   ]
  },
  {
   "cell_type": "code",
   "execution_count": 81,
   "id": "e9fc5bdf",
   "metadata": {},
   "outputs": [
    {
     "name": "stdout",
     "output_type": "stream",
     "text": [
      "Welcome to Yummy Restaurant. Here is the menu.\n",
      " - Burger (enter b)\n",
      " - Chicken (enter c)\n",
      " - Pizza (enter p)\n",
      "Choose a menu (enter b,c,p): d\n",
      "Enter the menu again\n",
      "Choose a menu (enter b,c,p): p\n",
      "You choose Pizza\n"
     ]
    }
   ],
   "source": [
    "print(\"Welcome to Yummy Restaurant. Here is the menu.\\n - Burger (enter b)\\n - Chicken (enter c)\\n - Pizza (enter p)\")\n",
    "opcion = input(\"Choose a menu (enter b,c,p): \")\n",
    "\n",
    "if opcion not in \"bcp\":\n",
    "    print(\"Enter the menu again\")\n",
    "    opcion = input(\"Choose a menu (enter b,c,p): \")\n",
    "\n",
    "if opcion == \"b\":\n",
    "    choose = \"Burger\"\n",
    "elif opcion == \"c\":\n",
    "    choose = \"Chicken\"\n",
    "elif opcion == \"p\":\n",
    "    choose = \"Pizza\"\n",
    "else:\n",
    "    choose = \"nada porque no sabes escoger plato en un menú.\"\n",
    "\n",
    "print(\"You choose\", choose)"
   ]
  },
  {
   "cell_type": "markdown",
   "id": "a3320f6f",
   "metadata": {},
   "source": [
    "## Solución del mission problem (367)\n",
    "Tengo un portero que se lanza aleatoriamente y un juegador que lanza el balón al centro, a la derecha o a la izquierda. Se simula un solo lanzamiento. Así, se debe indicar si se ha marcado gol o no."
   ]
  },
  {
   "cell_type": "code",
   "execution_count": null,
   "id": "dd365f57",
   "metadata": {},
   "outputs": [],
   "source": [
    "import random\n",
    "\n",
    "penalty = random.randint(1,3)\n",
    "\n",
    "if penalty == 1:\n",
    "    direccion_penalty = \"derecha\"\n",
    "elif penalty == 2:\n",
    "    direccion_penalty = \"centro\"\n",
    "else:\n",
    "    direccion_penalty = \"izquierda\"\n",
    "\n",
    "seleccion_portero = int(input(\"Introduce 1 para tirarte a la dcha, 2 para permanecer en el centro o 3 para tirarte a la izq\"))\n",
    "\n",
    "if seleccion_portero == 1:\n",
    "    movimiento_portero = \"derecha\"\n",
    "elif seleccion_portero == 2:\n",
    "    movimiento_portero = \"centro\"\n",
    "elif seleccion_portero == 3:\n",
    "    movimiento_portero = \"izquierda\"\n",
    "else:\n",
    "    print(\"La opción seleccionada no es válida\")\n",
    "\n",
    "if direccion_penalty == movimiento_portero:\n",
    "    print (\"¡¡¡Bien!!! Has parado el penalty\")\n",
    "else:\n",
    "    print(\"Oh:(( te han metido un gol\")"
   ]
  }
 ],
 "metadata": {
  "kernelspec": {
   "display_name": "Python 3 (ipykernel)",
   "language": "python",
   "name": "python3"
  },
  "language_info": {
   "codemirror_mode": {
    "name": "ipython",
    "version": 3
   },
   "file_extension": ".py",
   "mimetype": "text/x-python",
   "name": "python",
   "nbconvert_exporter": "python",
   "pygments_lexer": "ipython3",
   "version": "3.10.9"
  }
 },
 "nbformat": 4,
 "nbformat_minor": 5
}
