{
 "cells": [
  {
   "cell_type": "markdown",
   "id": "67f01fe6",
   "metadata": {},
   "source": [
    "# Ejercicios de expresiones en Python\n",
    "\n",
    "1. ¿Cuántos segundos hay en 42 minutos y 42 segundos?"
   ]
  },
  {
   "cell_type": "code",
   "execution_count": 1,
   "id": "5ee34674",
   "metadata": {},
   "outputs": [
    {
     "name": "stdout",
     "output_type": "stream",
     "text": [
      "Los segundos en 42 minutos y 42 segundos son 2562\n"
     ]
    }
   ],
   "source": [
    "minutos = 42\n",
    "segundos = 42\n",
    "segundos_por_minuto = 60\n",
    "\n",
    "tiempo_seg = minutos * segundos_por_minuto + segundos\n",
    "print(\"Los segundos en 42 minutos y 42 segundos son\", tiempo_seg)"
   ]
  },
  {
   "cell_type": "markdown",
   "id": "67427c43",
   "metadata": {},
   "source": [
    "2. ¿Cuántas millas hay en 10 kilómetros? Pista: hay 1.61 kilómetros en una milla."
   ]
  },
  {
   "cell_type": "code",
   "execution_count": 3,
   "id": "78d3e0c0",
   "metadata": {},
   "outputs": [
    {
     "name": "stdout",
     "output_type": "stream",
     "text": [
      "Las millas en 10 kilómetros son 6.211180124223602\n"
     ]
    }
   ],
   "source": [
    "kilometros = 10\n",
    "km_por_milla = 1.61\n",
    "\n",
    "distancia_millas = 10 / km_por_milla\n",
    "\n",
    "print(\"Las millas en 10 kilómetros son\", distancia_millas)"
   ]
  },
  {
   "cell_type": "markdown",
   "id": "ffcd6107",
   "metadata": {},
   "source": [
    "3. Si completas una carrera de 10 kilómetros en 42 minutos y 42 segundos, ¿Cuál es tu velocidad media en millas por hora?"
   ]
  },
  {
   "cell_type": "code",
   "execution_count": 6,
   "id": "86203b1b",
   "metadata": {},
   "outputs": [
    {
     "name": "stdout",
     "output_type": "stream",
     "text": [
      "La velocidad media de la carrera es de 8.727653570337614 millas por hora\n"
     ]
    }
   ],
   "source": [
    "distancia_km = 10\n",
    "km_por_milla = 1.61\n",
    "distancia_millas = 10 / km_por_milla\n",
    "\n",
    "minutos = 42\n",
    "segundos = 42\n",
    "segundos_en_hora = 3600\n",
    "segundos_en_minuto = 60\n",
    "tiempo_h = minutos / segundos_en_minuto + segundos / segundos_en_hora\n",
    "\n",
    "velocidad_media = distancia_millas/tiempo_h\n",
    "print(\"La velocidad media de la carrera es de\", velocidad_media, \"millas por hora\")"
   ]
  },
  {
   "cell_type": "markdown",
   "id": "83432287",
   "metadata": {},
   "source": [
    "4. El volumen de una esfera de radio $r$ es $\\frac{4}{3} \\pi r^3$. ¿Qué volumen tiene una esfera de radio 5?"
   ]
  },
  {
   "cell_type": "code",
   "execution_count": 10,
   "id": "dd6a2cd9",
   "metadata": {},
   "outputs": [
    {
     "name": "stdout",
     "output_type": "stream",
     "text": [
      "Ponga el radio de la esfera: 5\n",
      "El volumen de una esfera con radio 5 es de 523.5983333333332\n"
     ]
    }
   ],
   "source": [
    "radio = int(input(\"Ponga el radio de la esfera: \"))\n",
    "PI = 3.14159\n",
    "\n",
    "volumen_esfera = 4 / 3 * PI * radio**3\n",
    "\n",
    "print(\"El volumen de una esfera con radio\", radio, \"es de\", volumen_esfera)"
   ]
  },
  {
   "cell_type": "markdown",
   "id": "4e5c3a25",
   "metadata": {},
   "source": [
    "5. El precio de venta del libro \"Python para pythonistas\" es de 24.95   euros, pero las librerías tienen un descuento del 40%. Los costes de envío ascienden a 3 euros por la primera copia y 75 céntimos por cada copia extra. ¿Cuánto pagará una biblioteca que encargue 60 copias?"
   ]
  },
  {
   "cell_type": "code",
   "execution_count": 8,
   "id": "329b448d",
   "metadata": {},
   "outputs": [
    {
     "name": "stdout",
     "output_type": "stream",
     "text": [
      "¿Cuántas copias desea comprar? 60\n",
      "El precio a pagar es de 945.4499999999999\n"
     ]
    }
   ],
   "source": [
    "precio = 24.95\n",
    "\n",
    "precio_descontado = precio * 0.6\n",
    "\n",
    "envio_primera_copia = 3\n",
    "\n",
    "envio_copias_extra = 0.75\n",
    "\n",
    "numero_copias = int(input(\"¿Cuántas copias desea comprar? \"))\n",
    "\n",
    "precio = numero_copias * precio_descontado + envio_primera_copia + (numero_copias - 1) * envio_copias_extra\n",
    "\n",
    "print(\"El precio a pagar es de\", precio)"
   ]
  },
  {
   "cell_type": "code",
   "execution_count": 9,
   "id": "9d8c127e",
   "metadata": {},
   "outputs": [
    {
     "data": {
      "text/plain": [
       "945.45"
      ]
     },
     "execution_count": 9,
     "metadata": {},
     "output_type": "execute_result"
    }
   ],
   "source": [
    "precio_libro = 24.95\n",
    "descuento_librerias = 40\n",
    "coste_primer_envio = 3\n",
    "coste_resto_envios = 0.75\n",
    "numero_de_copias = 60\n",
    "\n",
    "coste_libros_sin_descuento = numero_de_copias * precio_libro\n",
    "descuento = coste_libros_sin_descuento * descuento_librerias / 100\n",
    "coste_libros_con_descuento = coste_libros_sin_descuento - descuento\n",
    "coste_envio = coste_primer_envio + coste_resto_envios * (numero_de_copias - 1)\n",
    "coste_pedido = coste_libros_con_descuento + coste_envio\n",
    "coste_pedido"
   ]
  },
  {
   "cell_type": "markdown",
   "id": "47ebbc00",
   "metadata": {},
   "source": [
    "6. Si salgo de casa a las 6:52 de la mañana y corro un kilómetro una velocidad de 8:15 por km, otros tres kilómetros a una velocidad de 7:12 por kilómetro y finalmente un kilómetro a una velocidad de 8:15 por kilómetro. ¿A qué hora estaré en casa para desayunar?\n",
    "\n",
    "Ojo, se utiliza la misma notación para la hora (6:52) con la de la velocidad (8 minutos 15 segundos/7 minutos 12 segundos), pero no es lo mismo"
   ]
  },
  {
   "cell_type": "code",
   "execution_count": 13,
   "id": "92fd7bfb",
   "metadata": {},
   "outputs": [
    {
     "name": "stdout",
     "output_type": "stream",
     "text": [
      "La hora de llegada a casa será a las 7 y 30\n"
     ]
    }
   ],
   "source": [
    "hora_salida_seg = 6 * 60 * 60 + 52 * 60\n",
    "\n",
    "primera_vuelta_seg = 8 * 60 + 15\n",
    "\n",
    "segunda_vuelta_seg = 3 * (7 * 60 + 12)\n",
    "\n",
    "tercera_vuelta_seg = 8 * 60 + 15\n",
    "\n",
    "suma_tiempo = primera_vuelta_seg + segunda_vuelta_seg + tercera_vuelta_seg\n",
    "\n",
    "hora_llegada_seg = hora_salida_seg + suma_tiempo\n",
    "\n",
    "hora_llegada = hora_llegada_seg // 3600\n",
    "sobra_segundos = hora_llegada_seg % 3600\n",
    "minutos_llegada = sobra_segundos // 60\n",
    "\n",
    "\n",
    "print(\"La hora de llegada a casa será a las\", hora_llegada, \"y\", minutos_llegada)"
   ]
  },
  {
   "cell_type": "code",
   "execution_count": 10,
   "id": "ed68df90",
   "metadata": {},
   "outputs": [
    {
     "name": "stdout",
     "output_type": "stream",
     "text": [
      "Estaré de vuelta a las 7 : 30\n"
     ]
    }
   ],
   "source": [
    "hora_salida = 6\n",
    "minutos_salida = 52\n",
    "instante_salida_en_segundos = hora_salida * segundos_en_hora + minutos_salida * segundos_en_minuto\n",
    "\n",
    "minutos_primer_trayecto = 8\n",
    "segundos_primer_trayecto = 15\n",
    "total_segundos_primer_trayecto = minutos_primer_trayecto * segundos_en_minuto + segundos_primer_trayecto\n",
    "\n",
    "minutos_segundo_trayecto = 3 * 7\n",
    "segundos_segundo_trayecto = 3 * 12\n",
    "total_segundos_segundo_trayecto = minutos_segundo_trayecto * segundos_en_minuto + segundos_segundo_trayecto\n",
    "\n",
    "minutos_tercer_trayecto = 8\n",
    "segundos_tercer_trayecto = 15\n",
    "total_segundos_tercer_trayecto = minutos_tercer_trayecto * segundos_en_minuto + segundos_tercer_trayecto\n",
    "\n",
    "total_carrera_en_segundos = total_segundos_primer_trayecto + total_segundos_segundo_trayecto + total_segundos_tercer_trayecto\n",
    "instante_llegada_en_segundos = instante_salida_en_segundos + total_carrera_en_segundos\n",
    "\n",
    "hora_llegada = instante_llegada_en_segundos // segundos_en_hora\n",
    "segundos_sobrantes = instante_llegada_en_segundos % segundos_en_hora\n",
    "minutos_llegada = segundos_sobrantes // segundos_en_minuto\n",
    "\n",
    "print(\"Estaré de vuelta a las\", hora_llegada, \":\", minutos_llegada)"
   ]
  }
 ],
 "metadata": {
  "kernelspec": {
   "display_name": "Python 3 (ipykernel)",
   "language": "python",
   "name": "python3"
  },
  "language_info": {
   "codemirror_mode": {
    "name": "ipython",
    "version": 3
   },
   "file_extension": ".py",
   "mimetype": "text/x-python",
   "name": "python",
   "nbconvert_exporter": "python",
   "pygments_lexer": "ipython3",
   "version": "3.10.9"
  }
 },
 "nbformat": 4,
 "nbformat_minor": 5
}
