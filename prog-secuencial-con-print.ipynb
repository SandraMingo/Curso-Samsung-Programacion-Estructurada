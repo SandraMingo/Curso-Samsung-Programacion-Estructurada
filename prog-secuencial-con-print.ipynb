{
 "cells": [
  {
   "cell_type": "markdown",
   "id": "de70709e",
   "metadata": {},
   "source": [
    "# Ejemplos de uso de la función `print()`\n",
    "\n",
    "La función `print()` permite escribir información en la pantalla."
   ]
  },
  {
   "cell_type": "code",
   "execution_count": null,
   "id": "e1752ee0",
   "metadata": {},
   "outputs": [],
   "source": [
    "# Esto es una celda de código (Python)\n",
    "# Para ejecutarla, presionar Ctr-Intro\n",
    "\n",
    "print(254)                        # escribe un número\n",
    "print(\"hola qué tal, cómo estás\") # escribe un mensaje (cadena, string)\n",
    "print(\"Hola\", \"que tal estás\")    # escribe varias cosas, separadas por espacios\n",
    "print(\"resultado:\", 34)           # la coma se reemplaza por espacio"
   ]
  },
  {
   "cell_type": "code",
   "execution_count": null,
   "id": "a43b09fc",
   "metadata": {},
   "outputs": [],
   "source": [
    "# Esta celda contiene un error sintáctico (syntax error)\n",
    "# No puedo poner un salto de línea dentro de una cadena\n",
    "\n",
    "print(\"Hola qué tal,\n",
    "      ¿cómo estás?\")"
   ]
  },
  {
   "cell_type": "code",
   "execution_count": null,
   "id": "cdd11ecc",
   "metadata": {},
   "outputs": [],
   "source": [
    "print(\"Hola qué tal,\\n¿cómo estás?\") # el caracter de escape \\n es un salto de línea"
   ]
  },
  {
   "cell_type": "code",
   "execution_count": null,
   "id": "ca3ab536",
   "metadata": {},
   "outputs": [],
   "source": [
    "# imprimir \"sumas\" de números y cadenas\n",
    "\n",
    "print(23 + 16)            # + para números\n",
    "print(\"hola \" + \"python\") # + para cadenas"
   ]
  },
  {
   "cell_type": "code",
   "execution_count": null,
   "id": "a68d39cc",
   "metadata": {},
   "outputs": [],
   "source": [
    "# Esta celda contiene un error en tiempo de ejecución (runtime error)\n",
    "# imprimir \"sumas\" de números y cadenas\n",
    "\n",
    "print(23 + 16)            # + para números\n",
    "print(\"hola \" + \"python\") # + para cadenas\n",
    "print(\"hola\" + 23)        # no puedo sumar cadenas y números"
   ]
  },
  {
   "cell_type": "code",
   "execution_count": null,
   "id": "41ad3faa",
   "metadata": {},
   "outputs": [],
   "source": [
    "# imprimir productos de números y cadenas\n",
    "\n",
    "print(3 * 6)       # * para numeros\n",
    "print(\"hola\" * 3)  # * cadena y número (o viceversa)\n",
    "print(5 * \"hola\")"
   ]
  },
  {
   "cell_type": "code",
   "execution_count": null,
   "id": "0d3ca213",
   "metadata": {
    "scrolled": true
   },
   "outputs": [],
   "source": [
    "# el separador (sep) por defecto es el espacio, pero se puede cambiar\n",
    "\n",
    "print(\"hola\", \"anaconda\")             # por defecto la coma es un espacio\n",
    "print(\"hola\", \"anaconda\", sep=\"***\")  # pero puedo cambiar la coma a otra cosa\n",
    "print(\"adios\", \"anaconda\") "
   ]
  },
  {
   "cell_type": "code",
   "execution_count": null,
   "id": "2fe690fd",
   "metadata": {},
   "outputs": [],
   "source": [
    "# el terminador (end) por defecto es la nueva línea (\\n), pero se puede cambiar\n",
    "\n",
    "print(\"estamos acabando \", end=\"\")  \n",
    "print(\"la clase\")"
   ]
  },
  {
   "cell_type": "markdown",
   "id": "26055845",
   "metadata": {},
   "source": [
    "# Solución del Pair Programming de la unidad 1 "
   ]
  },
  {
   "cell_type": "code",
   "execution_count": 3,
   "id": "20663e50",
   "metadata": {},
   "outputs": [
    {
     "name": "stdout",
     "output_type": "stream",
     "text": [
      "   *\n",
      "  ***\n",
      " *****\n",
      "*******\n",
      " *****\n",
      "  ***\n",
      "   *\n"
     ]
    }
   ],
   "source": [
    "print(\"   *\")\n",
    "print(\"  ***\")\n",
    "print(\" *****\")\n",
    "print(\"*******\")\n",
    "print(\" *****\")\n",
    "print(\"  ***\")\n",
    "print(\"   *\")"
   ]
  },
  {
   "cell_type": "code",
   "execution_count": 15,
   "id": "8f808fa1",
   "metadata": {},
   "outputs": [
    {
     "name": "stdout",
     "output_type": "stream",
     "text": [
      "   *\n",
      "  ***\n"
     ]
    }
   ],
   "source": [
    "print(2*\" \", \"*\")\n",
    "print(2*\" \"+ 3*\"*\")"
   ]
  }
 ],
 "metadata": {
  "kernelspec": {
   "display_name": "Python 3 (ipykernel)",
   "language": "python",
   "name": "python3"
  },
  "language_info": {
   "codemirror_mode": {
    "name": "ipython",
    "version": 3
   },
   "file_extension": ".py",
   "mimetype": "text/x-python",
   "name": "python",
   "nbconvert_exporter": "python",
   "pygments_lexer": "ipython3",
   "version": "3.10.9"
  }
 },
 "nbformat": 4,
 "nbformat_minor": 5
}
