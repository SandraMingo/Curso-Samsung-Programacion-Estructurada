{
 "cells": [
  {
   "cell_type": "markdown",
   "id": "7c325548",
   "metadata": {},
   "source": [
    "# Unidad 8 - Sentencias Iterativas - I"
   ]
  },
  {
   "cell_type": "markdown",
   "id": "7af3061e",
   "metadata": {},
   "source": [
    "## Razones para usar sentencias iterativas\n",
    "\n",
    "A veces necesitamos repetir unas sentencias un cierto número de veces, por ejemplo:\n",
    "\n",
    "- imprimir cinco veces una frase\n",
    "- avanzar seis calles y después girar a la derecha\n",
    "- imprimir una tabla de los cuadrados del 2 al 6 (Unidad 4. Pair Programming, Q2)"
   ]
  },
  {
   "cell_type": "code",
   "execution_count": null,
   "id": "b53d6a5b",
   "metadata": {},
   "outputs": [],
   "source": [
    "print(\"En clase no se habla\")\n",
    "print(\"En clase no se habla\")\n",
    "print(\"En clase no se habla\")\n",
    "print(\"En clase no se habla\")\n",
    "print(\"En clase no se habla\")"
   ]
  },
  {
   "cell_type": "code",
   "execution_count": null,
   "id": "1e07ec7e",
   "metadata": {},
   "outputs": [],
   "source": [
    "print(\"avanzar una calle\")\n",
    "print(\"avanzar una calle\")\n",
    "print(\"avanzar una calle\")\n",
    "print(\"avanzar una calle\")\n",
    "print(\"avanzar una calle\")\n",
    "print(\"avanzar una calle\")\n",
    "\n",
    "print(\"girar a la derecha\")"
   ]
  },
  {
   "cell_type": "code",
   "execution_count": null,
   "id": "697e3135",
   "metadata": {
    "scrolled": true
   },
   "outputs": [],
   "source": [
    "a = 2\n",
    "n = 2\n",
    "\n",
    "print(\"a \\t n \\t a ** n\")\n",
    "\n",
    "print(a, \"\\t\", n, \"\\t\", a ** 2)\n",
    "a += 1\n",
    "print(a, \"\\t\", n, \"\\t\", a ** 2)\n",
    "a += 1\n",
    "print(a, \"\\t\", n, \"\\t\", a ** 2)\n",
    "a += 1\n",
    "print(a, \"\\t\", n, \"\\t\", a ** 2)\n",
    "a += 1\n",
    "print(a, \"\\t\", n, \"\\t\", a ** 2)\n",
    "a += 1"
   ]
  },
  {
   "cell_type": "markdown",
   "id": "fbc313ec",
   "metadata": {},
   "source": [
    "Aunque es posible resolver estos problemas sin utilizar sentencias iterativas, las soluciones que obtenemos no son elegantes (repiten mucho código) y son difíciles de adaptar a nuevas situaciones (imprimir 100 veces la frase, avanzar 15 calles o imprimir los cuadrados del 1 al 100, o los cubos del 1 al 10).\n",
    "\n",
    "Las sentencias iterativas permiten repetir cierto código indicando:\n",
    "- una sola vez el código hay que repetir\n",
    "- las veces que hay que repetirlo"
   ]
  },
  {
   "cell_type": "markdown",
   "id": "fb66fa8c",
   "metadata": {},
   "source": [
    "## Repitiendo n veces un código\n",
    "\n",
    "La sentencia `for` permite repetir cierto código. Su sintaxis es:\n",
    "\n",
    "```python\n",
    "for i in range(número_de_veces):\n",
    "    codigo_a_repetir\n",
    "```\n",
    "\n",
    "donde:\n",
    "- El `codigo_a_repetir`es un **bloque** con las sentencias a repetir, se le llama **cuerpo** del bucle\n",
    "- El entero `numero_de_veces` indica cuántas veces se repetirá el código\n",
    "\n",
    "**Nota:** el nombre `i` que aparece entre `for` e `in` puede reemplazar por cualquier otro nombre válido en Python. Por ahora lo ignoraremos."
   ]
  },
  {
   "cell_type": "markdown",
   "id": "d0dc831f",
   "metadata": {},
   "source": [
    "**Ejemplos:** Usa la sentencia `for` para:\n",
    "- escribir 100 veces `En clase no se habla`\n",
    "- avanzar $n$ calles y luego girar a la izquierda (el número $n$ se obtiene por teclado)\n",
    "- imprimir los cuadrados del 1 al 10 (observa que el bloque tiene dos sentencias)"
   ]
  },
  {
   "cell_type": "code",
   "execution_count": null,
   "id": "f3bd6958",
   "metadata": {},
   "outputs": [],
   "source": [
    "for i in range(10): #son 100, pero pereza\n",
    "    print(\"En clase no se habla\")"
   ]
  },
  {
   "cell_type": "code",
   "execution_count": null,
   "id": "ffe05c9d",
   "metadata": {},
   "outputs": [],
   "source": [
    "n = int(input(\"Indique el número de calles que debe avanzar: \"))\n",
    "\n",
    "for i in range(n):\n",
    "    print(\"Avance la calle\")\n",
    "print(\"Gire a la izquierda\")"
   ]
  },
  {
   "cell_type": "code",
   "execution_count": null,
   "id": "dbfaf891",
   "metadata": {},
   "outputs": [],
   "source": [
    "n=2\n",
    "\n",
    "print(\"a \\t n \\t a ** n\")\n",
    "for i in range(10):\n",
    "    print(i+1, \"\\t\", n, \"\\t\", (i+1) ** n)"
   ]
  },
  {
   "cell_type": "markdown",
   "id": "534c64d0",
   "metadata": {},
   "source": [
    "## Variable de control del bucle `for`\n",
    "\n",
    "El nombre que aparece entre `for` e `in` es una variable, se le llama la **variable de control** del bucle.\n",
    "Si un bucle `for` se repite $n$ veces, la variable de control toma automáticamente los valores $0,1,2,3\\dots n-1$. La variable de control se puede acceder dentro del cuerpo del bucle.\n",
    "\n",
    "Por ejemplo, para el siguiente bucle `for`, la variable de control toma sucesivamente los valores $0,1,2,3,4$:"
   ]
  },
  {
   "cell_type": "code",
   "execution_count": null,
   "id": "99e02875",
   "metadata": {},
   "outputs": [],
   "source": [
    "for i in range(5):\n",
    "    print(i)"
   ]
  },
  {
   "cell_type": "markdown",
   "id": "c8697d73",
   "metadata": {},
   "source": [
    "Puedes elegir cualquier otro nombre para la variable de control, su nombre no afecta al bucle:"
   ]
  },
  {
   "cell_type": "code",
   "execution_count": null,
   "id": "9db99807",
   "metadata": {
    "scrolled": true
   },
   "outputs": [],
   "source": [
    "for variable_de_control_del_bucle in range(5):\n",
    "    print(variable_de_control_del_bucle)"
   ]
  },
  {
   "cell_type": "markdown",
   "id": "86b65701",
   "metadata": {},
   "source": [
    "**Ejemplos**: Usa la sentencia `for` para:\n",
    "- imprimir la frase \"En clase no se copia\", indicando además cada frase con el número de copias que llevas\n",
    "- imprimir la tabla de multiplicar de un entero $n$ leído de teclado\n",
    "- imprimir la tabla de cuadrados del 1 al 10"
   ]
  },
  {
   "cell_type": "code",
   "execution_count": null,
   "id": "fa162ecd",
   "metadata": {
    "scrolled": true
   },
   "outputs": [],
   "source": [
    "for i in range(5): # i = 0, 1, 2, 3, 4\n",
    "    print(\"En clase no se habla. Llevo\", i+1, \"copias.\")"
   ]
  },
  {
   "cell_type": "code",
   "execution_count": null,
   "id": "a0dabb30",
   "metadata": {},
   "outputs": [],
   "source": [
    "n = int(input(\"¿Qué tabla quieres? \"))\n",
    "\n",
    "for i in range(10):\n",
    "    print(n, \"*\", i+1, \"=\", n * (i+1))"
   ]
  },
  {
   "cell_type": "markdown",
   "id": "633c8987",
   "metadata": {},
   "source": [
    "### Variable de control anónima\n",
    "\n",
    "A veces el cuerpo del bucle no necesita acceder a la variable de control. En tales ocasiones, podemos utilizar la variable de control _anónima_, `_`:\n",
    "\n",
    "```python\n",
    "for _ in range(número_de_veces):\n",
    "    codigo_a_repetir\n",
    "```"
   ]
  },
  {
   "cell_type": "code",
   "execution_count": null,
   "id": "931a0554",
   "metadata": {},
   "outputs": [],
   "source": [
    "for _ in range(5):\n",
    "    print(\"En clase no se habla.\")"
   ]
  },
  {
   "cell_type": "markdown",
   "id": "d8eec465",
   "metadata": {},
   "source": [
    "## Repitiendo para una secuencia aritmética de valores\n",
    "\n",
    "Los ejemplos anteriores repiten el cuerpo del bucle $n$ veces: si no necesitamos saber en qué repetición nos encontramos, podemos usar la variable anónima; de lo contrario utilizamos una variable de control cuyos valores serán $0,1,2,3\\dots n-1$.\n",
    "\n",
    "A veces necesitamos repetir un código de forma de la variable de control no vaya de $0$ a $n-1$, sino que tome valores equidistantes dentro de un rango dado:\n",
    "- los números pares entre 0 y 20\n",
    "- los números impares entre 1 y 100\n",
    "- los números entre 10 y 0, en orden decreciente\n",
    "\n",
    "Para tales casos debemos indicar en `range` el valor  inicial, el valor final (sin incluir) y la diferencia entre los números visitados (recuerda, son equidistantes):\n",
    "\n",
    "```python\n",
    "   range(inicio, fin, diferencia)\n",
    "```\n",
    "\n",
    "La variable control tomará los valores en el intervalo $[\\textrm{inicio}, \\textrm{inicio} + \\textrm{diferencia}, \\textrm{inicio} + 2 \\times \\textrm{diferencia}  \\dots \\textrm{fin} )$. Recuerda, el valor $\\textrm{fin}$ no está incluido."
   ]
  },
  {
   "cell_type": "code",
   "execution_count": null,
   "id": "5162d003",
   "metadata": {},
   "outputs": [],
   "source": [
    "for i in range(1,30,5): #i = 1, 6, 11, 16, 21, 26 (sumando 5)\n",
    "    print(i)"
   ]
  },
  {
   "cell_type": "code",
   "execution_count": null,
   "id": "3aa72c62",
   "metadata": {},
   "outputs": [],
   "source": [
    "for i in range(1,26,5): #i = 1, 6, 11, 16, 21, 26 (sumando 5)\n",
    "    print(i)"
   ]
  },
  {
   "cell_type": "markdown",
   "id": "d497818c",
   "metadata": {},
   "source": [
    "**Ejemplos**: Usa sentencias `for` con rangos completos para:\n",
    "- calcular la suma de los enteros entre 1 y 100\n",
    "- calcular el factorial de un número leído por teclado\n",
    "- imprimir una cuenta atrás como la que se usa al lanzar un cohete"
   ]
  },
  {
   "cell_type": "code",
   "execution_count": null,
   "id": "8abfdca9",
   "metadata": {},
   "outputs": [],
   "source": [
    "suma = 0 # variable acumuladora\n",
    "\n",
    "for i in range(1,100 + 1):\n",
    "    suma += i\n",
    "\n",
    "print(suma)"
   ]
  },
  {
   "cell_type": "code",
   "execution_count": 10,
   "id": "39affe3b",
   "metadata": {},
   "outputs": [
    {
     "name": "stdout",
     "output_type": "stream",
     "text": [
      "Ponga el número del cual quiere el factorial: 5\n",
      "120\n"
     ]
    }
   ],
   "source": [
    "numero = int(input(\"Ponga el número del cual quiere el factorial: \"))\n",
    "\n",
    "resultado = 1\n",
    "\n",
    "for i in range(1, numero + 1):\n",
    "    resultado *= i\n",
    "    \n",
    "print(resultado)"
   ]
  },
  {
   "cell_type": "code",
   "execution_count": 14,
   "id": "c9250f43",
   "metadata": {},
   "outputs": [
    {
     "name": "stdout",
     "output_type": "stream",
     "text": [
      "Ponga el número de inicio de la cuenta atrás: 5\n",
      "5\n",
      "4\n",
      "3\n",
      "2\n",
      "1\n",
      "0\n"
     ]
    }
   ],
   "source": [
    "cuenta_atras = int(input(\"Ponga el número de inicio de la cuenta atrás: \"))\n",
    "\n",
    "output = cuenta_atras\n",
    "\n",
    "for i in range(0, cuenta_atras + 1):\n",
    "    print(output)\n",
    "    output -= 1"
   ]
  },
  {
   "cell_type": "code",
   "execution_count": 17,
   "id": "f208cc2f",
   "metadata": {},
   "outputs": [
    {
     "name": "stdout",
     "output_type": "stream",
     "text": [
      "10\n",
      "9\n",
      "8\n",
      "7\n",
      "6\n",
      "5\n",
      "4\n",
      "3\n",
      "2\n",
      "1\n",
      "0\n"
     ]
    }
   ],
   "source": [
    "for i in range(10, 0-1, -1):\n",
    "    print(i)"
   ]
  },
  {
   "cell_type": "markdown",
   "id": "e29e20a8",
   "metadata": {},
   "source": [
    "## Repitiendo para una secuencia arbitraria de valores\n",
    "\n",
    "A veces queremos repetir un código para una secuencia de enteros que no son equidistantes (no forman una secuencia aritmética). En tal caso, no podemos utilizar `range`; debemos facilitar todos los valores que queremos visitar encerrados entre corchetes y separados por comas:\n",
    "\n",
    "```python\n",
    "for i in [x0, x1, x2, ..., xn]:\n",
    "    codigo_a_repetir\n",
    "```\n",
    "\n",
    "En tal caso, el código se repetirá $n+1$ veces, y la variable de control tomará los valores $x_0, x_1, x_2\\dots x_n$.\n",
    "\n",
    "Además, los valores $x_i$ no tienen que ser enteros; pueden ser flotantes, cadenas, booleanos, o cualquier otro tipo Python. De hecho, ni siquiera es necesario que todos los valores de la secuencia tengan el mismo tipo.\n",
    "\n",
    "**Nota:** La expresión `[x0, x1, x2, ..., xn]` es una lista; las estudiaremos en el siguiente capítulo."
   ]
  },
  {
   "cell_type": "code",
   "execution_count": 1,
   "id": "ab1f3c63",
   "metadata": {},
   "outputs": [
    {
     "name": "stdout",
     "output_type": "stream",
     "text": [
      "2\n",
      "3\n",
      "5\n",
      "7\n",
      "11\n",
      "13\n",
      "17\n"
     ]
    }
   ],
   "source": [
    "primos = [2, 3, 5, 7, 11, 13, 17]\n",
    "\n",
    "for primo in primos:\n",
    "    print(primo)"
   ]
  },
  {
   "cell_type": "markdown",
   "id": "c27061f7",
   "metadata": {},
   "source": [
    "## Repitiendo para los caracteres de una cadena\n",
    "\n",
    "A veces queremos repetir un código para cada carácter de una cadena de caracteres (`srt`). En tal caso, basta facilitar a Python la cadena cuyos caracteres queremos visitar:"
   ]
  },
  {
   "cell_type": "code",
   "execution_count": 3,
   "id": "4507b214",
   "metadata": {},
   "outputs": [
    {
     "name": "stdout",
     "output_type": "stream",
     "text": [
      "h\n",
      "o\n",
      "l\n",
      "a\n",
      " \n",
      "p\n",
      "y\n",
      "t\n",
      "h\n",
      "o\n",
      "n\n"
     ]
    }
   ],
   "source": [
    "for caracter in \"hola python\":\n",
    "    print(caracter)"
   ]
  },
  {
   "cell_type": "code",
   "execution_count": 4,
   "id": "afc3d2ec",
   "metadata": {},
   "outputs": [
    {
     "name": "stdout",
     "output_type": "stream",
     "text": [
      "p\n",
      "o\n",
      "r\n",
      " \n",
      "f\n",
      "i\n",
      "n\n",
      " \n",
      "e\n",
      "s\n",
      " \n",
      "v\n",
      "i\n",
      "e\n",
      "r\n",
      "n\n",
      "e\n",
      "s\n"
     ]
    }
   ],
   "source": [
    "mensaje = \"por fin es viernes\"\n",
    "\n",
    "for c in mensaje:\n",
    "    print(c)"
   ]
  },
  {
   "cell_type": "markdown",
   "id": "c1686072",
   "metadata": {},
   "source": [
    "## (Casi) toda la verdad sobre el bucle `for`\n",
    "\n",
    "Formas del bucle `for`:\n",
    "- `for i in range(ini, fin, dif)`\n",
    "- `for i in [x0, x1, x2, ..., xn]`\n",
    "- `for i in \"cadena\"`\n",
    "- `for i in variable`: la variable debe ser iterable, es decir, que tenga varios componentes que se puedan ir visitando, tales como listas, cadenas o rangos.\n",
    "\n",
    "La sintaxis general es:\n",
    "```python\n",
    "for variable_de_control in fuente_de_datos: # variable_de_control = cada uno de los datos de la fuente\n",
    "    cuerpo_del_bucle\n",
    "```"
   ]
  },
  {
   "cell_type": "code",
   "execution_count": 7,
   "id": "5d3be2ec",
   "metadata": {},
   "outputs": [
    {
     "name": "stdout",
     "output_type": "stream",
     "text": [
      "1\n",
      "2\n",
      "3\n",
      "4\n",
      "5\n"
     ]
    }
   ],
   "source": [
    "fuente = range(1,6)\n",
    "\n",
    "for i in fuente:\n",
    "    print(i)"
   ]
  },
  {
   "cell_type": "markdown",
   "id": "ec1bd016",
   "metadata": {},
   "source": [
    "## El método `format`\n",
    "\n",
    "Podemos imprimir en pantalla cualquier información con la función `print()`. "
   ]
  },
  {
   "cell_type": "code",
   "execution_count": 9,
   "id": "0f12f1a5",
   "metadata": {},
   "outputs": [
    {
     "name": "stdout",
     "output_type": "stream",
     "text": [
      "num. identificación: 67 nota final: 8.666666666666666\n",
      "num. identificación: 251 nota final: 7.714285714285714\n"
     ]
    }
   ],
   "source": [
    "print(\"num. identificación:\", 67 ,\"nota final:\", 52 / 6)\n",
    "print(\"num. identificación:\", 251 ,\"nota final:\", 54 / 7)"
   ]
  },
  {
   "cell_type": "markdown",
   "id": "37c9c723",
   "metadata": {},
   "source": [
    "Aunques esto suele ser suficiente, a veces queremos controlar el formato con el que se imprime la información. Por ejemplo, podemos suponer que todos los números de identificación tienen exactamente 3 dígitos, y no tiene sentido imprimir tantos decimales en una nota final.\n",
    "\n",
    "El método `format` permite especificar el formato (tamaño y forma) de los datos que queremos imprimir:\n",
    "\n",
    "```python\n",
    "   \"cadena_formato\".format(exp1, exp2, exp3, ...)\n",
    "```\n",
    "\n",
    "la cadena `\"cadena formato` contiene especificaciones de formato para cada valor `expi` que queramos imprimir. Estas especificaciones de formato se escriben entre llaves. "
   ]
  },
  {
   "cell_type": "code",
   "execution_count": 8,
   "id": "fc739b19",
   "metadata": {},
   "outputs": [
    {
     "name": "stdout",
     "output_type": "stream",
     "text": [
      "num. identificación:  67 nota final: 8.67\n",
      "num. identificación: 251 nota final: 7.71\n"
     ]
    }
   ],
   "source": [
    "print(\"num. identificación: {:3d} nota final: {:4.2f}\".format(67, 52 / 6))\n",
    "print(\"num. identificación: {:3d} nota final: {:4.2f}\".format(251, 54 / 7))\n",
    "#3d significa anchura de 3 dígitos de un número entero\n",
    "#4.2f significa anchura de 4 dígitos (punto incluido) con 2 decimales de un número flotante"
   ]
  },
  {
   "cell_type": "markdown",
   "id": "1c057a1b",
   "metadata": {},
   "source": [
    "## Solución del primer ejercicio de paper coding (464)\n",
    "\n",
    "Declaring the list bts = [\"V\", \"J-Hope\", \"RM\", \"Jungkook\", \"Jin\", \"Jimin\", \"Suga\"]. Then write a code that prints all items in this list using the for statement."
   ]
  },
  {
   "cell_type": "code",
   "execution_count": 10,
   "id": "927fe50d",
   "metadata": {},
   "outputs": [
    {
     "name": "stdout",
     "output_type": "stream",
     "text": [
      "V\n",
      "J-Hope\n",
      "RM\n",
      "Jungkook\n",
      "Jin\n",
      "Jimin\n",
      "Suga\n"
     ]
    }
   ],
   "source": [
    "bts = [\"V\", \"J-Hope\", \"RM\", \"Jungkook\", \"Jin\", \"Jimin\", \"Suga\"]\n",
    "\n",
    "for nombre in bts:\n",
    "    print(nombre)"
   ]
  },
  {
   "cell_type": "markdown",
   "id": "380ad32a",
   "metadata": {},
   "source": [
    "## Solución del segundo  ejercicio de paper coding (465)\n",
    "\n",
    "Use cumulative addition to compute and print the sum of integers from 1 to 100. Hint: make the printed value of the range function range from 1 to 100."
   ]
  },
  {
   "cell_type": "code",
   "execution_count": 18,
   "id": "0b39f643",
   "metadata": {},
   "outputs": [
    {
     "name": "stdout",
     "output_type": "stream",
     "text": [
      "5050\n"
     ]
    }
   ],
   "source": [
    "suma = 0\n",
    "for i in range(1,100 + 1):\n",
    "    suma += i\n",
    "\n",
    "print(suma)"
   ]
  },
  {
   "cell_type": "markdown",
   "id": "c2fbbc29",
   "metadata": {},
   "source": [
    "## Solución del tercer ejercicio de paper coding (466)\n",
    "\n",
    "Use the step value of the range function to find the sum of even numbers from 1 to 100. Hint: set the start value of the range function to zero and the step value as two."
   ]
  },
  {
   "cell_type": "code",
   "execution_count": 19,
   "id": "2e64baf7",
   "metadata": {},
   "outputs": [
    {
     "name": "stdout",
     "output_type": "stream",
     "text": [
      "2550\n"
     ]
    }
   ],
   "source": [
    "suma = 0\n",
    "for i in range(2, 100 + 1, 2): # también podría empezar en 0\n",
    "    suma += i\n",
    "\n",
    "print(suma)"
   ]
  },
  {
   "cell_type": "markdown",
   "id": "840c7240",
   "metadata": {},
   "source": [
    "## Solución del cuarto ejercicio de paper coding (467)\n",
    "\n",
    "Use the step value of the range function to find the sum of odd numbers from 1 to 100. Hint: set the start value of the range function to zero and the step value as two."
   ]
  },
  {
   "cell_type": "code",
   "execution_count": 20,
   "id": "6b4b0716",
   "metadata": {},
   "outputs": [
    {
     "name": "stdout",
     "output_type": "stream",
     "text": [
      "2500\n"
     ]
    }
   ],
   "source": [
    "suma = 0\n",
    "for i in range(1, 100 + 1, 2):\n",
    "    suma += i\n",
    "\n",
    "print(suma)"
   ]
  },
  {
   "cell_type": "markdown",
   "id": "221dc803",
   "metadata": {},
   "source": [
    "## Solución del ejercicio de pair programming (489)\n",
    "\n",
    "Agency A is planning to issue tickets of a concert hall for idol singers' concert. Here, the number n is the input and the seat number is arranged as followed. n * n seats are placed when n is given as input. The below arrangement of the seat numbers is called a snake matrix because the array increases in ones in the shape of a snake's trunk. Write a program that produces arrays of these numbers. "
   ]
  },
  {
   "cell_type": "code",
   "execution_count": 10,
   "id": "1442e864",
   "metadata": {},
   "outputs": [
    {
     "name": "stdout",
     "output_type": "stream",
     "text": [
      "Ponga el número de asientos por fila: 5\n",
      "1\t2\t3\t4\t5\t\n",
      "\n",
      "6\t7\t8\t9\t10\t\n",
      "\n",
      "11\t12\t13\t14\t15\t\n"
     ]
    }
   ],
   "source": [
    "n = int(input(\"Ponga el número de asientos por fila: \"))\n",
    "\n",
    "num = 0\n",
    "\n",
    "for fila in range(1, n + 1):\n",
    "    if (fila % 2 == 0):\n",
    "        for asiento in range(num,num+n, -1):\n",
    "            num += 1\n",
    "            print(num, end=\"\\t\")\n",
    "        print()  \n",
    "    else:\n",
    "        for asiento in range(num,num+n):\n",
    "            num += 1\n",
    "            print(num, end=\"\\t\")\n",
    "        print()"
   ]
  },
  {
   "cell_type": "code",
   "execution_count": 25,
   "id": "2c035a1c",
   "metadata": {},
   "outputs": [
    {
     "name": "stdout",
     "output_type": "stream",
     "text": [
      "1\t2\t3\t4\t5\t\n",
      "10\t9\t8\t7\t6\t\n",
      "11\t12\t13\t14\t15\t\n",
      "20\t19\t18\t17\t16\t\n",
      "21\t22\t23\t24\t25\t\n"
     ]
    }
   ],
   "source": [
    "n = 5\n",
    "\n",
    "for fila in range(1, n*n, n): # primera butaca\n",
    "    if fila % 2 == 0: \n",
    "        for butacas in range(fila + n - 1, fila - 1, -1):\n",
    "            print(butacas, end = \"\\t\")\n",
    "        print()\n",
    "    else:\n",
    "        for butacas in range(fila, fila + n, 1):\n",
    "            print(butacas, end = \"\\t\")\n",
    "        print()"
   ]
  },
  {
   "cell_type": "code",
   "execution_count": 20,
   "id": "e9baf4fe",
   "metadata": {},
   "outputs": [
    {
     "name": "stdout",
     "output_type": "stream",
     "text": [
      "  1   2   3   4   5 \n",
      " 10   9   8   7   6 \n",
      " 11  12  13  14  15 \n",
      " 20  19  18  17  16 \n",
      " 21  22  23  24  25 \n"
     ]
    }
   ],
   "source": [
    "num_filas = 5\n",
    "\n",
    "ascendente = True\n",
    "\n",
    "for primera_de_fila in range(1, num_filas * num_filas, num_filas):\n",
    "    butacas = range(primera_de_fila, primera_de_fila + num_filas)\n",
    "    if not ascendente:\n",
    "        butacas = reversed(butacas)\n",
    "    for butaca in butacas:\n",
    "        print(\"{:3d}\".format(butaca), end = \" \")\n",
    "    print()\n",
    "    ascendente = not ascendente"
   ]
  },
  {
   "cell_type": "markdown",
   "id": "0b4a70e9",
   "metadata": {},
   "source": [
    "## Solución del mission problem (433)"
   ]
  },
  {
   "cell_type": "code",
   "execution_count": 33,
   "id": "a5e02729",
   "metadata": {},
   "outputs": [
    {
     "name": "stdout",
     "output_type": "stream",
     "text": [
      "1º A\t1º B\t1º C\t\n",
      "2º A\t2º B\t2º C\t\n",
      "3º A\t3º B\t3º C\t\n",
      "4º A\t4º B\t4º C\t\n"
     ]
    }
   ],
   "source": [
    "cursos = [1, 2, 3, 4]\n",
    "grupos = [\"A\", \"B\", \"C\"]\n",
    "\n",
    "for curso in cursos: # bucle anidado\n",
    "    for grupo in grupos:\n",
    "        print(curso, grupo, sep = \"º \", end = \"\\t\")\n",
    "    print()"
   ]
  },
  {
   "cell_type": "code",
   "execution_count": 49,
   "id": "773c89ac",
   "metadata": {},
   "outputs": [
    {
     "name": "stdout",
     "output_type": "stream",
     "text": [
      "Rye   Meatball       Lettuce  Mayonnaise\n",
      "Rye   Meatball       Lettuce  Honey Mustard\n",
      "Rye   Meatball       Lettuce  Chili\n",
      "Rye   Meatball       Tomato   Mayonnaise\n",
      "Rye   Meatball       Tomato   Honey Mustard\n",
      "Rye   Meatball       Tomato   Chili\n",
      "Rye   Meatball       Cucumber Mayonnaise\n",
      "Rye   Meatball       Cucumber Honey Mustard\n",
      "Rye   Meatball       Cucumber Chili\n",
      "Rye   Sausage        Lettuce  Mayonnaise\n",
      "Rye   Sausage        Lettuce  Honey Mustard\n",
      "Rye   Sausage        Lettuce  Chili\n",
      "Rye   Sausage        Tomato   Mayonnaise\n",
      "Rye   Sausage        Tomato   Honey Mustard\n",
      "Rye   Sausage        Tomato   Chili\n",
      "Rye   Sausage        Cucumber Mayonnaise\n",
      "Rye   Sausage        Cucumber Honey Mustard\n",
      "Rye   Sausage        Cucumber Chili\n",
      "Rye   Chicken breast Lettuce  Mayonnaise\n",
      "Rye   Chicken breast Lettuce  Honey Mustard\n",
      "Rye   Chicken breast Lettuce  Chili\n",
      "Rye   Chicken breast Tomato   Mayonnaise\n",
      "Rye   Chicken breast Tomato   Honey Mustard\n",
      "Rye   Chicken breast Tomato   Chili\n",
      "Rye   Chicken breast Cucumber Mayonnaise\n",
      "Rye   Chicken breast Cucumber Honey Mustard\n",
      "Rye   Chicken breast Cucumber Chili\n",
      "Wheat Meatball       Lettuce  Mayonnaise\n",
      "Wheat Meatball       Lettuce  Honey Mustard\n",
      "Wheat Meatball       Lettuce  Chili\n",
      "Wheat Meatball       Tomato   Mayonnaise\n",
      "Wheat Meatball       Tomato   Honey Mustard\n",
      "Wheat Meatball       Tomato   Chili\n",
      "Wheat Meatball       Cucumber Mayonnaise\n",
      "Wheat Meatball       Cucumber Honey Mustard\n",
      "Wheat Meatball       Cucumber Chili\n",
      "Wheat Sausage        Lettuce  Mayonnaise\n",
      "Wheat Sausage        Lettuce  Honey Mustard\n",
      "Wheat Sausage        Lettuce  Chili\n",
      "Wheat Sausage        Tomato   Mayonnaise\n",
      "Wheat Sausage        Tomato   Honey Mustard\n",
      "Wheat Sausage        Tomato   Chili\n",
      "Wheat Sausage        Cucumber Mayonnaise\n",
      "Wheat Sausage        Cucumber Honey Mustard\n",
      "Wheat Sausage        Cucumber Chili\n",
      "Wheat Chicken breast Lettuce  Mayonnaise\n",
      "Wheat Chicken breast Lettuce  Honey Mustard\n",
      "Wheat Chicken breast Lettuce  Chili\n",
      "Wheat Chicken breast Tomato   Mayonnaise\n",
      "Wheat Chicken breast Tomato   Honey Mustard\n",
      "Wheat Chicken breast Tomato   Chili\n",
      "Wheat Chicken breast Cucumber Mayonnaise\n",
      "Wheat Chicken breast Cucumber Honey Mustard\n",
      "Wheat Chicken breast Cucumber Chili\n",
      "White Meatball       Lettuce  Mayonnaise\n",
      "White Meatball       Lettuce  Honey Mustard\n",
      "White Meatball       Lettuce  Chili\n",
      "White Meatball       Tomato   Mayonnaise\n",
      "White Meatball       Tomato   Honey Mustard\n",
      "White Meatball       Tomato   Chili\n",
      "White Meatball       Cucumber Mayonnaise\n",
      "White Meatball       Cucumber Honey Mustard\n",
      "White Meatball       Cucumber Chili\n",
      "White Sausage        Lettuce  Mayonnaise\n",
      "White Sausage        Lettuce  Honey Mustard\n",
      "White Sausage        Lettuce  Chili\n",
      "White Sausage        Tomato   Mayonnaise\n",
      "White Sausage        Tomato   Honey Mustard\n",
      "White Sausage        Tomato   Chili\n",
      "White Sausage        Cucumber Mayonnaise\n",
      "White Sausage        Cucumber Honey Mustard\n",
      "White Sausage        Cucumber Chili\n",
      "White Chicken breast Lettuce  Mayonnaise\n",
      "White Chicken breast Lettuce  Honey Mustard\n",
      "White Chicken breast Lettuce  Chili\n",
      "White Chicken breast Tomato   Mayonnaise\n",
      "White Chicken breast Tomato   Honey Mustard\n",
      "White Chicken breast Tomato   Chili\n",
      "White Chicken breast Cucumber Mayonnaise\n",
      "White Chicken breast Cucumber Honey Mustard\n",
      "White Chicken breast Cucumber Chili\n"
     ]
    }
   ],
   "source": [
    "pan = [\"Rye\", \"Wheat\", \"White\"]\n",
    "carne = [\"Meatball\", \"Sausage\", \"Chicken breast\"]\n",
    "vegetales = [\"Lettuce\", \"Tomato\", \"Cucumber\"]\n",
    "salsas = [\"Mayonnaise\", \"Honey Mustard\", \"Chili\"]\n",
    "\n",
    "for tipo_pan in pan:\n",
    "    for tipo_carne in carne:\n",
    "        for tipo_vegetal in vegetales:\n",
    "            for tipo_salsa in salsas:\n",
    "                sandwich = \"{:5} {:14} {:8} {}\".format(tipo_pan, tipo_carne, tipo_vegetal, tipo_salsa)\n",
    "                print(sandwich)"
   ]
  }
 ],
 "metadata": {
  "kernelspec": {
   "display_name": "Python 3 (ipykernel)",
   "language": "python",
   "name": "python3"
  },
  "language_info": {
   "codemirror_mode": {
    "name": "ipython",
    "version": 3
   },
   "file_extension": ".py",
   "mimetype": "text/x-python",
   "name": "python",
   "nbconvert_exporter": "python",
   "pygments_lexer": "ipython3",
   "version": "3.10.9"
  }
 },
 "nbformat": 4,
 "nbformat_minor": 5
}
