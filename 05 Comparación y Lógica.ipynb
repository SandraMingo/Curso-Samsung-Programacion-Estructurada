{
 "cells": [
  {
   "cell_type": "markdown",
   "id": "efb8712d",
   "metadata": {},
   "source": [
    "# Unidad 5 - Comparación y Lógica"
   ]
  },
  {
   "cell_type": "code",
   "execution_count": 1,
   "id": "af885e6e",
   "metadata": {},
   "outputs": [
    {
     "data": {
      "text/plain": [
       "True"
      ]
     },
     "execution_count": 1,
     "metadata": {},
     "output_type": "execute_result"
    }
   ],
   "source": [
    "p = 4\n",
    "5 == (p+1)"
   ]
  },
  {
   "cell_type": "code",
   "execution_count": 2,
   "id": "ef837dda",
   "metadata": {},
   "outputs": [
    {
     "data": {
      "text/plain": [
       "False"
      ]
     },
     "execution_count": 2,
     "metadata": {},
     "output_type": "execute_result"
    }
   ],
   "source": [
    "5 == p"
   ]
  },
  {
   "cell_type": "code",
   "execution_count": 3,
   "id": "27c6cf1e",
   "metadata": {},
   "outputs": [
    {
     "data": {
      "text/plain": [
       "True"
      ]
     },
     "execution_count": 3,
     "metadata": {},
     "output_type": "execute_result"
    }
   ],
   "source": [
    "5 != p"
   ]
  },
  {
   "cell_type": "code",
   "execution_count": 5,
   "id": "932dbf33",
   "metadata": {},
   "outputs": [
    {
     "data": {
      "text/plain": [
       "False"
      ]
     },
     "execution_count": 5,
     "metadata": {},
     "output_type": "execute_result"
    }
   ],
   "source": [
    "4 != p"
   ]
  },
  {
   "cell_type": "code",
   "execution_count": 6,
   "id": "048be2d1",
   "metadata": {},
   "outputs": [
    {
     "data": {
      "text/plain": [
       "True"
      ]
     },
     "execution_count": 6,
     "metadata": {},
     "output_type": "execute_result"
    }
   ],
   "source": [
    "7 > 5"
   ]
  },
  {
   "cell_type": "code",
   "execution_count": 8,
   "id": "9706810a",
   "metadata": {},
   "outputs": [
    {
     "data": {
      "text/plain": [
       "False"
      ]
     },
     "execution_count": 8,
     "metadata": {},
     "output_type": "execute_result"
    }
   ],
   "source": [
    "7 < 5"
   ]
  },
  {
   "cell_type": "code",
   "execution_count": 9,
   "id": "05ed4a41",
   "metadata": {},
   "outputs": [
    {
     "data": {
      "text/plain": [
       "True"
      ]
     },
     "execution_count": 9,
     "metadata": {},
     "output_type": "execute_result"
    }
   ],
   "source": [
    "\"a\" > \"A\""
   ]
  },
  {
   "cell_type": "code",
   "execution_count": 10,
   "id": "dddab749",
   "metadata": {},
   "outputs": [
    {
     "data": {
      "text/plain": [
       "True"
      ]
     },
     "execution_count": 10,
     "metadata": {},
     "output_type": "execute_result"
    }
   ],
   "source": [
    "\"á\" > \"a\""
   ]
  },
  {
   "cell_type": "code",
   "execution_count": 1,
   "id": "8b3da3c8",
   "metadata": {},
   "outputs": [
    {
     "data": {
      "text/plain": [
       "True"
      ]
     },
     "execution_count": 1,
     "metadata": {},
     "output_type": "execute_result"
    }
   ],
   "source": [
    "\"abc 1 zzz\" < \"abc 2 aaa\""
   ]
  },
  {
   "cell_type": "markdown",
   "id": "c6672155",
   "metadata": {},
   "source": [
    "## Operadores lógicos o booleanos"
   ]
  },
  {
   "cell_type": "code",
   "execution_count": 2,
   "id": "f0ed3d96",
   "metadata": {},
   "outputs": [
    {
     "data": {
      "text/plain": [
       "False"
      ]
     },
     "execution_count": 2,
     "metadata": {},
     "output_type": "execute_result"
    }
   ],
   "source": [
    "renta = 1700\n",
    "ayuda = renta < 1500\n",
    "ayuda"
   ]
  },
  {
   "cell_type": "code",
   "execution_count": 3,
   "id": "92abe751",
   "metadata": {},
   "outputs": [],
   "source": [
    "# ayuda renta mayor que 1500 y menor que 3000 \n",
    "ayuda = renta > 1500 and renta < 3000\n",
    "ayuda"
   ]
  },
  {
   "cell_type": "code",
   "execution_count": 6,
   "id": "eff3e28e",
   "metadata": {},
   "outputs": [
    {
     "data": {
      "text/plain": [
       "True"
      ]
     },
     "execution_count": 6,
     "metadata": {},
     "output_type": "execute_result"
    }
   ],
   "source": [
    "estado = \"estudiante\" # \"jubilado\", \"en activo\"\n",
    "beca = estado == \"jubilado\" or estado == \"estudiante\" \n",
    "#la persona recibe la beca si es estudiante o jubilado\n",
    "beca"
   ]
  },
  {
   "cell_type": "code",
   "execution_count": 7,
   "id": "fc67bcfb",
   "metadata": {},
   "outputs": [
    {
     "data": {
      "text/plain": [
       "False"
      ]
     },
     "execution_count": 7,
     "metadata": {},
     "output_type": "execute_result"
    }
   ],
   "source": [
    "hora = 13 #entre 0 y 24\n",
    "cita = hora < 10 or hora > 17\n",
    "cita"
   ]
  },
  {
   "cell_type": "code",
   "execution_count": 8,
   "id": "5272d787",
   "metadata": {},
   "outputs": [
    {
     "data": {
      "text/plain": [
       "True"
      ]
     },
     "execution_count": 8,
     "metadata": {},
     "output_type": "execute_result"
    }
   ],
   "source": [
    "#entre las 10 de la mañana y las 4 de la tarde\n",
    "cita = hora >= 10 and hora <= 16\n",
    "cita"
   ]
  },
  {
   "cell_type": "code",
   "execution_count": 17,
   "id": "c1f816d6",
   "metadata": {},
   "outputs": [
    {
     "data": {
      "text/plain": [
       "True"
      ]
     },
     "execution_count": 17,
     "metadata": {},
     "output_type": "execute_result"
    }
   ],
   "source": [
    "# nombre y apellido: inicial del nombre es una vocal y la inicial del apellido es una consonante\n",
    "nombre = \"Ana\"\n",
    "apellido = \"García\"\n",
    "vocales = \"aeiouAEIOU\"\n",
    "valido = nombre[0] in vocales and apellido[0] not in vocales\n",
    "valido"
   ]
  },
  {
   "cell_type": "markdown",
   "id": "c1a58f45",
   "metadata": {},
   "source": [
    "## Paper Coding\n",
    "Write code that receibes the value n through the user's keyboard input. Return True if the given integer n is odd and return False if the integer is even."
   ]
  },
  {
   "cell_type": "code",
   "execution_count": 19,
   "id": "d993c475",
   "metadata": {},
   "outputs": [
    {
     "name": "stdout",
     "output_type": "stream",
     "text": [
      "Introduce un número: 21\n",
      "¿Es el número impar? True\n"
     ]
    }
   ],
   "source": [
    "numero = int(input(\"Introduce un número: \"))\n",
    "validar_impar = numero % 2 != 0\n",
    "print(\"¿Es el número impar?\", validar_impar)"
   ]
  },
  {
   "cell_type": "markdown",
   "id": "9b178a3c",
   "metadata": {},
   "source": [
    "Write code that takes the users input and determines whether the integer value n is an even number within the range of 0 to 100 or not"
   ]
  },
  {
   "cell_type": "code",
   "execution_count": 24,
   "id": "6762447d",
   "metadata": {},
   "outputs": [
    {
     "name": "stdout",
     "output_type": "stream",
     "text": [
      "Introduce un número: 125\n",
      "¿Es un número par entre 0 y 100? False\n"
     ]
    }
   ],
   "source": [
    "numero = int(input(\"Introduce un número: \"))\n",
    "validar_numero = numero >= 0 and numero <= 100 and numero % 2 == 0\n",
    "print(\"¿Es un número par entre 0 y 100?\", validar_numero)"
   ]
  },
  {
   "cell_type": "markdown",
   "id": "4ed7de10",
   "metadata": {},
   "source": [
    "## Pair programming\n",
    "Receive a 3-digit integer from the user. If the hundredth digit of the integer n is 3, return True. If not, return False. "
   ]
  },
  {
   "cell_type": "code",
   "execution_count": 27,
   "id": "33ff0df9",
   "metadata": {},
   "outputs": [
    {
     "name": "stdout",
     "output_type": "stream",
     "text": [
      "Introduzca un número de 3 cifras: 426\n",
      "¿Empieza el número por 3? False\n"
     ]
    }
   ],
   "source": [
    "numero = int(input(\"Introduzca un número de 3 cifras: \"))\n",
    "validar = numero // 100\n",
    "print(\"¿Empieza el número por 3?\", validar == 3)"
   ]
  },
  {
   "cell_type": "markdown",
   "id": "90f2c3c3",
   "metadata": {},
   "source": [
    "Receive one integer. If the integer is a multiple of 5, return True. If not, return False."
   ]
  },
  {
   "cell_type": "code",
   "execution_count": 31,
   "id": "8dd075e4",
   "metadata": {},
   "outputs": [
    {
     "name": "stdout",
     "output_type": "stream",
     "text": [
      "Introduzca un número: 23\n",
      "¿Es el número múltiplo de 5? False\n"
     ]
    }
   ],
   "source": [
    "numero = int(input(\"Introduzca un número: \"))\n",
    "validar = numero % 5 == 0\n",
    "print(\"¿Es el número múltiplo de 5?\", validar)"
   ]
  },
  {
   "cell_type": "markdown",
   "id": "97db823d",
   "metadata": {},
   "source": [
    "## Mission problem\n",
    "Calculate Leap Year for the Gregorian Calendar:\n",
    "- The year expressed in AD/CE that is divisible by 004 number of years is a leap year\n",
    "- The year expressed in AD/CE that is divisible by 004 and 100 number of years is a common year\n",
    "- The year expressed in AD/CE that is divisible by 004, 100 and 400 number of years is a leap year"
   ]
  },
  {
   "cell_type": "code",
   "execution_count": 49,
   "id": "5b3ac675",
   "metadata": {},
   "outputs": [
    {
     "name": "stdout",
     "output_type": "stream",
     "text": [
      "Introduzca un año: 2052\n",
      "¿Es 2052 un año bisiesto? True\n"
     ]
    }
   ],
   "source": [
    "year = int(input(\"Introduzca un año: \"))\n",
    "validar = year % 4 == 0 and (year % 100 != 0 or year % 400 == 0)\n",
    "print(\"¿Es\", year, \"un año bisiesto?\", validar)"
   ]
  },
  {
   "cell_type": "code",
   "execution_count": 4,
   "id": "cfb3e5d8",
   "metadata": {},
   "outputs": [
    {
     "name": "stdout",
     "output_type": "stream",
     "text": [
      "True\n",
      "False\n"
     ]
    },
    {
     "data": {
      "text/plain": [
       "'\\nLos resultados son diferentes. \\nEn el de arriba, el determinante es c\\nEn el de abajo, el determinante es a. \\nLa buena solución es aquella en la que lo decisivo es a, es decir, \\nsi el año es divisible entre 4\\n\\n'"
      ]
     },
     "execution_count": 4,
     "metadata": {},
     "output_type": "execute_result"
    }
   ],
   "source": [
    "a = False\n",
    "b = False\n",
    "c = True\n",
    "\n",
    "print((a and b) or c)\n",
    "print(a and (b or c))\n",
    "\n",
    "# Los resultados son diferentes. \n",
    "# En el de arriba, el determinante es c\n",
    "# En el de abajo, el determinante es a. \n",
    "# La buena solución es aquella en la que lo decisivo es a, es decir, \n",
    "# si el año es divisible entre 4\n",
    "\n"
   ]
  }
 ],
 "metadata": {
  "kernelspec": {
   "display_name": "Python 3 (ipykernel)",
   "language": "python",
   "name": "python3"
  },
  "language_info": {
   "codemirror_mode": {
    "name": "ipython",
    "version": 3
   },
   "file_extension": ".py",
   "mimetype": "text/x-python",
   "name": "python",
   "nbconvert_exporter": "python",
   "pygments_lexer": "ipython3",
   "version": "3.10.9"
  }
 },
 "nbformat": 4,
 "nbformat_minor": 5
}
